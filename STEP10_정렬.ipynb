{
  "nbformat": 4,
  "nbformat_minor": 0,
  "metadata": {
    "colab": {
      "provenance": [],
      "authorship_tag": "ABX9TyPRRTV2GHKL4Md35+YTUlj4",
      "include_colab_link": true
    },
    "kernelspec": {
      "name": "python3",
      "display_name": "Python 3"
    },
    "language_info": {
      "name": "python"
    }
  },
  "cells": [
    {
      "cell_type": "markdown",
      "metadata": {
        "id": "view-in-github",
        "colab_type": "text"
      },
      "source": [
        "<a href=\"https://colab.research.google.com/github/kimhj010502/BAEKJOON/blob/main/STEP10_%EC%A0%95%EB%A0%AC.ipynb\" target=\"_parent\"><img src=\"https://colab.research.google.com/assets/colab-badge.svg\" alt=\"Open In Colab\"/></a>"
      ]
    },
    {
      "cell_type": "markdown",
      "metadata": {
        "id": "TzSGa08QXuST"
      },
      "source": [
        "### 1) #2750 수 정렬하기"
      ]
    },
    {
      "cell_type": "code",
      "source": [
        "n = int(input())\n",
        "num_list = []\n",
        "\n",
        "for i in range(n):\n",
        "    num_list.append(int(input()))\n",
        "\n",
        "num_list.sort()\n",
        "print(*num_list, sep='\\n')"
      ],
      "metadata": {
        "colab": {
          "base_uri": "https://localhost:8080/"
        },
        "id": "embY85EhGSse",
        "outputId": "b09cc5ee-6a4c-4a48-c738-3934c3f795b7"
      },
      "execution_count": 1,
      "outputs": [
        {
          "output_type": "stream",
          "name": "stdout",
          "text": [
            "5\n",
            "5\n",
            "2\n",
            "3\n",
            "4\n",
            "1\n",
            "1\n",
            "2\n",
            "3\n",
            "4\n",
            "5\n"
          ]
        }
      ]
    },
    {
      "cell_type": "code",
      "source": [
        "n = int(input())\n",
        "\n",
        "num_list = [int(input()) for i in range(n)]\n",
        "num_list.sort()\n",
        "\n",
        "print(*num_list, sep='\\n')"
      ],
      "metadata": {
        "colab": {
          "base_uri": "https://localhost:8080/"
        },
        "id": "nvvfoK5WHTjN",
        "outputId": "46ccb0c5-edb4-479d-b836-a3a95b6cb92f"
      },
      "execution_count": 3,
      "outputs": [
        {
          "output_type": "stream",
          "name": "stdout",
          "text": [
            "5\n",
            "5\n",
            "2\n",
            "3\n",
            "4\n",
            "1\n",
            "1\n",
            "2\n",
            "3\n",
            "4\n",
            "5\n"
          ]
        }
      ]
    },
    {
      "cell_type": "markdown",
      "metadata": {
        "id": "kJxFfY8yqwbo"
      },
      "source": [
        "### 2) #2587 대표값2"
      ]
    },
    {
      "cell_type": "code",
      "source": [
        "num_list = [int(input()) for i in range(5)]\n",
        "num_list.sort()\n",
        "\n",
        "print(int(sum(num_list)/5)) #평균\n",
        "print(num_list[2]) #중앙값"
      ],
      "metadata": {
        "colab": {
          "base_uri": "https://localhost:8080/"
        },
        "id": "aDiEFKu2GRfX",
        "outputId": "487341c9-991f-4586-eb0b-c183da2cb83c"
      },
      "execution_count": 8,
      "outputs": [
        {
          "output_type": "stream",
          "name": "stdout",
          "text": [
            "10\n",
            "40\n",
            "30\n",
            "60\n",
            "30\n",
            "34\n",
            "30\n"
          ]
        }
      ]
    },
    {
      "cell_type": "markdown",
      "metadata": {
        "id": "vtqdTWTfqwmt"
      },
      "source": [
        "### 3) #25305 커트라인"
      ]
    },
    {
      "cell_type": "code",
      "source": [
        "n, k = map(int, input().split())\n",
        "\n",
        "score_list = list(map(int, input().split()))\n",
        "score_list.sort()\n",
        "score_list = score_list[::-1]\n",
        "\n",
        "print(score_list[k-1])"
      ],
      "metadata": {
        "colab": {
          "base_uri": "https://localhost:8080/"
        },
        "id": "GGOnIIfkGSeE",
        "outputId": "7d00cf20-b358-449a-e5d6-6fcc5ad1bf7d"
      },
      "execution_count": 9,
      "outputs": [
        {
          "output_type": "stream",
          "name": "stdout",
          "text": [
            "5 2\n",
            "100 76 85 93 98\n",
            "98\n"
          ]
        }
      ]
    },
    {
      "cell_type": "markdown",
      "source": [
        "### 4) #2751 수 정렬하기 2"
      ],
      "metadata": {
        "id": "9mLgOsTbGZAp"
      }
    },
    {
      "cell_type": "markdown",
      "source": [
        "- 수 정렬하기 1과 똑같이 하면 시간 초과 (N의 범위 다름)\n",
        "- `input()`은 느리므로 `sys.stdin.readline()`을 사용하면 해결됨\n",
        "input() 이 sys.stdin.readline() 보다 느린 이유 :\n",
        "\n",
        "\n",
        "> input() 내장 함수는 sys.stdin.readline()과 비교해서 prompt message를 출력하고, 개행 문자를 삭제한 값을 리턴하기 때문에 느림 <br> [참고] https://lute3r.tistory.com/m/240\n",
        "\n",
        "\n",
        "\n",
        "\n",
        "\n"
      ],
      "metadata": {
        "id": "yTlaMCrGJ5s2"
      }
    },
    {
      "cell_type": "code",
      "source": [
        "import sys\n",
        "\n",
        "n = int(input())\n",
        "\n",
        "num_list = [int(sys.stdin.readline()) for _ in range(n)] #코랩에서는 실행 안됨\n",
        "num_list.sort()\n",
        "\n",
        "print(*num_list, sep='\\n')"
      ],
      "metadata": {
        "id": "WRUwrHdvLOCM"
      },
      "execution_count": null,
      "outputs": []
    },
    {
      "cell_type": "markdown",
      "source": [
        "### 5) #10989 수 정렬하기 3"
      ],
      "metadata": {
        "id": "1qysfKZ5GcCc"
      }
    },
    {
      "cell_type": "markdown",
      "source": [
        "- 수 정렬하기 2와 똑같이 하면 메모리 초과\n",
        "- 입력 받는 수를 다 저장하고 나서 출력하려고 해서 사용하는 메모리가 초과됨\n",
        "- 입력받는 수가 10000보다 작거나 같은 수 이므로 10000 길이의 리스트를 미리 만들어 개수를 세고 출력하도록 함"
      ],
      "metadata": {
        "id": "lklxTSNOLvhz"
      }
    },
    {
      "cell_type": "code",
      "source": [
        "n = int(input())\n",
        "\n",
        "num_list = [0 for _ in range(10000)]\n",
        "\n",
        "for i in range(n):\n",
        "    num = int(input())\n",
        "    num_list[num-1] += 1\n",
        "\n",
        "for i in range(10000):\n",
        "    if num_list[i] != 0: #수가 하나 이상일 때만\n",
        "        for j in range(num_list[i]):\n",
        "            print(i+1)"
      ],
      "metadata": {
        "colab": {
          "base_uri": "https://localhost:8080/"
        },
        "id": "SlyQyr96Mgoh",
        "outputId": "20b3a20f-3cdf-442a-cffd-ae377a30a328"
      },
      "execution_count": 17,
      "outputs": [
        {
          "output_type": "stream",
          "name": "stdout",
          "text": [
            "10\n",
            "5\n",
            "2\n",
            "3\n",
            "1\n",
            "4\n",
            "2\n",
            "3\n",
            "5\n",
            "1\n",
            "7\n",
            "1\n",
            "1\n",
            "2\n",
            "2\n",
            "3\n",
            "3\n",
            "4\n",
            "5\n",
            "5\n",
            "7\n"
          ]
        }
      ]
    },
    {
      "cell_type": "markdown",
      "source": [
        "- 위의 코드가 런타임 에러 나서 input() 대신 sys.stdin.readline() 사용"
      ],
      "metadata": {
        "id": "WJrimGgYcDFw"
      }
    },
    {
      "cell_type": "code",
      "source": [
        "import sys\n",
        "\n",
        "n = int(input())\n",
        "\n",
        "num_list = [0 for _ in range(10000)]\n",
        "\n",
        "for i in range(n):\n",
        "    num = int(sys.stdin.readline())\n",
        "    num_list[num-1] += 1\n",
        "\n",
        "for i in range(10000):\n",
        "    if num_list[i] != 0: #수가 하나 이상일 때만\n",
        "        for j in range(num_list[i]):\n",
        "            print(i+1)"
      ],
      "metadata": {
        "id": "0mQ7rMa9GfPS"
      },
      "execution_count": null,
      "outputs": []
    },
    {
      "cell_type": "markdown",
      "source": [
        "### 6) #2108 통계학"
      ],
      "metadata": {
        "id": "3WRGf1KhGfti"
      }
    },
    {
      "cell_type": "code",
      "source": [
        "import numpy as np\n",
        "from scipy import stats\n",
        "\n",
        "n = int(input())\n",
        "\n",
        "num_list = [int(input()) for _ in range(n)]\n",
        "\n",
        "mean_num = int(np.round(np.mean(num_list))) \n",
        "print(mean_num) #산술평균\n",
        "\n",
        "median_num = int(np.median(num_list))\n",
        "print(median_num)  #중앙값\n",
        "\n",
        "mode_dict = {'init': 0}\n",
        "for i in set(num_list):\n",
        "    mode_dict[i] = len([j for j in num_list if j == i]) #key: 숫자, value: count\n",
        "del mode_dict['init']\n",
        "\n",
        "max_mode_count = max(mode_dict.values()) #최대 count\n",
        "mode_list = [k for k, v in mode_dict.items() if v == max_mode_count] #최대 count에 해당하는 숫자 리스트\n",
        "mode_list.sort()\n",
        "\n",
        "if len(mode_list) > 1:\n",
        "    mode_num = int(mode_list[1])\n",
        "else:\n",
        "    mode_num = int(mode_list[0])\n",
        "print(mode_num) #최빈값\n",
        "\n",
        "print(max(num_list) - min(num_list)) #최댓값 - 최솟값"
      ],
      "metadata": {
        "colab": {
          "base_uri": "https://localhost:8080/"
        },
        "id": "luoVd3YdGiFC",
        "outputId": "b8b5aa76-c48a-4492-f7e3-2c570a9611dd"
      },
      "execution_count": 79,
      "outputs": [
        {
          "output_type": "stream",
          "name": "stdout",
          "text": [
            "3\n",
            "0\n",
            "0\n",
            "-1\n",
            "0\n",
            "0\n",
            "0\n",
            "1\n"
          ]
        }
      ]
    },
    {
      "cell_type": "markdown",
      "source": [
        "- 런타임 에러: 모듈을 못 쓰게 함\n",
        "- 백준에서는 `numpy` 사용하면 안됨"
      ],
      "metadata": {
        "id": "ueEZprpthPxd"
      }
    },
    {
      "cell_type": "code",
      "source": [
        "import statistics\n",
        "\n",
        "n = int(input())\n",
        "\n",
        "num_list = [int(input()) for _ in range(n)]\n",
        "\n",
        "mean_num = int(round(statistics.mean(num_list))) \n",
        "print(mean_num) #산술평균\n",
        "\n",
        "median_num = int(statistics.median(num_list))\n",
        "print(median_num)  #중앙값\n",
        "\n",
        "mode_dict = {'init': 0}\n",
        "for i in set(num_list):\n",
        "    mode_dict[i] = len([j for j in num_list if j == i]) #key: 숫자, value: count\n",
        "del mode_dict['init']\n",
        "\n",
        "max_mode_count = max(mode_dict.values()) #최대 count\n",
        "mode_list = [k for k, v in mode_dict.items() if v == max_mode_count] #최대 count에 해당하는 숫자 리스트\n",
        "mode_list.sort()\n",
        "\n",
        "if len(mode_list) > 1:\n",
        "    mode_num = int(mode_list[1])\n",
        "else:\n",
        "    mode_num = int(mode_list[0])\n",
        "print(mode_num) #최빈값\n",
        "\n",
        "print(max(num_list) - min(num_list)) #최댓값 - 최솟값"
      ],
      "metadata": {
        "colab": {
          "base_uri": "https://localhost:8080/"
        },
        "id": "VLSe4RMAhWzT",
        "outputId": "bf4eba12-a342-4b8f-f0ac-b322b9cf8427"
      },
      "execution_count": 83,
      "outputs": [
        {
          "output_type": "stream",
          "name": "stdout",
          "text": [
            "3\n",
            "0\n",
            "0\n",
            "-1\n",
            "0\n",
            "0\n",
            "0\n",
            "1\n"
          ]
        }
      ]
    },
    {
      "cell_type": "markdown",
      "source": [
        "- 시간 초과라서 input() 바꾸고 Counter 사용하기"
      ],
      "metadata": {
        "id": "pyY5sUFuqImD"
      }
    },
    {
      "cell_type": "code",
      "source": [
        "import statistics\n",
        "from collections import Counter\n",
        "\n",
        "n = int(input())\n",
        "\n",
        "num_list = [int(input()) for _ in range(n)]\n",
        "\n",
        "mean_num = round(statistics.mean(num_list))\n",
        "print(mean_num) #산술평균\n",
        "\n",
        "median_num = statistics.median(num_list)\n",
        "print(median_num)  #중앙값\n",
        "\n",
        "mode_dict = Counter(num_list)\n",
        "max_mode_count = max(mode_dict.values()) #최대 count\n",
        "mode_list = [k for k, v in mode_dict.items() if v == max_mode_count] #최대 count에 해당하는 숫자 리스트\n",
        "mode_list.sort()\n",
        "\n",
        "if len(mode_list) > 1:\n",
        "    mode_num = mode_list[1]\n",
        "else:\n",
        "    mode_num = mode_list[0]\n",
        "print(mode_num) #최빈값\n",
        "\n",
        "print(max(num_list) - min(num_list)) #최댓값 - 최솟값"
      ],
      "metadata": {
        "colab": {
          "base_uri": "https://localhost:8080/"
        },
        "id": "xymSTTcryvNd",
        "outputId": "bfb64796-cf31-4212-ced2-4151066e7d9e"
      },
      "execution_count": 89,
      "outputs": [
        {
          "output_type": "stream",
          "name": "stdout",
          "text": [
            "3\n",
            "0\n",
            "0\n",
            "-1\n",
            "0\n",
            "0\n",
            "0\n",
            "1\n"
          ]
        }
      ]
    },
    {
      "cell_type": "code",
      "source": [
        "import sys\n",
        "import statistics\n",
        "from collections import Counter\n",
        "\n",
        "n = int(input())\n",
        "\n",
        "num_list = [int(sys.stdin.readline())  for _ in range(n)]\n",
        "\n",
        "mean_num = round(statistics.mean(num_list))\n",
        "print(mean_num) #산술평균\n",
        "\n",
        "median_num = statistics.median(num_list)\n",
        "print(median_num)  #중앙값\n",
        "\n",
        "mode_dict = Counter(num_list)\n",
        "max_mode_count = max(mode_dict.values()) #최대 count\n",
        "mode_list = [k for k, v in mode_dict.items() if v == max_mode_count] #최대 count에 해당하는 숫자 리스트\n",
        "mode_list.sort()\n",
        "\n",
        "if len(mode_list) > 1:\n",
        "    mode_num = mode_list[1]\n",
        "else:\n",
        "    mode_num = mode_list[0]\n",
        "print(mode_num) #최빈값\n",
        "\n",
        "print(max(num_list) - min(num_list)) #최댓값 - 최솟값"
      ],
      "metadata": {
        "id": "p5_HYYyVzK12"
      },
      "execution_count": null,
      "outputs": []
    }
  ]
}