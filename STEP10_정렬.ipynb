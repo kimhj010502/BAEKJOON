{
  "nbformat": 4,
  "nbformat_minor": 0,
  "metadata": {
    "colab": {
      "provenance": [],
      "authorship_tag": "ABX9TyMxLA5hA7rn9co20vYeoj3a",
      "include_colab_link": true
    },
    "kernelspec": {
      "name": "python3",
      "display_name": "Python 3"
    },
    "language_info": {
      "name": "python"
    }
  },
  "cells": [
    {
      "cell_type": "markdown",
      "metadata": {
        "id": "view-in-github",
        "colab_type": "text"
      },
      "source": [
        "<a href=\"https://colab.research.google.com/github/kimhj010502/BAEKJOON/blob/main/STEP10_%EC%A0%95%EB%A0%AC.ipynb\" target=\"_parent\"><img src=\"https://colab.research.google.com/assets/colab-badge.svg\" alt=\"Open In Colab\"/></a>"
      ]
    },
    {
      "cell_type": "markdown",
      "metadata": {
        "id": "TzSGa08QXuST"
      },
      "source": [
        "### 1) #2750 수 정렬하기"
      ]
    },
    {
      "cell_type": "code",
      "source": [
        "n = int(input())\n",
        "num_list = []\n",
        "\n",
        "for i in range(n):\n",
        "    num_list.append(int(input()))\n",
        "\n",
        "num_list.sort()\n",
        "print(*num_list, sep='\\n')"
      ],
      "metadata": {
        "colab": {
          "base_uri": "https://localhost:8080/"
        },
        "id": "embY85EhGSse",
        "outputId": "b09cc5ee-6a4c-4a48-c738-3934c3f795b7"
      },
      "execution_count": null,
      "outputs": [
        {
          "output_type": "stream",
          "name": "stdout",
          "text": [
            "5\n",
            "5\n",
            "2\n",
            "3\n",
            "4\n",
            "1\n",
            "1\n",
            "2\n",
            "3\n",
            "4\n",
            "5\n"
          ]
        }
      ]
    },
    {
      "cell_type": "code",
      "source": [
        "n = int(input())\n",
        "\n",
        "num_list = [int(input()) for i in range(n)]\n",
        "num_list.sort()\n",
        "\n",
        "print(*num_list, sep='\\n')"
      ],
      "metadata": {
        "colab": {
          "base_uri": "https://localhost:8080/"
        },
        "id": "nvvfoK5WHTjN",
        "outputId": "46ccb0c5-edb4-479d-b836-a3a95b6cb92f"
      },
      "execution_count": null,
      "outputs": [
        {
          "output_type": "stream",
          "name": "stdout",
          "text": [
            "5\n",
            "5\n",
            "2\n",
            "3\n",
            "4\n",
            "1\n",
            "1\n",
            "2\n",
            "3\n",
            "4\n",
            "5\n"
          ]
        }
      ]
    },
    {
      "cell_type": "markdown",
      "metadata": {
        "id": "kJxFfY8yqwbo"
      },
      "source": [
        "### 2) #2587 대표값2"
      ]
    },
    {
      "cell_type": "code",
      "source": [
        "num_list = [int(input()) for i in range(5)]\n",
        "num_list.sort()\n",
        "\n",
        "print(int(sum(num_list)/5)) #평균\n",
        "print(num_list[2]) #중앙값"
      ],
      "metadata": {
        "colab": {
          "base_uri": "https://localhost:8080/"
        },
        "id": "aDiEFKu2GRfX",
        "outputId": "487341c9-991f-4586-eb0b-c183da2cb83c"
      },
      "execution_count": null,
      "outputs": [
        {
          "output_type": "stream",
          "name": "stdout",
          "text": [
            "10\n",
            "40\n",
            "30\n",
            "60\n",
            "30\n",
            "34\n",
            "30\n"
          ]
        }
      ]
    },
    {
      "cell_type": "markdown",
      "metadata": {
        "id": "vtqdTWTfqwmt"
      },
      "source": [
        "### 3) #25305 커트라인"
      ]
    },
    {
      "cell_type": "code",
      "source": [
        "n, k = map(int, input().split())\n",
        "\n",
        "score_list = list(map(int, input().split()))\n",
        "score_list.sort()\n",
        "score_list = score_list[::-1]\n",
        "\n",
        "print(score_list[k-1])"
      ],
      "metadata": {
        "colab": {
          "base_uri": "https://localhost:8080/"
        },
        "id": "GGOnIIfkGSeE",
        "outputId": "7d00cf20-b358-449a-e5d6-6fcc5ad1bf7d"
      },
      "execution_count": null,
      "outputs": [
        {
          "output_type": "stream",
          "name": "stdout",
          "text": [
            "5 2\n",
            "100 76 85 93 98\n",
            "98\n"
          ]
        }
      ]
    },
    {
      "cell_type": "markdown",
      "source": [
        "### 4) #2751 수 정렬하기 2"
      ],
      "metadata": {
        "id": "9mLgOsTbGZAp"
      }
    },
    {
      "cell_type": "markdown",
      "source": [
        "- 수 정렬하기 1과 똑같이 하면 시간 초과 (N의 범위 다름)\n",
        "- `input()`은 느리므로 `sys.stdin.readline()`을 사용하면 해결됨\n",
        "input() 이 sys.stdin.readline() 보다 느린 이유 :\n",
        "\n",
        "\n",
        "> input() 내장 함수는 sys.stdin.readline()과 비교해서 prompt message를 출력하고, 개행 문자를 삭제한 값을 리턴하기 때문에 느림 <br> [참고] https://lute3r.tistory.com/m/240\n",
        "\n",
        "\n",
        "\n",
        "\n",
        "\n"
      ],
      "metadata": {
        "id": "yTlaMCrGJ5s2"
      }
    },
    {
      "cell_type": "code",
      "source": [
        "import sys\n",
        "\n",
        "n = int(input())\n",
        "\n",
        "num_list = [int(sys.stdin.readline()) for _ in range(n)] #코랩에서는 실행 안됨\n",
        "num_list.sort()\n",
        "\n",
        "print(*num_list, sep='\\n')"
      ],
      "metadata": {
        "id": "WRUwrHdvLOCM"
      },
      "execution_count": null,
      "outputs": []
    },
    {
      "cell_type": "markdown",
      "source": [
        "### 5) #10989 수 정렬하기 3"
      ],
      "metadata": {
        "id": "1qysfKZ5GcCc"
      }
    },
    {
      "cell_type": "markdown",
      "source": [
        "- 수 정렬하기 2와 똑같이 하면 메모리 초과\n",
        "- 입력 받는 수를 다 저장하고 나서 출력하려고 해서 사용하는 메모리가 초과됨\n",
        "- 입력받는 수가 10000보다 작거나 같은 수 이므로 10000 길이의 리스트를 미리 만들어 개수를 세고 출력하도록 함"
      ],
      "metadata": {
        "id": "lklxTSNOLvhz"
      }
    },
    {
      "cell_type": "code",
      "source": [
        "n = int(input())\n",
        "\n",
        "num_list = [0 for _ in range(10000)]\n",
        "\n",
        "for i in range(n):\n",
        "    num = int(input())\n",
        "    num_list[num-1] += 1\n",
        "\n",
        "for i in range(10000):\n",
        "    if num_list[i] != 0: #수가 하나 이상일 때만\n",
        "        for j in range(num_list[i]):\n",
        "            print(i+1)"
      ],
      "metadata": {
        "colab": {
          "base_uri": "https://localhost:8080/"
        },
        "id": "SlyQyr96Mgoh",
        "outputId": "20b3a20f-3cdf-442a-cffd-ae377a30a328"
      },
      "execution_count": null,
      "outputs": [
        {
          "output_type": "stream",
          "name": "stdout",
          "text": [
            "10\n",
            "5\n",
            "2\n",
            "3\n",
            "1\n",
            "4\n",
            "2\n",
            "3\n",
            "5\n",
            "1\n",
            "7\n",
            "1\n",
            "1\n",
            "2\n",
            "2\n",
            "3\n",
            "3\n",
            "4\n",
            "5\n",
            "5\n",
            "7\n"
          ]
        }
      ]
    },
    {
      "cell_type": "markdown",
      "source": [
        "- 위의 코드가 런타임 에러 나서 input() 대신 sys.stdin.readline() 사용"
      ],
      "metadata": {
        "id": "WJrimGgYcDFw"
      }
    },
    {
      "cell_type": "code",
      "source": [
        "import sys\n",
        "\n",
        "n = int(input())\n",
        "\n",
        "num_list = [0 for _ in range(10000)]\n",
        "\n",
        "for i in range(n):\n",
        "    num = int(sys.stdin.readline())\n",
        "    num_list[num-1] += 1\n",
        "\n",
        "for i in range(10000):\n",
        "    if num_list[i] != 0: #수가 하나 이상일 때만\n",
        "        for j in range(num_list[i]):\n",
        "            print(i+1)"
      ],
      "metadata": {
        "id": "0mQ7rMa9GfPS"
      },
      "execution_count": null,
      "outputs": []
    },
    {
      "cell_type": "markdown",
      "source": [
        "### 6) #2108 통계학"
      ],
      "metadata": {
        "id": "3WRGf1KhGfti"
      }
    },
    {
      "cell_type": "code",
      "source": [
        "import numpy as np\n",
        "from scipy import stats\n",
        "\n",
        "n = int(input())\n",
        "\n",
        "num_list = [int(input()) for _ in range(n)]\n",
        "\n",
        "mean_num = int(np.round(np.mean(num_list))) \n",
        "print(mean_num) #산술평균\n",
        "\n",
        "median_num = int(np.median(num_list))\n",
        "print(median_num)  #중앙값\n",
        "\n",
        "mode_dict = {'init': 0}\n",
        "for i in set(num_list):\n",
        "    mode_dict[i] = len([j for j in num_list if j == i]) #key: 숫자, value: count\n",
        "del mode_dict['init']\n",
        "\n",
        "max_mode_count = max(mode_dict.values()) #최대 count\n",
        "mode_list = [k for k, v in mode_dict.items() if v == max_mode_count] #최대 count에 해당하는 숫자 리스트\n",
        "mode_list.sort()\n",
        "\n",
        "if len(mode_list) > 1:\n",
        "    mode_num = int(mode_list[1])\n",
        "else:\n",
        "    mode_num = int(mode_list[0])\n",
        "print(mode_num) #최빈값\n",
        "\n",
        "print(max(num_list) - min(num_list)) #최댓값 - 최솟값"
      ],
      "metadata": {
        "colab": {
          "base_uri": "https://localhost:8080/"
        },
        "id": "luoVd3YdGiFC",
        "outputId": "b8b5aa76-c48a-4492-f7e3-2c570a9611dd"
      },
      "execution_count": null,
      "outputs": [
        {
          "output_type": "stream",
          "name": "stdout",
          "text": [
            "3\n",
            "0\n",
            "0\n",
            "-1\n",
            "0\n",
            "0\n",
            "0\n",
            "1\n"
          ]
        }
      ]
    },
    {
      "cell_type": "markdown",
      "source": [
        "-----------------\n",
        "- 런타임 에러: 모듈을 못 쓰게 함\n",
        "- 백준에서는 `numpy` 사용하면 안됨"
      ],
      "metadata": {
        "id": "ueEZprpthPxd"
      }
    },
    {
      "cell_type": "code",
      "source": [
        "import statistics\n",
        "\n",
        "n = int(input())\n",
        "\n",
        "num_list = [int(input()) for _ in range(n)]\n",
        "\n",
        "mean_num = int(round(statistics.mean(num_list))) \n",
        "print(mean_num) #산술평균\n",
        "\n",
        "median_num = int(statistics.median(num_list))\n",
        "print(median_num)  #중앙값\n",
        "\n",
        "mode_dict = {'init': 0}\n",
        "for i in set(num_list):\n",
        "    mode_dict[i] = len([j for j in num_list if j == i]) #key: 숫자, value: count\n",
        "del mode_dict['init']\n",
        "\n",
        "max_mode_count = max(mode_dict.values()) #최대 count\n",
        "mode_list = [k for k, v in mode_dict.items() if v == max_mode_count] #최대 count에 해당하는 숫자 리스트\n",
        "mode_list.sort()\n",
        "\n",
        "if len(mode_list) > 1:\n",
        "    mode_num = int(mode_list[1])\n",
        "else:\n",
        "    mode_num = int(mode_list[0])\n",
        "print(mode_num) #최빈값\n",
        "\n",
        "print(max(num_list) - min(num_list)) #최댓값 - 최솟값"
      ],
      "metadata": {
        "colab": {
          "base_uri": "https://localhost:8080/"
        },
        "id": "VLSe4RMAhWzT",
        "outputId": "bf4eba12-a342-4b8f-f0ac-b322b9cf8427"
      },
      "execution_count": null,
      "outputs": [
        {
          "output_type": "stream",
          "name": "stdout",
          "text": [
            "3\n",
            "0\n",
            "0\n",
            "-1\n",
            "0\n",
            "0\n",
            "0\n",
            "1\n"
          ]
        }
      ]
    },
    {
      "cell_type": "markdown",
      "source": [
        "---------------------\n",
        "- 시간 초과라서 input() 바꾸고 Counter 사용하기"
      ],
      "metadata": {
        "id": "pyY5sUFuqImD"
      }
    },
    {
      "cell_type": "code",
      "source": [
        "import statistics\n",
        "from collections import Counter\n",
        "\n",
        "n = int(input())\n",
        "\n",
        "num_list = [int(input()) for _ in range(n)]\n",
        "\n",
        "mean_num = round(statistics.mean(num_list))\n",
        "print(mean_num) #산술평균\n",
        "\n",
        "median_num = statistics.median(num_list)\n",
        "print(median_num)  #중앙값\n",
        "\n",
        "mode_dict = Counter(num_list)\n",
        "max_mode_count = max(mode_dict.values()) #최대 count\n",
        "mode_list = [k for k, v in mode_dict.items() if v == max_mode_count] #최대 count에 해당하는 숫자 리스트\n",
        "mode_list.sort()\n",
        "\n",
        "if len(mode_list) > 1:\n",
        "    mode_num = mode_list[1]\n",
        "else:\n",
        "    mode_num = mode_list[0]\n",
        "print(mode_num) #최빈값\n",
        "\n",
        "print(max(num_list) - min(num_list)) #최댓값 - 최솟값"
      ],
      "metadata": {
        "colab": {
          "base_uri": "https://localhost:8080/"
        },
        "id": "xymSTTcryvNd",
        "outputId": "bfb64796-cf31-4212-ced2-4151066e7d9e"
      },
      "execution_count": null,
      "outputs": [
        {
          "output_type": "stream",
          "name": "stdout",
          "text": [
            "3\n",
            "0\n",
            "0\n",
            "-1\n",
            "0\n",
            "0\n",
            "0\n",
            "1\n"
          ]
        }
      ]
    },
    {
      "cell_type": "code",
      "source": [
        "import sys\n",
        "import statistics\n",
        "from collections import Counter\n",
        "\n",
        "n = int(input())\n",
        "\n",
        "num_list = [int(sys.stdin.readline())  for _ in range(n)]\n",
        "\n",
        "mean_num = round(statistics.mean(num_list))\n",
        "print(mean_num) #산술평균\n",
        "\n",
        "median_num = statistics.median(num_list)\n",
        "print(median_num)  #중앙값\n",
        "\n",
        "mode_dict = Counter(num_list)\n",
        "max_mode_count = max(mode_dict.values()) #최대 count\n",
        "mode_list = [k for k, v in mode_dict.items() if v == max_mode_count] #최대 count에 해당하는 숫자 리스트\n",
        "mode_list.sort()\n",
        "\n",
        "if len(mode_list) > 1:\n",
        "    mode_num = mode_list[1]\n",
        "else:\n",
        "    mode_num = mode_list[0]\n",
        "print(mode_num) #최빈값\n",
        "\n",
        "print(max(num_list) - min(num_list)) #최댓값 - 최솟값"
      ],
      "metadata": {
        "id": "p5_HYYyVzK12"
      },
      "execution_count": null,
      "outputs": []
    },
    {
      "cell_type": "markdown",
      "source": [
        "### 7) #1427 소트인사이드"
      ],
      "metadata": {
        "id": "dLFluHdZPqSf"
      }
    },
    {
      "cell_type": "code",
      "source": [
        "num_list = list(map(int, list(input())))\n",
        "\n",
        "num_list.sort(reverse=True)\n",
        "print(*num_list, sep='')"
      ],
      "metadata": {
        "colab": {
          "base_uri": "https://localhost:8080/"
        },
        "id": "nyUQQXcWPt9X",
        "outputId": "588a290e-0b75-42b8-e025-dee15b5b8a03"
      },
      "execution_count": 6,
      "outputs": [
        {
          "output_type": "stream",
          "name": "stdout",
          "text": [
            "500613009\n",
            "965310000\n"
          ]
        }
      ]
    },
    {
      "cell_type": "markdown",
      "source": [
        "### 8) #11650 좌표 정렬하기"
      ],
      "metadata": {
        "id": "RUgwX7TqPuVO"
      }
    },
    {
      "cell_type": "code",
      "source": [
        "n = int(input())\n",
        "num_list = [[0 for _ in range(2)] for _ in range(n)]\n",
        "\n",
        "for i in range(n):\n",
        "    num_list[i][0], num_list[i][1] = map(int, input().split())\n",
        "\n",
        "num_list.sort()\n",
        "\n",
        "for i in num_list:\n",
        "    print(*i)"
      ],
      "metadata": {
        "colab": {
          "base_uri": "https://localhost:8080/"
        },
        "id": "uhN1sVOZPzDF",
        "outputId": "9766c7de-dbf5-418c-8a0b-cb2faf203c02"
      },
      "execution_count": 18,
      "outputs": [
        {
          "output_type": "stream",
          "name": "stdout",
          "text": [
            "5\n",
            "3 4\n",
            "1 1\n",
            "1 -1\n",
            "2 2\n",
            "3 3\n",
            "1 -1\n",
            "1 1\n",
            "2 2\n",
            "3 3\n",
            "3 4\n"
          ]
        }
      ]
    },
    {
      "cell_type": "markdown",
      "source": [
        "- 시간 초과라서 input() 대신 sys.stdin.readline() 사용"
      ],
      "metadata": {
        "id": "tH1kpHG_SnNT"
      }
    },
    {
      "cell_type": "code",
      "source": [
        "import sys\n",
        "\n",
        "n = int(input())\n",
        "num_list = [[0 for _ in range(2)] for _ in range(n)]\n",
        "\n",
        "for i in range(n):\n",
        "    num_list[i][0], num_list[i][1] = map(int, sys.stdin.readline().split())\n",
        "\n",
        "num_list.sort()\n",
        "\n",
        "for i in num_list:\n",
        "    print(*i)"
      ],
      "metadata": {
        "id": "ACeRW-D0Swyq"
      },
      "execution_count": null,
      "outputs": []
    },
    {
      "cell_type": "markdown",
      "source": [
        "### 9) #11651 좌표 정렬하기 2"
      ],
      "metadata": {
        "id": "cqD_HYR1PzPm"
      }
    },
    {
      "cell_type": "markdown",
      "source": [
        "- `sort()`는 기본적으로 앞에 있는 수부터 정렬 실행\n",
        "- `key` 파라미터로 정렬 기준 지정해줄 수 있음\n",
        "    - `key=len`: 길이를 기준으로 sort\n",
        "    - `key=lambda x : x[1]`: x[1]을 기준으로 sort (- 부호를 사용하여 역순 지정 가능)"
      ],
      "metadata": {
        "id": "3k9LYnBcUKGQ"
      }
    },
    {
      "cell_type": "code",
      "source": [
        "n = int(input())\n",
        "num_list = [[0 for _ in range(2)] for _ in range(n)]\n",
        "\n",
        "for i in range(n):\n",
        "    num_list[i][0], num_list[i][1] = map(int, input().split())\n",
        "\n",
        "num_list.sort(key=lambda x: x[1])\n",
        "\n",
        "for i in num_list:\n",
        "    print(*i)"
      ],
      "metadata": {
        "colab": {
          "base_uri": "https://localhost:8080/"
        },
        "id": "lZi_dG99P1xV",
        "outputId": "566a52a8-a814-4830-ac4a-0aa7f08c35ec"
      },
      "execution_count": 24,
      "outputs": [
        {
          "output_type": "stream",
          "name": "stdout",
          "text": [
            "5\n",
            "0 4\n",
            "1 2\n",
            "1 -1\n",
            "2 2\n",
            "3 3\n",
            "1 -1\n",
            "1 2\n",
            "2 2\n",
            "3 3\n",
            "0 4\n"
          ]
        }
      ]
    },
    {
      "cell_type": "markdown",
      "source": [
        "- 시간 초과 문제가 발생할 것 같으므로 sys 사용"
      ],
      "metadata": {
        "id": "hkoCcfTSU4v9"
      }
    },
    {
      "cell_type": "code",
      "source": [
        "import sys\n",
        "\n",
        "n = int(input())\n",
        "num_list = [[0 for _ in range(2)] for _ in range(n)]\n",
        "\n",
        "for i in range(n):\n",
        "    num_list[i][0], num_list[i][1] = map(int, sys.stdin.readline().split())\n",
        "\n",
        "num_list.sort(key=lambda x: x[1])\n",
        "\n",
        "for i in num_list:\n",
        "    print(*i)"
      ],
      "metadata": {
        "id": "Yavi5M9EU-t3"
      },
      "execution_count": null,
      "outputs": []
    },
    {
      "cell_type": "markdown",
      "source": [
        "-----------\n",
        "- 틀림! 반례 찾음\n",
        "- y가 같다면 입력된 순서대로 출력을 함\n",
        "- sort 안의 lambda 함수를 통해 key값 여러개 지정해주기"
      ],
      "metadata": {
        "id": "3W6bW7hjVRql"
      }
    },
    {
      "cell_type": "code",
      "source": [
        "n = int(input())\n",
        "num_list = [[0 for _ in range(2)] for _ in range(n)]\n",
        "\n",
        "for i in range(n):\n",
        "    num_list[i][0], num_list[i][1] = map(int, input().split())\n",
        "\n",
        "num_list.sort(key=lambda x: (x[1], x[0]))\n",
        "\n",
        "for i in num_list:\n",
        "    print(*i)"
      ],
      "metadata": {
        "colab": {
          "base_uri": "https://localhost:8080/"
        },
        "id": "TiHKs8nPVNOy",
        "outputId": "7b00d133-ab1c-4095-ead1-45ddebad88f8"
      },
      "execution_count": 26,
      "outputs": [
        {
          "output_type": "stream",
          "name": "stdout",
          "text": [
            "2\n",
            "3 3\n",
            "1 3\n",
            "1 3\n",
            "3 3\n"
          ]
        }
      ]
    },
    {
      "cell_type": "code",
      "source": [
        "import sys\n",
        "\n",
        "n = int(input())\n",
        "num_list = [[0 for _ in range(2)] for _ in range(n)]\n",
        "\n",
        "for i in range(n):\n",
        "    num_list[i][0], num_list[i][1] = map(int, sys.stdin.readline().split())\n",
        "\n",
        "num_list.sort(key=lambda x: (x[1], x[0]))\n",
        "\n",
        "for i in num_list:\n",
        "    print(*i)"
      ],
      "metadata": {
        "id": "WtHUleFGVlL4"
      },
      "execution_count": null,
      "outputs": []
    },
    {
      "cell_type": "markdown",
      "source": [
        "### 10) #1181 단어 정렬"
      ],
      "metadata": {
        "id": "HZvsDOfNP18d"
      }
    },
    {
      "cell_type": "code",
      "source": [
        "n = int(input())\n",
        "word_list = list(set([input() for _ in range(n)]))\n",
        "word_list.sort(key=lambda x: (len(x), x))\n",
        "\n",
        "for i in word_list:\n",
        "    print(*i, sep='')"
      ],
      "metadata": {
        "colab": {
          "base_uri": "https://localhost:8080/"
        },
        "id": "DN7Mfks1P4Xf",
        "outputId": "77caff3d-fa87-4a43-eeef-08c21e247a11"
      },
      "execution_count": 35,
      "outputs": [
        {
          "output_type": "stream",
          "name": "stdout",
          "text": [
            "13\n",
            "but\n",
            "i\n",
            "wont\n",
            "hesitate\n",
            "no\n",
            "more\n",
            "no\n",
            "more\n",
            "it\n",
            "cannot\n",
            "wait\n",
            "im\n",
            "yours\n",
            "i\n",
            "im\n",
            "it\n",
            "no\n",
            "but\n",
            "more\n",
            "wait\n",
            "wont\n",
            "yours\n",
            "cannot\n",
            "hesitate\n"
          ]
        }
      ]
    },
    {
      "cell_type": "markdown",
      "source": [
        "- 시간 초과를 예방하여 sys 사용\n",
        "- sys.stdin.readline()은 개행문자(\\n)까지 같이 입력받기 때문에 `rstrip()`까지 같이 사용해주기"
      ],
      "metadata": {
        "id": "rLNBumk5XhVm"
      }
    },
    {
      "cell_type": "code",
      "source": [
        "import sys\n",
        "\n",
        "n = int(input())\n",
        "word_list = list(set([sys.stdin.readline().rstrip() for _ in range(n)]))\n",
        "word_list.sort(key=lambda x: (len(x), x))\n",
        "\n",
        "for i in word_list:\n",
        "    print(*i, sep='')"
      ],
      "metadata": {
        "id": "_2UMoZwFXocY"
      },
      "execution_count": null,
      "outputs": []
    },
    {
      "cell_type": "markdown",
      "source": [
        "### 11) #10814 나이순 정렬"
      ],
      "metadata": {
        "id": "Ozxkf8QRP4ig"
      }
    },
    {
      "cell_type": "code",
      "source": [
        "n = int(input())\n",
        "people_list = [input().split() for _ in range(n)]\n",
        "people_list.sort(key=lambda x: int(x[0]))\n",
        "\n",
        "for i in people_list:\n",
        "    print(*i)"
      ],
      "metadata": {
        "colab": {
          "base_uri": "https://localhost:8080/"
        },
        "id": "dBNVMjBNP7ge",
        "outputId": "17088c9f-9963-4fc7-a48e-24f2fbbc1f36"
      },
      "execution_count": 43,
      "outputs": [
        {
          "output_type": "stream",
          "name": "stdout",
          "text": [
            "3\n",
            "21 Junkyu\n",
            "21 Dohyun\n",
            "20 Sunyoung\n",
            "20 Sunyoung\n",
            "21 Junkyu\n",
            "21 Dohyun\n"
          ]
        }
      ]
    },
    {
      "cell_type": "markdown",
      "source": [
        "- 시간 초과 예방"
      ],
      "metadata": {
        "id": "FrZ4V9W1ZrcX"
      }
    },
    {
      "cell_type": "code",
      "source": [
        "import sys\n",
        "\n",
        "n = int(input())\n",
        "people_list = [sys.stdin.readline().rstrip().split() for _ in range(n)]\n",
        "people_list.sort(key=lambda x: int(x[0]))\n",
        "\n",
        "for i in people_list:\n",
        "    print(*i)"
      ],
      "metadata": {
        "id": "o0e2gwWjZt0A"
      },
      "execution_count": null,
      "outputs": []
    },
    {
      "cell_type": "markdown",
      "source": [
        "### 12) #18870 좌표 압축"
      ],
      "metadata": {
        "id": "lp-cuEzjP73j"
      }
    },
    {
      "cell_type": "markdown",
      "source": [
        "- 입력받은 수를 0부터 크기 순으로 나열한 번호 출력"
      ],
      "metadata": {
        "id": "luSR_SRfcJ2O"
      }
    },
    {
      "cell_type": "code",
      "source": [
        "import pandas as pd\n",
        "\n",
        "n = int(input())\n",
        "\n",
        "num_list = list(map(int, input().split()))\n",
        "\n",
        "df = pd.DataFrame({'number': num_list})\n",
        "df['rank'] = list(map(int, (df['number'].rank(method='dense') - 1))) #method='dense': 같은 등수라면 작은 수로, 그룹간 순위가 1씩 증가\n",
        "\n",
        "print(*df['rank'])"
      ],
      "metadata": {
        "colab": {
          "base_uri": "https://localhost:8080/"
        },
        "id": "6d-zyTj4P-Xo",
        "outputId": "a9ebc0a5-465e-438d-d016-80104ddda39e"
      },
      "execution_count": 60,
      "outputs": [
        {
          "output_type": "stream",
          "name": "stdout",
          "text": [
            "6\n",
            "1000 999 1000 999 1000 999\n",
            "1 0 1 0 1 0\n"
          ]
        }
      ]
    },
    {
      "cell_type": "markdown",
      "source": [
        "- 시간 초과 예방"
      ],
      "metadata": {
        "id": "rcF3KNF5eNnL"
      }
    },
    {
      "cell_type": "code",
      "source": [
        "import pandas as pd\n",
        "import sys\n",
        "\n",
        "n = int(input())\n",
        "\n",
        "num_list = list(map(int, sys.stdin.readline().rstrip().split()))\n",
        "\n",
        "df = pd.DataFrame({'number': num_list})\n",
        "df['rank'] = list(map(int, (df['number'].rank(method='dense') - 1))) #method='dense': 같은 등수라면 작은 수로, 그룹간 순위가 1씩 증가\n",
        "\n",
        "print(*df['rank'])"
      ],
      "metadata": {
        "id": "G6gqXr3OeOtu"
      },
      "execution_count": null,
      "outputs": []
    },
    {
      "cell_type": "markdown",
      "source": [
        "------\n",
        "- 런타임 에러 (ModuleNotFoundError) 발생, pandas 사용하면 안됨"
      ],
      "metadata": {
        "id": "xYzZxgTXg9Pw"
      }
    },
    {
      "cell_type": "code",
      "source": [
        "n = int(input())\n",
        "\n",
        "num_list = list(map(int, input().split())) #입력받은 숫자 리스트\n",
        "\n",
        "sort_list = num_list.copy()\n",
        "sort_list = list(set(sort_list)) #입력받은 숫자가 순서대로 나열된 리스트 (집합이라 겹치는 숫자 없음)\n",
        "sort_list.sort()\n",
        "\n",
        "rank_list = [i for num in num_list for i in range(len(sort_list)) if num == sort_list[i]] #sort_list에서 index 출력 -> rank\n",
        "print(*rank_list)"
      ],
      "metadata": {
        "colab": {
          "base_uri": "https://localhost:8080/"
        },
        "id": "nB655Ghgew4v",
        "outputId": "35cbc52f-ceda-4b8a-f469-b683fd0be0ea"
      },
      "execution_count": 68,
      "outputs": [
        {
          "output_type": "stream",
          "name": "stdout",
          "text": [
            "6\n",
            "1000 999 1000 999 1000 999\n",
            "1 0 1 0 1 0\n"
          ]
        }
      ]
    },
    {
      "cell_type": "markdown",
      "source": [
        "- 시간 초과 예방"
      ],
      "metadata": {
        "id": "jCaWNADjg6rO"
      }
    },
    {
      "cell_type": "code",
      "source": [
        "import sys\n",
        "\n",
        "n = int(input())\n",
        "\n",
        "num_list = list(map(int, sys.stdin.readline().rstrip().split())) #입력받은 숫자 리스트\n",
        "\n",
        "sort_list = num_list.copy()\n",
        "sort_list = list(set(sort_list)) #입력받은 숫자가 순서대로 나열된 리스트 (집합이라 겹치는 숫자 없음)\n",
        "sort_list.sort()\n",
        "\n",
        "rank_list = [i for num in num_list for i in range(len(sort_list)) if num == sort_list[i]] #sort_list에서 index 출력 -> rank\n",
        "print(*rank_list)"
      ],
      "metadata": {
        "id": "CsWZaPbuhQof"
      },
      "execution_count": null,
      "outputs": []
    },
    {
      "cell_type": "markdown",
      "source": [
        "---------\n",
        "- 시간 초과\n",
        "- 이중 for문 때문에 그런 것 같음"
      ],
      "metadata": {
        "id": "e1IplSP6hek6"
      }
    },
    {
      "cell_type": "code",
      "source": [
        "n = int(input())\n",
        "\n",
        "num_list = list(map(int, input().split())) #입력받은 숫자 리스트\n",
        "\n",
        "sort_list = sorted(list(set(num_list.copy()))) #입력받은 숫자가 순서대로 나열된 리스트 (집합이라 겹치는 숫자 없음)\n",
        "\n",
        "rank_list = [sort_list.index(num) for num in num_list]\n",
        "print(*rank_list)"
      ],
      "metadata": {
        "colab": {
          "base_uri": "https://localhost:8080/"
        },
        "id": "UTignU38m1QB",
        "outputId": "ed81b348-6363-42cd-d025-6b134b13c558"
      },
      "execution_count": 82,
      "outputs": [
        {
          "output_type": "stream",
          "name": "stdout",
          "text": [
            "6\n",
            "1000 999 1000 999 1000 999\n",
            "1 0 1 0 1 0\n"
          ]
        }
      ]
    },
    {
      "cell_type": "code",
      "source": [
        "import sys\n",
        "\n",
        "n = int(input())\n",
        "\n",
        "num_list = list(map(int, sys.stdin.readline().rstrip().split())) #입력받은 숫자 리스트\n",
        "\n",
        "sort_list = sorted(list(set(num_list.copy()))) #입력받은 숫자가 순서대로 나열된 리스트 (집합이라 겹치는 숫자 없음)\n",
        "\n",
        "rank_list = [sort_list.index(num) for num in num_list]\n",
        "print(*rank_list)"
      ],
      "metadata": {
        "id": "C-td36kDl8sN"
      },
      "execution_count": null,
      "outputs": []
    },
    {
      "cell_type": "markdown",
      "source": [
        "--------\n",
        "- 또 시간 초과\n",
        "- `index` 함수의 시간 복잡도가 O(N)이라 오래 걸림\n",
        "- dict에서 원소에 접근하는 것은 amortized O(1)만큼 걸리므로 dict 사용"
      ],
      "metadata": {
        "id": "FtSk-pQxndXQ"
      }
    },
    {
      "cell_type": "code",
      "source": [
        "n = int(input())\n",
        "\n",
        "num_list = list(map(int, input().split())) #입력받은 숫자 리스트\n",
        "\n",
        "sort_list = sorted(set(num_list.copy())) #입력받은 숫자가 순서대로 나열된 리스트 (집합이라 겹치는 숫자 없음)\n",
        "\n",
        "rank_dict = {i:v for v, i in enumerate(sort_list)} #dict를 사용하면 시간 덜 걸림\n",
        "\n",
        "for num in num_list:\n",
        "    print(rank_dict.get(num), end=' ')"
      ],
      "metadata": {
        "colab": {
          "base_uri": "https://localhost:8080/"
        },
        "id": "Haq2mJssnocy",
        "outputId": "1b356c47-d675-417d-a327-d7bac623db72"
      },
      "execution_count": 90,
      "outputs": [
        {
          "output_type": "stream",
          "name": "stdout",
          "text": [
            "6\n",
            "1000 999 1000 999 1000 999\n",
            "1 0 1 0 1 0 "
          ]
        }
      ]
    },
    {
      "cell_type": "code",
      "source": [
        "import sys\n",
        "n = int(input())\n",
        "\n",
        "num_list = list(map(int, sys.stdin.readline().rstrip().split())) #입력받은 숫자 리스트\n",
        "\n",
        "sort_list = sorted(set(num_list.copy())) #입력받은 숫자가 순서대로 나열된 리스트 (집합이라 겹치는 숫자 없음)\n",
        "\n",
        "rank_dict = {i:v for v, i in enumerate(sort_list)} #dict를 사용하면 시간 덜 걸림\n",
        "\n",
        "for num in num_list:\n",
        "    print(rank_dict.get(num), end=' ')"
      ],
      "metadata": {
        "id": "Q4h3J9zqqkUl"
      },
      "execution_count": null,
      "outputs": []
    }
  ]
}