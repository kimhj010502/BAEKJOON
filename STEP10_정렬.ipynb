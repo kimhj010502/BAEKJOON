{
  "nbformat": 4,
  "nbformat_minor": 0,
  "metadata": {
    "colab": {
      "provenance": [],
      "authorship_tag": "ABX9TyO27ONrnb0Xtr543uy8y9+t",
      "include_colab_link": true
    },
    "kernelspec": {
      "name": "python3",
      "display_name": "Python 3"
    },
    "language_info": {
      "name": "python"
    }
  },
  "cells": [
    {
      "cell_type": "markdown",
      "metadata": {
        "id": "view-in-github",
        "colab_type": "text"
      },
      "source": [
        "<a href=\"https://colab.research.google.com/github/kimhj010502/BAEKJOON/blob/main/STEP10_%EC%A0%95%EB%A0%AC.ipynb\" target=\"_parent\"><img src=\"https://colab.research.google.com/assets/colab-badge.svg\" alt=\"Open In Colab\"/></a>"
      ]
    },
    {
      "cell_type": "markdown",
      "metadata": {
        "id": "TzSGa08QXuST"
      },
      "source": [
        "### 1) #2750 수 정렬하기"
      ]
    },
    {
      "cell_type": "code",
      "source": [
        "n = int(input())\n",
        "num_list = []\n",
        "\n",
        "for i in range(n):\n",
        "    num_list.append(int(input()))\n",
        "\n",
        "num_list.sort()\n",
        "print(*num_list, sep='\\n')"
      ],
      "metadata": {
        "colab": {
          "base_uri": "https://localhost:8080/"
        },
        "id": "embY85EhGSse",
        "outputId": "b09cc5ee-6a4c-4a48-c738-3934c3f795b7"
      },
      "execution_count": 1,
      "outputs": [
        {
          "output_type": "stream",
          "name": "stdout",
          "text": [
            "5\n",
            "5\n",
            "2\n",
            "3\n",
            "4\n",
            "1\n",
            "1\n",
            "2\n",
            "3\n",
            "4\n",
            "5\n"
          ]
        }
      ]
    },
    {
      "cell_type": "code",
      "source": [
        "n = int(input())\n",
        "\n",
        "num_list = [int(input()) for i in range(n)]\n",
        "num_list.sort()\n",
        "\n",
        "print(*num_list, sep='\\n')"
      ],
      "metadata": {
        "colab": {
          "base_uri": "https://localhost:8080/"
        },
        "id": "nvvfoK5WHTjN",
        "outputId": "46ccb0c5-edb4-479d-b836-a3a95b6cb92f"
      },
      "execution_count": 3,
      "outputs": [
        {
          "output_type": "stream",
          "name": "stdout",
          "text": [
            "5\n",
            "5\n",
            "2\n",
            "3\n",
            "4\n",
            "1\n",
            "1\n",
            "2\n",
            "3\n",
            "4\n",
            "5\n"
          ]
        }
      ]
    },
    {
      "cell_type": "markdown",
      "metadata": {
        "id": "kJxFfY8yqwbo"
      },
      "source": [
        "### 2) #2587 대표값2"
      ]
    },
    {
      "cell_type": "code",
      "source": [
        "num_list = [int(input()) for i in range(5)]\n",
        "num_list.sort()\n",
        "\n",
        "print(int(sum(num_list)/5)) #평균\n",
        "print(num_list[2]) #중앙값"
      ],
      "metadata": {
        "colab": {
          "base_uri": "https://localhost:8080/"
        },
        "id": "aDiEFKu2GRfX",
        "outputId": "487341c9-991f-4586-eb0b-c183da2cb83c"
      },
      "execution_count": 8,
      "outputs": [
        {
          "output_type": "stream",
          "name": "stdout",
          "text": [
            "10\n",
            "40\n",
            "30\n",
            "60\n",
            "30\n",
            "34\n",
            "30\n"
          ]
        }
      ]
    },
    {
      "cell_type": "markdown",
      "metadata": {
        "id": "vtqdTWTfqwmt"
      },
      "source": [
        "### 3) #25305 커트라인"
      ]
    },
    {
      "cell_type": "code",
      "source": [
        "n, k = map(int, input().split())\n",
        "\n",
        "score_list = list(map(int, input().split()))\n",
        "score_list.sort()\n",
        "score_list = score_list[::-1]\n",
        "\n",
        "print(score_list[k-1])"
      ],
      "metadata": {
        "colab": {
          "base_uri": "https://localhost:8080/"
        },
        "id": "GGOnIIfkGSeE",
        "outputId": "7d00cf20-b358-449a-e5d6-6fcc5ad1bf7d"
      },
      "execution_count": 9,
      "outputs": [
        {
          "output_type": "stream",
          "name": "stdout",
          "text": [
            "5 2\n",
            "100 76 85 93 98\n",
            "98\n"
          ]
        }
      ]
    },
    {
      "cell_type": "markdown",
      "source": [
        "### 4) #2751 수 정렬하기 2"
      ],
      "metadata": {
        "id": "9mLgOsTbGZAp"
      }
    },
    {
      "cell_type": "markdown",
      "source": [
        "- 수 정렬하기 1과 똑같이 하면 시간 초과 (N의 범위 다름)\n",
        "- `input()`은 느리므로 `sys.stdin.readline()`을 사용하면 해결됨\n",
        "input() 이 sys.stdin.readline() 보다 느린 이유 :\n",
        "\n",
        "\n",
        "> input() 내장 함수는 sys.stdin.readline()과 비교해서 prompt message를 출력하고, 개행 문자를 삭제한 값을 리턴하기 때문에 느림 <br> [참고] https://lute3r.tistory.com/m/240\n",
        "\n",
        "\n",
        "\n",
        "\n",
        "\n"
      ],
      "metadata": {
        "id": "yTlaMCrGJ5s2"
      }
    },
    {
      "cell_type": "code",
      "source": [
        "import sys\n",
        "\n",
        "n = int(input())\n",
        "\n",
        "num_list = [int(sys.stdin.readline()) for _ in range(n)] #코랩에서는 실행 안됨\n",
        "num_list.sort()\n",
        "\n",
        "print(*num_list, sep='\\n')"
      ],
      "metadata": {
        "id": "WRUwrHdvLOCM"
      },
      "execution_count": null,
      "outputs": []
    },
    {
      "cell_type": "markdown",
      "source": [
        "### 5) #10989 수 정렬하기 3"
      ],
      "metadata": {
        "id": "1qysfKZ5GcCc"
      }
    },
    {
      "cell_type": "markdown",
      "source": [
        "- 수 정렬하기 2와 똑같이 하면 메모리 초과\n",
        "- 입력 받는 수를 다 저장하고 나서 출력하려고 해서 사용하는 메모리가 초과됨\n",
        "- 입력받는 수가 10000보다 작거나 같은 수 이므로 10000 길이의 리스트를 미리 만들어 개수를 세고 출력하도록 함"
      ],
      "metadata": {
        "id": "lklxTSNOLvhz"
      }
    },
    {
      "cell_type": "code",
      "source": [
        "n = int(input())\n",
        "\n",
        "num_list = [0 for _ in range(10000)]\n",
        "\n",
        "for i in range(n):\n",
        "    num = int(input())\n",
        "    num_list[num-1] += 1\n",
        "\n",
        "for i in range(10000):\n",
        "    if num_list[i] != 0: #수가 하나 이상일 때만\n",
        "        for j in range(num_list[i]):\n",
        "            print(i+1)"
      ],
      "metadata": {
        "colab": {
          "base_uri": "https://localhost:8080/"
        },
        "id": "SlyQyr96Mgoh",
        "outputId": "20b3a20f-3cdf-442a-cffd-ae377a30a328"
      },
      "execution_count": 17,
      "outputs": [
        {
          "output_type": "stream",
          "name": "stdout",
          "text": [
            "10\n",
            "5\n",
            "2\n",
            "3\n",
            "1\n",
            "4\n",
            "2\n",
            "3\n",
            "5\n",
            "1\n",
            "7\n",
            "1\n",
            "1\n",
            "2\n",
            "2\n",
            "3\n",
            "3\n",
            "4\n",
            "5\n",
            "5\n",
            "7\n"
          ]
        }
      ]
    },
    {
      "cell_type": "markdown",
      "source": [
        "- 위의 코드가 런타임 에러 나서 input() 대신 sys.stdin.readline() 사용"
      ],
      "metadata": {
        "id": "WJrimGgYcDFw"
      }
    },
    {
      "cell_type": "code",
      "source": [
        "import sys\n",
        "\n",
        "n = int(input())\n",
        "\n",
        "num_list = [0 for _ in range(10000)]\n",
        "\n",
        "for i in range(n):\n",
        "    num = int(sys.stdin.readline())\n",
        "    num_list[num-1] += 1\n",
        "\n",
        "for i in range(10000):\n",
        "    if num_list[i] != 0: #수가 하나 이상일 때만\n",
        "        for j in range(num_list[i]):\n",
        "            print(i+1)"
      ],
      "metadata": {
        "id": "0mQ7rMa9GfPS"
      },
      "execution_count": null,
      "outputs": []
    },
    {
      "cell_type": "markdown",
      "source": [
        "### 6) #2108 통계학"
      ],
      "metadata": {
        "id": "3WRGf1KhGfti"
      }
    },
    {
      "cell_type": "code",
      "source": [
        "import numpy as np\n",
        "from scipy import stats\n",
        "\n",
        "n = int(input())\n",
        "\n",
        "num_list = [int(input()) for _ in range(n)]\n",
        "\n",
        "mean_num = int(np.round(np.mean(num_list))) #산술평균\n",
        "print(mean_num) \n",
        "\n",
        "median_num = int(np.median(num_list)) #중앙값\n",
        "print(median_num) \n",
        "\n",
        "mode_list = stats.mode([num_list]).mode[0] #최빈값\n",
        "mode_list.sort()\n",
        "\n",
        "if len(mode_list) > 1:\n",
        "    mode_num = int(mode_list[1])\n",
        "else:\n",
        "    mode_num = int(mode_list[0])\n",
        "print(mode_num)\n",
        "\n",
        "print(max(num_list) - min(num_list)) #최댓값 - 최솟값"
      ],
      "metadata": {
        "colab": {
          "base_uri": "https://localhost:8080/"
        },
        "id": "luoVd3YdGiFC",
        "outputId": "a772849d-06a0-42b2-efa3-83c761e0f395"
      },
      "execution_count": 47,
      "outputs": [
        {
          "output_type": "stream",
          "name": "stdout",
          "text": [
            "5\n",
            "1\n",
            "3\n",
            "8\n",
            "-2\n",
            "2\n",
            "2\n",
            "2\n",
            "1\n",
            "10\n"
          ]
        }
      ]
    },
    {
      "cell_type": "code",
      "source": [
        "mode_list = stats.mode([num_list]).mode[0]\n",
        "mode_list.sort()\n",
        "mode_list[0]"
      ],
      "metadata": {
        "colab": {
          "base_uri": "https://localhost:8080/"
        },
        "id": "yCC0MHeiaM5Q",
        "outputId": "6f3c0190-1c1d-4959-c2c0-b145cce9ad66"
      },
      "execution_count": 46,
      "outputs": [
        {
          "output_type": "execute_result",
          "data": {
            "text/plain": [
              "-2"
            ]
          },
          "metadata": {},
          "execution_count": 46
        }
      ]
    }
  ]
}