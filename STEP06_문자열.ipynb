{
  "nbformat": 4,
  "nbformat_minor": 0,
  "metadata": {
    "colab": {
      "provenance": [],
      "authorship_tag": "ABX9TyOjDh2GJzYLiorYdq4EumxQ",
      "include_colab_link": true
    },
    "kernelspec": {
      "name": "python3",
      "display_name": "Python 3"
    },
    "language_info": {
      "name": "python"
    }
  },
  "cells": [
    {
      "cell_type": "markdown",
      "metadata": {
        "id": "view-in-github",
        "colab_type": "text"
      },
      "source": [
        "<a href=\"https://colab.research.google.com/github/kimhj010502/BAEKJOON/blob/main/STEP06_%EB%AC%B8%EC%9E%90%EC%97%B4.ipynb\" target=\"_parent\"><img src=\"https://colab.research.google.com/assets/colab-badge.svg\" alt=\"Open In Colab\"/></a>"
      ]
    },
    {
      "cell_type": "markdown",
      "metadata": {
        "id": "TzSGa08QXuST"
      },
      "source": [
        "### 1) #11654 아스키 코드"
      ]
    },
    {
      "cell_type": "markdown",
      "source": [
        "- `ord()`: 아스키 코드 변환\n",
        "- `chr()`: 다시 문자열로 변환"
      ],
      "metadata": {
        "id": "DLZIHpMzdRWV"
      }
    },
    {
      "cell_type": "code",
      "source": [
        "char = input()\n",
        "print(ord(char))"
      ],
      "metadata": {
        "colab": {
          "base_uri": "https://localhost:8080/"
        },
        "id": "MYVrrxFCbmnY",
        "outputId": "f3338eac-c2c0-4231-8d01-8af1e3680a7e"
      },
      "execution_count": null,
      "outputs": [
        {
          "output_type": "stream",
          "name": "stdout",
          "text": [
            "z\n",
            "122\n"
          ]
        }
      ]
    },
    {
      "cell_type": "markdown",
      "metadata": {
        "id": "kJxFfY8yqwbo"
      },
      "source": [
        "### 2) #11720 숫자의 합"
      ]
    },
    {
      "cell_type": "code",
      "source": [
        "n = int(input())\n",
        "number = input()\n",
        "sum = 0\n",
        "\n",
        "for i in range(n):\n",
        "    sum += int(number[i])\n",
        "print(sum)"
      ],
      "metadata": {
        "colab": {
          "base_uri": "https://localhost:8080/"
        },
        "id": "R-uNYp7Xbn49",
        "outputId": "237f2710-5174-4b50-dfee-b4bc66f911eb"
      },
      "execution_count": null,
      "outputs": [
        {
          "output_type": "stream",
          "name": "stdout",
          "text": [
            "11\n",
            "10987654321\n",
            "46\n"
          ]
        }
      ]
    },
    {
      "cell_type": "markdown",
      "metadata": {
        "id": "vtqdTWTfqwmt"
      },
      "source": [
        "### 3) #10809 알파벳 찾기"
      ]
    },
    {
      "cell_type": "markdown",
      "source": [
        "- `str.find('특정 문자')`: str 문자열에서 특정 문자가 있는 위치의 index 반환하며 없으면 -1 반환"
      ],
      "metadata": {
        "id": "Mxwmh1sjf5Bv"
      }
    },
    {
      "cell_type": "code",
      "source": [
        "s = input()\n",
        "for i in range(ord('a'), ord('z')+1):\n",
        "    print(s.find(chr(i)), end=' ')"
      ],
      "metadata": {
        "colab": {
          "base_uri": "https://localhost:8080/"
        },
        "id": "6GO3UY6Kbocd",
        "outputId": "043b60be-63c0-4243-c18c-6ab80ba6db77"
      },
      "execution_count": null,
      "outputs": [
        {
          "output_type": "stream",
          "name": "stdout",
          "text": [
            "baekjoon\n",
            "1 0 -1 -1 2 -1 -1 -1 -1 4 3 -1 -1 7 5 -1 -1 -1 -1 -1 -1 -1 -1 -1 -1 -1 "
          ]
        }
      ]
    },
    {
      "cell_type": "markdown",
      "source": [
        "### 4) #2675 문자열 반복"
      ],
      "metadata": {
        "id": "OPZWSvxAcLy9"
      }
    },
    {
      "cell_type": "code",
      "source": [
        "t = int(input())\n",
        "\n",
        "for i in range(t):\n",
        "    r, s = input().split()\n",
        "    r = int(r)\n",
        "    for j in range(len(s)):\n",
        "        print(s[j] * r, end='')\n",
        "    print()"
      ],
      "metadata": {
        "colab": {
          "base_uri": "https://localhost:8080/"
        },
        "id": "JLmkQA8BcOwr",
        "outputId": "3a3f03f7-c5c8-46ee-fa33-d0f6c1f5a6b2"
      },
      "execution_count": null,
      "outputs": [
        {
          "output_type": "stream",
          "name": "stdout",
          "text": [
            "2\n",
            "3 ABC\n",
            "AAABBBCCC\n",
            "5 /HTP\n",
            "/////HHHHHTTTTTPPPPP\n"
          ]
        }
      ]
    },
    {
      "cell_type": "markdown",
      "source": [
        "### 5) #1157 단어 공부"
      ],
      "metadata": {
        "id": "z267Kar1cO8I"
      }
    },
    {
      "cell_type": "code",
      "source": [
        "from collections import Counter\n",
        "\n",
        "word = list(input().upper())\n",
        "\n",
        "if len(word) == 1:\n",
        "    print(word[0])\n",
        "else:\n",
        "    max1_word = Counter(word).most_common(2)[0]\n",
        "    #print('max1: {0}'.format(max1_word))\n",
        "    max2_word = Counter(word).most_common(2)[1]\n",
        "    #print('max2: {0}'.format(max2_word))\n",
        "\n",
        "    if max1_word[1] == max2_word[1]:\n",
        "        print('?')\n",
        "    else:\n",
        "        print(max1_word[0])"
      ],
      "metadata": {
        "colab": {
          "base_uri": "https://localhost:8080/"
        },
        "id": "085PqGEqcnvz",
        "outputId": "aefd0468-c361-4374-c797-0ecf4dfa728d"
      },
      "execution_count": null,
      "outputs": [
        {
          "output_type": "stream",
          "name": "stdout",
          "text": [
            "baaa\n",
            "A\n"
          ]
        }
      ]
    },
    {
      "cell_type": "markdown",
      "source": [
        "### 6) #1152 단어의 개수"
      ],
      "metadata": {
        "id": "0X8YoTToi9KI"
      }
    },
    {
      "cell_type": "code",
      "source": [
        "word_list = list(input().split())\n",
        "print(len(word_list))"
      ],
      "metadata": {
        "colab": {
          "base_uri": "https://localhost:8080/"
        },
        "id": "dVwdc5fdjCTP",
        "outputId": "e7131b3d-4132-42ee-f97d-55e014e90278"
      },
      "execution_count": null,
      "outputs": [
        {
          "output_type": "stream",
          "name": "stdout",
          "text": [
            "The last character is a blank \n",
            "6\n"
          ]
        }
      ]
    },
    {
      "cell_type": "markdown",
      "source": [
        "### 7) #2908 상수"
      ],
      "metadata": {
        "id": "2WxYk-sDjDeV"
      }
    },
    {
      "cell_type": "markdown",
      "source": [
        "- `string[start:stop:step]`에서 step을 -1로 설정하면 reverse_string 출력"
      ],
      "metadata": {
        "id": "-BRb_tPFrpWv"
      }
    },
    {
      "cell_type": "code",
      "source": [
        "a, b = input().split()\n",
        "new_a, new_b = int(a[::-1]), int(b[::-1])\n",
        "\n",
        "if new_a > new_b:\n",
        "    print(new_a)\n",
        "else:\n",
        "    print(new_b)"
      ],
      "metadata": {
        "colab": {
          "base_uri": "https://localhost:8080/"
        },
        "id": "Q8gAYYPijF6S",
        "outputId": "d78a492e-912d-4a88-8106-9826f375dae3"
      },
      "execution_count": null,
      "outputs": [
        {
          "output_type": "stream",
          "name": "stdout",
          "text": [
            "839 237\n",
            "938\n"
          ]
        }
      ]
    },
    {
      "cell_type": "markdown",
      "source": [
        "### 8) #5622 다이얼"
      ],
      "metadata": {
        "id": "bWslV-ASjGE9"
      }
    },
    {
      "cell_type": "code",
      "source": [
        "word_list = list(input())\n",
        "time = 0\n",
        "\n",
        "for word in word_list:\n",
        "    if ord(word) in range(ord('A'),ord('C') + 1):\n",
        "        time += 3\n",
        "    elif ord(word) in range(ord('D'),ord('F') + 1):\n",
        "        time += 4\n",
        "    elif ord(word) in range(ord('G'),ord('I') + 1):\n",
        "        time += 5\n",
        "    elif ord(word) in range(ord('J'),ord('L') + 1):\n",
        "        time += 6\n",
        "    elif ord(word) in range(ord('M'),ord('O') + 1):\n",
        "        time += 7\n",
        "    elif ord(word) in range(ord('P'),ord('S') + 1):\n",
        "        time += 8\n",
        "    elif ord(word) in range(ord('T'),ord('V') + 1):\n",
        "        time += 9\n",
        "    elif ord(word) in range(ord('W'),ord('Z') + 1):\n",
        "        time += 10\n",
        "print(time)"
      ],
      "metadata": {
        "colab": {
          "base_uri": "https://localhost:8080/"
        },
        "id": "Psbry2UoYIXM",
        "outputId": "9e898055-f379-4144-e1d0-ac5f8ea64f92"
      },
      "execution_count": null,
      "outputs": [
        {
          "output_type": "stream",
          "name": "stdout",
          "text": [
            "UNUCIC\n",
            "36\n"
          ]
        }
      ]
    },
    {
      "cell_type": "code",
      "source": [
        "word_list = list(input())\n",
        "number_list = ['ABC', 'DEF', 'GHI', 'JKL', 'MNO', 'PQRS', 'TUV', 'WXYZ']\n",
        "time = 0\n",
        "\n",
        "for word in word_list:\n",
        "    for i, number in enumerate(number_list):\n",
        "        if word in number:\n",
        "            time += i + 3\n",
        "\n",
        "print(time)"
      ],
      "metadata": {
        "colab": {
          "base_uri": "https://localhost:8080/"
        },
        "id": "2sEtYhzkZ0QY",
        "outputId": "164fc7f9-8afd-4b35-a477-e3fcf0e7492e"
      },
      "execution_count": null,
      "outputs": [
        {
          "output_type": "stream",
          "name": "stdout",
          "text": [
            "UNUCIC\n",
            "36\n"
          ]
        }
      ]
    },
    {
      "cell_type": "markdown",
      "source": [
        "### 9) #2941 크로아티아 알파벳"
      ],
      "metadata": {
        "id": "DpmupBcQjJ4P"
      }
    },
    {
      "cell_type": "code",
      "source": [
        "word = input()\n",
        "\n",
        "croatia_list = ['c=', 'c-', 'dz=', 'd-', 'lj', 'nj', 's=', 'z=']"
      ],
      "metadata": {
        "id": "_Y1SfbYJjM2L"
      },
      "execution_count": null,
      "outputs": []
    },
    {
      "cell_type": "code",
      "source": [
        "word = 'ljes=njak'\n",
        "\n",
        "croatia_list = ['c=', 'c-', 'dz=', 'd-', 'lj', 'nj', 's=', 'z=']\n",
        "number = 0\n",
        "\n",
        "for i in croatia_list:\n",
        "    if i in word:\n",
        "        print(i)\n",
        "        number += 1\n",
        "        word = word.replace(i, \"\")\n",
        "        print(word)\n",
        "print(number)"
      ],
      "metadata": {
        "colab": {
          "base_uri": "https://localhost:8080/"
        },
        "id": "2bwWbMDTp7PX",
        "outputId": "1650992c-13df-49f4-8cce-06ddfde9b41d"
      },
      "execution_count": 5,
      "outputs": [
        {
          "output_type": "stream",
          "name": "stdout",
          "text": [
            "lj\n",
            "es=njak\n",
            "nj\n",
            "es=ak\n",
            "s=\n",
            "eak\n",
            "3\n"
          ]
        }
      ]
    },
    {
      "cell_type": "markdown",
      "source": [
        "### 10) #1316 그룹 단어 체커"
      ],
      "metadata": {
        "id": "QYcSla15jNGu"
      }
    },
    {
      "cell_type": "code",
      "source": [],
      "metadata": {
        "id": "TooucA0ZjQYV"
      },
      "execution_count": null,
      "outputs": []
    }
  ]
}