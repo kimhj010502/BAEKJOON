{
  "nbformat": 4,
  "nbformat_minor": 0,
  "metadata": {
    "colab": {
      "provenance": [],
      "authorship_tag": "ABX9TyNfndl0IE5FKtQd5uG49fZ4",
      "include_colab_link": true
    },
    "kernelspec": {
      "name": "python3",
      "display_name": "Python 3"
    },
    "language_info": {
      "name": "python"
    }
  },
  "cells": [
    {
      "cell_type": "markdown",
      "metadata": {
        "id": "view-in-github",
        "colab_type": "text"
      },
      "source": [
        "<a href=\"https://colab.research.google.com/github/kimhj010502/BAEKJOON/blob/main/STEP06_%EB%AC%B8%EC%9E%90%EC%97%B4.ipynb\" target=\"_parent\"><img src=\"https://colab.research.google.com/assets/colab-badge.svg\" alt=\"Open In Colab\"/></a>"
      ]
    },
    {
      "cell_type": "markdown",
      "metadata": {
        "id": "TzSGa08QXuST"
      },
      "source": [
        "### 1) #11654 아스키 코드"
      ]
    },
    {
      "cell_type": "markdown",
      "source": [
        "- `ord()`: 아스키 코드 변환\n",
        "- `chr()`: 다시 문자열로 변환"
      ],
      "metadata": {
        "id": "DLZIHpMzdRWV"
      }
    },
    {
      "cell_type": "code",
      "source": [
        "char = input()\n",
        "print(ord(char))"
      ],
      "metadata": {
        "colab": {
          "base_uri": "https://localhost:8080/"
        },
        "id": "MYVrrxFCbmnY",
        "outputId": "f3338eac-c2c0-4231-8d01-8af1e3680a7e"
      },
      "execution_count": 6,
      "outputs": [
        {
          "output_type": "stream",
          "name": "stdout",
          "text": [
            "z\n",
            "122\n"
          ]
        }
      ]
    },
    {
      "cell_type": "markdown",
      "metadata": {
        "id": "kJxFfY8yqwbo"
      },
      "source": [
        "### 2) #11720 숫자의 합"
      ]
    },
    {
      "cell_type": "code",
      "source": [
        "n = int(input())\n",
        "number = input()\n",
        "sum = 0\n",
        "\n",
        "for i in range(n):\n",
        "    sum += int(number[i])\n",
        "print(sum)"
      ],
      "metadata": {
        "colab": {
          "base_uri": "https://localhost:8080/"
        },
        "id": "R-uNYp7Xbn49",
        "outputId": "237f2710-5174-4b50-dfee-b4bc66f911eb"
      },
      "execution_count": 10,
      "outputs": [
        {
          "output_type": "stream",
          "name": "stdout",
          "text": [
            "11\n",
            "10987654321\n",
            "46\n"
          ]
        }
      ]
    },
    {
      "cell_type": "markdown",
      "metadata": {
        "id": "vtqdTWTfqwmt"
      },
      "source": [
        "### 3) #10809 알파벳 찾기"
      ]
    },
    {
      "cell_type": "markdown",
      "source": [
        "- `str.find('특정 문자')`: str 문자열에서 특정 문자가 있는 위치의 index 반환하며 없으면 -1 반환"
      ],
      "metadata": {
        "id": "Mxwmh1sjf5Bv"
      }
    },
    {
      "cell_type": "code",
      "source": [
        "s = input()\n",
        "for i in range(ord('a'), ord('z')+1):\n",
        "    print(s.find(chr(i)), end=' ')"
      ],
      "metadata": {
        "colab": {
          "base_uri": "https://localhost:8080/"
        },
        "id": "6GO3UY6Kbocd",
        "outputId": "043b60be-63c0-4243-c18c-6ab80ba6db77"
      },
      "execution_count": 12,
      "outputs": [
        {
          "output_type": "stream",
          "name": "stdout",
          "text": [
            "baekjoon\n",
            "1 0 -1 -1 2 -1 -1 -1 -1 4 3 -1 -1 7 5 -1 -1 -1 -1 -1 -1 -1 -1 -1 -1 -1 "
          ]
        }
      ]
    },
    {
      "cell_type": "markdown",
      "source": [
        "### 4) #2675 문자열 반복"
      ],
      "metadata": {
        "id": "OPZWSvxAcLy9"
      }
    },
    {
      "cell_type": "code",
      "source": [
        "t = int(input())\n",
        "\n",
        "for i in range(t):\n",
        "    r, s = input().split()\n",
        "    r = int(r)\n",
        "    for j in range(len(s)):\n",
        "        print(s[j] * r, end='')\n",
        "    print()"
      ],
      "metadata": {
        "colab": {
          "base_uri": "https://localhost:8080/"
        },
        "id": "JLmkQA8BcOwr",
        "outputId": "3a3f03f7-c5c8-46ee-fa33-d0f6c1f5a6b2"
      },
      "execution_count": 18,
      "outputs": [
        {
          "output_type": "stream",
          "name": "stdout",
          "text": [
            "2\n",
            "3 ABC\n",
            "AAABBBCCC\n",
            "5 /HTP\n",
            "/////HHHHHTTTTTPPPPP\n"
          ]
        }
      ]
    },
    {
      "cell_type": "markdown",
      "source": [
        "### 5) #1157 단어 공부"
      ],
      "metadata": {
        "id": "z267Kar1cO8I"
      }
    },
    {
      "cell_type": "code",
      "source": [
        "from collections import Counter\n",
        "\n",
        "word = list(input().upper())\n",
        "\n",
        "if len(word) == 1:\n",
        "    print(word[0])\n",
        "else:\n",
        "    max1_word = Counter(word).most_common(2)[0]\n",
        "    #print('max1: {0}'.format(max1_word))\n",
        "    max2_word = Counter(word).most_common(2)[1]\n",
        "    #print('max2: {0}'.format(max2_word))\n",
        "\n",
        "    if max1_word[1] == max2_word[1]:\n",
        "        print('?')\n",
        "    else:\n",
        "        print(max1_word[0])"
      ],
      "metadata": {
        "colab": {
          "base_uri": "https://localhost:8080/"
        },
        "id": "085PqGEqcnvz",
        "outputId": "aefd0468-c361-4374-c797-0ecf4dfa728d"
      },
      "execution_count": 56,
      "outputs": [
        {
          "output_type": "stream",
          "name": "stdout",
          "text": [
            "baaa\n",
            "A\n"
          ]
        }
      ]
    }
  ]
}