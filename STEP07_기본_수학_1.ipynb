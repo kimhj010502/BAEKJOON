{
  "nbformat": 4,
  "nbformat_minor": 0,
  "metadata": {
    "colab": {
      "provenance": [],
      "authorship_tag": "ABX9TyPxo6Ee/16GyqrCaxobKPqZ",
      "include_colab_link": true
    },
    "kernelspec": {
      "name": "python3",
      "display_name": "Python 3"
    },
    "language_info": {
      "name": "python"
    }
  },
  "cells": [
    {
      "cell_type": "markdown",
      "metadata": {
        "id": "view-in-github",
        "colab_type": "text"
      },
      "source": [
        "<a href=\"https://colab.research.google.com/github/kimhj010502/BAEKJOON/blob/main/STEP07_%EA%B8%B0%EB%B3%B8_%EC%88%98%ED%95%99_1.ipynb\" target=\"_parent\"><img src=\"https://colab.research.google.com/assets/colab-badge.svg\" alt=\"Open In Colab\"/></a>"
      ]
    },
    {
      "cell_type": "markdown",
      "metadata": {
        "id": "TzSGa08QXuST"
      },
      "source": [
        "### 1) #1712 손익분기점"
      ]
    },
    {
      "cell_type": "code",
      "source": [
        "a, b, c = map(int, input().split())\n",
        "\n",
        "if b >= c:\n",
        "    print(-1)\n",
        "else:\n",
        "    point = a // (c - b)\n",
        "    print(point + 1)"
      ],
      "metadata": {
        "colab": {
          "base_uri": "https://localhost:8080/"
        },
        "id": "IZBBRyd49UOH",
        "outputId": "e898b88c-3ee4-44d0-f3d6-5ca13335bc49"
      },
      "execution_count": 17,
      "outputs": [
        {
          "output_type": "stream",
          "name": "stdout",
          "text": [
            "2100000000 9 10\n",
            "2100000001\n"
          ]
        }
      ]
    },
    {
      "cell_type": "markdown",
      "metadata": {
        "id": "kJxFfY8yqwbo"
      },
      "source": [
        "### 2) #2292 벌집"
      ]
    },
    {
      "cell_type": "code",
      "source": [
        "n = int(input())\n",
        "\n",
        "num = 0\n",
        "i = 1\n",
        "num_list = [1, 2]\n",
        "\n",
        "if n != 1:\n",
        "    while(True):\n",
        "        num += i * 6\n",
        "        i += 1\n",
        "        if (num+2) <= n:\n",
        "            num_list.append(num + 2)\n",
        "        else:\n",
        "            break\n",
        "    #print(num_list)\n",
        "    print(len(num_list))\n",
        "else:\n",
        "    print(1)"
      ],
      "metadata": {
        "colab": {
          "base_uri": "https://localhost:8080/"
        },
        "id": "Nngr5_5w3nDr",
        "outputId": "f145f731-8db6-49ec-d992-3d88254f25c3"
      },
      "execution_count": 86,
      "outputs": [
        {
          "output_type": "stream",
          "name": "stdout",
          "text": [
            "13\n",
            "3\n"
          ]
        }
      ]
    },
    {
      "cell_type": "markdown",
      "metadata": {
        "id": "vtqdTWTfqwmt"
      },
      "source": [
        "### 3) #1193 분수찾기"
      ]
    },
    {
      "cell_type": "code",
      "source": [
        "x = int(input())\n",
        "num = 1\n",
        "i = 1\n",
        "\n",
        "while(True):\n",
        "    if x >= (num + i):\n",
        "        num += i\n",
        "        i += 1\n",
        "    else:\n",
        "        break\n",
        "\n",
        "#print('num: {0}, i: {1}'.format(num, i))\n",
        "row = 1\n",
        "col = i\n",
        "for step in range(x - num):\n",
        "    col -= 1\n",
        "    row += 1\n",
        "\n",
        "if i % 2 == 1:\n",
        "    print('{0}/{1}'.format(col,row))\n",
        "else:\n",
        "    print('{0}/{1}'.format(row,col))"
      ],
      "metadata": {
        "colab": {
          "base_uri": "https://localhost:8080/"
        },
        "id": "luICfgtp3roS",
        "outputId": "4f3691c9-d0f1-43d4-e68f-6aa323eaaefa"
      },
      "execution_count": 112,
      "outputs": [
        {
          "output_type": "stream",
          "name": "stdout",
          "text": [
            "14\n",
            "2/4\n"
          ]
        }
      ]
    },
    {
      "cell_type": "markdown",
      "source": [
        "### 4) #2869 달팽이는 올라가고 싶다"
      ],
      "metadata": {
        "id": "OPZWSvxAcLy9"
      }
    },
    {
      "cell_type": "code",
      "source": [
        "import numpy as np\n",
        "\n",
        "a, b, v = map(int, input().split())\n",
        "\n",
        "step = a - b\n",
        "print(int(np.floor(v / step)))"
      ],
      "metadata": {
        "colab": {
          "base_uri": "https://localhost:8080/"
        },
        "id": "fDwXgiym3sfe",
        "outputId": "70f167fe-3c77-4472-8bbf-0e1ae4a4202d"
      },
      "execution_count": 113,
      "outputs": [
        {
          "output_type": "stream",
          "name": "stdout",
          "text": [
            "2 1 5\n",
            "5.0\n"
          ]
        }
      ]
    },
    {
      "cell_type": "markdown",
      "source": [
        "### 5) #10250 ACM 호텔"
      ],
      "metadata": {
        "id": "z267Kar1cO8I"
      }
    },
    {
      "cell_type": "code",
      "source": [],
      "metadata": {
        "id": "QNpLJUbe3stx"
      },
      "execution_count": null,
      "outputs": []
    },
    {
      "cell_type": "markdown",
      "source": [
        "### 6) #2775 부녀회장이 될테야"
      ],
      "metadata": {
        "id": "0X8YoTToi9KI"
      }
    },
    {
      "cell_type": "code",
      "source": [],
      "metadata": {
        "id": "zkt3klXj3tLx"
      },
      "execution_count": null,
      "outputs": []
    },
    {
      "cell_type": "markdown",
      "source": [
        "### 7) #2839 설탕 배달"
      ],
      "metadata": {
        "id": "2WxYk-sDjDeV"
      }
    },
    {
      "cell_type": "code",
      "source": [],
      "metadata": {
        "id": "odJTSgNr3uli"
      },
      "execution_count": null,
      "outputs": []
    },
    {
      "cell_type": "markdown",
      "source": [
        "### 8) #10757 큰 수 A+B"
      ],
      "metadata": {
        "id": "bWslV-ASjGE9"
      }
    },
    {
      "cell_type": "code",
      "source": [],
      "metadata": {
        "id": "c3pDKz-93v_x"
      },
      "execution_count": null,
      "outputs": []
    }
  ]
}