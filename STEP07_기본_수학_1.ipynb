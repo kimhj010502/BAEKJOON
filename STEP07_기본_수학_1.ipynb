{
  "nbformat": 4,
  "nbformat_minor": 0,
  "metadata": {
    "colab": {
      "provenance": [],
      "authorship_tag": "ABX9TyMafn0flOq+RRuFuD5FhNdc",
      "include_colab_link": true
    },
    "kernelspec": {
      "name": "python3",
      "display_name": "Python 3"
    },
    "language_info": {
      "name": "python"
    }
  },
  "cells": [
    {
      "cell_type": "markdown",
      "metadata": {
        "id": "view-in-github",
        "colab_type": "text"
      },
      "source": [
        "<a href=\"https://colab.research.google.com/github/kimhj010502/BAEKJOON/blob/main/STEP07_%EA%B8%B0%EB%B3%B8_%EC%88%98%ED%95%99_1.ipynb\" target=\"_parent\"><img src=\"https://colab.research.google.com/assets/colab-badge.svg\" alt=\"Open In Colab\"/></a>"
      ]
    },
    {
      "cell_type": "markdown",
      "metadata": {
        "id": "TzSGa08QXuST"
      },
      "source": [
        "### 1) #1712 손익분기점"
      ]
    },
    {
      "cell_type": "code",
      "source": [
        "a, b, c = map(int, input().split())\n",
        "\n",
        "if b >= c:\n",
        "    print(-1)\n",
        "else:\n",
        "    point = a // (c - b)\n",
        "    print(point + 1)"
      ],
      "metadata": {
        "colab": {
          "base_uri": "https://localhost:8080/"
        },
        "id": "IZBBRyd49UOH",
        "outputId": "e898b88c-3ee4-44d0-f3d6-5ca13335bc49"
      },
      "execution_count": null,
      "outputs": [
        {
          "output_type": "stream",
          "name": "stdout",
          "text": [
            "2100000000 9 10\n",
            "2100000001\n"
          ]
        }
      ]
    },
    {
      "cell_type": "markdown",
      "metadata": {
        "id": "kJxFfY8yqwbo"
      },
      "source": [
        "### 2) #2292 벌집"
      ]
    },
    {
      "cell_type": "code",
      "source": [
        "n = int(input())\n",
        "\n",
        "num = 0\n",
        "i = 1\n",
        "num_list = [1, 2]\n",
        "\n",
        "if n != 1:\n",
        "    while(True):\n",
        "        num += i * 6\n",
        "        i += 1\n",
        "        if (num+2) <= n:\n",
        "            num_list.append(num + 2)\n",
        "        else:\n",
        "            break\n",
        "    #print(num_list)\n",
        "    print(len(num_list))\n",
        "else:\n",
        "    print(1)"
      ],
      "metadata": {
        "colab": {
          "base_uri": "https://localhost:8080/"
        },
        "id": "Nngr5_5w3nDr",
        "outputId": "f145f731-8db6-49ec-d992-3d88254f25c3"
      },
      "execution_count": null,
      "outputs": [
        {
          "output_type": "stream",
          "name": "stdout",
          "text": [
            "13\n",
            "3\n"
          ]
        }
      ]
    },
    {
      "cell_type": "markdown",
      "metadata": {
        "id": "vtqdTWTfqwmt"
      },
      "source": [
        "### 3) #1193 분수찾기"
      ]
    },
    {
      "cell_type": "code",
      "source": [
        "x = int(input())\n",
        "num = 1\n",
        "i = 1\n",
        "\n",
        "while(True):\n",
        "    if x >= (num + i):\n",
        "        num += i\n",
        "        i += 1\n",
        "    else:\n",
        "        break\n",
        "\n",
        "#print('num: {0}, i: {1}'.format(num, i))\n",
        "row = 1\n",
        "col = i\n",
        "for step in range(x - num):\n",
        "    col -= 1\n",
        "    row += 1\n",
        "\n",
        "if i % 2 == 1:\n",
        "    print('{0}/{1}'.format(col,row))\n",
        "else:\n",
        "    print('{0}/{1}'.format(row,col))"
      ],
      "metadata": {
        "colab": {
          "base_uri": "https://localhost:8080/"
        },
        "id": "luICfgtp3roS",
        "outputId": "4f3691c9-d0f1-43d4-e68f-6aa323eaaefa"
      },
      "execution_count": null,
      "outputs": [
        {
          "output_type": "stream",
          "name": "stdout",
          "text": [
            "14\n",
            "2/4\n"
          ]
        }
      ]
    },
    {
      "cell_type": "markdown",
      "source": [
        "### 4) #2869 달팽이는 올라가고 싶다"
      ],
      "metadata": {
        "id": "OPZWSvxAcLy9"
      }
    },
    {
      "cell_type": "code",
      "source": [
        "a, b, v = map(int, input().split())\n",
        "number = (v-a) // (a-b)\n",
        "step = number * (a-b)\n",
        "#print('start number: #{0}, step: {1}'.format(number, step))\n",
        "\n",
        "while(True):\n",
        "    number += 1\n",
        "    step += a\n",
        "    if step >= v:\n",
        "        break\n",
        "    step -= b\n",
        "\n",
        "print(number)"
      ],
      "metadata": {
        "colab": {
          "base_uri": "https://localhost:8080/"
        },
        "id": "fDwXgiym3sfe",
        "outputId": "049f26ef-5de9-4fc8-aadd-90d335a6849b"
      },
      "execution_count": null,
      "outputs": [
        {
          "output_type": "stream",
          "name": "stdout",
          "text": [
            "100 99 1000000000\n",
            "999999901\n"
          ]
        }
      ]
    },
    {
      "cell_type": "markdown",
      "source": [
        "### 5) #10250 ACM 호텔"
      ],
      "metadata": {
        "id": "z267Kar1cO8I"
      }
    },
    {
      "cell_type": "code",
      "source": [
        "t = int(input())\n",
        "\n",
        "for i in range(t):\n",
        "    h, w, n = map(int, input().split())\n",
        "    y = str(n % h) #층\n",
        "\n",
        "    if y == '0':\n",
        "        y = str(h)\n",
        "        x = str(n // h) #호수\n",
        "    else:\n",
        "        x = str(n // h + 1)\n",
        "\n",
        "    #print('y: {0}, x:{1}'.format(y,x))\n",
        "    \n",
        "    if int(x) < 10:\n",
        "        x = '0' + x\n",
        "    print(y + x)"
      ],
      "metadata": {
        "colab": {
          "base_uri": "https://localhost:8080/"
        },
        "id": "QNpLJUbe3stx",
        "outputId": "4ca26c00-ca0e-4cd3-e21a-1d858587c4ca"
      },
      "execution_count": null,
      "outputs": [
        {
          "output_type": "stream",
          "name": "stdout",
          "text": [
            "2\n",
            "6 12 10\n",
            "402\n",
            "30 50 72\n",
            "1203\n"
          ]
        }
      ]
    },
    {
      "cell_type": "markdown",
      "source": [
        "### 6) #2775 부녀회장이 될테야"
      ],
      "metadata": {
        "id": "0X8YoTToi9KI"
      }
    },
    {
      "cell_type": "code",
      "source": [
        "t = int(input())\n",
        "\n",
        "def people_num(k, n):\n",
        "    apart = [[0 for j in range(n)] for i in range(k+1)]\n",
        "\n",
        "    for i in range(k+1):\n",
        "        for j in range(n):\n",
        "            if i == 0:\n",
        "                apart[i][j] = j+1 #0층 i호: i명\n",
        "            else:\n",
        "                people = 0\n",
        "                for l in range(j+1):\n",
        "                    people += apart[i-1][l]\n",
        "                apart[i][j] = people\n",
        "    #print(apart)\n",
        "    return apart[k][n-1]\n",
        "    \n",
        "\n",
        "for i in range(t):\n",
        "    k = int(input())\n",
        "    n = int(input())\n",
        "    result = 0\n",
        "    print(people_num(k, n))"
      ],
      "metadata": {
        "id": "zkt3klXj3tLx",
        "colab": {
          "base_uri": "https://localhost:8080/"
        },
        "outputId": "64ee9205-f7ca-4f15-d7de-339926e70698"
      },
      "execution_count": 25,
      "outputs": [
        {
          "output_type": "stream",
          "name": "stdout",
          "text": [
            "2\n",
            "1\n",
            "3\n",
            "6\n",
            "2\n",
            "3\n",
            "10\n"
          ]
        }
      ]
    },
    {
      "cell_type": "markdown",
      "source": [
        "### 7) #2839 설탕 배달"
      ],
      "metadata": {
        "id": "2WxYk-sDjDeV"
      }
    },
    {
      "cell_type": "code",
      "source": [
        "n = int(input())\n",
        "\n",
        "def bag_num(n):\n",
        "    kg5 = 0\n",
        "    kg3 = 0\n",
        "\n",
        "    if (n % 5) == 0: #5의 배수\n",
        "        kg5 = n // 5\n",
        "        return kg5\n",
        "\n",
        "    else: #5로 나눈 나머지가 3의 배수\n",
        "        total = n\n",
        "        for i in range(n//5, 0, -1):\n",
        "            kg5 = i\n",
        "            total -= kg5 * 5\n",
        "            if total % 3 == 0:\n",
        "                kg3 = total // 3\n",
        "                total -= kg3 * 3\n",
        "            else:\n",
        "                total = n\n",
        "\n",
        "            if total == 0:\n",
        "                return kg5 + kg3\n",
        "\n",
        "    if (n % 3) == 0: #3의 배수\n",
        "        kg3 = n // 3\n",
        "        return kg3\n",
        "\n",
        "    else: #정확하게 n킬로그램 만들 수 없는 경우\n",
        "        return -1\n",
        "\n",
        "print(bag_num(n))"
      ],
      "metadata": {
        "id": "odJTSgNr3uli",
        "colab": {
          "base_uri": "https://localhost:8080/"
        },
        "outputId": "50dca895-98bb-4d04-e2cc-91ae72cd80b4"
      },
      "execution_count": 46,
      "outputs": [
        {
          "output_type": "stream",
          "name": "stdout",
          "text": [
            "11\n",
            "3\n"
          ]
        }
      ]
    },
    {
      "cell_type": "markdown",
      "source": [
        "### 8) #10757 큰 수 A+B"
      ],
      "metadata": {
        "id": "bWslV-ASjGE9"
      }
    },
    {
      "cell_type": "code",
      "source": [
        "a, b = map(int, input().split())\n",
        "print(a + b)"
      ],
      "metadata": {
        "id": "c3pDKz-93v_x",
        "colab": {
          "base_uri": "https://localhost:8080/"
        },
        "outputId": "fc6c50a0-b70d-4ba1-dd1f-4f17db98ca30"
      },
      "execution_count": 47,
      "outputs": [
        {
          "output_type": "stream",
          "name": "stdout",
          "text": [
            "9223372036854775807 9223372036854775808\n",
            "18446744073709551615\n"
          ]
        }
      ]
    }
  ]
}