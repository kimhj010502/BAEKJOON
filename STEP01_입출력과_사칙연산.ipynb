{
  "nbformat": 4,
  "nbformat_minor": 0,
  "metadata": {
    "colab": {
      "provenance": [],
      "authorship_tag": "ABX9TyN3qRo2KZ7TCmmseWWD2yBo",
      "include_colab_link": true
    },
    "kernelspec": {
      "name": "python3",
      "display_name": "Python 3"
    },
    "language_info": {
      "name": "python"
    }
  },
  "cells": [
    {
      "cell_type": "markdown",
      "metadata": {
        "id": "view-in-github",
        "colab_type": "text"
      },
      "source": [
        "<a href=\"https://colab.research.google.com/github/kimhj010502/BAEKJOON/blob/main/STEP01_%EC%9E%85%EC%B6%9C%EB%A0%A5%EA%B3%BC_%EC%82%AC%EC%B9%99%EC%97%B0%EC%82%B0.ipynb\" target=\"_parent\"><img src=\"https://colab.research.google.com/assets/colab-badge.svg\" alt=\"Open In Colab\"/></a>"
      ]
    },
    {
      "cell_type": "markdown",
      "metadata": {
        "id": "TzSGa08QXuST"
      },
      "source": [
        "### 1) #2557 Hello World "
      ]
    },
    {
      "cell_type": "code",
      "execution_count": 1,
      "metadata": {
        "id": "vjTGiav3XuSX",
        "outputId": "1b224084-2e71-4aff-9411-820725a6205e",
        "colab": {
          "base_uri": "https://localhost:8080/"
        }
      },
      "outputs": [
        {
          "output_type": "stream",
          "name": "stdout",
          "text": [
            "Hello World!\n"
          ]
        }
      ],
      "source": [
        "print(\"Hello World!\")"
      ]
    },
    {
      "cell_type": "markdown",
      "metadata": {
        "id": "_niBlEq5XuSY"
      },
      "source": [
        "### 2) #1000 A+B"
      ]
    },
    {
      "cell_type": "code",
      "execution_count": 2,
      "metadata": {
        "id": "pJcjYlf_XuSZ",
        "outputId": "dffe4c5b-f6cc-43f9-905a-7e1a8ee86856",
        "colab": {
          "base_uri": "https://localhost:8080/"
        }
      },
      "outputs": [
        {
          "output_type": "stream",
          "name": "stdout",
          "text": [
            "1 2\n",
            "3\n"
          ]
        }
      ],
      "source": [
        "a, b = input().split()\n",
        "print(int(a)+int(b))"
      ]
    },
    {
      "cell_type": "markdown",
      "metadata": {
        "id": "IVG1CfHoXuSa"
      },
      "source": [
        "### 3) #1001 A-B"
      ]
    },
    {
      "cell_type": "code",
      "execution_count": 3,
      "metadata": {
        "id": "jkbS1Kk9XuSa",
        "outputId": "c616bc32-72a0-4e74-b3ec-0ebcf7b8b7c8",
        "colab": {
          "base_uri": "https://localhost:8080/"
        }
      },
      "outputs": [
        {
          "output_type": "stream",
          "name": "stdout",
          "text": [
            "3 2\n",
            "1\n"
          ]
        }
      ],
      "source": [
        "a, b = input().split()\n",
        "print(int(a)-int(b))"
      ]
    },
    {
      "cell_type": "markdown",
      "metadata": {
        "id": "-OGkPUUkXuSZ"
      },
      "source": [
        "### 4) #10998 A×B"
      ]
    },
    {
      "cell_type": "code",
      "execution_count": 4,
      "metadata": {
        "id": "3Qw2i4I7XuSZ",
        "outputId": "eb696b75-2366-4062-e8fe-50de8078249c",
        "colab": {
          "base_uri": "https://localhost:8080/"
        }
      },
      "outputs": [
        {
          "output_type": "stream",
          "name": "stdout",
          "text": [
            "3 4\n",
            "12\n"
          ]
        }
      ],
      "source": [
        "a, b = input().split()\n",
        "print(int(a)*int(b))"
      ]
    },
    {
      "cell_type": "markdown",
      "metadata": {
        "id": "CazY9feJXuSa"
      },
      "source": [
        "### 5) #1008 A/B"
      ]
    },
    {
      "cell_type": "code",
      "execution_count": 5,
      "metadata": {
        "id": "l88X7srgXuSa",
        "outputId": "b2138979-8807-46b6-b6cb-a9485b0d9482",
        "colab": {
          "base_uri": "https://localhost:8080/"
        }
      },
      "outputs": [
        {
          "output_type": "stream",
          "name": "stdout",
          "text": [
            "4 5\n",
            "0.8\n"
          ]
        }
      ],
      "source": [
        "a, b = input().split()\n",
        "print(int(a)/int(b))"
      ]
    },
    {
      "cell_type": "markdown",
      "metadata": {
        "id": "G-nQv6mrXuSb"
      },
      "source": [
        "### 6) #10869 사칙연산"
      ]
    },
    {
      "cell_type": "code",
      "execution_count": 6,
      "metadata": {
        "id": "1NTAvmWwXuSb",
        "outputId": "5f7a6717-d7ce-44c3-c5b4-36355439265b",
        "colab": {
          "base_uri": "https://localhost:8080/"
        }
      },
      "outputs": [
        {
          "output_type": "stream",
          "name": "stdout",
          "text": [
            "7 3\n",
            "10\n",
            "4\n",
            "21\n",
            "2\n",
            "1\n"
          ]
        }
      ],
      "source": [
        "a, b = input().split()\n",
        "print(int(a) + int(b))\n",
        "print(int(a) - int(b))\n",
        "print(int(a) * int(b))\n",
        "print(int(a) // int(b))\n",
        "print(int(a) % int(b))"
      ]
    },
    {
      "cell_type": "markdown",
      "source": [
        "### 7) #10926 ??!"
      ],
      "metadata": {
        "id": "It3fEYBJZQx8"
      }
    },
    {
      "cell_type": "code",
      "source": [
        "word = input()\n",
        "print(word + '??!')"
      ],
      "metadata": {
        "colab": {
          "base_uri": "https://localhost:8080/"
        },
        "id": "RbuWpRmRZT-O",
        "outputId": "1ee93d66-7a4f-47e6-faba-0e9af95aeb5c"
      },
      "execution_count": 8,
      "outputs": [
        {
          "output_type": "stream",
          "name": "stdout",
          "text": [
            "baekjoon\n",
            "baekjoon??!\n"
          ]
        }
      ]
    },
    {
      "cell_type": "markdown",
      "source": [
        "### 8) #18108 1998년생인 내가 태국에서는 2541년생?!"
      ],
      "metadata": {
        "id": "iks_ZOBcZUO9"
      }
    },
    {
      "cell_type": "code",
      "source": [
        "a = int(input())\n",
        "gap = 2541 - 1998\n",
        "print(a - gap)"
      ],
      "metadata": {
        "colab": {
          "base_uri": "https://localhost:8080/"
        },
        "id": "RmwMaTQHZWpD",
        "outputId": "896e0275-b948-4eed-f5c9-2425b9412e82"
      },
      "execution_count": 9,
      "outputs": [
        {
          "output_type": "stream",
          "name": "stdout",
          "text": [
            "2541\n",
            "1998\n"
          ]
        }
      ]
    },
    {
      "cell_type": "markdown",
      "source": [
        "### 9) #3003 킹, 퀸, 룩, 비숍, 나이트, 폰"
      ],
      "metadata": {
        "id": "MiEMB5DiZW0a"
      }
    },
    {
      "cell_type": "code",
      "source": [
        "k, q, l, b, n, p = input().split()\n",
        "k, q, l, b, n, p = int(k), int(q), int(l), int(b), int(n), int(p)\n",
        "new_k = str(1 - k)\n",
        "new_q = str(1 - q)\n",
        "new_l = str(2 - l)\n",
        "new_b = str(2 - b)\n",
        "new_n = str(2 - n)\n",
        "new_p = str(8 - p)\n",
        "print(new_k + ' ' + new_q + ' ' + new_l + ' ' + new_b + ' ' + new_n + ' ' + new_p)"
      ],
      "metadata": {
        "colab": {
          "base_uri": "https://localhost:8080/"
        },
        "id": "7_OvVErOZ5yI",
        "outputId": "ec8c5249-e91d-43ae-d1f7-41beb826d9c0"
      },
      "execution_count": 14,
      "outputs": [
        {
          "output_type": "stream",
          "name": "stdout",
          "text": [
            "2 1 2 1 2 1\n",
            "-1 0 0 1 0 7\n"
          ]
        }
      ]
    },
    {
      "cell_type": "markdown",
      "source": [
        "### 10) #10430 나머지"
      ],
      "metadata": {
        "id": "O5OxUBGQZ59e"
      }
    },
    {
      "cell_type": "code",
      "execution_count": 15,
      "metadata": {
        "id": "to-GWA_JXuSb",
        "outputId": "06bcdcf1-2ce2-4f17-e82b-bc09eb6df050",
        "colab": {
          "base_uri": "https://localhost:8080/"
        }
      },
      "outputs": [
        {
          "output_type": "stream",
          "name": "stdout",
          "text": [
            "5 8 4\n",
            "1\n",
            "1\n",
            "0\n",
            "0\n"
          ]
        }
      ],
      "source": [
        "a, b, c = input().split()\n",
        "a = int(a)\n",
        "b = int(b)\n",
        "c = int(c)\n",
        "\n",
        "print((a+b)%c)\n",
        "print(((a%c)+(b%c))%c)\n",
        "print((a*b)%c)\n",
        "print(((a%c)*(b%c))%c)"
      ]
    },
    {
      "cell_type": "markdown",
      "source": [
        "### 11) #2588 곱셈"
      ],
      "metadata": {
        "id": "UCIGv7fmaDJ2"
      }
    },
    {
      "cell_type": "code",
      "execution_count": 16,
      "metadata": {
        "id": "_g8a_nlqXuSc",
        "outputId": "11e0dedb-3e8e-4313-d7e3-53bda61e7f6c",
        "colab": {
          "base_uri": "https://localhost:8080/"
        }
      },
      "outputs": [
        {
          "output_type": "stream",
          "name": "stdout",
          "text": [
            "472\n",
            "385\n",
            "2360\n",
            "3776\n",
            "1416\n",
            "181720\n"
          ]
        }
      ],
      "source": [
        "a = int(input())\n",
        "b = int(input())\n",
        "print(a * (b%10))\n",
        "print(a * ((b//10)%10))\n",
        "print(a * (b//100))\n",
        "print(a * b)"
      ]
    },
    {
      "cell_type": "markdown",
      "source": [
        "### 12) #10171 고양이"
      ],
      "metadata": {
        "id": "8vr51tPjaLe9"
      }
    },
    {
      "cell_type": "code",
      "source": [
        "print(\"\\    /\\ \\n )  ( ')\\n(  /  )\\n \\(__)|\")"
      ],
      "metadata": {
        "colab": {
          "base_uri": "https://localhost:8080/"
        },
        "id": "Vie-x0G9aOvq",
        "outputId": "f0b8a357-0bb1-43ee-cfbd-3eb0d7d263f7"
      },
      "execution_count": 18,
      "outputs": [
        {
          "output_type": "stream",
          "name": "stdout",
          "text": [
            "\\    /\\ \n",
            " )  ( ')\n",
            "(  /  )\n",
            " \\(__)|\n"
          ]
        }
      ]
    },
    {
      "cell_type": "markdown",
      "source": [
        "### 13) #10172 개"
      ],
      "metadata": {
        "id": "7UjusRSOaTRy"
      }
    },
    {
      "cell_type": "code",
      "source": [
        "print('|\\_/|\\n|q p|   /}\\n( 0 )\"\"\"\\ \\n|\"^\"`    |\\n||_/=\\\\\\__|')"
      ],
      "metadata": {
        "colab": {
          "base_uri": "https://localhost:8080/"
        },
        "id": "0ZgdCDKiaTRz",
        "outputId": "fc437988-36d9-48f4-8988-fe9c4662a14c"
      },
      "execution_count": 29,
      "outputs": [
        {
          "output_type": "stream",
          "name": "stdout",
          "text": [
            "|\\_/|\n",
            "|q p|   /}\n",
            "( 0 )\"\"\"\\ \n",
            "|\"^\"`    |\n",
            "||_/=\\\\__|\n"
          ]
        }
      ]
    },
    {
      "cell_type": "markdown",
      "source": [
        "### 14) #25083 새싹"
      ],
      "metadata": {
        "id": "63xgKuCtaTyK"
      }
    },
    {
      "cell_type": "code",
      "source": [
        "print('         ,r\\'\\\"7\\nr`-_   ,\\'  ,/\\n \\. \\\". L_r\\'\\n   `~\\/\\n      |\\n      |')"
      ],
      "metadata": {
        "colab": {
          "base_uri": "https://localhost:8080/"
        },
        "id": "3ztHr7MLaTyL",
        "outputId": "9009da57-8816-476a-ddc4-526a37313663"
      },
      "execution_count": 33,
      "outputs": [
        {
          "output_type": "stream",
          "name": "stdout",
          "text": [
            "         ,r'\"7\n",
            "r`-_   ,'  ,/\n",
            " \\. \". L_r'\n",
            "   `~\\/\n",
            "      |\n",
            "      |\n"
          ]
        }
      ]
    }
  ]
}