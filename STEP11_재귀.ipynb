{
  "nbformat": 4,
  "nbformat_minor": 0,
  "metadata": {
    "colab": {
      "provenance": [],
      "authorship_tag": "ABX9TyNr9r1YArz5fXt6imNuvUkj",
      "include_colab_link": true
    },
    "kernelspec": {
      "name": "python3",
      "display_name": "Python 3"
    },
    "language_info": {
      "name": "python"
    }
  },
  "cells": [
    {
      "cell_type": "markdown",
      "metadata": {
        "id": "view-in-github",
        "colab_type": "text"
      },
      "source": [
        "<a href=\"https://colab.research.google.com/github/kimhj010502/BAEKJOON/blob/main/STEP11_%EC%9E%AC%EA%B7%80.ipynb\" target=\"_parent\"><img src=\"https://colab.research.google.com/assets/colab-badge.svg\" alt=\"Open In Colab\"/></a>"
      ]
    },
    {
      "cell_type": "markdown",
      "metadata": {
        "id": "TzSGa08QXuST"
      },
      "source": [
        "### 1) #10872 팩토리얼"
      ]
    },
    {
      "cell_type": "code",
      "source": [
        "n = int(input())\n",
        "\n",
        "def factorial(n):\n",
        "    if (n == 0) | (n == 1):\n",
        "        return 1\n",
        "    else:\n",
        "        return n * factorial(n-1)\n",
        "\n",
        "print(factorial(n))"
      ],
      "metadata": {
        "colab": {
          "base_uri": "https://localhost:8080/"
        },
        "id": "IGGKoFcKvBSM",
        "outputId": "691fc764-9266-4fec-f093-87c5fb42666a"
      },
      "execution_count": null,
      "outputs": [
        {
          "output_type": "stream",
          "name": "stdout",
          "text": [
            "0\n",
            "1\n"
          ]
        }
      ]
    },
    {
      "cell_type": "markdown",
      "source": [
        "### 2) #10870 피보나치 수 5"
      ],
      "metadata": {
        "id": "-MFcb6WzvNNC"
      }
    },
    {
      "cell_type": "code",
      "source": [
        "n = int(input())\n",
        "\n",
        "def fibonacci(n):\n",
        "    if (n == 0) | (n == 1):\n",
        "        return n\n",
        "    else:\n",
        "        return fibonacci(n-1) + fibonacci(n-2)\n",
        "\n",
        "print(fibonacci(n))"
      ],
      "metadata": {
        "colab": {
          "base_uri": "https://localhost:8080/"
        },
        "id": "9atg5wlBvQJ1",
        "outputId": "be7ec385-972c-47f8-f05f-c5e549221f44"
      },
      "execution_count": null,
      "outputs": [
        {
          "output_type": "stream",
          "name": "stdout",
          "text": [
            "10\n",
            "55\n"
          ]
        }
      ]
    },
    {
      "cell_type": "markdown",
      "source": [
        "### 3) #25501 재귀의 귀재"
      ],
      "metadata": {
        "id": "hc7fMBT-vQgb"
      }
    },
    {
      "cell_type": "markdown",
      "source": [
        "- `함수이름.counter`: 함수가 실행된 횟수를 외부에서 확인 가능함"
      ],
      "metadata": {
        "id": "5XC1sCQx5cny"
      }
    },
    {
      "cell_type": "code",
      "source": [
        "def recursion(s, l, r):\n",
        "    recursion.counter += 1\n",
        "    if l >= r:\n",
        "        return 1\n",
        "    elif s[l] != s[r]:\n",
        "        return 0\n",
        "    else:\n",
        "        return recursion(s, l+1, r-1)\n",
        "\n",
        "def isPalindrome(s):\n",
        "    return recursion(s, 0, len(s)-1)"
      ],
      "metadata": {
        "id": "xvKenHMuvT-2"
      },
      "execution_count": null,
      "outputs": []
    },
    {
      "cell_type": "code",
      "source": [
        "t = int(input())\n",
        "\n",
        "for i in range(t):\n",
        "    recursion.counter = 0\n",
        "    result = isPalindrome(input())\n",
        "    print('{0} {1}'.format(result, recursion.counter))"
      ],
      "metadata": {
        "colab": {
          "base_uri": "https://localhost:8080/"
        },
        "id": "vGnDMRTg1Ti2",
        "outputId": "9d77337f-7f0c-45db-be7c-2ad6bf0e4b80"
      },
      "execution_count": null,
      "outputs": [
        {
          "output_type": "stream",
          "name": "stdout",
          "text": [
            "5\n",
            "AAA\n",
            "1 2\n",
            "ABBA\n",
            "1 3\n",
            "ABABA\n",
            "1 3\n",
            "ABCA\n",
            "0 2\n",
            "PALINDROME\n",
            "0 1\n"
          ]
        }
      ]
    },
    {
      "cell_type": "markdown",
      "source": [
        "### 4) #24060 알고리즘 수업 - 병합 정렬 1"
      ],
      "metadata": {
        "id": "RvEX23oqvUKk"
      }
    },
    {
      "cell_type": "code",
      "source": [
        "def merge_sort(A, p, r):\n",
        "    if p < r:\n",
        "        q = int((p+r) / 2)\n",
        "        merge_sort(A, p, q)\n",
        "        merge_sort(A, q+1, r)\n",
        "        merge(A, p, q, r)\n",
        "\n",
        "def merge(A, p, q, r):\n",
        "    i = p\n",
        "    j = q + 1\n",
        "    t = 0\n",
        "    tmp = [0 for _ in range(len(A))]\n",
        "\n",
        "    while (i <= q) & (j <= r):\n",
        "        if (A[i] <= A[j]):\n",
        "            #print(A[i])\n",
        "            num_list.append(A[i])\n",
        "            tmp[t] = A[i]\n",
        "            t += 1\n",
        "            i += 1\n",
        "        else:\n",
        "            #print(A[j])\n",
        "            num_list.append(A[j])\n",
        "            tmp[t] = A[j]\n",
        "            t += 1\n",
        "            j += 1\n",
        "            \n",
        "    while i <= q:\n",
        "        #print(A[i])\n",
        "        num_list.append(A[i])\n",
        "        tmp[t] = A[i]\n",
        "        t += 1\n",
        "        i += 1\n",
        "\n",
        "    while j <= r:\n",
        "        #print(A[j])\n",
        "        num_list.append(A[j])\n",
        "        tmp[t] = A[j]\n",
        "        t += 1\n",
        "        j += 1\n",
        "\n",
        "    i = p\n",
        "    t = 0\n",
        "    while i <= r:\n",
        "        A[i] = tmp[t]\n",
        "        i += 1\n",
        "        t += 1"
      ],
      "metadata": {
        "id": "kwXDz7HQvWv6"
      },
      "execution_count": 2,
      "outputs": []
    },
    {
      "cell_type": "code",
      "source": [
        "n, k = map(int, input().split())\n",
        "A = list(map(int, input().split()))\n",
        "\n",
        "num_list = []\n",
        "merge_sort(A, 0, n-1)\n",
        "\n",
        "if len(num_list) < k:\n",
        "    print(-1)\n",
        "else:\n",
        "    print(num_list[k-1])"
      ],
      "metadata": {
        "colab": {
          "base_uri": "https://localhost:8080/"
        },
        "id": "dAn7d4EjC5Te",
        "outputId": "5a504cae-8d90-48bd-b5eb-b70f931e12d8"
      },
      "execution_count": null,
      "outputs": [
        {
          "output_type": "stream",
          "name": "stdout",
          "text": [
            "5 13\n",
            "4 5 1 3 2\n",
            "-1\n"
          ]
        }
      ]
    },
    {
      "cell_type": "markdown",
      "source": [
        "------\n",
        "- 시간 초과 때문에 sys 사용"
      ],
      "metadata": {
        "id": "P6Nyk2zuxNpJ"
      }
    },
    {
      "cell_type": "code",
      "source": [
        "import sys\n",
        "\n",
        "n, k = map(int, sys.stdin.readline().rstrip().split())\n",
        "A = list(map(int, sys.stdin.readline().rstrip().split()))\n",
        "\n",
        "num_list = []\n",
        "merge_sort(A, 0, n-1)\n",
        "\n",
        "if len(num_list) < k:\n",
        "    print(-1)\n",
        "else:\n",
        "    print(num_list[k-1])"
      ],
      "metadata": {
        "id": "QroA-UCjxQV7"
      },
      "execution_count": null,
      "outputs": []
    },
    {
      "cell_type": "markdown",
      "source": [
        "---------\n",
        "- 시간 초과 문제 해결 안됨\n",
        "- 다른 사람 알고리즘 참고 (굳이 merge sort 사용 안해도 됨) \n",
        "- K번째 저장될 때 정렬이 진행되고 있는 배열을 구하고 그 배열에서 A에 몇번째로 들어가는지 알면 됨\n"
      ],
      "metadata": {
        "id": "yp_UeCmf3S1T"
      }
    },
    {
      "cell_type": "markdown",
      "source": [
        "- 3:2으로 나뉘어서 하나씩 정렬\n",
        "    - 3짜리가 2:1로 나뉘어서 정렬한 후 합쳐짐\n",
        "        - 2짜리가 1:1로 나뉘어서 정렬 후 합쳐짐 (4, 5 정렬) \n",
        "        - 2와 1이 합쳐지는 과정에서 1, 4, 5 정렬\n",
        "    - 2짜리가 1:1로 나뉘어서 정렬한 후 합쳐짐 (2, 3 정렬)\n",
        "- 3이랑 2가 합쳐지는 과정에서 1, 2, 3, 4, 5 정렬\n",
        "<br><br>\n",
        "\n",
        "> 병합정렬은 정렬된 두 배열을 다시 합쳐서 정렬하는 방식입니다. 예제 1번을 예로 들면 <br>\n",
        "(4, 5, 1, 3, 2)을 (4, 5, 1), (3, 2)로 분리 -> (4, 5, 1)을 (4, 5), (1)로 분리 -> (4, 5)를 (4, 5)로 정렬 -> (1)은 정렬 할 필요 없으므로 (4, 5, 1)을 (1, 4, 5)로 정렬 <br>\n",
        "다음으로 (3, 2)를 (2, 3)으로 정렬 -> (1, 4, 5), (2, 3)을 합쳐서 (1, 2, 3, 4, 5)로 정렬 이런 과정을 거칩니다. <br>\n",
        "여기서 예제의 설명을 보시면 아시겠지만 정렬 과정에서 A에는 정렬하려는 배열의 작은 원소 순으로 들어갑니다. ((4, 5, 1) 정렬 과정에는 A에 1, 4, 5 가 차례대로 들어감) <br>\n",
        "그리고 어떤 배열을 정렬할 때 A에 들어가는 원소의 개수는 그 배열의 원소의 개수와 같습니다.(배열의 원소의 개수가 1이면 정렬을 진행하지 않으므로 예외) <br>\n",
        "이 문제는 A에 K번째 저장되는 수를 물어보고 있습니다. 그렇다면 K번째 저장될 때 정렬이 진행되고 있는 배열만 구하고, 그 배열에서 A에 몇번째로 들어가는지만 알면 됩니다. <br>\n",
        "이 때문에 실제 병합정렬을 진행하면서 문제를 풀지 않아도 됩니다. 정렬을 하지 않다가 우리가 원하는 배열 구하고 그 배열만 정렬해주면 됩니다. <br>\n",
        "정렬을 진행한 두 배열을 다시 정렬해주는 것이고, 정렬 과정에서 그 배열의 작은 원소순으로 A에 들어가는 것이기 때문에 실제 문제를 풀기 위한 정렬은 마지막 한번만으로 충분합니다. <br>\n",
        "[참고] https://www.acmicpc.net/board/view/107115\n",
        "\n"
      ],
      "metadata": {
        "id": "ZRAgxhPDnL3z"
      }
    },
    {
      "cell_type": "code",
      "source": [
        "def find(start, end):\n",
        "    global K\n",
        "\n",
        "    if start == end: #배열의 원소의 개수가 1이면 정렬 진행하지 않음\n",
        "        return\n",
        "\n",
        "    mid = int((start+end) / 2)\n",
        "    find(start, mid) #원소 수가 적은 배열부터 정렬하므로 배열의 원소를 둘로 나눈 것부터 정렬 진행\n",
        "    find(mid+1, end)\n",
        "\n",
        "    if K <= end - start + 1: #K번째에 원소를 넣는 배열인지 확인 (정렬하려는 배열의 크기 >= K인지 확인)\n",
        "        J = sorted(I[start:end+1]) #우리가 원하는 배열만 정렬\n",
        "        result.append(J[K-1])  #A에 몇번째 들어가는지 확인 후 정렬된 배열에서 그 수 출력\n",
        "    K -= end - start + 1 #정렬하려는 배열의 크기 < K면 우리가 원하는 배열이 아니므로 A에 원소가 들어간 만큼 K에서 빼줌 \n",
        "\n",
        "N, K = map(int,input().split())\n",
        "I = list(map(int,input().split()))\n",
        "\n",
        "result = []\n",
        "find(0, N-1)\n",
        "\n",
        "if len(result) != 0:\n",
        "    print(result[0])\n",
        "else:\n",
        "    print(-1) #만약 이 과정을 진행했는데 프로그램이 종료되지 않았다면 저장 횟수가 K보다 작은 것이므로 -1 출력"
      ],
      "metadata": {
        "id": "fyQWmicT3YtN",
        "colab": {
          "base_uri": "https://localhost:8080/"
        },
        "outputId": "a93a81bb-3b1a-44cc-adce-d30215c8f8fd"
      },
      "execution_count": 11,
      "outputs": [
        {
          "output_type": "stream",
          "name": "stdout",
          "text": [
            "1 2\n",
            "1\n",
            "-1\n"
          ]
        }
      ]
    },
    {
      "cell_type": "markdown",
      "source": [
        "---------\n",
        "- 런타임 에러 (Index Error)가 나는데 이유를 모르겠음\n",
        "- 원래 내가 작성했던 코드 수정하기\n",
        "- tmp 배열을 함수 안에서 매번 계속 만들었는데 밖에서 한 번 선언해주고 안에서 사용하도록 수정함"
      ],
      "metadata": {
        "id": "9u561Rxtz9HI"
      }
    },
    {
      "cell_type": "code",
      "source": [
        "def merge_sort(A, p, r):\n",
        "    if p < r:\n",
        "        q = int((p+r) / 2)\n",
        "        merge_sort(A, p, q)\n",
        "        merge_sort(A, q+1, r)\n",
        "        merge(A, p, q, r)\n",
        "\n",
        "def merge(A, p, q, r):\n",
        "    i = p\n",
        "    j = q + 1\n",
        "    t = 0\n",
        "\n",
        "    while (i <= q) & (j <= r):\n",
        "        if (A[i] <= A[j]):\n",
        "            #print(A[i])\n",
        "            num_list.append(A[i])\n",
        "            tmp[t] = A[i]\n",
        "            t += 1\n",
        "            i += 1\n",
        "        else:\n",
        "            #print(A[j])\n",
        "            num_list.append(A[j])\n",
        "            tmp[t] = A[j]\n",
        "            t += 1\n",
        "            j += 1\n",
        "            \n",
        "    while i <= q:\n",
        "        #print(A[i])\n",
        "        num_list.append(A[i])\n",
        "        tmp[t] = A[i]\n",
        "        t += 1\n",
        "        i += 1\n",
        "\n",
        "    while j <= r:\n",
        "        #print(A[j])\n",
        "        num_list.append(A[j])\n",
        "        tmp[t] = A[j]\n",
        "        t += 1\n",
        "        j += 1\n",
        "\n",
        "    i = p\n",
        "    t = 0\n",
        "    while i <= r:\n",
        "        A[i] = tmp[t]\n",
        "        i += 1\n",
        "        t += 1\n",
        "\n",
        "\n",
        "n, k = map(int, input().split())\n",
        "A = list(map(int, input().split()))\n",
        "tmp = [0 for _ in range(n)]\n",
        "num_list = []\n",
        "merge_sort(A, 0, n-1)\n",
        "\n",
        "if len(num_list) < k:\n",
        "    print(-1)\n",
        "else:\n",
        "    print(num_list[k-1])"
      ],
      "metadata": {
        "colab": {
          "base_uri": "https://localhost:8080/"
        },
        "id": "5ePNIOAZ2YDo",
        "outputId": "a0e0f75e-19af-43e6-a262-a5e3426def1c"
      },
      "execution_count": 16,
      "outputs": [
        {
          "output_type": "stream",
          "name": "stdout",
          "text": [
            "5 13\n",
            "4 5 1 3 2\n",
            "-1\n"
          ]
        }
      ]
    },
    {
      "cell_type": "markdown",
      "source": [
        "### 5) #2447 별 찍기 - 10"
      ],
      "metadata": {
        "id": "lxZPeQJtvXET"
      }
    },
    {
      "cell_type": "markdown",
      "source": [
        "- 중간에 비는 부분\n",
        "    - 3: 1~1 (`1*1 ~ 1*2-1`)\n",
        "    - 9: 3~5 (`3*1 ~ 3*2-1`)\n",
        "    - 27: 9~17 (`9*1 ~ 9*2-1`)\n",
        "    - n: `(n-1)*1 ~ (n-1)*2-1`"
      ],
      "metadata": {
        "id": "zcptinddHTAv"
      }
    },
    {
      "cell_type": "code",
      "source": [
        "#iteration\n",
        "def draw_star(n):\n",
        "    for i in range(1, n, 3):\n",
        "        for j in range(1, n, 3):\n",
        "            for ki in range(1):\n",
        "                for kj in range(1):\n",
        "                    star[i+ki][j+kj] = ' '\n",
        "\n",
        "    for i in range(3, n, 9):\n",
        "        for j in range(3, n, 9):\n",
        "            for ki in range(3):\n",
        "                for kj in range(3):\n",
        "                    star[i+ki][j+kj] = ' '\n",
        "\n",
        "    for i in range(9, n, 27):\n",
        "        for j in range(9, n, 27):\n",
        "            for ki in range(9):\n",
        "                for kj in range(9):\n",
        "                    star[i+ki][j+kj] = ' '"
      ],
      "metadata": {
        "id": "iXYoACJRvqRT"
      },
      "execution_count": 270,
      "outputs": []
    },
    {
      "cell_type": "code",
      "source": [
        "#recursion\n",
        "def draw_star(num, n):\n",
        "    if n == 1:\n",
        "        return\n",
        "    else:\n",
        "        for i in range(n//3, num, n):\n",
        "            for j in range(n//3, num, n):\n",
        "                for ki in range(n//3):\n",
        "                    for kj in range(n//3):\n",
        "                        star[i+ki][j+kj] = ' '\n",
        "        draw_star(num, n//3)"
      ],
      "metadata": {
        "id": "Y7kudXfLxdS_"
      },
      "execution_count": 275,
      "outputs": []
    },
    {
      "cell_type": "code",
      "source": [
        "num = int(input())\n",
        "\n",
        "star = [['*' for _ in range(num)] for _ in range(num)]\n",
        "\n",
        "draw_star(num, num)\n",
        "\n",
        "for i in star:\n",
        "    print(*i, sep='')"
      ],
      "metadata": {
        "colab": {
          "base_uri": "https://localhost:8080/"
        },
        "id": "8ql_ZKKtqd_g",
        "outputId": "c9589e3f-d08b-4e48-a621-2cbb323c77da"
      },
      "execution_count": 276,
      "outputs": [
        {
          "output_type": "stream",
          "name": "stdout",
          "text": [
            "27\n",
            "***************************\n",
            "* ** ** ** ** ** ** ** ** *\n",
            "***************************\n",
            "***   ******   ******   ***\n",
            "* *   * ** *   * ** *   * *\n",
            "***   ******   ******   ***\n",
            "***************************\n",
            "* ** ** ** ** ** ** ** ** *\n",
            "***************************\n",
            "*********         *********\n",
            "* ** ** *         * ** ** *\n",
            "*********         *********\n",
            "***   ***         ***   ***\n",
            "* *   * *         * *   * *\n",
            "***   ***         ***   ***\n",
            "*********         *********\n",
            "* ** ** *         * ** ** *\n",
            "*********         *********\n",
            "***************************\n",
            "* ** ** ** ** ** ** ** ** *\n",
            "***************************\n",
            "***   ******   ******   ***\n",
            "* *   * ** *   * ** *   * *\n",
            "***   ******   ******   ***\n",
            "***************************\n",
            "* ** ** ** ** ** ** ** ** *\n",
            "***************************\n"
          ]
        }
      ]
    },
    {
      "cell_type": "markdown",
      "source": [
        "-----------\n",
        "- 다른 사람 코드 <br>\n",
        "[참고] https://www.acmicpc.net/source/54025456"
      ],
      "metadata": {
        "id": "rohFKh8745tc"
      }
    },
    {
      "cell_type": "code",
      "source": [
        "n = int(input())\n",
        "\n",
        "def star(n): #n=9일 때 예시\n",
        "  if n == 3:\n",
        "    return ['***','* *','***']\n",
        "  arr = star(n//3)\n",
        "\n",
        "  stars = []\n",
        "  for i in arr:\n",
        "    stars.append(i*3) #['*********', '* ** ** *', '*********']\n",
        "  for i in arr:\n",
        "    stars.append(i + \" \"*(n//3) + i) #['***   ***', '* *   * *', '***   ***']\n",
        "  for i in arr:\n",
        "    stars.append(i*3) #['*********', '* ** ** *', '*********']\n",
        "  return stars\n",
        "\n",
        "print('\\n'.join(star(n))) #array의 원소들 join"
      ],
      "metadata": {
        "colab": {
          "base_uri": "https://localhost:8080/"
        },
        "id": "uKdLnEYV47Hy",
        "outputId": "2fbbb507-1778-478d-fa62-7e3f5f7f946f"
      },
      "execution_count": 296,
      "outputs": [
        {
          "output_type": "stream",
          "name": "stdout",
          "text": [
            "9\n",
            "*********\n",
            "* ** ** *\n",
            "*********\n",
            "***   ***\n",
            "* *   * *\n",
            "***   ***\n",
            "*********\n",
            "* ** ** *\n",
            "*********\n"
          ]
        }
      ]
    },
    {
      "cell_type": "markdown",
      "source": [
        "### 6) #11729 하노이 탑 이동 순서"
      ],
      "metadata": {
        "id": "xtaPZFRcvaK7"
      }
    },
    {
      "cell_type": "markdown",
      "source": [
        "- A에 있는 제일 밑의 원판을 제외한 n-1개의 원판을 B로 옮김\n",
        "- A의 제일 밑의 원판을 C로 옮김\n",
        "- B에 있던 n-1개의 원판을 C로 옮김\n",
        "<br><br>\n",
        "- 3개 예시)\n",
        "    - 1 원판을 A->C\n",
        "    - 2 원판을 A->B\n",
        "    - 1 원판을 C->B\n",
        "    - 3 원판을 A->C\n",
        "    - 1 원판을 B->A\n",
        "    - 2 원판을 B->C\n",
        "    - 1 원판을 A->C\n",
        "<br><br>\n",
        "- list를 만들어서 이동하려고 했으나 실제로 구현할 필요가 없음"
      ],
      "metadata": {
        "id": "qroIG--y9R8E"
      }
    },
    {
      "cell_type": "code",
      "source": [
        "def hanoi(n, start, tmp, end):\n",
        "    hanoi.counter += 1\n",
        "    if n == 1:\n",
        "        move(1, start, end)\n",
        "        return\n",
        "    else:\n",
        "        hanoi(n-1, start, end, tmp)\n",
        "        move(n, start, end)\n",
        "        hanoi(n-1, tmp, start, end)\n",
        "\n",
        "def move(n, start, end):\n",
        "    #print('{}번 원반을 {}에서 {}으로 이동'.format(n, start, end))\n",
        "    result.append(str(start) + ' ' + str(end))"
      ],
      "metadata": {
        "id": "tjV1Ej_6vd_C"
      },
      "execution_count": 370,
      "outputs": []
    },
    {
      "cell_type": "code",
      "source": [
        "def hanoi(n, start, tmp, end):\n",
        "    hanoi.counter += 1\n",
        "    if n == 1:\n",
        "        result.append(str(start) + ' ' + str(end))\n",
        "        return\n",
        "    else:\n",
        "        hanoi(n-1, start, end, tmp)\n",
        "        result.append(str(start) + ' ' + str(end))\n",
        "        hanoi(n-1, tmp, start, end)"
      ],
      "metadata": {
        "id": "Hngvi85QTGMD"
      },
      "execution_count": 377,
      "outputs": []
    },
    {
      "cell_type": "code",
      "source": [
        "n = int(input())\n",
        "\n",
        "hanoi.counter = 0\n",
        "result = []\n",
        "\n",
        "hanoi(n, \"1\", \"2\", \"3\")\n",
        "print(hanoi.counter)\n",
        "\n",
        "print(*result, sep='\\n')"
      ],
      "metadata": {
        "colab": {
          "base_uri": "https://localhost:8080/"
        },
        "id": "Yu_vhrkK8pgb",
        "outputId": "dea05e6c-08ad-4552-b5d5-972d7b7dfc4b"
      },
      "execution_count": 379,
      "outputs": [
        {
          "output_type": "stream",
          "name": "stdout",
          "text": [
            "3\n",
            "7\n",
            "1 3\n",
            "1 2\n",
            "3 2\n",
            "1 3\n",
            "2 1\n",
            "2 3\n",
            "1 3\n"
          ]
        }
      ]
    }
  ]
}