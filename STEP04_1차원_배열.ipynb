{
  "nbformat": 4,
  "nbformat_minor": 0,
  "metadata": {
    "colab": {
      "provenance": [],
      "authorship_tag": "ABX9TyOiAlBSVMhlJUnLnSP01lWH",
      "include_colab_link": true
    },
    "kernelspec": {
      "name": "python3",
      "display_name": "Python 3"
    },
    "language_info": {
      "name": "python"
    }
  },
  "cells": [
    {
      "cell_type": "markdown",
      "metadata": {
        "id": "view-in-github",
        "colab_type": "text"
      },
      "source": [
        "<a href=\"https://colab.research.google.com/github/kimhj010502/BAEKJOON/blob/main/STEP04_1%EC%B0%A8%EC%9B%90_%EB%B0%B0%EC%97%B4.ipynb\" target=\"_parent\"><img src=\"https://colab.research.google.com/assets/colab-badge.svg\" alt=\"Open In Colab\"/></a>"
      ]
    },
    {
      "cell_type": "markdown",
      "metadata": {
        "id": "TzSGa08QXuST"
      },
      "source": [
        "### 1) #10807 개수 세기"
      ]
    },
    {
      "cell_type": "code",
      "source": [
        "n = int(input())\n",
        "num_list = input().split()\n",
        "v = int(input())\n",
        "result = 0\n",
        "\n",
        "for i in range(n):\n",
        "    if int(num_list[i]) == v:\n",
        "        result += 1\n",
        "print(result)"
      ],
      "metadata": {
        "colab": {
          "base_uri": "https://localhost:8080/"
        },
        "id": "L6hPsRP7LMUC",
        "outputId": "998ddc01-fdd6-4a5d-d262-348446dd9702"
      },
      "execution_count": 4,
      "outputs": [
        {
          "output_type": "stream",
          "name": "stdout",
          "text": [
            "11\n",
            "1 4 1 2 4 2 4 2 3 4 4\n",
            "5\n",
            "0\n"
          ]
        }
      ]
    },
    {
      "cell_type": "markdown",
      "metadata": {
        "id": "kJxFfY8yqwbo"
      },
      "source": [
        "### 2) #10871 X보다 작은 수"
      ]
    },
    {
      "cell_type": "code",
      "source": [
        "n, x = map(int, input().split())\n",
        "a = input().split()\n",
        "\n",
        "for i in range(n):\n",
        "    if int(a[i]) < x:\n",
        "        print(int(a[i]), end=' ')"
      ],
      "metadata": {
        "colab": {
          "base_uri": "https://localhost:8080/"
        },
        "id": "2jYpvUNTLM4I",
        "outputId": "5b26ee9b-0a97-493d-819f-a437b07615eb"
      },
      "execution_count": 6,
      "outputs": [
        {
          "output_type": "stream",
          "name": "stdout",
          "text": [
            "10 5\n",
            "1 10 4 9 2 3 8 5 7 6\n",
            "1 4 2 3 "
          ]
        }
      ]
    },
    {
      "cell_type": "markdown",
      "metadata": {
        "id": "vtqdTWTfqwmt"
      },
      "source": [
        "### 3) #10818 최소, 최대"
      ]
    },
    {
      "cell_type": "code",
      "source": [
        "n = int(input())\n",
        "number = list(map(int, input().split()))\n",
        "\n",
        "print(min(number), end=' ')\n",
        "print(max(number), end='')"
      ],
      "metadata": {
        "colab": {
          "base_uri": "https://localhost:8080/"
        },
        "id": "NTHZgWdZLNcO",
        "outputId": "437ce3e9-4a3b-4321-bac8-9a9873996b64"
      },
      "execution_count": 13,
      "outputs": [
        {
          "output_type": "stream",
          "name": "stdout",
          "text": [
            "5\n",
            "20 10 35 30 7\n",
            "7 35"
          ]
        }
      ]
    },
    {
      "cell_type": "markdown",
      "metadata": {
        "id": "etxsh-qiqwsO"
      },
      "source": [
        "### 4) #2562 최댓값"
      ]
    },
    {
      "cell_type": "code",
      "source": [
        "num_list = []\n",
        "\n",
        "for i in range(9):\n",
        "    num = int(input())\n",
        "    num_list.append(num)\n",
        "print(max(num_list)) #최댓값\n",
        "print(num_list.index(max(num_list)) + 1) #최댓값 인덱스"
      ],
      "metadata": {
        "colab": {
          "base_uri": "https://localhost:8080/"
        },
        "id": "49ENBCWgLXM7",
        "outputId": "75fb052e-2a50-47f2-8bb0-f669459fdd6f"
      },
      "execution_count": 10,
      "outputs": [
        {
          "output_type": "stream",
          "name": "stdout",
          "text": [
            "3\n",
            "29\n",
            "38\n",
            "12\n",
            "57\n",
            "74\n",
            "40\n",
            "85\n",
            "61\n",
            "85\n",
            "8\n"
          ]
        }
      ]
    },
    {
      "cell_type": "markdown",
      "metadata": {
        "id": "LfHE-1vuC4_v"
      },
      "source": [
        "### 5) #5597 과제 안 내신 분..?"
      ]
    },
    {
      "cell_type": "code",
      "source": [
        "student_list = []\n",
        "\n",
        "for i in range(28):\n",
        "    student_list.append(int(input()))\n",
        "\n",
        "for i in range(1,31):\n",
        "    if i not in student_list:\n",
        "        print(i)"
      ],
      "metadata": {
        "colab": {
          "base_uri": "https://localhost:8080/"
        },
        "id": "fPjuwWKfLX7N",
        "outputId": "657c512b-9bda-4c10-d619-4470b1713972"
      },
      "execution_count": 16,
      "outputs": [
        {
          "output_type": "stream",
          "name": "stdout",
          "text": [
            "9\n",
            "30\n",
            "6\n",
            "12\n",
            "10\n",
            "20\n",
            "21\n",
            "11\n",
            "7\n",
            "5\n",
            "28\n",
            "4\n",
            "18\n",
            "29\n",
            "17\n",
            "19\n",
            "27\n",
            "13\n",
            "16\n",
            "26\n",
            "14\n",
            "23\n",
            "22\n",
            "15\n",
            "3\n",
            "1\n",
            "24\n",
            "25\n",
            "2\n",
            "8\n"
          ]
        }
      ]
    },
    {
      "cell_type": "markdown",
      "metadata": {
        "id": "Q8hNZVhap3De"
      },
      "source": [
        "### 6) #3052 나머지"
      ]
    },
    {
      "cell_type": "code",
      "source": [],
      "metadata": {
        "id": "udS-NhAPLbU8"
      },
      "execution_count": null,
      "outputs": []
    },
    {
      "cell_type": "markdown",
      "metadata": {
        "id": "OkdDIHXyp3De"
      },
      "source": [
        "### 7) #1546 평균"
      ]
    },
    {
      "cell_type": "code",
      "source": [],
      "metadata": {
        "id": "6pvIPt9ULbxT"
      },
      "execution_count": null,
      "outputs": []
    },
    {
      "cell_type": "markdown",
      "metadata": {
        "id": "jB-tj3EWIwYL"
      },
      "source": [
        "### 8) #8958 OX퀴즈"
      ]
    },
    {
      "cell_type": "code",
      "source": [],
      "metadata": {
        "id": "HyqIQs1mLcdH"
      },
      "execution_count": null,
      "outputs": []
    },
    {
      "cell_type": "markdown",
      "metadata": {
        "id": "Buc5oRfjIyqz"
      },
      "source": [
        "### 9) #4344 평균은 넘겠지"
      ]
    },
    {
      "cell_type": "code",
      "source": [],
      "metadata": {
        "id": "avOvA6VfLdAZ"
      },
      "execution_count": null,
      "outputs": []
    }
  ]
}