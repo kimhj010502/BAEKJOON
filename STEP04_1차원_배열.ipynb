{
  "nbformat": 4,
  "nbformat_minor": 0,
  "metadata": {
    "colab": {
      "provenance": [],
      "authorship_tag": "ABX9TyNdmT+EaaPHrI34Iu/PLByR",
      "include_colab_link": true
    },
    "kernelspec": {
      "name": "python3",
      "display_name": "Python 3"
    },
    "language_info": {
      "name": "python"
    }
  },
  "cells": [
    {
      "cell_type": "markdown",
      "metadata": {
        "id": "view-in-github",
        "colab_type": "text"
      },
      "source": [
        "<a href=\"https://colab.research.google.com/github/kimhj010502/BAEKJOON/blob/main/STEP04_1%EC%B0%A8%EC%9B%90_%EB%B0%B0%EC%97%B4.ipynb\" target=\"_parent\"><img src=\"https://colab.research.google.com/assets/colab-badge.svg\" alt=\"Open In Colab\"/></a>"
      ]
    },
    {
      "cell_type": "markdown",
      "metadata": {
        "id": "TzSGa08QXuST"
      },
      "source": [
        "### #10807 개수 세기"
      ]
    },
    {
      "cell_type": "code",
      "source": [
        "n = int(input())\n",
        "num_list = input().split()\n",
        "v = int(input())\n",
        "result = 0\n",
        "\n",
        "for i in range(n):\n",
        "    if int(num_list[i]) == v:\n",
        "        result += 1\n",
        "print(result)"
      ],
      "metadata": {
        "colab": {
          "base_uri": "https://localhost:8080/"
        },
        "id": "L6hPsRP7LMUC",
        "outputId": "998ddc01-fdd6-4a5d-d262-348446dd9702"
      },
      "execution_count": null,
      "outputs": [
        {
          "output_type": "stream",
          "name": "stdout",
          "text": [
            "11\n",
            "1 4 1 2 4 2 4 2 3 4 4\n",
            "5\n",
            "0\n"
          ]
        }
      ]
    },
    {
      "cell_type": "markdown",
      "metadata": {
        "id": "kJxFfY8yqwbo"
      },
      "source": [
        "### #10871 X보다 작은 수"
      ]
    },
    {
      "cell_type": "code",
      "source": [
        "n, x = map(int, input().split())\n",
        "a = input().split()\n",
        "\n",
        "for i in range(n):\n",
        "    if int(a[i]) < x:\n",
        "        print(int(a[i]), end=' ')"
      ],
      "metadata": {
        "colab": {
          "base_uri": "https://localhost:8080/"
        },
        "id": "2jYpvUNTLM4I",
        "outputId": "5b26ee9b-0a97-493d-819f-a437b07615eb"
      },
      "execution_count": null,
      "outputs": [
        {
          "output_type": "stream",
          "name": "stdout",
          "text": [
            "10 5\n",
            "1 10 4 9 2 3 8 5 7 6\n",
            "1 4 2 3 "
          ]
        }
      ]
    },
    {
      "cell_type": "markdown",
      "metadata": {
        "id": "vtqdTWTfqwmt"
      },
      "source": [
        "### #10818 최소, 최대"
      ]
    },
    {
      "cell_type": "code",
      "source": [
        "n = int(input())\n",
        "number = list(map(int, input().split()))\n",
        "\n",
        "print(min(number), end=' ')\n",
        "print(max(number), end='')"
      ],
      "metadata": {
        "colab": {
          "base_uri": "https://localhost:8080/"
        },
        "id": "NTHZgWdZLNcO",
        "outputId": "437ce3e9-4a3b-4321-bac8-9a9873996b64"
      },
      "execution_count": null,
      "outputs": [
        {
          "output_type": "stream",
          "name": "stdout",
          "text": [
            "5\n",
            "20 10 35 30 7\n",
            "7 35"
          ]
        }
      ]
    },
    {
      "cell_type": "markdown",
      "metadata": {
        "id": "etxsh-qiqwsO"
      },
      "source": [
        "### #2562 최댓값"
      ]
    },
    {
      "cell_type": "code",
      "source": [
        "num_list = []\n",
        "\n",
        "for i in range(9):\n",
        "    num = int(input())\n",
        "    num_list.append(num)\n",
        "print(max(num_list)) #최댓값\n",
        "print(num_list.index(max(num_list)) + 1) #최댓값 인덱스"
      ],
      "metadata": {
        "colab": {
          "base_uri": "https://localhost:8080/"
        },
        "id": "49ENBCWgLXM7",
        "outputId": "75fb052e-2a50-47f2-8bb0-f669459fdd6f"
      },
      "execution_count": null,
      "outputs": [
        {
          "output_type": "stream",
          "name": "stdout",
          "text": [
            "3\n",
            "29\n",
            "38\n",
            "12\n",
            "57\n",
            "74\n",
            "40\n",
            "85\n",
            "61\n",
            "85\n",
            "8\n"
          ]
        }
      ]
    },
    {
      "cell_type": "markdown",
      "source": [
        "### #10810 공 넣기"
      ],
      "metadata": {
        "id": "S9iZArzA5-6S"
      }
    },
    {
      "cell_type": "code",
      "source": [
        "n, m = map(int, input().split())\n",
        "\n",
        "ball = [0] * n\n",
        "\n",
        "for i in range(m):\n",
        "    i, j, k = map(int, input().split())\n",
        "    for num in range(i, j+1):\n",
        "        ball[num-1] = k\n",
        "\n",
        "print(*ball, sep=' ')"
      ],
      "metadata": {
        "colab": {
          "base_uri": "https://localhost:8080/"
        },
        "id": "itOg7r9e6Cxp",
        "outputId": "38daf0ef-d33a-4f11-f3c0-95e75bb3ff61"
      },
      "execution_count": 3,
      "outputs": [
        {
          "output_type": "stream",
          "name": "stdout",
          "text": [
            "5 4\n",
            "1 2 3\n",
            "3 4 4\n",
            "1 4 1\n",
            "2 2 2\n",
            "1 2 1 1 0\n"
          ]
        }
      ]
    },
    {
      "cell_type": "markdown",
      "source": [
        "### #10813 공 바꾸기"
      ],
      "metadata": {
        "id": "4CFoY7mL6DHL"
      }
    },
    {
      "cell_type": "code",
      "source": [
        "n, m = map(int, input().split())\n",
        "\n",
        "ball = [(i+1) for i in range(n)]\n",
        "\n",
        "for i in range(m):\n",
        "    i, j = map(int, input().split())\n",
        "    tmp = ball[i-1]\n",
        "    ball[i-1] = ball[j-1]\n",
        "    ball[j-1] = tmp\n",
        "\n",
        "print(*ball, sep=' ')"
      ],
      "metadata": {
        "colab": {
          "base_uri": "https://localhost:8080/"
        },
        "id": "T8Cpx4p06GHY",
        "outputId": "8de3f6dd-b3f3-4a36-dff4-ed79dfe3b03f"
      },
      "execution_count": 4,
      "outputs": [
        {
          "output_type": "stream",
          "name": "stdout",
          "text": [
            "5 4\n",
            "1 2\n",
            "3 4\n",
            "1 4\n",
            "2 2\n",
            "3 1 4 2 5\n"
          ]
        }
      ]
    },
    {
      "cell_type": "markdown",
      "metadata": {
        "id": "LfHE-1vuC4_v"
      },
      "source": [
        "### #5597 과제 안 내신 분..?"
      ]
    },
    {
      "cell_type": "code",
      "source": [
        "student_list = []\n",
        "\n",
        "for i in range(28):\n",
        "    student_list.append(int(input()))\n",
        "\n",
        "for i in range(1,31):\n",
        "    if i not in student_list:\n",
        "        print(i)"
      ],
      "metadata": {
        "colab": {
          "base_uri": "https://localhost:8080/"
        },
        "id": "fPjuwWKfLX7N",
        "outputId": "657c512b-9bda-4c10-d619-4470b1713972"
      },
      "execution_count": null,
      "outputs": [
        {
          "output_type": "stream",
          "name": "stdout",
          "text": [
            "9\n",
            "30\n",
            "6\n",
            "12\n",
            "10\n",
            "20\n",
            "21\n",
            "11\n",
            "7\n",
            "5\n",
            "28\n",
            "4\n",
            "18\n",
            "29\n",
            "17\n",
            "19\n",
            "27\n",
            "13\n",
            "16\n",
            "26\n",
            "14\n",
            "23\n",
            "22\n",
            "15\n",
            "3\n",
            "1\n",
            "24\n",
            "25\n",
            "2\n",
            "8\n"
          ]
        }
      ]
    },
    {
      "cell_type": "markdown",
      "metadata": {
        "id": "Q8hNZVhap3De"
      },
      "source": [
        "### #3052 나머지"
      ]
    },
    {
      "cell_type": "code",
      "source": [
        "remainder_list = []\n",
        "for i in range(10):\n",
        "    num = int(input())\n",
        "    remainder_list.append(num % 42)\n",
        "print(len(set(remainder_list)))"
      ],
      "metadata": {
        "id": "udS-NhAPLbU8",
        "colab": {
          "base_uri": "https://localhost:8080/"
        },
        "outputId": "ddf14e52-e960-48cf-d679-60f7f4c1a37d"
      },
      "execution_count": null,
      "outputs": [
        {
          "output_type": "stream",
          "name": "stdout",
          "text": [
            "39\n",
            "40\n",
            "41\n",
            "42\n",
            "43\n",
            "44\n",
            "82\n",
            "83\n",
            "84\n",
            "85\n",
            "6\n"
          ]
        }
      ]
    },
    {
      "cell_type": "markdown",
      "source": [
        "### #10811 바구니 뒤집기"
      ],
      "metadata": {
        "id": "exQq1L0l6JYx"
      }
    },
    {
      "cell_type": "code",
      "source": [
        "n, m = map(int, input().split())\n",
        "\n",
        "basket = [(i+1) for i in range(n)]\n",
        "\n",
        "for i in range(m):\n",
        "    i, j = map(int, input().split())\n",
        "    basket[i-1:j] = basket[i-1:j][::-1]\n",
        "\n",
        "print(*basket, sep=' ')"
      ],
      "metadata": {
        "colab": {
          "base_uri": "https://localhost:8080/"
        },
        "id": "wa0oqj6d6LxO",
        "outputId": "f49e6ba0-52c9-40ee-eca1-5e1b42af358a"
      },
      "execution_count": 11,
      "outputs": [
        {
          "output_type": "stream",
          "name": "stdout",
          "text": [
            "5 4\n",
            "1 2\n",
            "3 4\n",
            "1 4\n",
            "2 2\n",
            "3 4 1 2 5\n"
          ]
        }
      ]
    },
    {
      "cell_type": "markdown",
      "metadata": {
        "id": "OkdDIHXyp3De"
      },
      "source": [
        "### #1546 평균"
      ]
    },
    {
      "cell_type": "code",
      "source": [
        "import statistics\n",
        "\n",
        "n = int(input())\n",
        "score_list = list(map(int, input().split()))\n",
        "new_score_list = []\n",
        "max_score = max(score_list)\n",
        "\n",
        "for i in range(n):\n",
        "    new_score_list.append(score_list[i] / max_score * 100)\n",
        "print(statistics.mean(new_score_list))"
      ],
      "metadata": {
        "id": "6pvIPt9ULbxT",
        "colab": {
          "base_uri": "https://localhost:8080/"
        },
        "outputId": "6df00452-7ea3-46bc-e1e8-f49f9b0763bc"
      },
      "execution_count": null,
      "outputs": [
        {
          "output_type": "stream",
          "name": "stdout",
          "text": [
            "9\n",
            "10 20 30 40 50 60 70 80 90\n",
            "55.55555555555556\n"
          ]
        }
      ]
    },
    {
      "cell_type": "markdown",
      "metadata": {
        "id": "jB-tj3EWIwYL"
      },
      "source": [
        "### #8958 OX퀴즈"
      ]
    },
    {
      "cell_type": "code",
      "source": [
        "t = int(input())\n",
        "\n",
        "for i in range(t):\n",
        "    result = input() #퀴즈 결과 입력받음\n",
        "    total_score = 0 #퀴즈 총 점수\n",
        "    score = 0 #문제별 점수 초기화\n",
        "\n",
        "    for j in range(len(result)): #퀴즈 문제 개수\n",
        "        if result[j] == 'O': #문제를 맞춘 경우\n",
        "            score += 1 #문제 점수 1씩 증가\n",
        "        else: #문제를 틀린 경우\n",
        "            score = 0 #해당 문제 점수 없음\n",
        "        total_score += score #점수를 총점에 반영\n",
        "\n",
        "    print(total_score) #for문 나와서 total_score 출력"
      ],
      "metadata": {
        "id": "HyqIQs1mLcdH",
        "colab": {
          "base_uri": "https://localhost:8080/"
        },
        "outputId": "e45898d6-b16b-426b-9860-d4e06285da69"
      },
      "execution_count": null,
      "outputs": [
        {
          "output_type": "stream",
          "name": "stdout",
          "text": [
            "5\n",
            "OOXXOXXOOO\n",
            "10\n",
            "OOXXOOXXOO\n",
            "9\n",
            "OXOXOXOXOXOXOX\n",
            "7\n",
            "OOOOOOOOOO\n",
            "55\n",
            "OOOOXOOOOXOOOOX\n",
            "30\n"
          ]
        }
      ]
    },
    {
      "cell_type": "markdown",
      "metadata": {
        "id": "Buc5oRfjIyqz"
      },
      "source": [
        "### #4344 평균은 넘겠지"
      ]
    },
    {
      "cell_type": "code",
      "source": [
        "import statistics\n",
        "\n",
        "c = int(input())\n",
        "\n",
        "for i in range(c):\n",
        "    score_list = list(map(int, input().split()))\n",
        "    n = score_list[0]\n",
        "    del score_list[0]\n",
        "    score_mean = statistics.mean(score_list)\n",
        "    over_num = len([ i for i in score_list if i > score_mean])\n",
        "    print('{0:.3f}%'.format(over_num / n * 100))"
      ],
      "metadata": {
        "id": "avOvA6VfLdAZ",
        "colab": {
          "base_uri": "https://localhost:8080/"
        },
        "outputId": "44002b5d-e6b6-4091-e13e-f79b449dccb2"
      },
      "execution_count": null,
      "outputs": [
        {
          "output_type": "stream",
          "name": "stdout",
          "text": [
            "5\n",
            "5 50 50 70 80 100\n",
            "40.000%\n",
            "7 100 95 90 80 70 60 50\n",
            "57.143%\n",
            "3 70 90 80\n",
            "33.333%\n",
            "3 70 90 81\n",
            "66.667%\n",
            "9 100 99 98 97 96 95 94 93 91\n",
            "55.556%\n"
          ]
        }
      ]
    }
  ]
}