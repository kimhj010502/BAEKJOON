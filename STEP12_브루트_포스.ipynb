{
  "nbformat": 4,
  "nbformat_minor": 0,
  "metadata": {
    "colab": {
      "provenance": [],
      "authorship_tag": "ABX9TyOLtQ3ykdtsA/tZ2toLq3jl",
      "include_colab_link": true
    },
    "kernelspec": {
      "name": "python3",
      "display_name": "Python 3"
    },
    "language_info": {
      "name": "python"
    }
  },
  "cells": [
    {
      "cell_type": "markdown",
      "metadata": {
        "id": "view-in-github",
        "colab_type": "text"
      },
      "source": [
        "<a href=\"https://colab.research.google.com/github/kimhj010502/BAEKJOON/blob/main/STEP12_%EB%B8%8C%EB%A3%A8%ED%8A%B8_%ED%8F%AC%EC%8A%A4.ipynb\" target=\"_parent\"><img src=\"https://colab.research.google.com/assets/colab-badge.svg\" alt=\"Open In Colab\"/></a>"
      ]
    },
    {
      "cell_type": "markdown",
      "source": [
        "## [Brute Force 알고리즘]\n",
        "- T: 원본 문자열 / P: 찾고자 하는 문자열 패턴\n",
        "    1. T, P 모두 첫 문자부터 비교를 시작하므로 검색 인덱스를 맨 처음 인덱스로 설정함\n",
        "    2. 각각의 검색 인덱스부터 하나씩 문자를 비교함\n",
        "        (1) 비교 문자가 같으면 T, P의 인덱스 모두 뒤로 한 칸씩 이동함\n",
        "        (2) 비교 문자가 다르면 T의 인덱스는 한 칸 뒤로 이동하고, P의 인덱스는 맨 처음 인덱스로 돌아감\n",
        "    3. 다시 2번 과정부터 검색이 끝날 때까지 반복함\n",
        "- 코드\n",
        "``` python\n",
        "def BruteForce(p, t):\n",
        "    i = 0 #t의 검색 인덱스\n",
        "    j = 0 #p의 검색 인덱스\n",
        "    while i < len(t) and j < len(p):\n",
        "        if t[i] != p[j]:\n",
        "            i = i - j\n",
        "            j = -1\n",
        "        i += 1\n",
        "        j += 1\n",
        "    if j == len(p):\n",
        "        return i - len(p)\n",
        "    else:\n",
        "        return -1\n",
        "pattern = 'Python'\n",
        "text = 'Hello Python World'\n",
        "print(BruteForce(pattern, text))\n",
        "```"
      ],
      "metadata": {
        "id": "rqR43B68jF83"
      }
    },
    {
      "cell_type": "markdown",
      "metadata": {
        "id": "TzSGa08QXuST"
      },
      "source": [
        "### 1) #2798 블랙잭"
      ]
    },
    {
      "cell_type": "markdown",
      "source": [
        "- `list(permutations(num_list, 3))`: num_list에 있는 수에서 3개를 뽑아 조합해서 만든 리스트가 모두 담긴 2차원 배열"
      ],
      "metadata": {
        "id": "QAcLamhZOQ2G"
      }
    },
    {
      "cell_type": "code",
      "source": [
        "from itertools import permutations\n",
        "\n",
        "n, m = map(int, input().split())\n",
        "num_list = list(map(int, input().split()))\n",
        "result = 0\n",
        "\n",
        "sum_list = list(set(map(sum, list(permutations(num_list, 3)))))\n",
        "sum_list.sort()\n",
        "\n",
        "for i in range(len(sum_list)-1):\n",
        "    if (sum_list[i] <= m) & (sum_list[i+1] > m):\n",
        "        result = sum_list[i]\n",
        "        break\n",
        "\n",
        "if result == 0:\n",
        "    result = sum_list[len(sum_list)-1]\n",
        "\n",
        "print(result)"
      ],
      "metadata": {
        "colab": {
          "base_uri": "https://localhost:8080/"
        },
        "id": "JVd8wYlnI-1K",
        "outputId": "3a678517-bcc0-4814-f27e-691d4305c282"
      },
      "execution_count": null,
      "outputs": [
        {
          "output_type": "stream",
          "name": "stdout",
          "text": [
            "4 300000\n",
            "1 1 1 99999\n",
            "100001\n"
          ]
        }
      ]
    },
    {
      "cell_type": "markdown",
      "source": [
        "### 2) #2231 분해합"
      ],
      "metadata": {
        "id": "lMvwv3oKI_AR"
      }
    },
    {
      "cell_type": "markdown",
      "source": [
        "- 예를 들어 216의 경우 생성자는 216 - 2 - 9 - 9보다 무조건 크거나 같음\n",
        "- 따라서, 반복문의 범위를 `range(n, n - n//(10**(size-1)) - 9*(size-1)-1, -1)`로 지정하여 이 부분만 탐색하도록 함"
      ],
      "metadata": {
        "id": "gv2oOIsTQ_yV"
      }
    },
    {
      "cell_type": "code",
      "source": [
        "n = input()\n",
        "size = len(n)\n",
        "n = int(n)\n",
        "\n",
        "result = []\n",
        "\n",
        "for i in range(n, n - n//(10**(size-1)) - 9*(size-1)-1, -1):\n",
        "    #print(i)\n",
        "    i_list = list(map(int, str(i)))\n",
        "    #print('i_list: {}'.format(i_list))\n",
        "    sum_num = i\n",
        "    for j in i_list:\n",
        "        sum_num += j\n",
        "    #print('sum_num: {}'.format(sum_num))\n",
        "    if sum_num == n:\n",
        "        result.append(i)\n",
        "\n",
        "if len(result) == 0:\n",
        "    print(0)\n",
        "else:\n",
        "    print(result[-1])"
      ],
      "metadata": {
        "colab": {
          "base_uri": "https://localhost:8080/"
        },
        "id": "SgUgF6PVJBSE",
        "outputId": "fdc66e24-add8-4d39-8c2b-50674033c590"
      },
      "execution_count": null,
      "outputs": [
        {
          "output_type": "stream",
          "name": "stdout",
          "text": [
            "216\n",
            "198\n"
          ]
        }
      ]
    },
    {
      "cell_type": "markdown",
      "source": [
        "### 3) #7568 덩치"
      ],
      "metadata": {
        "id": "zdZ1buzxJBdr"
      }
    },
    {
      "cell_type": "code",
      "source": [
        "n = int(input())\n",
        "people_list = [list(map(int, input().split())) for _ in range(n)]\n",
        "\n",
        "for i in range(n):\n",
        "    result = 1\n",
        "    for j in [k for k in range(n) if k != i]:\n",
        "        if (people_list[i][0] < people_list[j][0]) & (people_list[i][1] < people_list[j][1]):\n",
        "            result += 1\n",
        "    print(result, end=' ')"
      ],
      "metadata": {
        "colab": {
          "base_uri": "https://localhost:8080/"
        },
        "id": "Qi74TaYQJEp6",
        "outputId": "894c5f37-c373-4935-f395-d3624a31e08a"
      },
      "execution_count": null,
      "outputs": [
        {
          "output_type": "stream",
          "name": "stdout",
          "text": [
            "5\n",
            "55 185\n",
            "58 183\n",
            "88 186\n",
            "60 175\n",
            "46 155\n",
            "2 2 1 2 5 "
          ]
        }
      ]
    },
    {
      "cell_type": "markdown",
      "source": [
        "- 시간 초과 방지"
      ],
      "metadata": {
        "id": "nkbBhvoGXb0R"
      }
    },
    {
      "cell_type": "code",
      "source": [
        "import sys\n",
        "\n",
        "n = int(input())\n",
        "people_list = [list(map(int, sys.stdin.readline().rstrip().split())) for _ in range(n)]\n",
        "\n",
        "for i in range(n):\n",
        "    result = 1\n",
        "    for j in [k for k in range(n) if k != i]:\n",
        "        if (people_list[i][0] < people_list[j][0]) & (people_list[i][1] < people_list[j][1]):\n",
        "            result += 1\n",
        "    print(result, end=' ')"
      ],
      "metadata": {
        "id": "pEZkSFctXdMC"
      },
      "execution_count": null,
      "outputs": []
    },
    {
      "cell_type": "markdown",
      "source": [
        "### 4) #1018 체스판 다시 칠하기"
      ],
      "metadata": {
        "id": "-UkIKAtaJE13"
      }
    },
    {
      "cell_type": "markdown",
      "source": [
        "- 8 x 8로 먼저 자르기 \n",
        "    - 기준 1) B 개수와 W 개수 차이가 가장 적은 곳 (X)\n",
        "    - 기준 2) B와 W가 많이 변하는 곳 (O)\n",
        "- 기준 2에서 많이 변하는 곳을 찾으려고 2차원 배열을 1차원 배열로 바꾼 후 change를 비교했음\n",
        "- 하지만 가로 방향으로는 변하나 세로 방향으로 변하지 않는 것도 많은 것으로 인식됨\n",
        "- 따라서, row 방향과 col 방향 모두 change를 세서 평균으로 비교함"
      ],
      "metadata": {
        "id": "e6kmpX8ZFx41"
      }
    },
    {
      "cell_type": "code",
      "source": [
        "n, m = map(int, input().split())\n",
        "chess = [list(input()) for _ in range(n)]\n",
        "\n",
        "max_change_color = 0\n",
        "\n",
        "if (n != 8) | (m != 8): #8x8이 아닌 경우\n",
        "    for i in range(n-7):\n",
        "        for j in range(m-7):\n",
        "            chess_cut = [row[j:j+8] for row in chess[i:i+8]] #8x8로 자르기 (최적화된 곳 찾기)\n",
        "            #print(*chess_cut, sep='\\n')\n",
        "            chess_cut_list_row = sum(chess_cut, []) #1차원 배열로 만들기\n",
        "            chess_cut_list_col = sum(list(map(list, zip(*chess_cut))), []) #transpose한 뒤 1차원 배열로 만들기\n",
        "            change_row = 0; change_col = 0\n",
        "\n",
        "            for k in range(1,64):\n",
        "                if chess_cut_list_row[k-1] != chess_cut_list_row[k]:\n",
        "                    change_row += 1\n",
        "                if chess_cut_list_col[k-1] != chess_cut_list_col[k]:\n",
        "                    change_col += 1\n",
        "\n",
        "            change = (change_row + change_col)//2\n",
        "            if change >= max_change_color:\n",
        "                max_change_color = change\n",
        "                new_chess = chess_cut\n",
        "else: #8x8인 경우\n",
        "    max_change_color = -1\n",
        "    new_chess = chess\n",
        "#print(*new_chess, sep='\\n')\n",
        "\n",
        "if max_change_color == 63: #이미 완성된 체스판인 경우\n",
        "    print(0)\n",
        "elif max_change_color == 0: #다 똑같은 경우\n",
        "    print(32)\n",
        "else:\n",
        "    result1 = 0; result2 = 0\n",
        "    color_list = ['W', 'B']\n",
        "\n",
        "    for i in range(8):\n",
        "        for j in range(8):\n",
        "            if (i + j) % 2 == 0:\n",
        "                if new_chess[i][j] != color_list[0]:\n",
        "                    result1 += 1\n",
        "                if new_chess[i][j] != color_list[1]:\n",
        "                    result2 += 1\n",
        "            else:\n",
        "                if new_chess[i][j] != color_list[1]:\n",
        "                    result1 += 1\n",
        "                if new_chess[i][j] != color_list[0]:\n",
        "                    result2 += 1\n",
        "    #print('{}, {}'.format(result1, result2))\n",
        "    print(min(result1, result2))"
      ],
      "metadata": {
        "colab": {
          "base_uri": "https://localhost:8080/"
        },
        "id": "5tzQDOcGJzVP",
        "outputId": "8000d763-d7e8-4799-c03b-8b3ff2575512"
      },
      "execution_count": null,
      "outputs": [
        {
          "output_type": "stream",
          "name": "stdout",
          "text": [
            "9 9\n",
            "BBBBBBBBB\n",
            "WWWWWWWWW\n",
            "WWWWWWWWW\n",
            "WWWWWWWWW\n",
            "WWWWWWWWW\n",
            "WWWWWWWWW\n",
            "WWWWWWWWW\n",
            "BWWWWWWWW\n",
            "WWBWBWBWW\n",
            "31\n"
          ]
        }
      ]
    },
    {
      "cell_type": "markdown",
      "source": [
        "- 시간 초과 예방"
      ],
      "metadata": {
        "id": "7A67osaFXdn_"
      }
    },
    {
      "cell_type": "code",
      "source": [
        "import sys\n",
        "\n",
        "n, m = map(int, input().split())\n",
        "chess = [list(sys.stdin.readline().rstrip()) for _ in range(n)]\n",
        "\n",
        "max_change_color = 0\n",
        "\n",
        "if (n != 8) | (m != 8): #8x8이 아닌 경우\n",
        "    for i in range(n-7):\n",
        "        for j in range(m-7):\n",
        "            chess_cut = [row[j:j+8] for row in chess[i:i+8]] #8x8로 자르기 (최적화된 곳 찾기)\n",
        "            #print(*chess_cut, sep='\\n')\n",
        "            chess_cut_list_row = sum(chess_cut, []) #1차원 배열로 만들기\n",
        "            chess_cut_list_col = sum(list(map(list, zip(*chess_cut))), []) #transpose한 뒤 1차원 배열로 만들기\n",
        "            change_row = 0; change_col = 0\n",
        "\n",
        "            for k in range(1,64):\n",
        "                if chess_cut_list_row[k-1] != chess_cut_list_row[k]:\n",
        "                    change_row += 1\n",
        "                if chess_cut_list_col[k-1] != chess_cut_list_col[k]:\n",
        "                    change_col += 1\n",
        "\n",
        "            change = (change_row + change_col)//2\n",
        "            if change >= max_change_color:\n",
        "                max_change_color = change\n",
        "                new_chess = chess_cut\n",
        "else: #8x8인 경우\n",
        "    max_change_color = -1\n",
        "    new_chess = chess\n",
        "#print(*new_chess, sep='\\n')\n",
        "\n",
        "if max_change_color == 63: #이미 완성된 체스판인 경우\n",
        "    print(0)\n",
        "elif max_change_color == 0: #다 똑같은 경우\n",
        "    print(32)\n",
        "else:\n",
        "    result1 = 0; result2 = 0\n",
        "    color_list = ['W', 'B']\n",
        "\n",
        "    for i in range(8):\n",
        "        for j in range(8):\n",
        "            if (i + j) % 2 == 0:\n",
        "                if new_chess[i][j] != color_list[0]:\n",
        "                    result1 += 1\n",
        "                if new_chess[i][j] != color_list[1]:\n",
        "                    result2 += 1\n",
        "            else:\n",
        "                if new_chess[i][j] != color_list[1]:\n",
        "                    result1 += 1\n",
        "                if new_chess[i][j] != color_list[0]:\n",
        "                    result2 += 1\n",
        "    #print('{}, {}'.format(result1, result2))\n",
        "    print(min(result1, result2))"
      ],
      "metadata": {
        "id": "3-xbw7G5Xe1c"
      },
      "execution_count": null,
      "outputs": []
    },
    {
      "cell_type": "markdown",
      "source": [
        "---------\n",
        "- 틀림\n",
        "- change를 평균으로 비교하다보니 정확히 안된 부분이 있는 것 같음\n",
        "```\n",
        "반례)\n",
        "9 9\n",
        "BBBBBBBBB\n",
        "WWWWWWWWW\n",
        "WWWWWWWWW\n",
        "WWWWWWWWW\n",
        "WWWWWWWWW\n",
        "WWWWWWWWW\n",
        "WWWWWWWWW\n",
        "BWWWWWWWW\n",
        "WWBWBWBWW\n",
        "정답: 29, 출력: 31\n",
        "```"
      ],
      "metadata": {
        "id": "XPr4qOgWZPtU"
      }
    },
    {
      "cell_type": "code",
      "source": [
        "n, m = map(int, input().split())\n",
        "chess = [list(input()) for _ in range(n)]\n",
        "\n",
        "max_change_color_row = 0; max_change_color_col = 0\n",
        "\n",
        "if (n != 8) | (m != 8): #8x8이 아닌 경우\n",
        "    for i in range(n-7):\n",
        "        for j in range(m-7):\n",
        "            chess_cut = [row[j:j+8] for row in chess[i:i+8]] #8x8로 자르기 (최적화된 곳 찾기)\n",
        "            #print(*chess_cut, sep='\\n')\n",
        "            chess_cut_list_row = sum(chess_cut, []) #1차원 배열로 만들기\n",
        "            chess_cut_list_col = sum(list(map(list, zip(*chess_cut))), []) #transpose한 뒤 1차원 배열로 만들기\n",
        "            change_row = 0; change_col = 0\n",
        "\n",
        "            for k in range(1,64):\n",
        "                if chess_cut_list_row[k-1] != chess_cut_list_row[k]:\n",
        "                    change_row += 1\n",
        "                if chess_cut_list_col[k-1] != chess_cut_list_col[k]:\n",
        "                    change_col += 1\n",
        "\n",
        "            if change_row >= max_change_color_row:\n",
        "                max_change_color_row = change_row\n",
        "                new_chess1 = chess_cut\n",
        "            if change_col >= max_change_color_col:\n",
        "                max_change_color_col = change_col\n",
        "                new_chess2 = chess_cut\n",
        "\n",
        "else: #8x8인 경우\n",
        "    max_change_color_row = -1;\n",
        "    new_chess1 = chess\n",
        "#print(*new_chess, sep='\\n')\n",
        "\n",
        "if (max_change_color_row == 63) | (max_change_color_col == 63): #이미 완성된 체스판인 경우\n",
        "    print(0)\n",
        "elif (max_change_color_row == 0) | (max_change_color_col == 0): #다 똑같은 경우\n",
        "    print(32)\n",
        "else:\n",
        "    result1 = 0; result2 = 0\n",
        "    color_list = ['W', 'B']\n",
        "\n",
        "    for i in range(8):\n",
        "        for j in range(8):\n",
        "            if (i + j) % 2 == 0:\n",
        "                if new_chess1[i][j] != color_list[0]:\n",
        "                    result1 += 1\n",
        "                if new_chess1[i][j] != color_list[1]:\n",
        "                    result2 += 1\n",
        "            else:\n",
        "                if new_chess1[i][j] != color_list[1]:\n",
        "                    result1 += 1\n",
        "                if new_chess1[i][j] != color_list[0]:\n",
        "                    result2 += 1\n",
        "\n",
        "    if max_change_color_row != -1:\n",
        "        result3 = 0; result4 = 0\n",
        "        color_list = ['W', 'B']\n",
        "\n",
        "        for i in range(8):\n",
        "            for j in range(8):\n",
        "                if (i + j) % 2 == 0:\n",
        "                    if new_chess2[i][j] != color_list[0]:\n",
        "                        result3 += 1\n",
        "                    if new_chess2[i][j] != color_list[1]:\n",
        "                        result4 += 1\n",
        "                else:\n",
        "                    if new_chess2[i][j] != color_list[1]:\n",
        "                        result3 += 1\n",
        "                    if new_chess2[i][j] != color_list[0]:\n",
        "                        result4 += 1\n",
        "        #print('{}, {}'.format(result3, result4))\n",
        "        print(min(result1, result2, result3, result4))\n",
        "    else:\n",
        "        print(min(result1, result2))"
      ],
      "metadata": {
        "colab": {
          "base_uri": "https://localhost:8080/"
        },
        "id": "wxwXClrGZe5d",
        "outputId": "7b5c2eba-3118-4e1f-9287-86835963b9bd"
      },
      "execution_count": null,
      "outputs": [
        {
          "output_type": "stream",
          "name": "stdout",
          "text": [
            "9 9\n",
            "BBBBBBBBB\n",
            "WWWWWWWWW\n",
            "WWWWWWWWW\n",
            "WWWWWWWWW\n",
            "WWWWWWWWW\n",
            "WWWWWWWWW\n",
            "WWWWWWWWW\n",
            "BWWWWWWWW\n",
            "WWBWBWBWW\n",
            "30\n"
          ]
        }
      ]
    },
    {
      "cell_type": "markdown",
      "source": [
        "- 시간 초과 예방"
      ],
      "metadata": {
        "id": "T3ZYyKCleOtK"
      }
    },
    {
      "cell_type": "code",
      "source": [
        "import sys\n",
        "\n",
        "n, m = map(int, input().split())\n",
        "chess = [list(sys.stdin.readline().rstrip()) for _ in range(n)]\n",
        "\n",
        "max_change_color_row = 0; max_change_color_col = 0\n",
        "\n",
        "if (n != 8) | (m != 8): #8x8이 아닌 경우\n",
        "    for i in range(n-7):\n",
        "        for j in range(m-7):\n",
        "            chess_cut = [row[j:j+8] for row in chess[i:i+8]] #8x8로 자르기 (최적화된 곳 찾기)\n",
        "            #print(*chess_cut, sep='\\n')\n",
        "            chess_cut_list_row = sum(chess_cut, []) #1차원 배열로 만들기\n",
        "            chess_cut_list_col = sum(list(map(list, zip(*chess_cut))), []) #transpose한 뒤 1차원 배열로 만들기\n",
        "            change_row = 0; change_col = 0\n",
        "\n",
        "            for k in range(1,64):\n",
        "                if chess_cut_list_row[k-1] != chess_cut_list_row[k]:\n",
        "                    change_row += 1\n",
        "                if chess_cut_list_col[k-1] != chess_cut_list_col[k]:\n",
        "                    change_col += 1\n",
        "\n",
        "            if change_row >= max_change_color_row:\n",
        "                max_change_color_row = change_row\n",
        "                new_chess1 = chess_cut\n",
        "            if change_col >= max_change_color_col:\n",
        "                max_change_color_col = change_col\n",
        "                new_chess2 = chess_cut\n",
        "\n",
        "else: #8x8인 경우\n",
        "    max_change_color_row = -1;\n",
        "    new_chess1 = chess\n",
        "#print(*new_chess, sep='\\n')\n",
        "\n",
        "if (max_change_color_row == 63) | (max_change_color_col == 63): #이미 완성된 체스판인 경우\n",
        "    print(0)\n",
        "elif (max_change_color_row == 0) | (max_change_color_col == 0): #다 똑같은 경우\n",
        "    print(32)\n",
        "else:\n",
        "    result1 = 0; result2 = 0\n",
        "    color_list = ['W', 'B']\n",
        "\n",
        "    for i in range(8):\n",
        "        for j in range(8):\n",
        "            if (i + j) % 2 == 0:\n",
        "                if new_chess1[i][j] != color_list[0]:\n",
        "                    result1 += 1\n",
        "                if new_chess1[i][j] != color_list[1]:\n",
        "                    result2 += 1\n",
        "            else:\n",
        "                if new_chess1[i][j] != color_list[1]:\n",
        "                    result1 += 1\n",
        "                if new_chess1[i][j] != color_list[0]:\n",
        "                    result2 += 1\n",
        "\n",
        "    if max_change_color_row != -1:\n",
        "        result3 = 0; result4 = 0\n",
        "        color_list = ['W', 'B']\n",
        "\n",
        "        for i in range(8):\n",
        "            for j in range(8):\n",
        "                if (i + j) % 2 == 0:\n",
        "                    if new_chess2[i][j] != color_list[0]:\n",
        "                        result3 += 1\n",
        "                    if new_chess2[i][j] != color_list[1]:\n",
        "                        result4 += 1\n",
        "                else:\n",
        "                    if new_chess2[i][j] != color_list[1]:\n",
        "                        result3 += 1\n",
        "                    if new_chess2[i][j] != color_list[0]:\n",
        "                        result4 += 1\n",
        "        #print('{}, {}'.format(result3, result4))\n",
        "        print(min(result1, result2, result3, result4))\n",
        "    else:\n",
        "        print(min(result1, result2))"
      ],
      "metadata": {
        "id": "lX0huMI_ekOb"
      },
      "execution_count": null,
      "outputs": []
    },
    {
      "cell_type": "markdown",
      "source": [
        "----------\n",
        "- 또 틀림\n",
        "- 모든 경우의 수에 대해서 result 계산"
      ],
      "metadata": {
        "id": "33lmAC51ufRY"
      }
    },
    {
      "cell_type": "code",
      "source": [
        "n, m = map(int, input().split())\n",
        "chess = [list(input()) for _ in range(n)]\n",
        "\n",
        "def chess_coloring(chess):\n",
        "    result1 = 0; result2 = 0\n",
        "    color_list = ['W', 'B']\n",
        "    for i in range(8):\n",
        "        for j in range(8):\n",
        "            if (i + j) % 2 == 0:\n",
        "                if chess[i][j] != color_list[0]:\n",
        "                    result1 += 1\n",
        "                if chess[i][j] != color_list[1]:\n",
        "                    result2 += 1\n",
        "            else:\n",
        "                if chess[i][j] != color_list[1]:\n",
        "                    result1 += 1\n",
        "                if chess[i][j] != color_list[0]:\n",
        "                    result2 += 1\n",
        "    return min(result1, result2)\n",
        "\n",
        "if (n == 8) & (m == 8): #8x8인 경우\n",
        "    print(chess_coloring(chess))\n",
        "else: #8x8이 아닌 경우\n",
        "    min_result = 64\n",
        "    for i in range(n-7):\n",
        "        for j in range(m-7):\n",
        "            chess_cut = [row[j:j+8] for row in chess[i:i+8]] #8x8로 자르기 (최적화된 곳 찾기)\n",
        "            #print(*chess_cut, sep='\\n')\n",
        "            chess_result = chess_coloring(chess_cut)\n",
        "            #print(chess_result)\n",
        "            if chess_result < min_result:\n",
        "                min_result = chess_result\n",
        "    print(min_result)"
      ],
      "metadata": {
        "colab": {
          "base_uri": "https://localhost:8080/"
        },
        "id": "64Sp64RNujmS",
        "outputId": "0dcb5ced-9566-474b-cc29-45f727bcefa5"
      },
      "execution_count": null,
      "outputs": [
        {
          "output_type": "stream",
          "name": "stdout",
          "text": [
            "9 9\n",
            "BBBBBBBBB\n",
            "WWWWWWWWW\n",
            "WWWWWWWWW\n",
            "WWWWWWWWW\n",
            "WWWWWWWWW\n",
            "WWWWWWWWW\n",
            "WWWWWWWWW\n",
            "BWWWWWWWW\n",
            "WWBWBWBWW\n",
            "29\n"
          ]
        }
      ]
    },
    {
      "cell_type": "markdown",
      "source": [
        "- 시간 초과 방지"
      ],
      "metadata": {
        "id": "zXBU2xns3Edv"
      }
    },
    {
      "cell_type": "code",
      "source": [
        "import sys\n",
        "\n",
        "n, m = map(int, input().split())\n",
        "chess = [list(sys.stdin.readline().rstrip()) for _ in range(n)]\n",
        "\n",
        "def chess_coloring(chess):\n",
        "    result1 = 0; result2 = 0\n",
        "    color_list = ['W', 'B']\n",
        "    for i in range(8):\n",
        "        for j in range(8):\n",
        "            if (i + j) % 2 == 0:\n",
        "                if chess[i][j] != color_list[0]:\n",
        "                    result1 += 1\n",
        "                if chess[i][j] != color_list[1]:\n",
        "                    result2 += 1\n",
        "            else:\n",
        "                if chess[i][j] != color_list[1]:\n",
        "                    result1 += 1\n",
        "                if chess[i][j] != color_list[0]:\n",
        "                    result2 += 1\n",
        "    return min(result1, result2)\n",
        "\n",
        "if (n == 8) & (m == 8): #8x8인 경우\n",
        "    print(chess_coloring(chess))\n",
        "else: #8x8이 아닌 경우\n",
        "    min_result = 64\n",
        "    for i in range(n-7):\n",
        "        for j in range(m-7):\n",
        "            chess_cut = [row[j:j+8] for row in chess[i:i+8]] #8x8로 자르기 (최적화된 곳 찾기)\n",
        "            #print(*chess_cut, sep='\\n')\n",
        "            chess_result = chess_coloring(chess_cut)\n",
        "            #print(chess_result)\n",
        "            if chess_result < min_result:\n",
        "                min_result = chess_result\n",
        "    print(min_result)"
      ],
      "metadata": {
        "id": "4Vxw6py03GG3"
      },
      "execution_count": null,
      "outputs": []
    },
    {
      "cell_type": "markdown",
      "source": [
        "### 5) #1436 영화감독 숌"
      ],
      "metadata": {
        "id": "YAWnqrC7JIAJ"
      }
    },
    {
      "cell_type": "code",
      "source": [
        "n = int(input())\n",
        "\n",
        "six_list = [str(i) + '666' + '%01d'%j for i in range(300) for j in range(10)]\n",
        "six_list += [str(i) + '666' + '%02d'%j for i in range(300) for j in range(100)]\n",
        "six_list += [str(i) + '666' + '%03d'%j for i in range(300) for j in range(1000)]\n",
        "six_list += [str(i) + '666' for i in range(3000)]\n",
        "\n",
        "six_list = list(map(int, six_list))\n",
        "six_list = list(set(six_list))\n",
        "six_list.sort()\n",
        "print(six_list[n-1])"
      ],
      "metadata": {
        "id": "mW-nUTUL4aQe",
        "colab": {
          "base_uri": "https://localhost:8080/"
        },
        "outputId": "75b9004d-b34b-462d-e079-778c59c79c94"
      },
      "execution_count": 156,
      "outputs": [
        {
          "output_type": "stream",
          "name": "stdout",
          "text": [
            "10000\n",
            "2666799\n"
          ]
        }
      ]
    },
    {
      "cell_type": "markdown",
      "source": [
        "-----------\n",
        "- 맞았지만 시간이 256ms나 걸림\n",
        "<br><br>\n",
        "- 다른 사람 코드 공부 <br> [참고] https://claude-u.tistory.com/125\n",
        "- 666부터 시작해서 모든 수를 검사하면서 '666'이 포함되어 있는지 확인하고 있다면 N을 하나씩 줄여서 N이 0이 되면 무한 반복문을 멈추고 print하도록 함\n",
        "- 시간 776ms로 더 오래 걸림.."
      ],
      "metadata": {
        "id": "7tCmtre7fShc"
      }
    },
    {
      "cell_type": "code",
      "source": [
        "n = int(input())\n",
        "movie = 666\n",
        "\n",
        "while n:\n",
        "    if \"666\" in str(movie):\n",
        "        n -= 1\n",
        "    movie += 1\n",
        "\n",
        "print(movie - 1)"
      ],
      "metadata": {
        "colab": {
          "base_uri": "https://localhost:8080/"
        },
        "id": "1s_xv3fJj-5a",
        "outputId": "0f162805-3c58-43f2-f737-691db57011a3"
      },
      "execution_count": 160,
      "outputs": [
        {
          "output_type": "stream",
          "name": "stdout",
          "text": [
            "10000\n",
            "2666799\n"
          ]
        }
      ]
    },
    {
      "cell_type": "markdown",
      "source": [
        "- 또 다른 코드 공부 <br> [참고] https://www.acmicpc.net/source/52907950"
      ],
      "metadata": {
        "id": "agst-3VplX1A"
      }
    },
    {
      "cell_type": "code",
      "source": [
        "n = int(input())\n",
        "\n",
        "a = 1\n",
        "b = 0\n",
        "x = 666\n",
        "while n != 1:\n",
        "    #print(f'-----------{x}----------')\n",
        "    #print(f'a: {a}, b: {b}')\n",
        "    if b == 10**a: #666__에서 __만큼 다 돌면\n",
        "        #print('첫 번째 조건문 통과')\n",
        "        b = 0 #b 리셋\n",
        "        if a <= 3:\n",
        "            x += 1000\n",
        "        else:\n",
        "            x += 10**a\n",
        "\n",
        "    if '6666' in str(x + 1000) or str(x + 1000).count('666') > 1:\n",
        "        #print('두 번째 조건문 통과')\n",
        "        if b == 0:\n",
        "            a = len(str(x + 1000)) - str(x + 1000).find('666') - 3 #str(x+1000).find('666'): 666이 시작되는 index 반환\n",
        "        n -= 1\n",
        "        if n == 1:\n",
        "            x = (x + 1000)//(10**a) * (10**a) + b\n",
        "        b += 1\n",
        "\n",
        "    else:\n",
        "        x += 1000\n",
        "        n -= 1\n",
        "\n",
        "print(x)"
      ],
      "metadata": {
        "colab": {
          "base_uri": "https://localhost:8080/"
        },
        "id": "6V9mR7sqlcEZ",
        "outputId": "1b79c22f-c31d-48e2-9d86-da556df2db22"
      },
      "execution_count": 193,
      "outputs": [
        {
          "output_type": "stream",
          "name": "stdout",
          "text": [
            "10000\n",
            "2666799\n"
          ]
        }
      ]
    }
  ]
}