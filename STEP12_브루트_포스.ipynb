{
  "nbformat": 4,
  "nbformat_minor": 0,
  "metadata": {
    "colab": {
      "provenance": [],
      "authorship_tag": "ABX9TyO+L1JCAwnBkYzVYkQG5/kd",
      "include_colab_link": true
    },
    "kernelspec": {
      "name": "python3",
      "display_name": "Python 3"
    },
    "language_info": {
      "name": "python"
    }
  },
  "cells": [
    {
      "cell_type": "markdown",
      "metadata": {
        "id": "view-in-github",
        "colab_type": "text"
      },
      "source": [
        "<a href=\"https://colab.research.google.com/github/kimhj010502/BAEKJOON/blob/main/STEP12_%EB%B8%8C%EB%A3%A8%ED%8A%B8_%ED%8F%AC%EC%8A%A4.ipynb\" target=\"_parent\"><img src=\"https://colab.research.google.com/assets/colab-badge.svg\" alt=\"Open In Colab\"/></a>"
      ]
    },
    {
      "cell_type": "markdown",
      "metadata": {
        "id": "TzSGa08QXuST"
      },
      "source": [
        "### 1) #2798 블랙잭"
      ]
    },
    {
      "cell_type": "markdown",
      "source": [
        "- `list(permutations(num_list, 3))`: num_list에 있는 수에서 3개를 뽑아 조합해서 만든 리스트가 모두 담긴 2차원 배열"
      ],
      "metadata": {
        "id": "QAcLamhZOQ2G"
      }
    },
    {
      "cell_type": "code",
      "source": [
        "from itertools import permutations\n",
        "\n",
        "n, m = map(int, input().split())\n",
        "num_list = list(map(int, input().split()))\n",
        "result = 0\n",
        "\n",
        "sum_list = list(set(map(sum, list(permutations(num_list, 3)))))\n",
        "sum_list.sort()\n",
        "\n",
        "for i in range(len(sum_list)-1):\n",
        "    if (sum_list[i] <= m) & (sum_list[i+1] > m):\n",
        "        result = sum_list[i]\n",
        "        break\n",
        "\n",
        "if result == 0:\n",
        "    result = sum_list[len(sum_list)-1]\n",
        "\n",
        "print(result)"
      ],
      "metadata": {
        "colab": {
          "base_uri": "https://localhost:8080/"
        },
        "id": "JVd8wYlnI-1K",
        "outputId": "3a678517-bcc0-4814-f27e-691d4305c282"
      },
      "execution_count": 15,
      "outputs": [
        {
          "output_type": "stream",
          "name": "stdout",
          "text": [
            "4 300000\n",
            "1 1 1 99999\n",
            "100001\n"
          ]
        }
      ]
    },
    {
      "cell_type": "markdown",
      "source": [
        "### 2) #2231 분해합"
      ],
      "metadata": {
        "id": "lMvwv3oKI_AR"
      }
    },
    {
      "cell_type": "markdown",
      "source": [
        "- 예를 들어 216의 경우 생성자는 216 - 2 - 9 - 9보다 무조건 크거나 같음\n",
        "- 따라서, 반복문의 범위를 `range(n, n - n//(10**(size-1)) - 9*(size-1)-1, -1)`로 지정하여 이 부분만 탐색하도록 함"
      ],
      "metadata": {
        "id": "gv2oOIsTQ_yV"
      }
    },
    {
      "cell_type": "code",
      "source": [
        "n = input()\n",
        "size = len(n)\n",
        "n = int(n)\n",
        "\n",
        "result = []\n",
        "\n",
        "for i in range(n, n - n//(10**(size-1)) - 9*(size-1)-1, -1):\n",
        "    #print(i)\n",
        "    i_list = list(map(int, str(i)))\n",
        "    #print('i_list: {}'.format(i_list))\n",
        "    sum_num = i\n",
        "    for j in i_list:\n",
        "        sum_num += j\n",
        "    #print('sum_num: {}'.format(sum_num))\n",
        "    if sum_num == n:\n",
        "        result.append(i)\n",
        "\n",
        "if len(result) == 0:\n",
        "    print(0)\n",
        "else:\n",
        "    print(result[-1])"
      ],
      "metadata": {
        "colab": {
          "base_uri": "https://localhost:8080/"
        },
        "id": "SgUgF6PVJBSE",
        "outputId": "fdc66e24-add8-4d39-8c2b-50674033c590"
      },
      "execution_count": 30,
      "outputs": [
        {
          "output_type": "stream",
          "name": "stdout",
          "text": [
            "216\n",
            "198\n"
          ]
        }
      ]
    },
    {
      "cell_type": "markdown",
      "source": [
        "### 3) #7568 덩치"
      ],
      "metadata": {
        "id": "zdZ1buzxJBdr"
      }
    },
    {
      "cell_type": "code",
      "source": [
        "n = int(input())\n",
        "people_list = [list(map(int, input().split())) for _ in range(n)]\n",
        "\n",
        "for i in range(n):\n",
        "    result = 1\n",
        "    for j in [k for k in range(n) if k != i]:\n",
        "        if (people_list[i][0] < people_list[j][0]) & (people_list[i][1] < people_list[j][1]):\n",
        "            result += 1\n",
        "    print(result, end=' ')"
      ],
      "metadata": {
        "colab": {
          "base_uri": "https://localhost:8080/"
        },
        "id": "Qi74TaYQJEp6",
        "outputId": "894c5f37-c373-4935-f395-d3624a31e08a"
      },
      "execution_count": 44,
      "outputs": [
        {
          "output_type": "stream",
          "name": "stdout",
          "text": [
            "5\n",
            "55 185\n",
            "58 183\n",
            "88 186\n",
            "60 175\n",
            "46 155\n",
            "2 2 1 2 5 "
          ]
        }
      ]
    },
    {
      "cell_type": "markdown",
      "source": [
        "- 시간 초과 방지"
      ],
      "metadata": {
        "id": "nkbBhvoGXb0R"
      }
    },
    {
      "cell_type": "code",
      "source": [
        "import sys\n",
        "\n",
        "n = int(input())\n",
        "people_list = [list(map(int, sys.stdin.readline().rstrip().split())) for _ in range(n)]\n",
        "\n",
        "for i in range(n):\n",
        "    result = 1\n",
        "    for j in [k for k in range(n) if k != i]:\n",
        "        if (people_list[i][0] < people_list[j][0]) & (people_list[i][1] < people_list[j][1]):\n",
        "            result += 1\n",
        "    print(result, end=' ')"
      ],
      "metadata": {
        "id": "pEZkSFctXdMC"
      },
      "execution_count": null,
      "outputs": []
    },
    {
      "cell_type": "markdown",
      "source": [
        "### 4) #1018 체스판 다시 칠하기"
      ],
      "metadata": {
        "id": "-UkIKAtaJE13"
      }
    },
    {
      "cell_type": "code",
      "source": [],
      "metadata": {
        "id": "xPLzHThpJHqr"
      },
      "execution_count": null,
      "outputs": []
    },
    {
      "cell_type": "markdown",
      "source": [
        "### 5) #1436 영화감독 숌"
      ],
      "metadata": {
        "id": "YAWnqrC7JIAJ"
      }
    },
    {
      "cell_type": "code",
      "source": [],
      "metadata": {
        "id": "weEIXvazJKlQ"
      },
      "execution_count": null,
      "outputs": []
    }
  ]
}