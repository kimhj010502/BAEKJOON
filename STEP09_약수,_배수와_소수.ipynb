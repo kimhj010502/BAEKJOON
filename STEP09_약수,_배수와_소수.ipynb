{
  "nbformat": 4,
  "nbformat_minor": 0,
  "metadata": {
    "colab": {
      "provenance": [],
      "authorship_tag": "ABX9TyNla9iHlCc3SadFwzZWyjKN",
      "include_colab_link": true
    },
    "kernelspec": {
      "name": "python3",
      "display_name": "Python 3"
    },
    "language_info": {
      "name": "python"
    }
  },
  "cells": [
    {
      "cell_type": "markdown",
      "metadata": {
        "id": "view-in-github",
        "colab_type": "text"
      },
      "source": [
        "<a href=\"https://colab.research.google.com/github/kimhj010502/BAEKJOON/blob/main/STEP09_%EC%95%BD%EC%88%98%2C_%EB%B0%B0%EC%88%98%EC%99%80_%EC%86%8C%EC%88%98.ipynb\" target=\"_parent\"><img src=\"https://colab.research.google.com/assets/colab-badge.svg\" alt=\"Open In Colab\"/></a>"
      ]
    },
    {
      "cell_type": "markdown",
      "source": [
        "### #5086 배수와 약수"
      ],
      "metadata": {
        "id": "j_5EMcQfOYVh"
      }
    },
    {
      "cell_type": "code",
      "source": [
        "import sys\n",
        "\n",
        "while True:\n",
        "    a, b = map(int, sys.stdin.readline().rstrip().split())\n",
        "    if (a == 0) & (b == 0):\n",
        "        break\n",
        "    else:\n",
        "        if a % b == 0:\n",
        "            print('multiple')\n",
        "        elif b % a == 0:\n",
        "            print('factor')\n",
        "        else:\n",
        "            print('neither')"
      ],
      "metadata": {
        "id": "l7fPLvkXOa7w"
      },
      "execution_count": null,
      "outputs": []
    },
    {
      "cell_type": "markdown",
      "source": [
        "### #2501 약수 구하기"
      ],
      "metadata": {
        "id": "das7XCwLOU8o"
      }
    },
    {
      "cell_type": "code",
      "execution_count": 3,
      "metadata": {
        "colab": {
          "base_uri": "https://localhost:8080/"
        },
        "id": "VnPnbcaWN3xL",
        "outputId": "23542302-01af-41bb-8aae-27ab213946f5"
      },
      "outputs": [
        {
          "output_type": "stream",
          "name": "stdout",
          "text": [
            "2735 1\n",
            "1\n"
          ]
        }
      ],
      "source": [
        "n, k = map(int, input().split())\n",
        "\n",
        "cnt = 0\n",
        "for i in range(1, n+1):\n",
        "    #i가 n의 약수인 경우\n",
        "    if n % i == 0:\n",
        "        cnt += 1\n",
        "    if cnt == k:\n",
        "        print(i)\n",
        "        break\n",
        "\n",
        "if cnt < k:\n",
        "    print(0)"
      ]
    }
  ]
}