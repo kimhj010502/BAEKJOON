{
  "nbformat": 4,
  "nbformat_minor": 0,
  "metadata": {
    "colab": {
      "provenance": [],
      "authorship_tag": "ABX9TyM7+rLvNbPCbu1t8kJ6R6sb",
      "include_colab_link": true
    },
    "kernelspec": {
      "name": "python3",
      "display_name": "Python 3"
    },
    "language_info": {
      "name": "python"
    }
  },
  "cells": [
    {
      "cell_type": "markdown",
      "metadata": {
        "id": "view-in-github",
        "colab_type": "text"
      },
      "source": [
        "<a href=\"https://colab.research.google.com/github/kimhj010502/BAEKJOON/blob/main/STEP09_%EC%95%BD%EC%88%98%2C_%EB%B0%B0%EC%88%98%EC%99%80_%EC%86%8C%EC%88%98.ipynb\" target=\"_parent\"><img src=\"https://colab.research.google.com/assets/colab-badge.svg\" alt=\"Open In Colab\"/></a>"
      ]
    },
    {
      "cell_type": "markdown",
      "source": [
        "### #5086 배수와 약수"
      ],
      "metadata": {
        "id": "j_5EMcQfOYVh"
      }
    },
    {
      "cell_type": "code",
      "source": [
        "import sys\n",
        "\n",
        "while True:\n",
        "    a, b = map(int, sys.stdin.readline().rstrip().split())\n",
        "    if (a == 0) & (b == 0):\n",
        "        break\n",
        "    else:\n",
        "        if a % b == 0:\n",
        "            print('multiple')\n",
        "        elif b % a == 0:\n",
        "            print('factor')\n",
        "        else:\n",
        "            print('neither')"
      ],
      "metadata": {
        "id": "l7fPLvkXOa7w"
      },
      "execution_count": null,
      "outputs": []
    },
    {
      "cell_type": "markdown",
      "source": [
        "### #2501 약수 구하기"
      ],
      "metadata": {
        "id": "das7XCwLOU8o"
      }
    },
    {
      "cell_type": "code",
      "execution_count": null,
      "metadata": {
        "colab": {
          "base_uri": "https://localhost:8080/"
        },
        "id": "VnPnbcaWN3xL",
        "outputId": "23542302-01af-41bb-8aae-27ab213946f5"
      },
      "outputs": [
        {
          "output_type": "stream",
          "name": "stdout",
          "text": [
            "2735 1\n",
            "1\n"
          ]
        }
      ],
      "source": [
        "n, k = map(int, input().split())\n",
        "\n",
        "cnt = 0\n",
        "for i in range(1, n+1):\n",
        "    #i가 n의 약수인 경우\n",
        "    if n % i == 0:\n",
        "        cnt += 1\n",
        "    if cnt == k:\n",
        "        print(i)\n",
        "        break\n",
        "\n",
        "if cnt < k:\n",
        "    print(0)"
      ]
    },
    {
      "cell_type": "markdown",
      "source": [
        "### #9506 약수들의 합"
      ],
      "metadata": {
        "id": "BTMqm-5tg_04"
      }
    },
    {
      "cell_type": "code",
      "source": [
        "#n이 완전수인지 확인하여 출력하는 함수\n",
        "def isPerfect(n):\n",
        "    divisor = [] #약수 리스트\n",
        "\n",
        "    #1부터 n/2까지의 숫자들에 대해 약수인지 확인\n",
        "    for i in range(1, int(n / 2) + 1):\n",
        "        if n % i == 0:\n",
        "            divisor.append(i)\n",
        "\n",
        "    #n이 모든 약수들의 합과 같은 경우 n을 약수들의 합으로 나타내어 출력\n",
        "    if sum(divisor) == n:\n",
        "        print('{0} = '.format(n), end='')\n",
        "        for i in divisor[:-1]:\n",
        "            print('{0} + '.format(i), end='')\n",
        "        print(divisor[-1])\n",
        "    else:\n",
        "        print('{0} is NOT perfect.'.format(n))\n",
        "\n",
        "\n",
        "while True:\n",
        "    #입력\n",
        "    n = int(input())\n",
        "\n",
        "    #입력된 수가 -1이라면 무한 반복문 종료\n",
        "    if n == -1:\n",
        "        break\n",
        "\n",
        "    #연산 & 출력\n",
        "    isPerfect(n)"
      ],
      "metadata": {
        "colab": {
          "base_uri": "https://localhost:8080/"
        },
        "id": "ZLDavsjthDRG",
        "outputId": "a7530465-0d13-4325-d048-462e4564365d"
      },
      "execution_count": 11,
      "outputs": [
        {
          "name": "stdout",
          "output_type": "stream",
          "text": [
            "6\n",
            "6 = 1 + 2 + 3\n",
            "12\n",
            "12 is NOT perfect.\n",
            "28\n",
            "28 = 1 + 2 + 4 + 7 + 14\n",
            "-1\n"
          ]
        }
      ]
    },
    {
      "cell_type": "code",
      "source": [],
      "metadata": {
        "id": "H-gQIcKRlW8B"
      },
      "execution_count": null,
      "outputs": []
    }
  ]
}