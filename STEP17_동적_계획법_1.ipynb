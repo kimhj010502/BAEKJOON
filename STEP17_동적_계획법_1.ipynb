{
  "nbformat": 4,
  "nbformat_minor": 0,
  "metadata": {
    "colab": {
      "provenance": [],
      "authorship_tag": "ABX9TyNGegA8v8T7u2D0q0ZnMXqB",
      "include_colab_link": true
    },
    "kernelspec": {
      "name": "python3",
      "display_name": "Python 3"
    },
    "language_info": {
      "name": "python"
    }
  },
  "cells": [
    {
      "cell_type": "markdown",
      "metadata": {
        "id": "view-in-github",
        "colab_type": "text"
      },
      "source": [
        "<a href=\"https://colab.research.google.com/github/kimhj010502/BAEKJOON/blob/main/STEP17_%EB%8F%99%EC%A0%81_%EA%B3%84%ED%9A%8D%EB%B2%95_1.ipynb\" target=\"_parent\"><img src=\"https://colab.research.google.com/assets/colab-badge.svg\" alt=\"Open In Colab\"/></a>"
      ]
    },
    {
      "cell_type": "markdown",
      "source": [
        "## [Dynamic Programming 알고리즘]\n",
        "- 동적 계획법의 기본적인 아이디어는 하나의 큰 문제를 여러 개의 작은 문제로 나눠서 그 결과를 저장하여 다시 큰 문제를 해결할 때 사용하는 것임\n",
        "- 일반적인 재귀를 단순히 사용하면 동일한 작은 문제들이 여러 번 반복되어 비효율적인 계산을 함 (ex: 피보나치 수열)\n",
        "- 한 번 구한 작은 문제의 결과 값을 저장해두고 재사용한다면 앞에서 계산된 값을 다시 반복할 필요가 없기 때문에 시간 복잡도를 $O(n^2)$에서 $O(f(n))$으로 개선할 수 있음\n",
        "<br><br>\n",
        "- DP가 적용되기 위해서는 2가지 조건을 만족해야 함\n",
        "    1. Overlapping Subproblems (겹치는 부분 문제)\n",
        "        - 동일한 작은 문제들이 반복하여 나타나는 경우에 사용이 가능함\n",
        "        <a href='https://ifh.cc/v-svSQZ4' target='_blank'><img src='https://ifh.cc/g/svSQZ4.png' border='0'></a>\n",
        "        - f(1), f(2), f(3)과 같이 동일한 부분 문제가 중복되어야 함\n",
        "    2. Optimal Substructure (최적 부분 구조)\n",
        "        - 부분 문제의 최적 결과 값을 사용해 전체 문제의 최적 결과를 낼 수 있는 경우에 사용이 가능함\n",
        "        <a href='https://ifh.cc/v-MyaLMV' target='_blank'><img src='https://ifh.cc/g/MyaLMV.png' border='0'></a>\n",
        "        - A-B까지의 최단 경로를 찾고자 하는 경우에서 중간에 X가 있을 때, A-X, X-B가 많은 경로 중 최단 경로라면 전체 최적 경로도 A-X-B임\n",
        "<br><br>\n",
        "- DP를 사용하기 전에 아래의 과정을 거쳐 진행함\n",
        "    1. DP로 풀 수 있는 문제인지 확인\n",
        "    2. 문제의 변수 파악\n",
        "    3. 변수 간 관계식 (점화식) 만들기\n",
        "    4. 메모하기 (변수의 값에 따른 결과 저장)\n",
        "    5. 기저 상태 파악하기 (ex: f(0)=0, f(1)=1)\n",
        "    6. 구현하기 (반복문 or 재귀)\n",
        "<br><br>\n",
        "- DP 구현 방식\n",
        "    1. Bottom-Up 방식: 아래에서부터 계산을 수행하고 누적시켜서 전체 큰 문제를 해결하는 방식\n",
        "    2. Top-Down 방식: 위에서부터 바로 호출을 시작하여 아래로 내려간 다음 결과값을 재귀를 통해 전이시켜 재활용하는 방식\n",
        "- [참고] https://hongjw1938.tistory.com/47"
      ],
      "metadata": {
        "id": "rqR43B68jF83"
      }
    },
    {
      "cell_type": "markdown",
      "source": [
        "### 1) #24416 알고리즘 수업 - 피보나치 수 1"
      ],
      "metadata": {
        "id": "kdx6Bm-Et7Yr"
      }
    },
    {
      "cell_type": "code",
      "source": [
        "n = int(input())\n",
        "\n",
        "f = [0] * n\n",
        "\n",
        "def fib(n):\n",
        "    if (n == 1) | (n == 2):\n",
        "        fib.counter += 1\n",
        "        return 1\n",
        "    else:\n",
        "        return (fib(n-1) + fib(n-2))\n",
        "\n",
        "def fibonacci(n):\n",
        "    global f\n",
        "    f[0] = 1; f[1] = 1\n",
        "    for i in range(2, n):\n",
        "        f[i] = f[i-1] + f[i-2]\n",
        "        fibonacci.counter += 1\n",
        "    return f[n-1]\n",
        "\n",
        "fib.counter = 0\n",
        "fibonacci.counter = 0\n",
        "\n",
        "fib(n); fibonacci(n)\n",
        "print(f'{fib.counter} {fibonacci.counter}')"
      ],
      "metadata": {
        "colab": {
          "base_uri": "https://localhost:8080/"
        },
        "id": "vc0P6yf7t7NT",
        "outputId": "7d9e7c8c-e7a8-48e6-82cc-d1b6e8955234"
      },
      "execution_count": null,
      "outputs": [
        {
          "output_type": "stream",
          "name": "stdout",
          "text": [
            "30\n",
            "832040 28\n"
          ]
        }
      ]
    },
    {
      "cell_type": "markdown",
      "source": [
        "---\n",
        "- Python3으로는 시간 초과, PyPy3은 통과\n",
        "- 실제로 재귀함수를 실행하지 말고 횟수만 출력하면 됨\n",
        "- fib() 함수에서 n이 1이거나 2일 때 실행하는 return 1 문은 fibonacci(n)번 실행됨\n",
        "- fibonacci는 for문만큼 실행되므로 n-2번 실행됨"
      ],
      "metadata": {
        "id": "F9pe-Jjb04RE"
      }
    },
    {
      "cell_type": "code",
      "source": [
        "n = int(input())\n",
        "\n",
        "f = [0] * n\n",
        "\n",
        "def fibonacci(n):\n",
        "    global f\n",
        "    f[0] = 1; f[1] = 1\n",
        "    for i in range(2, n):\n",
        "        f[i] = f[i-1] + f[i-2]\n",
        "    return f[n-1]\n",
        "\n",
        "print(f'{fibonacci(n)} {n-2}')"
      ],
      "metadata": {
        "colab": {
          "base_uri": "https://localhost:8080/"
        },
        "id": "2NltW9LW00nn",
        "outputId": "4c70afdd-49cb-474f-8878-6ab9e13ac19f"
      },
      "execution_count": null,
      "outputs": [
        {
          "output_type": "stream",
          "name": "stdout",
          "text": [
            "30\n",
            "832040 28\n"
          ]
        }
      ]
    },
    {
      "cell_type": "markdown",
      "source": [
        "### 2) #9184 신나는 함수 실행"
      ],
      "metadata": {
        "id": "tvgTyj49t-7T"
      }
    },
    {
      "cell_type": "code",
      "source": [
        "def w(a, b, c):\n",
        "    if (a <= 0) | (b <= 0) | (c <= 0):\n",
        "        return 1\n",
        "    elif (a > 20) | (b > 20) | (c > 20):\n",
        "        return w(20, 20, 20)\n",
        "    elif a < b < c:\n",
        "        return w(a, b, c-1) + w(a, b-1, c-1) - w(a, b-1, c)\n",
        "    else:\n",
        "        return w(a-1, b, c) + w(a-1, b-1, c) + w(a-1, b, c-1) - w(a-1, b-1, c-1)"
      ],
      "metadata": {
        "id": "68DCVKl20CW7"
      },
      "execution_count": null,
      "outputs": []
    },
    {
      "cell_type": "code",
      "source": [
        "result = [[[0 for i in range(21)] for _ in range(21)] for _ in range(21)]\n",
        "\n",
        "def w(a, b, c):\n",
        "    if (a <= 0) | (b <= 0) | (c <= 0):\n",
        "        return result[0][0][0]\n",
        "    elif (a > 20) | (b > 20) | (c > 20):\n",
        "        return result[20][20][20]\n",
        "    else:\n",
        "        return result[a][b][c]\n",
        "\n",
        "def make_w():\n",
        "    global result\n",
        "    for a in range(21):\n",
        "        for b in range(21):\n",
        "            for c in range(21):\n",
        "                if (a == 0) | (b == 0) | (c == 0):\n",
        "                    result[a][b][c] = 1\n",
        "                elif a < b < c:\n",
        "                    result[a][b][c] = result[a][b][c-1] + result[a][b-1][c-1] - result[a][b-1][c]\n",
        "                else:\n",
        "                    result[a][b][c] = result[a-1][b][c] + result[a-1][b-1][c] + result[a-1][b][c-1] - result[a-1][b-1][c-1]\n",
        "\n",
        "make_w()\n",
        "\n",
        "while True:\n",
        "    a, b, c = map(int, input().split())\n",
        "    if (a == -1) & (b == -1) & (c == -1):\n",
        "        break\n",
        "    else:\n",
        "        print(f'w({a}, {b}, {c}) = {w(a, b, c)}')"
      ],
      "metadata": {
        "colab": {
          "base_uri": "https://localhost:8080/"
        },
        "id": "6gIH6nYtWcPM",
        "outputId": "068c4e26-b550-47df-b51c-2944da84eee8"
      },
      "execution_count": null,
      "outputs": [
        {
          "name": "stdout",
          "output_type": "stream",
          "text": [
            "1 1 1\n",
            "w(1, 1, 1) = 2\n",
            "2 2 2\n",
            "w(2, 2, 2) = 4\n",
            "10 4 6\n",
            "w(10, 4, 6) = 523\n",
            "50 50 50\n",
            "w(50, 50, 50) = 1048576\n",
            "-1 7 18\n",
            "w(-1, 7, 18) = 1\n",
            "-1 -1 -1\n"
          ]
        }
      ]
    },
    {
      "cell_type": "markdown",
      "source": [
        "- 시간 초과 방지"
      ],
      "metadata": {
        "id": "gKpKA7C1bseQ"
      }
    },
    {
      "cell_type": "code",
      "source": [
        "import sys\n",
        "\n",
        "result = [[[0 for i in range(21)] for _ in range(21)] for _ in range(21)]\n",
        "\n",
        "def w(a, b, c):\n",
        "    if (a <= 0) | (b <= 0) | (c <= 0):\n",
        "        return result[0][0][0]\n",
        "    elif (a > 20) | (b > 20) | (c > 20):\n",
        "        return result[20][20][20]\n",
        "    else:\n",
        "        return result[a][b][c]\n",
        "\n",
        "def make_w():\n",
        "    global result\n",
        "    for a in range(21):\n",
        "        for b in range(21):\n",
        "            for c in range(21):\n",
        "                if (a == 0) | (b == 0) | (c == 0):\n",
        "                    result[a][b][c] = 1\n",
        "                elif a < b < c:\n",
        "                    result[a][b][c] = result[a][b][c-1] + result[a][b-1][c-1] - result[a][b-1][c]\n",
        "                else:\n",
        "                    result[a][b][c] = result[a-1][b][c] + result[a-1][b-1][c] + result[a-1][b][c-1] - result[a-1][b-1][c-1]\n",
        "\n",
        "make_w()\n",
        "\n",
        "while True:\n",
        "    a, b, c = map(int, sys.stdin.readline().rstrip().split())\n",
        "    if (a == -1) & (b == -1) & (c == -1):\n",
        "        break\n",
        "    else:\n",
        "        print(f'w({a}, {b}, {c}) = {w(a, b, c)}')"
      ],
      "metadata": {
        "id": "ZvCoxBCFbTCk"
      },
      "execution_count": null,
      "outputs": []
    },
    {
      "cell_type": "markdown",
      "source": [
        "### 3) #1904 01타일"
      ],
      "metadata": {
        "id": "QihaPdfauCLz"
      }
    },
    {
      "cell_type": "markdown",
      "source": [
        "- Recursion"
      ],
      "metadata": {
        "id": "88BuuytXjZIm"
      }
    },
    {
      "cell_type": "code",
      "source": [
        "N = int(input())\n",
        "result_list = []\n",
        "\n",
        "def sequence(result):\n",
        "    if len(result) > N:\n",
        "        return\n",
        "    elif len(result) == N:\n",
        "        result_list.append(result)\n",
        "    else:\n",
        "        sequence(result + '00')\n",
        "        sequence(result + '1')\n",
        "        result = ''\n",
        "\n",
        "sequence('')\n",
        "print(len(result_list))"
      ],
      "metadata": {
        "colab": {
          "base_uri": "https://localhost:8080/"
        },
        "id": "9QxceYDlcyzm",
        "outputId": "b19967dd-f26b-49bf-a1a3-a0eb59668489"
      },
      "execution_count": null,
      "outputs": [
        {
          "output_type": "stream",
          "name": "stdout",
          "text": [
            "4\n",
            "5\n"
          ]
        }
      ]
    },
    {
      "cell_type": "markdown",
      "source": [
        "---\n",
        "- 런타임 에러 (RecursionError) 발생 \n",
        "- 최대 깊이를 넘었기 때문에 새로 지정해줘야 함 → 메모리 초과"
      ],
      "metadata": {
        "id": "i5iTpRO_jqzp"
      }
    },
    {
      "cell_type": "code",
      "source": [
        "import sys\n",
        "sys.setrecursionlimit(100000)\n",
        "\n",
        "N = int(sys.stdin.readline().rstrip())\n",
        "result_list = []\n",
        "\n",
        "def sequence(result):\n",
        "    if len(result) > N:\n",
        "        return\n",
        "    elif len(result) == N:\n",
        "        result_list.append(result)\n",
        "    else:\n",
        "        sequence(result + '00')\n",
        "        sequence(result + '1')\n",
        "        result = ''\n",
        "\n",
        "sequence('')\n",
        "print(len(result_list))"
      ],
      "metadata": {
        "id": "8fBtdP6xjvwS"
      },
      "execution_count": null,
      "outputs": []
    },
    {
      "cell_type": "markdown",
      "source": [
        "---\n",
        "- Dynamic Programming 사용\n",
        "> n = 1: `1` <br>\n",
        "> n = 2: `11`, `00` <br>\n",
        "> n = 3: `111` = 11 + 1, `100` = 1 + 00, `001` = 00 + 1  <br>\n",
        "> d[3] = set(d[1] + d[2], d[2] + d[1]) <br><br>\n",
        "> n = 4: `1111` = 111 + 1, `1001` = 100 + 1, `1100` = 1 + 100, `0011` = 001 + 1, `0000` = 00 + 00 <br>\n",
        "> d[4] = set(d[3] + d[1], d[1] + d[3] + `0000`) <br><br>\n",
        "> n = 5: `11111` = 1111 + 1, `10011` = 1001 + 1, `11001` = 1 + 1001, `11100` = 1 + 1100, `10011` = 1 + 0011, `00111` = 0011 + 1, `00001` = 0000 + 1, `10000` = 1 + 0000\n"
      ],
      "metadata": {
        "id": "jfe5Y75Uj5lN"
      }
    },
    {
      "cell_type": "code",
      "source": [
        "N = int(input())\n",
        "result_dict = {1: ['1'],\n",
        "               2: ['11', '00']}\n",
        "\n",
        "def sequence():\n",
        "    for i in range(3, N+1):\n",
        "        result = sum([[j+'1', '1'+j] for j in result_dict[i-1]], [])\n",
        "        if i % 2 == 0: #짝수의 경우\n",
        "            result.append('0'*i)\n",
        "        result_dict[i] = list(set(result))\n",
        "\n",
        "sequence()\n",
        "print(len(result_dict[N]))"
      ],
      "metadata": {
        "id": "2YrzdQjrj9bw",
        "colab": {
          "base_uri": "https://localhost:8080/"
        },
        "outputId": "1aebc7ad-7b71-47d0-85c0-386d0ee59e2e"
      },
      "execution_count": null,
      "outputs": [
        {
          "output_type": "stream",
          "name": "stdout",
          "text": [
            "5\n",
            "7\n"
          ]
        }
      ]
    },
    {
      "cell_type": "markdown",
      "source": [
        "---\n",
        "- 시간 초과\n",
        "- n = 5일 때 `00100`도 고려하지 못함\n",
        "- 직접 구하지 말고 경우의 수만 생각해보기\n",
        "> n = 1: `1` <br>\n",
        "> n = 2: `11`, `00` <br>\n",
        "> n = 3: `111` = 11 + 1, `001` = 00 + 1, `100` = 1 + 00 <br>\n",
        "> result_num[3] = result_num[2] + result_num[1] <br><br>\n",
        "> n = 4: `1111` = 111 + 1, `1001` = 100 + 1, `0011` = 001 + 1,`1100` = 11 + 00,  `0000` = 00 + 00 <br>\n",
        "> result_num[4] = result_num[3] + result_num[2] <br><br>\n",
        "> n = 5: `11111` = 1111 + 1, `10011` = 1001 + 1, `00111` = 0011 + 1, `11001` = 1100 + 1, `00001` = 0000 + 1, `11100` = 111 + 00, `00100` = 001 + 00, `10000` = 100 + 00 <br>\n",
        "> result_num[5] = result_num[4] + result_num[3]\n"
      ],
      "metadata": {
        "id": "pEEXcgvFz1n0"
      }
    },
    {
      "cell_type": "code",
      "source": [
        "N = int(input())\n",
        "result_num = [1, 2]  + [0] * (N-2)\n",
        "\n",
        "for i in range(2, N):\n",
        "    result_num[i] = (result_num[i-1] + result_num[i-2]) % 15746\n",
        "\n",
        "print(result_num[N-1])"
      ],
      "metadata": {
        "colab": {
          "base_uri": "https://localhost:8080/"
        },
        "id": "rdjaNyR-3E8N",
        "outputId": "6ec34708-6750-425f-c71d-8d93a58137d7"
      },
      "execution_count": null,
      "outputs": [
        {
          "output_type": "stream",
          "name": "stdout",
          "text": [
            "4\n",
            "5\n"
          ]
        }
      ]
    },
    {
      "cell_type": "markdown",
      "source": [
        "---\n",
        "- 시간이 332ms로 오래 걸림\n",
        "- 피보나치 수열의 일반항 이용"
      ],
      "metadata": {
        "id": "71ccsePp7nfp"
      }
    },
    {
      "cell_type": "code",
      "source": [
        "N = int(input())\n",
        "\n",
        "sqrt_5 = 5 ** 0.5\n",
        "result = (1/sqrt_5) * ( ((1+sqrt_5) / 2) ** (N+1) - ((1-sqrt_5) / 2) ** (N+1) )\n",
        "print(int(result))"
      ],
      "metadata": {
        "colab": {
          "base_uri": "https://localhost:8080/"
        },
        "id": "8y2g0D-X7ufJ",
        "outputId": "be8496e4-22c8-4118-c268-e1e48ccde864"
      },
      "execution_count": null,
      "outputs": [
        {
          "output_type": "stream",
          "name": "stdout",
          "text": [
            "4\n",
            "5\n"
          ]
        }
      ]
    },
    {
      "cell_type": "markdown",
      "source": [
        "----\n",
        "- 런타임 에러 (OverflowError) 발생\n",
        "- 피보나치 알고리즘 해결 방법 - 행렬 곱셈을 활용한 풀이 참고 <br> [참고] https://shoark7.github.io/programming/algorithm/%ED%94%BC%EB%B3%B4%EB%82%98%EC%B9%98-%EC%95%8C%EA%B3%A0%EB%A6%AC%EC%A6%98%EC%9D%84-%ED%95%B4%EA%B2%B0%ED%95%98%EB%8A%94-5%EA%B0%80%EC%A7%80-%EB%B0%A9%EB%B2%95\n",
        "- 피보나치 수 행렬화\n",
        "<br><a href='https://ifh.cc/v-1hck5h' target='_blank'><img src='https://ifh.cc/g/1hck5h.png' border='0'></a>\n",
        "- $2^{64}$를 구할 때 2를 64번 곱하는 것보다 $2^1 → 2^2 → 2^4 → 2^8 → 2^{16} → 2^{32} → 2^{64}$를 구하는 것이 더 빠름 <br>\n",
        "(시간 복잡도: $O(n) → O(log_2n)$\n",
        "<br><br>\n",
        "- 2차원 배열을 만들 때 주의할 점\n",
        "    1. `new = [[0] * size] * size`\n",
        "    2. `new = [[0 for _ in range(size)] for _ in range(size)]`\n",
        "    - 두 방법은 보기에는 똑같아 보이지만 값을 입력하는 과정에서 다름\n",
        "    - 1차원 list는 `*`을 이용해서 만들어도 되지만 2차원부터는 for문을 이용하는 것이 안전함 <br> [참고] https://wandukong.tistory.com/11\n",
        "<br><br>\n",
        "- 시간이 476ms로 더 오래 걸림.. "
      ],
      "metadata": {
        "id": "1WrThePV84Yb"
      }
    },
    {
      "cell_type": "code",
      "source": [
        "N = int(input())\n",
        "\n",
        "def fibo(n):\n",
        "    SIZE = 2\n",
        "    ZERO = [[1, 0], [0, 1]]\n",
        "    BASE = [[1, 1], [1, 0]] #곱셈할 기본 행렬\n",
        "\n",
        "    def matrix_mul(a, b, size=SIZE): #두 행렬의 곱 구하는 함수\n",
        "        new = [[0 for _ in range(size)] for _ in range(size)]\n",
        "\n",
        "        for i in range(size):\n",
        "            for j in range(size):\n",
        "                for k in range(size):\n",
        "                    new[i][j] += a[i][k] * b[k][j]\n",
        "        return new\n",
        "    \n",
        "    def get_nth(n): #기본 행렬을 n번 곱한 행렬 만드는 함수\n",
        "        matrix = ZERO.copy()\n",
        "        k = 0\n",
        "        tmp = BASE.copy()\n",
        "\n",
        "        while 2 ** k <= n:\n",
        "            if n & (1 << k) != 0: #n을 2진수로 변환했을 때 k번째 자리수가 1로 채워져 있는 경우\n",
        "                matrix = matrix_mul(matrix, tmp)\n",
        "            k += 1\n",
        "            tmp = matrix_mul(tmp, tmp)\n",
        "        return matrix\n",
        "    \n",
        "    return get_nth(n)[1][0] #or [0][1]\n",
        "\n",
        "print(fibo(N+1) % 15746)"
      ],
      "metadata": {
        "colab": {
          "base_uri": "https://localhost:8080/"
        },
        "id": "kXM3LcVI9sz-",
        "outputId": "9da92550-4ce6-4006-f03b-e4ff64b468f8"
      },
      "execution_count": null,
      "outputs": [
        {
          "output_type": "stream",
          "name": "stdout",
          "text": [
            "4\n",
            "5\n"
          ]
        }
      ]
    },
    {
      "cell_type": "markdown",
      "source": [
        "### 4) #9461 파도반 수열"
      ],
      "metadata": {
        "id": "PJrW7Wq7uEvY"
      }
    },
    {
      "cell_type": "markdown",
      "source": [
        "- P(N): 나선에 있는 정삼각형의 변의 길이\n",
        "<br><a href='https://ifh.cc/v-6FhjAv' target='_blank'><img src='https://ifh.cc/g/6FhjAv.png' border='0'></a>\n",
        "    - P(1) = 1\n",
        "    - P(2) = 1\n",
        "    - P(3) = 1\n",
        "    - P(4) = 2\n",
        "    - P(5) = 2\n",
        "    - P(6) = P(1) + P(5) = 3\n",
        "    - P(7) = P(2) + P(6) = 4\n",
        "    - P(8) = P(3) + P(7) = 5\n",
        "    - P(9) = P(4) + P(8) = 7\n",
        "    - P(10) = P(5) + P(9) = 9\n",
        "    - P(11) = P(6) + P(10) = 12\n",
        "    - P(n) = P(n-5) + P(n-1)\n"
      ],
      "metadata": {
        "id": "tc7Q62V5isQc"
      }
    },
    {
      "cell_type": "code",
      "source": [
        "t = int(input())\n",
        "\n",
        "def P(n):\n",
        "    global result_list\n",
        "    for i in range(6, n+1):\n",
        "        result_list[i] = result_list[i-5] + result_list[i-1]\n",
        "\n",
        "num_list = []\n",
        "for _ in range(t):\n",
        "    num_list.append(int(input()))\n",
        "N = max(num_list)\n",
        "\n",
        "result_list = [0, 1, 1, 1, 2, 2] + [0] * (N-5)\n",
        "P(N)\n",
        "\n",
        "for i in range(t):\n",
        "    print(result_list[num_list[i]])"
      ],
      "metadata": {
        "colab": {
          "base_uri": "https://localhost:8080/"
        },
        "id": "3gmbP5JEidy5",
        "outputId": "cada8063-aef1-480e-bd48-fdd4e76d7cc8"
      },
      "execution_count": null,
      "outputs": [
        {
          "output_type": "stream",
          "name": "stdout",
          "text": [
            "2\n",
            "6\n",
            "12\n",
            "3\n",
            "16\n"
          ]
        }
      ]
    },
    {
      "cell_type": "markdown",
      "source": [
        "- 시간 초과 방지"
      ],
      "metadata": {
        "id": "qZQcy-UTqzHr"
      }
    },
    {
      "cell_type": "code",
      "source": [
        "import sys\n",
        "\n",
        "t = int(input())\n",
        "\n",
        "def P(n):\n",
        "    global result_list\n",
        "    for i in range(6, n+1):\n",
        "        result_list[i] = result_list[i-5] + result_list[i-1]\n",
        "\n",
        "num_list = []\n",
        "for _ in range(t):\n",
        "    num_list.append(int(sys.stdin.readline().rstrip()))\n",
        "N = max(num_list)\n",
        "\n",
        "result_list = [0, 1, 1, 1, 2, 2] + [0] * (N-5)\n",
        "P(N)\n",
        "\n",
        "for i in range(t):\n",
        "    print(result_list[num_list[i]])"
      ],
      "metadata": {
        "id": "SS1Jr4rsq9Ce"
      },
      "execution_count": null,
      "outputs": []
    },
    {
      "cell_type": "markdown",
      "source": [
        "---\n",
        "- N의 범위가 1~100으로 적으므로 미리 만들어둬도 됨"
      ],
      "metadata": {
        "id": "POMqHAcdrPBZ"
      }
    },
    {
      "cell_type": "code",
      "source": [
        "t = int(input())\n",
        "\n",
        "result_list = [0, 1, 1, 1, 2, 2] + [0] * (95)\n",
        "for i in range(6, 101):\n",
        "    result_list[i] = result_list[i-5] + result_list[i-1]\n",
        "\n",
        "for _ in range(t):\n",
        "    N = int(input())\n",
        "    print(result_list[N])"
      ],
      "metadata": {
        "colab": {
          "base_uri": "https://localhost:8080/"
        },
        "id": "MOXKNhCprUeS",
        "outputId": "325b3177-b48e-45b2-d0aa-4d8966a912a3"
      },
      "execution_count": null,
      "outputs": [
        {
          "output_type": "stream",
          "name": "stdout",
          "text": [
            "2\n",
            "6\n",
            "3\n",
            "12\n",
            "16\n"
          ]
        }
      ]
    },
    {
      "cell_type": "code",
      "source": [
        "import sys\n",
        "\n",
        "t = int(input())\n",
        "\n",
        "result_list = [0, 1, 1, 1, 2, 2] + [0] * (95)\n",
        "for i in range(6, 101):\n",
        "    result_list[i] = result_list[i-5] + result_list[i-1]\n",
        "\n",
        "for _ in range(t):\n",
        "    N = int(sys.stdin.readline().rstrip())\n",
        "    print(result_list[N])"
      ],
      "metadata": {
        "id": "-1qC0yCorosN"
      },
      "execution_count": null,
      "outputs": []
    },
    {
      "cell_type": "markdown",
      "source": [
        "### 5) #1912 연속합"
      ],
      "metadata": {
        "id": "tmjSejTiuG4B"
      }
    },
    {
      "cell_type": "code",
      "source": [
        "n = int(input())\n",
        "num_list = list(map(int, input().split()))\n",
        "max_num = max(num_list) \n",
        "\n",
        "def cont_sum(start):\n",
        "    global max_num\n",
        "\n",
        "    if start == n:\n",
        "        return\n",
        "    \n",
        "    sum_num = 0\n",
        "    for i in range(start, n):\n",
        "        sum_num += num_list[i]\n",
        "        if sum_num > max_num:\n",
        "            max_num = sum_num\n",
        "\n",
        "    cont_sum(start+1)\n",
        "\n",
        "cont_sum(0)\n",
        "print(max_num)"
      ],
      "metadata": {
        "colab": {
          "base_uri": "https://localhost:8080/"
        },
        "id": "OOso_IfZsm7C",
        "outputId": "a01173ac-e61e-4d83-863e-b437766aeefa"
      },
      "execution_count": null,
      "outputs": [
        {
          "output_type": "stream",
          "name": "stdout",
          "text": [
            "5\n",
            "-1 -2 -3 -4 -5\n",
            "-1\n"
          ]
        }
      ]
    },
    {
      "cell_type": "markdown",
      "source": [
        "---\n",
        "- 시간 초과\n",
        "- 다른 코드 참고 <br> [참고] https://velog.io/@hygge/%EC%95%8C%EA%B3%A0%EB%A6%AC%EC%A6%98Python-%EB%B0%B1%EC%A4%80-1912-%EC%97%B0%EC%86%8D%ED%95%A9-DP\n",
        "- start index를 직접 옮겨줄 필요 없이, max()로 알아서 이동"
      ],
      "metadata": {
        "id": "xItEU4GBwABU"
      }
    },
    {
      "cell_type": "code",
      "source": [
        "n = int(input())\n",
        "num_list = list(map(int, input().split()))\n",
        "\n",
        "sum_list = [0] * n\n",
        "sum_list[0] = num_list[0]\n",
        "\n",
        "for i in range(1, n):\n",
        "    sum_list[i] = max(num_list[i], sum_list[i-1] + num_list[i])\n",
        "\n",
        "print(max(sum_list))"
      ],
      "metadata": {
        "colab": {
          "base_uri": "https://localhost:8080/"
        },
        "id": "Jp2-UfBr1B7S",
        "outputId": "0c0803ba-751a-481d-d89e-4499d1292dfc"
      },
      "execution_count": null,
      "outputs": [
        {
          "output_type": "stream",
          "name": "stdout",
          "text": [
            "5\n",
            "-1 -2 -3 -4 -5\n",
            "-1\n"
          ]
        }
      ]
    },
    {
      "cell_type": "markdown",
      "source": [
        "---\n",
        "- 시간이 96ms로 오래 걸려서 코드 수정 → 72ms로 감소\n",
        "- 굳이 중간 과정을 저장할 필요 없음"
      ],
      "metadata": {
        "id": "AGGG8jOK7rLR"
      }
    },
    {
      "cell_type": "code",
      "source": [
        "n = int(input())\n",
        "num_list = list(map(int, input().split()))\n",
        "max_num = max(num_list) \n",
        "\n",
        "sum_num = 0\n",
        "for i in num_list:\n",
        "    if sum_num < 0: #누적합이 음수인 경우에는 다시 시작\n",
        "        sum_num = 0\n",
        "\n",
        "    sum_num += i\n",
        "\n",
        "    if sum_num > max_num:\n",
        "        max_num = sum_num\n",
        "\n",
        "print(max_num)"
      ],
      "metadata": {
        "colab": {
          "base_uri": "https://localhost:8080/"
        },
        "id": "KZotl_hP6Z8O",
        "outputId": "8b988981-003e-4217-e60c-4f3356bbbf7b"
      },
      "execution_count": null,
      "outputs": [
        {
          "output_type": "stream",
          "name": "stdout",
          "text": [
            "5\n",
            "-1 -2 -3 -4 -5\n",
            "-1\n"
          ]
        }
      ]
    },
    {
      "cell_type": "markdown",
      "source": [
        "### 6) #1149 RGB거리"
      ],
      "metadata": {
        "id": "0PvKktfXuJhU"
      }
    },
    {
      "cell_type": "markdown",
      "source": [
        "- 3가지 후보를 둔 후 앞의 선택과 색이 다른 나머지 둘 중 작은 것을 더해가면서 값 더하기\n",
        "- 뒤쪽에 있는 집 중에서 최솟값을 구해 더하면 계속해서 이어질 수 없기 때문에 전에 있는 것을 가져옴 <br> [참고] https://namhandong.tistory.com/131"
      ],
      "metadata": {
        "id": "po16zoRgH7K7"
      }
    },
    {
      "cell_type": "code",
      "source": [
        "n = int(input())\n",
        "house = [list(map(int, input().split())) for _ in range(n)]\n",
        "\n",
        "for i in range(1, n):\n",
        "    house[i][0] += min(house[i-1][1], house[i-1][2])\n",
        "    house[i][1] += min(house[i-1][0], house[i-1][2])\n",
        "    house[i][2] += min(house[i-1][0], house[i-1][1])\n",
        "\n",
        "print(min(house[n-1]))"
      ],
      "metadata": {
        "colab": {
          "base_uri": "https://localhost:8080/"
        },
        "id": "mK2WT_Bm7-3u",
        "outputId": "75312cb8-e9a1-42c4-8d77-d55f744b58c8"
      },
      "execution_count": null,
      "outputs": [
        {
          "output_type": "stream",
          "name": "stdout",
          "text": [
            "8\n",
            "71 39 44\n",
            "32 83 55\n",
            "51 37 63\n",
            "89 29 100\n",
            "83 58 11\n",
            "65 13 15\n",
            "47 25 29\n",
            "60 66 19\n",
            "253\n"
          ]
        }
      ]
    },
    {
      "cell_type": "markdown",
      "source": [
        "- 시간 초과 방지"
      ],
      "metadata": {
        "id": "8mXVYKyPO42r"
      }
    },
    {
      "cell_type": "code",
      "source": [
        "import sys\n",
        "\n",
        "n = int(input())\n",
        "house = [list(map(int, sys.stdin.readline().rstrip().split())) for _ in range(n)]\n",
        "\n",
        "for i in range(1, n):\n",
        "    house[i][0] += min(house[i-1][1], house[i-1][2])\n",
        "    house[i][1] += min(house[i-1][0], house[i-1][2])\n",
        "    house[i][2] += min(house[i-1][0], house[i-1][1])\n",
        "\n",
        "print(min(house[n-1]))"
      ],
      "metadata": {
        "id": "_uYWFXXhO6O8"
      },
      "execution_count": null,
      "outputs": []
    },
    {
      "cell_type": "markdown",
      "source": [
        "### 7) #1932 정수 삼각형"
      ],
      "metadata": {
        "id": "Ru9Jz8fyuNP1"
      }
    },
    {
      "cell_type": "markdown",
      "source": [
        "``` python\n",
        "7\n",
        "3 8 -> 10 15\n",
        "8 1 0 -> 18 (10, 15 중 큰거 + 1) 15\n",
        "2 7 4 4 -> 20 (18, 16 중 큰 거 + 7) (16, 15 중 큰 거 + 4) 19\n",
        "4 5 2 6 5 -> 24 (20, 25 중 큰 거 + 5) (25, 20 + 2) (20, 19 + 6) 24\n",
        "\n",
        "num_list[i][0] += num_list[i-1][0]\n",
        "num_list[i][k] += num_list[i-1][k-1] #k는 한 줄의 길이\n",
        "num_list[i][j] += max(num_list[i-1][j-1], num_list[i-1][j])\n",
        "```\n"
      ],
      "metadata": {
        "id": "zgFlj6W0hKnR"
      }
    },
    {
      "cell_type": "code",
      "source": [
        "n = int(input())\n",
        "num_list = [list(map(int, input().split())) for _ in range(n)]\n",
        "\n",
        "k = 1\n",
        "for i in range(1, n):\n",
        "    for j in range(i+1):\n",
        "        #print(f'(i, j): ({i}, {j}), k: {k}')\n",
        "        if j == 0:\n",
        "            num_list[i][0] += num_list[i-1][0]\n",
        "        elif j == k:\n",
        "            num_list[i][k] += num_list[i-1][k-1]\n",
        "            k += 1\n",
        "        else:\n",
        "            num_list[i][j] += max(num_list[i-1][j-1], num_list[i-1][j])\n",
        "        \n",
        "\n",
        "print(max(num_list[n-1]))"
      ],
      "metadata": {
        "id": "HLQgpWcbPADr",
        "colab": {
          "base_uri": "https://localhost:8080/"
        },
        "outputId": "d5d44f0a-b40f-482a-92dd-1b0d7f481681"
      },
      "execution_count": 21,
      "outputs": [
        {
          "output_type": "stream",
          "name": "stdout",
          "text": [
            "5\n",
            "7\n",
            "3 8\n",
            "8 1 0\n",
            "2 7 4 4\n",
            "4 5 2 6 5\n",
            "30\n"
          ]
        }
      ]
    },
    {
      "cell_type": "code",
      "source": [
        "import sys\n",
        "\n",
        "n = int(input())\n",
        "num_list = [list(map(int, sys.stdin.readline().rstrip().split())) for _ in range(n)]\n",
        "\n",
        "k = 1\n",
        "for i in range(1, n):\n",
        "    for j in range(i+1):\n",
        "        if j == 0:\n",
        "            num_list[i][0] += num_list[i-1][0]\n",
        "        elif j == k:\n",
        "            num_list[i][k] += num_list[i-1][k-1]\n",
        "            k += 1\n",
        "        else:\n",
        "            num_list[i][j] += max(num_list[i-1][j-1], num_list[i-1][j])\n",
        "\n",
        "print(max(num_list[n-1]))"
      ],
      "metadata": {
        "id": "Dw6wN9-7m266"
      },
      "execution_count": null,
      "outputs": []
    },
    {
      "cell_type": "markdown",
      "source": [
        "---\n",
        "- 시간이 180ms로 오래 걸림 → 120ms로 감소\n",
        "- 위에서 내려오지 말고 밑에서부터 최댓값을 선택하는 방식으로 구현"
      ],
      "metadata": {
        "id": "_Fg75LVFnNqj"
      }
    },
    {
      "cell_type": "code",
      "source": [
        "n = int(input())\n",
        "num_list = [list(map(int, input().split())) for _ in range(n)]\n",
        "\n",
        "for i in range(n-2, -1, -1):\n",
        "    for j in range(i+1):\n",
        "        #print(f'(i, j): ({i}, {j}), k: {k}')\n",
        "        num_list[i][j] += max(num_list[i+1][j], num_list[i+1][j+1])\n",
        "  \n",
        "print(num_list[0][0])"
      ],
      "metadata": {
        "colab": {
          "base_uri": "https://localhost:8080/"
        },
        "id": "cSqzgQ45nSeS",
        "outputId": "5c590783-e9d4-4c8d-f674-eca2858a723a"
      },
      "execution_count": 24,
      "outputs": [
        {
          "output_type": "stream",
          "name": "stdout",
          "text": [
            "5\n",
            "7\n",
            "3 8\n",
            "8 1 0\n",
            "2 7 4 4\n",
            "4 5 2 6 5\n",
            "(i, j): (3, 0), k: 5\n",
            "(i, j): (3, 1), k: 5\n",
            "(i, j): (3, 2), k: 5\n",
            "(i, j): (3, 3), k: 5\n",
            "(i, j): (2, 0), k: 5\n",
            "(i, j): (2, 1), k: 5\n",
            "(i, j): (2, 2), k: 5\n",
            "(i, j): (1, 0), k: 5\n",
            "(i, j): (1, 1), k: 5\n",
            "(i, j): (0, 0), k: 5\n",
            "30\n"
          ]
        }
      ]
    },
    {
      "cell_type": "markdown",
      "source": [
        "- 시간 초과 방지"
      ],
      "metadata": {
        "id": "7K238W-4pU_L"
      }
    },
    {
      "cell_type": "code",
      "source": [
        "import sys\n",
        "\n",
        "n = int(input())\n",
        "num_list = [list(map(int, sys.stdin.readline().rstrip().split())) for _ in range(n)]\n",
        "\n",
        "for i in range(n-2, -1, -1):\n",
        "    for j in range(i+1):\n",
        "        num_list[i][j] += max(num_list[i+1][j], num_list[i+1][j+1])\n",
        "  \n",
        "print(num_list[0][0])"
      ],
      "metadata": {
        "id": "6GYo29W2pWSJ"
      },
      "execution_count": null,
      "outputs": []
    },
    {
      "cell_type": "markdown",
      "source": [
        "### 8) #2579 계단 오르기"
      ],
      "metadata": {
        "id": "k0aFjiySuRH7"
      }
    },
    {
      "cell_type": "code",
      "source": [
        "n = int(input())\n",
        "step = [int(input()) for _ in range(n)]\n",
        "result = step[-1]\n",
        "index = [n-1]\n",
        "\n",
        "while(index[-1] >= 2):\n",
        "    index.append(step.index(max(step[index[-1]-1], step[index[-1]-2])))\n",
        "    result += step[index[-1]]\n",
        "\n",
        "if (1 in index) & (2 not in index):\n",
        "    result += step[0]\n",
        "\n",
        "print(result)"
      ],
      "metadata": {
        "colab": {
          "base_uri": "https://localhost:8080/"
        },
        "id": "hj7Es4LrqVUK",
        "outputId": "bb66f745-02f3-47dd-f8c7-a0b8108e2d3b"
      },
      "execution_count": 20,
      "outputs": [
        {
          "output_type": "stream",
          "name": "stdout",
          "text": [
            "6\n",
            "10\n",
            "20\n",
            "15\n",
            "25\n",
            "10\n",
            "20\n",
            "75\n"
          ]
        }
      ]
    },
    {
      "cell_type": "markdown",
      "source": [
        "- 시간 초과 방지"
      ],
      "metadata": {
        "id": "icOFbMUFyV7z"
      }
    },
    {
      "cell_type": "code",
      "source": [
        "import sys\n",
        "\n",
        "n = int(input())\n",
        "step = [int(sys.stdin.readline().rstrip()) for _ in range(n)]\n",
        "result = step[-1]\n",
        "index = [n-1]\n",
        "\n",
        "while(index[-1] >= 2):\n",
        "    index.append(step.index(max(step[index[-1]-1], step[index[-1]-2])))\n",
        "    result += step[index[-1]]\n",
        "\n",
        "if (1 in index) & (2 not in index):\n",
        "    result += step[0]\n",
        "\n",
        "print(result)"
      ],
      "metadata": {
        "id": "K4Z8-EC6yXRW"
      },
      "execution_count": null,
      "outputs": []
    },
    {
      "cell_type": "markdown",
      "source": [
        "----\n",
        "- 틀림\n",
        "- `step.index()`를 사용하는 과정에서 같은 값이 step에 두 개 이상 존재하면 올바른 index값을 반환하지 못할 수 있음\n",
        "- 연속으로 3개 이상의 계단을 밟는 경우는 제외하지 않음"
      ],
      "metadata": {
        "id": "HVSw4c-HyjH6"
      }
    },
    {
      "cell_type": "code",
      "source": [
        "n = int(input())\n",
        "step = [int(input()) for _ in range(n)]\n",
        "index = [n-1]\n",
        "i = 1\n",
        "\n",
        "while(index[-1]-i >= 1):\n",
        "    print(f'{index}')\n",
        "    if step[index[-1]-i] > step[index[-1]-(i+1)]:\n",
        "        index.append(index[-1]-i)\n",
        "    else:\n",
        "        index.append(index[-1]-(i+1))\n",
        "\n",
        "    if (index[-2] - index[-1]) == 1: #연속으로 2계단이 들어가면\n",
        "        i = 2\n",
        "    else:\n",
        "        i = 1\n",
        "\n",
        "if (1 in index) & (2 not in index):\n",
        "    index.append(0)\n",
        "\n",
        "result = step[-1]\n",
        "for i in index:\n",
        "    result += step[i]\n",
        "\n",
        "print(result)"
      ],
      "metadata": {
        "colab": {
          "base_uri": "https://localhost:8080/"
        },
        "id": "UDlXhKlRykvk",
        "outputId": "62fea1c1-184a-44ae-b18b-5cbb15e8b28a"
      },
      "execution_count": 41,
      "outputs": [
        {
          "output_type": "stream",
          "name": "stdout",
          "text": [
            "6\n",
            "6\n",
            "100\n",
            "1\n",
            "1\n",
            "100\n",
            "1\n",
            "[5]\n",
            "[5, 4]\n",
            "208\n"
          ]
        }
      ]
    },
    {
      "cell_type": "markdown",
      "source": [
        "- [5,4]가 채워진 상황에서 [2,1]을 비교할 게 아니라 2를 무조건 밟아야 함"
      ],
      "metadata": {
        "id": "0Zw3elYk3nBb"
      }
    },
    {
      "cell_type": "code",
      "source": [
        "index"
      ],
      "metadata": {
        "colab": {
          "base_uri": "https://localhost:8080/"
        },
        "id": "7mWYQa1z2tyo",
        "outputId": "c8c5b42f-b8c0-45f6-ec53-dda050012d23"
      },
      "execution_count": 42,
      "outputs": [
        {
          "output_type": "execute_result",
          "data": {
            "text/plain": [
              "[5, 4, 1, 0]"
            ]
          },
          "metadata": {},
          "execution_count": 42
        }
      ]
    },
    {
      "cell_type": "code",
      "source": [
        "import sys\n",
        "\n",
        "n = int(input())\n",
        "step = [int(sys.stdin.readline().rstrip()) for _ in range(n)]\n",
        "result = step[-1]\n",
        "index = [n-1]\n",
        "i = 1\n",
        "\n",
        "while(index[-1] >= 2):\n",
        "    if step[index[-1]-i] > step[index[-1]-(i+1)]:\n",
        "        index.append(index[-1]-i)\n",
        "    else:\n",
        "        index.append(index[-1]-(i+1))\n",
        "    result += step[index[-1]]\n",
        "\n",
        "    if (index[-2] - index[-1]) == 1: #연속으로 2계단이 들어가면\n",
        "        i = 2\n",
        "    else:\n",
        "        i = 1\n",
        "\n",
        "if (1 in index) & (2 not in index):\n",
        "    result += step[0]\n",
        "\n",
        "print(result)"
      ],
      "metadata": {
        "id": "Ko6eflPx16Ki"
      },
      "execution_count": null,
      "outputs": []
    }
  ]
}