{
  "nbformat": 4,
  "nbformat_minor": 0,
  "metadata": {
    "colab": {
      "provenance": [],
      "authorship_tag": "ABX9TyOiZZXbrrxTHXh8Vv1egOQx",
      "include_colab_link": true
    },
    "kernelspec": {
      "name": "python3",
      "display_name": "Python 3"
    },
    "language_info": {
      "name": "python"
    }
  },
  "cells": [
    {
      "cell_type": "markdown",
      "metadata": {
        "id": "view-in-github",
        "colab_type": "text"
      },
      "source": [
        "<a href=\"https://colab.research.google.com/github/kimhj010502/BAEKJOON/blob/main/STEP02_%EC%A1%B0%EA%B1%B4%EB%AC%B8.ipynb\" target=\"_parent\"><img src=\"https://colab.research.google.com/assets/colab-badge.svg\" alt=\"Open In Colab\"/></a>"
      ]
    },
    {
      "cell_type": "markdown",
      "metadata": {
        "id": "TzSGa08QXuST"
      },
      "source": [
        "### 1) #1330 두 수 비교하기"
      ]
    },
    {
      "cell_type": "code",
      "source": [
        "a, b = input().split()\n",
        "a, b = int(a), int(b)\n",
        "\n",
        "if a > b:\n",
        "    print('>')\n",
        "elif a < b:\n",
        "    print('<')\n",
        "else:\n",
        "    print('==')"
      ],
      "metadata": {
        "colab": {
          "base_uri": "https://localhost:8080/"
        },
        "id": "Mq2AoltOxMuy",
        "outputId": "edafbc7c-b742-4e98-885a-e36b87203ce3"
      },
      "execution_count": 6,
      "outputs": [
        {
          "output_type": "stream",
          "name": "stdout",
          "text": [
            "5 5\n",
            "==\n"
          ]
        }
      ]
    },
    {
      "cell_type": "markdown",
      "metadata": {
        "id": "_niBlEq5XuSY"
      },
      "source": [
        "### 2) #9498 시험 성적"
      ]
    },
    {
      "cell_type": "code",
      "execution_count": 8,
      "metadata": {
        "id": "qRH_V2FFxzi5",
        "outputId": "ab94330d-90c5-4651-feb9-5ee224366fbf",
        "colab": {
          "base_uri": "https://localhost:8080/"
        }
      },
      "outputs": [
        {
          "output_type": "stream",
          "name": "stdout",
          "text": [
            "100\n",
            "A\n"
          ]
        }
      ],
      "source": [
        "a = int(input())\n",
        "\n",
        "if a >= 90 and a<=100:\n",
        "    print('A')\n",
        "elif a >= 80:\n",
        "    print('B')\n",
        "elif a >= 70:\n",
        "    print('C')\n",
        "elif a >= 60:\n",
        "    print('D')\n",
        "else:\n",
        "    print('F')"
      ]
    },
    {
      "cell_type": "markdown",
      "metadata": {
        "id": "IVG1CfHoXuSa"
      },
      "source": [
        "### 3) #2753 윤년"
      ]
    },
    {
      "cell_type": "code",
      "source": [
        "year = int(input())\n",
        "leap_year = 0\n",
        "\n",
        "if year % 4 == 0:\n",
        "    if (year % 100 != 0) | (year % 400 == 0):\n",
        "        leap_year = 1\n",
        "print(leap_year)"
      ],
      "metadata": {
        "colab": {
          "base_uri": "https://localhost:8080/"
        },
        "id": "YnpeGor0xROG",
        "outputId": "8afbc1c0-b158-45ac-cdde-0b93f14949a3"
      },
      "execution_count": 11,
      "outputs": [
        {
          "output_type": "stream",
          "name": "stdout",
          "text": [
            "1999\n",
            "0\n"
          ]
        }
      ]
    },
    {
      "cell_type": "markdown",
      "metadata": {
        "id": "-OGkPUUkXuSZ"
      },
      "source": [
        "### 4) #14681 사분면 고르기"
      ]
    },
    {
      "cell_type": "code",
      "source": [
        "x = int(input())\n",
        "y = int(input())\n",
        "\n",
        "if (x > 0) & (y > 0):\n",
        "    print(1)\n",
        "elif (x < 0) & (y > 0):\n",
        "    print(2)\n",
        "elif (x < 0) & (y < 0):\n",
        "    print(3)\n",
        "elif (x > 0) & (y < 0):\n",
        "    print(4)"
      ],
      "metadata": {
        "colab": {
          "base_uri": "https://localhost:8080/"
        },
        "id": "Cxy4Z09IxRtD",
        "outputId": "2bf809a9-c766-4cb3-afc2-c8395a4f4303"
      },
      "execution_count": 13,
      "outputs": [
        {
          "output_type": "stream",
          "name": "stdout",
          "text": [
            "9\n",
            "-13\n",
            "4\n"
          ]
        }
      ]
    },
    {
      "cell_type": "markdown",
      "metadata": {
        "id": "CazY9feJXuSa"
      },
      "source": [
        "### 5) #2884 알람 시계"
      ]
    },
    {
      "cell_type": "code",
      "source": [
        "h, m = map(int, input().split())\n",
        "\n",
        "if m >= 45:\n",
        "    m -= 45\n",
        "else:\n",
        "    m += 15\n",
        "    if h != 0:\n",
        "        h -= 1\n",
        "    else:\n",
        "        h = 23\n",
        "\n",
        "print('{0} {1}'.format(h, m))"
      ],
      "metadata": {
        "colab": {
          "base_uri": "https://localhost:8080/"
        },
        "id": "H9w0QcDpxSPQ",
        "outputId": "69608db1-9656-4620-e18c-b07f5390902b"
      },
      "execution_count": 20,
      "outputs": [
        {
          "output_type": "stream",
          "name": "stdout",
          "text": [
            "23 40\n",
            "22 55\n"
          ]
        }
      ]
    },
    {
      "cell_type": "markdown",
      "metadata": {
        "id": "G-nQv6mrXuSb"
      },
      "source": [
        "### 6) #2525 오븐 시계"
      ]
    },
    {
      "cell_type": "code",
      "execution_count": 21,
      "metadata": {
        "id": "FTDoXwGKxzi4",
        "outputId": "5af80a5c-bcdd-4630-f15e-c675f011ff1f",
        "colab": {
          "base_uri": "https://localhost:8080/"
        }
      },
      "outputs": [
        {
          "output_type": "stream",
          "name": "stdout",
          "text": [
            "23 48\n",
            "25\n",
            "0 13\n"
          ]
        }
      ],
      "source": [
        "a, b = map(int, input().split())\n",
        "c = int(input())\n",
        "\n",
        "hour = a\n",
        "minute = b + c\n",
        "while True:\n",
        "    if minute >= 60:\n",
        "        minute -= 60\n",
        "        hour += 1\n",
        "    else:\n",
        "        break\n",
        "if hour >= 24:\n",
        "    hour -= 24\n",
        "print('{0} {1}'.format(hour,minute))"
      ]
    },
    {
      "cell_type": "markdown",
      "source": [
        "### 7) #2480 주사위 세개"
      ],
      "metadata": {
        "id": "It3fEYBJZQx8"
      }
    },
    {
      "cell_type": "code",
      "source": [
        "import statistics\n",
        "\n",
        "a, b, c = map(int, input().split())\n",
        "number_list = []\n",
        "number_list.append(a)\n",
        "number_list.append(b)\n",
        "number_list.append(c)\n",
        "num = 0\n",
        "\n",
        "if a == b:\n",
        "    num += 1\n",
        "if a == c:\n",
        "    num += 1\n",
        "if b == c:\n",
        "    num += 1\n",
        "\n",
        "if num >= 2:\n",
        "    money = 10000 + a * 1000\n",
        "elif num == 1:\n",
        "    money = 1000 + statistics.mode(number_list) * 100\n",
        "elif num == 0:\n",
        "    money = max(number_list) * 100\n",
        "print(money)"
      ],
      "metadata": {
        "colab": {
          "base_uri": "https://localhost:8080/"
        },
        "id": "Mm9DUHQNxTVd",
        "outputId": "e8b7425e-fcd6-4e4f-ce32-38e87455dc57"
      },
      "execution_count": 28,
      "outputs": [
        {
          "output_type": "stream",
          "name": "stdout",
          "text": [
            "6 2 5\n",
            "600\n"
          ]
        }
      ]
    }
  ]
}