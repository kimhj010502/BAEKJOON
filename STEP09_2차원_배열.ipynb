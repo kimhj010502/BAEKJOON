{
  "nbformat": 4,
  "nbformat_minor": 0,
  "metadata": {
    "colab": {
      "provenance": [],
      "authorship_tag": "ABX9TyMYIY+73NycWEyXGUUQAiOY",
      "include_colab_link": true
    },
    "kernelspec": {
      "name": "python3",
      "display_name": "Python 3"
    },
    "language_info": {
      "name": "python"
    }
  },
  "cells": [
    {
      "cell_type": "markdown",
      "metadata": {
        "id": "view-in-github",
        "colab_type": "text"
      },
      "source": [
        "<a href=\"https://colab.research.google.com/github/kimhj010502/BAEKJOON/blob/main/STEP09_2%EC%B0%A8%EC%9B%90_%EB%B0%B0%EC%97%B4.ipynb\" target=\"_parent\"><img src=\"https://colab.research.google.com/assets/colab-badge.svg\" alt=\"Open In Colab\"/></a>"
      ]
    },
    {
      "cell_type": "markdown",
      "metadata": {
        "id": "TzSGa08QXuST"
      },
      "source": [
        "### 1) #2738 행렬 덧셈"
      ]
    },
    {
      "cell_type": "markdown",
      "source": [
        "#### [내 코드]"
      ],
      "metadata": {
        "id": "gn-j07jEt-gN"
      }
    },
    {
      "cell_type": "code",
      "source": [
        "n, m = map(int, input().split())\n",
        "\n",
        "a = [[0 for row in range(m)] for col in range(n)]\n",
        "for i in range(n):\n",
        "    a[i] = list(map(int, input().split()))\n",
        "\n",
        "b = [[0 for row in range(m)] for col in range(n)]\n",
        "for i in range(n):\n",
        "    b[i] = list(map(int, input().split()))\n",
        "\n",
        "for i in range(n):\n",
        "    for j in range(m):\n",
        "        if j == (m-1):\n",
        "            print(a[i][j] + b[i][j])\n",
        "        else:\n",
        "            print(a[i][j] + b[i][j], end=' ')"
      ],
      "metadata": {
        "colab": {
          "base_uri": "https://localhost:8080/"
        },
        "id": "5Bf5MqBNrdak",
        "outputId": "09e81066-0f59-4be1-89f9-95868b081ff9"
      },
      "execution_count": 7,
      "outputs": [
        {
          "output_type": "stream",
          "name": "stdout",
          "text": [
            "3 3\n",
            "1 1 1\n",
            "2 2 2\n",
            "0 1 0\n",
            "3 3 3\n",
            "4 4 4\n",
            "5 5 100\n",
            "4 4 4\n",
            "6 6 6\n",
            "5 6 100\n"
          ]
        }
      ]
    },
    {
      "cell_type": "markdown",
      "source": [
        "#### [공부한 코드]\n",
        "- `_`의 사용법\n",
        "    1. 인터프리터에 마지막 값을 저장하고 싶을 때 사용\n",
        "    ``` python\n",
        "    _ = 20\n",
        "    print(_)\n",
        "    >>> 20\n",
        "    _*3\n",
        "    >>> 60\n",
        "    _/2\n",
        "    >>> 10.0\n",
        "    ```\n",
        "    2. 값을 무시하고 싶을 때 사용\n",
        "    ``` python\n",
        "    x, _, y = 1, 2, 3\n",
        "    x\n",
        "    >>> 1\n",
        "    y\n",
        "    >>> 3\n",
        "    #여러 개의 값을 무시하려면 * 붙여서 사용\n",
        "    x, *_, y = 1, 2, 3, 4, 5\n",
        "    x\n",
        "    >>> 1\n",
        "    y\n",
        "    >>> 5\n",
        "    ```\n",
        "    3. 특별한 의미를 부여하고 싶을 때 사용\n",
        "    <br><a href='https://ifh.cc/v-jb5w0Z' target='_blank'><img src='https://ifh.cc/g/jb5w0Z.png' border='0'></a>\n",
        "    ``` python\n",
        "    class A:\n",
        "        def __double_method(self):\n",
        "        pass\n",
        "    class B:\n",
        "        def __double_method(self):\n",
        "        pass\n",
        "    \n",
        "    print(dir(A)))\n",
        "    print(dir(B)))\n",
        "    ```\n",
        "    4. 숫자, 문자값의 자릿수 구분을 위한 구분자로 사용\n",
        "    ``` python\n",
        "    dec_base = 1_000_000\n",
        "\n",
        "    print(dec_base)\n",
        "    >>> 1000000\n",
        "    ```\n",
        "<br>\n",
        "- `*` 연산자: 여러 개의 인자를 넘김"
      ],
      "metadata": {
        "id": "hNXv0sGxt_0G"
      }
    },
    {
      "cell_type": "code",
      "source": [
        "n, m = map(int, input().split())\n",
        "\n",
        "a = [list(map(int,input().split())) for _ in range(n)]\n",
        "b = [list(map(int,input().split())) for _ in range(n)]\n",
        "\n",
        "for i in range(n):\n",
        "    for j in range(m):\n",
        "        a[i][j] += b[i][j] #a에 합친 함수 넣기\n",
        "\n",
        "for i in a:\n",
        "    print(*i) #여러 개의 인자 넘기기"
      ],
      "metadata": {
        "colab": {
          "base_uri": "https://localhost:8080/"
        },
        "id": "kSFc97EkxHiQ",
        "outputId": "2f723bf2-61c5-4d0e-f043-08b1830ff9c2"
      },
      "execution_count": 8,
      "outputs": [
        {
          "output_type": "stream",
          "name": "stdout",
          "text": [
            "3 3\n",
            "1 1 1\n",
            "2 2 2\n",
            "0 1 0\n",
            "3 3 3\n",
            "4 4 4\n",
            "5 5 100\n",
            "4 4 4\n",
            "6 6 6\n",
            "5 6 100\n"
          ]
        }
      ]
    },
    {
      "cell_type": "code",
      "source": [
        "print(*a, sep='\\n') #행렬 한번에 넘길 수도 있음"
      ],
      "metadata": {
        "colab": {
          "base_uri": "https://localhost:8080/"
        },
        "id": "Pr3aUftayVe5",
        "outputId": "b8dd350d-80ba-409a-9c41-3ba19c40ed78"
      },
      "execution_count": 13,
      "outputs": [
        {
          "output_type": "stream",
          "name": "stdout",
          "text": [
            "[4, 4, 4]\n",
            "[6, 6, 6]\n",
            "[5, 6, 100]\n"
          ]
        }
      ]
    },
    {
      "cell_type": "markdown",
      "metadata": {
        "id": "kJxFfY8yqwbo"
      },
      "source": [
        "### 2) #2566 최댓값"
      ]
    },
    {
      "cell_type": "markdown",
      "source": [
        "- map 메소드 활용해서 2차원 배열에서 최댓값 구하기\n",
        "    ``` python\n",
        "    a = [[4, 4, 4],\n",
        "        [6, 6, 6],\n",
        "        [5, 6, 100]]\n",
        "\n",
        "    print(list(map(max, a))) #각 줄에서 최댓값 추출\n",
        "    >>> [4, 6, 100]\n",
        "\n",
        "    print(max(map(max, a))) #그 중 최댓값 출력\n",
        "    >>> 100\n",
        "    ```"
      ],
      "metadata": {
        "id": "7Wo1kgDUzhq5"
      }
    },
    {
      "cell_type": "code",
      "source": [
        "num_matrix = [list(map(int, input().split())) for _ in range(9)]\n",
        "\n",
        "max_num = max(map(max, num_matrix))\n",
        "print(max_num) #최댓값 출력\n",
        "\n",
        "max_index = [(i,j) for i in range(9) for j in range(9) if num_matrix[i][j]==max_num]\n",
        "print('{0} {1}'.format(max_index[0][0]+1, max_index[0][1]+1)) #최댓값 index 출력"
      ],
      "metadata": {
        "colab": {
          "base_uri": "https://localhost:8080/"
        },
        "id": "5BBvcTXqrduQ",
        "outputId": "f6d80cbd-d671-4106-87dc-3247776d1705"
      },
      "execution_count": 28,
      "outputs": [
        {
          "output_type": "stream",
          "name": "stdout",
          "text": [
            "3 23 85 34 17 74 25 52 65\n",
            "10 7 39 42 88 52 14 72 63\n",
            "87 42 18 78 53 45 18 84 53\n",
            "34 28 64 85 12 16 75 36 55\n",
            "21 77 45 35 28 75 90 76 1\n",
            "25 87 65 15 28 11 37 28 74\n",
            "65 27 75 41 7 89 78 64 39\n",
            "47 47 70 45 23 65 3 41 44\n",
            "87 13 82 38 31 12 29 29 80\n",
            "90\n",
            "5 7\n"
          ]
        }
      ]
    },
    {
      "cell_type": "markdown",
      "metadata": {
        "id": "vtqdTWTfqwmt"
      },
      "source": [
        "### 3) #2563 색종이"
      ]
    },
    {
      "cell_type": "code",
      "source": [
        "n = int(input())\n",
        "\n",
        "paper = [[0 for _ in range(100)] for _ in range(100)]\n",
        "\n",
        "for i in range(n):\n",
        "    a, b = map(int, input().split())\n",
        "    for row in range(a, a+10):\n",
        "        for col in range(b, b+10):\n",
        "            paper[row][col] = 1\n",
        "\n",
        "area = sum(map(sum, paper))\n",
        "print(area)"
      ],
      "metadata": {
        "colab": {
          "base_uri": "https://localhost:8080/"
        },
        "id": "WelHFs2Frd71",
        "outputId": "00ba73aa-977e-4493-8461-ce8625ca1f6a"
      },
      "execution_count": 38,
      "outputs": [
        {
          "output_type": "stream",
          "name": "stdout",
          "text": [
            "3\n",
            "3 7\n",
            "15 7\n",
            "5 2\n",
            "260\n"
          ]
        }
      ]
    }
  ]
}