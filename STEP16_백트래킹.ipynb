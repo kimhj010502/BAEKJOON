{
  "nbformat": 4,
  "nbformat_minor": 0,
  "metadata": {
    "colab": {
      "provenance": [],
      "authorship_tag": "ABX9TyMt9jf30B7juPrYuWne7cAK",
      "include_colab_link": true
    },
    "kernelspec": {
      "name": "python3",
      "display_name": "Python 3"
    },
    "language_info": {
      "name": "python"
    }
  },
  "cells": [
    {
      "cell_type": "markdown",
      "metadata": {
        "id": "view-in-github",
        "colab_type": "text"
      },
      "source": [
        "<a href=\"https://colab.research.google.com/github/kimhj010502/BAEKJOON/blob/main/STEP16_%EB%B0%B1%ED%8A%B8%EB%9E%98%ED%82%B9.ipynb\" target=\"_parent\"><img src=\"https://colab.research.google.com/assets/colab-badge.svg\" alt=\"Open In Colab\"/></a>"
      ]
    },
    {
      "cell_type": "markdown",
      "source": [
        "## [Backtracking 알고리즘]\n",
        "- Promising: 트리 구조를 기반으로 DFS로 깊이 탐색을 진행하면서 각 루트에 대해 조건이 부합하는지 체크함\n",
        "- Pruning: 해당 트리 조건에 맞지 않는 노드는 더 이상 DFS로 깊이 탐색을 진행하지 않고 가지치기를 함\n",
        "> 백트래킹 구현\n",
        "> - 해를 구하는 도중 해가 아니어서 막히면 막히기 전으로 다시 돌아가서 해를 찾는 기법\n",
        "> - 예를 들어, 갈랫길에서 한쪽으로 갔다가 이 길이 아닌 것 같으면 왔던 길로 되돌아와 다른 선택지로 감\n",
        "> - 가상의 트리에서 해를 구하기 위해 부모 노드에서 자식 노드까지 뻗어나가는데 해당 노드가 조건에 맞지 않으면 다시 부모 노드로 돌아감\n",
        "> - 해가 아닌 선택지는 없애면서 탐색하기 때문에 시간복잡도를 줄일 수 있음\n",
        "- [참고] https://velog.io/@nayeo0on/Backtracking <br> &emsp;&ensp;&emsp; https://veggie-garden.tistory.com/24"
      ],
      "metadata": {
        "id": "rqR43B68jF83"
      }
    },
    {
      "cell_type": "markdown",
      "metadata": {
        "id": "TzSGa08QXuST"
      },
      "source": [
        "### 1) #15649 N과 M (1)"
      ]
    },
    {
      "cell_type": "code",
      "source": [
        "n, m = map(int, input().split())\n",
        "sequence = []\n",
        "\n",
        "def backtracking():\n",
        "    if len(sequence) == m:\n",
        "        print(\" \".join(map(str, sequence)))\n",
        "        return\n",
        "    for i in range(1, n+1):\n",
        "        if i not in sequence:\n",
        "            sequence.append(i)\n",
        "            backtracking() #recursion\n",
        "            sequence.pop() #맨 마지막 요소를 없앰으로써 전 단계로 돌아가기\n",
        "\n",
        "backtracking()"
      ],
      "metadata": {
        "id": "G_zN2o1xAl_D",
        "colab": {
          "base_uri": "https://localhost:8080/"
        },
        "outputId": "f7c09042-8c62-4082-9cca-99528f782ed0"
      },
      "execution_count": 9,
      "outputs": [
        {
          "output_type": "stream",
          "name": "stdout",
          "text": [
            "4 4\n",
            "1 2 3 4\n",
            "1 2 4 3\n",
            "1 3 2 4\n",
            "1 3 4 2\n",
            "1 4 2 3\n",
            "1 4 3 2\n",
            "2 1 3 4\n",
            "2 1 4 3\n",
            "2 3 1 4\n",
            "2 3 4 1\n",
            "2 4 1 3\n",
            "2 4 3 1\n",
            "3 1 2 4\n",
            "3 1 4 2\n",
            "3 2 1 4\n",
            "3 2 4 1\n",
            "3 4 1 2\n",
            "3 4 2 1\n",
            "4 1 2 3\n",
            "4 1 3 2\n",
            "4 2 1 3\n",
            "4 2 3 1\n",
            "4 3 1 2\n",
            "4 3 2 1\n"
          ]
        }
      ]
    },
    {
      "cell_type": "markdown",
      "source": [
        "- 시간이 164ms로 오래 걸림 → 68ms로 감소\n",
        "- permutation 패키지 사용 <br> [참고] https://velog.io/@dramatic/Python-permutation-combination-%EC%88%9C%EC%97%B4%EA%B3%BC-%EC%A1%B0%ED%95%A9"
      ],
      "metadata": {
        "id": "jznoZnpetl5Y"
      }
    },
    {
      "cell_type": "code",
      "source": [
        "from itertools import permutations\n",
        "\n",
        "n, m = map(int, input().split())\n",
        "\n",
        "num_list = list(permutations(map(str, range(1,n+1)), m))\n",
        "result = [' '.join(i) for i in num_list]\n",
        "print(*result, sep='\\n')"
      ],
      "metadata": {
        "colab": {
          "base_uri": "https://localhost:8080/"
        },
        "id": "dFgg7bvKt_LG",
        "outputId": "5bb5e578-bf22-43f9-e413-7fbe4e471b18"
      },
      "execution_count": 37,
      "outputs": [
        {
          "output_type": "stream",
          "name": "stdout",
          "text": [
            "4 2\n",
            "1 2\n",
            "1 3\n",
            "1 4\n",
            "2 1\n",
            "2 3\n",
            "2 4\n",
            "3 1\n",
            "3 2\n",
            "3 4\n",
            "4 1\n",
            "4 2\n",
            "4 3\n"
          ]
        }
      ]
    },
    {
      "cell_type": "markdown",
      "source": [
        "### 2) #15650 N과 M (2)"
      ],
      "metadata": {
        "id": "vMQFxA2sAmIy"
      }
    },
    {
      "cell_type": "markdown",
      "source": [
        "- 아래 두 가지 방법 모두 시간 36ms 걸림"
      ],
      "metadata": {
        "id": "9yiqeUjs1srJ"
      }
    },
    {
      "cell_type": "code",
      "source": [
        "n, m = map(int, input().split())\n",
        "sequence = []\n",
        "\n",
        "def backtracking(start):\n",
        "    if len(sequence) == m:\n",
        "        print(\" \".join(map(str, sequence)))\n",
        "        return\n",
        "    for i in range(start, n+1):\n",
        "        if i not in sequence:\n",
        "            sequence.append(i)\n",
        "            backtracking(i+1) #recursion\n",
        "            sequence.pop() #맨 마지막 요소를 없앰으로써 전 단계로 돌아가기\n",
        "\n",
        "backtracking(1)"
      ],
      "metadata": {
        "colab": {
          "base_uri": "https://localhost:8080/"
        },
        "id": "HBBk87oSwj_T",
        "outputId": "9483a7c8-f1cb-41a4-a1e1-f79a084908c4"
      },
      "execution_count": 82,
      "outputs": [
        {
          "output_type": "stream",
          "name": "stdout",
          "text": [
            "4 4\n",
            "1 2 3 4\n"
          ]
        }
      ]
    },
    {
      "cell_type": "code",
      "source": [
        "from itertools import combinations\n",
        "\n",
        "n, m = map(int, input().split())\n",
        "\n",
        "num_list = list(combinations(map(str, range(1,n+1)), m))\n",
        "result = [' '.join(i) for i in num_list]\n",
        "print(*result, sep='\\n')"
      ],
      "metadata": {
        "colab": {
          "base_uri": "https://localhost:8080/"
        },
        "id": "3Fhr4JUJwUgL",
        "outputId": "9a18f12b-435d-4b2a-8aa0-74fec705ef4e"
      },
      "execution_count": 44,
      "outputs": [
        {
          "output_type": "stream",
          "name": "stdout",
          "text": [
            "4 4\n",
            "1 2 3 4\n"
          ]
        }
      ]
    },
    {
      "cell_type": "markdown",
      "source": [
        "### 3) #15651 N과 M (3)"
      ],
      "metadata": {
        "id": "5IQ1M4CbAoso"
      }
    },
    {
      "cell_type": "code",
      "source": [
        "n, m = map(int, input().split())\n",
        "sequence = []\n",
        "\n",
        "def backtracking():\n",
        "    if len(sequence) == m:\n",
        "        print(\" \".join(map(str, sequence)))\n",
        "        return\n",
        "    for i in range(1, n+1):\n",
        "        sequence.append(i)\n",
        "        backtracking() #recursion\n",
        "        sequence.pop() #맨 마지막 요소를 없앰으로써 전 단계로 돌아가기\n",
        "\n",
        "backtracking()"
      ],
      "metadata": {
        "colab": {
          "base_uri": "https://localhost:8080/"
        },
        "id": "BLa_ZXAh5BjG",
        "outputId": "9a141d9f-565b-431c-d209-10c32812dfef"
      },
      "execution_count": 87,
      "outputs": [
        {
          "output_type": "stream",
          "name": "stdout",
          "text": [
            "3 3\n",
            "1 1 1\n",
            "1 1 2\n",
            "1 1 3\n",
            "1 2 1\n",
            "1 2 2\n",
            "1 2 3\n",
            "1 3 1\n",
            "1 3 2\n",
            "1 3 3\n",
            "2 1 1\n",
            "2 1 2\n",
            "2 1 3\n",
            "2 2 1\n",
            "2 2 2\n",
            "2 2 3\n",
            "2 3 1\n",
            "2 3 2\n",
            "2 3 3\n",
            "3 1 1\n",
            "3 1 2\n",
            "3 1 3\n",
            "3 2 1\n",
            "3 2 2\n",
            "3 2 3\n",
            "3 3 1\n",
            "3 3 2\n",
            "3 3 3\n"
          ]
        }
      ]
    },
    {
      "cell_type": "markdown",
      "source": [
        "- 시간이 1404ms로 오래 걸림 → 656ms로 감소"
      ],
      "metadata": {
        "id": "NkpAz0G16j1c"
      }
    },
    {
      "cell_type": "code",
      "source": [
        "from itertools import product\n",
        "\n",
        "n, m = map(int, input().split())\n",
        "\n",
        "num_list = list(product(map(str, range(1,n+1)), repeat = m))\n",
        "result = [' '.join(i) for i in num_list]\n",
        "print(*result, sep='\\n')"
      ],
      "metadata": {
        "colab": {
          "base_uri": "https://localhost:8080/"
        },
        "id": "VMyg0MeT5mA4",
        "outputId": "0d3dcc6b-9816-419d-e9db-060a9c8d6df2"
      },
      "execution_count": 95,
      "outputs": [
        {
          "output_type": "stream",
          "name": "stdout",
          "text": [
            "3 3\n",
            "1 1 1\n",
            "1 1 2\n",
            "1 1 3\n",
            "1 2 1\n",
            "1 2 2\n",
            "1 2 3\n",
            "1 3 1\n",
            "1 3 2\n",
            "1 3 3\n",
            "2 1 1\n",
            "2 1 2\n",
            "2 1 3\n",
            "2 2 1\n",
            "2 2 2\n",
            "2 2 3\n",
            "2 3 1\n",
            "2 3 2\n",
            "2 3 3\n",
            "3 1 1\n",
            "3 1 2\n",
            "3 1 3\n",
            "3 2 1\n",
            "3 2 2\n",
            "3 2 3\n",
            "3 3 1\n",
            "3 3 2\n",
            "3 3 3\n"
          ]
        }
      ]
    },
    {
      "cell_type": "markdown",
      "source": [
        "### 4) #15652 N과 M (4)"
      ],
      "metadata": {
        "id": "OLOyaaewArB5"
      }
    },
    {
      "cell_type": "code",
      "source": [
        "n, m = map(int, input().split())\n",
        "sequence = []\n",
        "\n",
        "def backtracking(start):\n",
        "    if len(sequence) == m:\n",
        "        print(\" \".join(map(str, sequence)))\n",
        "        return\n",
        "    for i in range(start, n+1):\n",
        "        sequence.append(i)\n",
        "        backtracking(i) #recursion\n",
        "        sequence.pop() #맨 마지막 요소를 없앰으로써 전 단계로 돌아가기\n",
        "\n",
        "backtracking(1)"
      ],
      "metadata": {
        "colab": {
          "base_uri": "https://localhost:8080/"
        },
        "id": "h2-d_DaN62Uh",
        "outputId": "1dba3887-7f7e-40f4-b510-4e0d4740a43c"
      },
      "execution_count": 103,
      "outputs": [
        {
          "output_type": "stream",
          "name": "stdout",
          "text": [
            "3 3\n",
            "1 1 1\n",
            "1 1 2\n",
            "1 1 3\n",
            "1 2 2\n",
            "1 2 3\n",
            "1 3 3\n",
            "2 2 2\n",
            "2 2 3\n",
            "2 3 3\n",
            "3 3 3\n"
          ]
        }
      ]
    },
    {
      "cell_type": "markdown",
      "source": [
        "- 시간이 48ms로 오래 걸림 → 40ms로 감소"
      ],
      "metadata": {
        "id": "ATz3yedw7d94"
      }
    },
    {
      "cell_type": "code",
      "source": [
        "from itertools import combinations_with_replacement\n",
        "\n",
        "n, m = map(int, input().split())\n",
        "\n",
        "num_list = list(combinations_with_replacement(map(str, range(1,n+1)), m))\n",
        "result = [' '.join(i) for i in num_list]\n",
        "print(*result, sep='\\n')"
      ],
      "metadata": {
        "colab": {
          "base_uri": "https://localhost:8080/"
        },
        "id": "6-0kQNmZ63Kr",
        "outputId": "a4c4a558-b39b-4079-95db-be2683571a5b"
      },
      "execution_count": 98,
      "outputs": [
        {
          "output_type": "stream",
          "name": "stdout",
          "text": [
            "3 3\n",
            "1 1 1\n",
            "1 1 2\n",
            "1 1 3\n",
            "1 2 2\n",
            "1 2 3\n",
            "1 3 3\n",
            "2 2 2\n",
            "2 2 3\n",
            "2 3 3\n",
            "3 3 3\n"
          ]
        }
      ]
    },
    {
      "cell_type": "markdown",
      "source": [
        "### 5) #9663 N-Queen"
      ],
      "metadata": {
        "id": "UWtUg3ItAuf9"
      }
    },
    {
      "cell_type": "markdown",
      "source": [
        "### 6) #2580 스도쿠"
      ],
      "metadata": {
        "id": "4yjc63a_Ax7y"
      }
    },
    {
      "cell_type": "markdown",
      "source": [
        "### 7) #14888 연산자 끼워넣기"
      ],
      "metadata": {
        "id": "Udjovh7WA0fC"
      }
    },
    {
      "cell_type": "markdown",
      "source": [
        "### 8) #14889 스타트와 링크"
      ],
      "metadata": {
        "id": "WWLiLhE9A3M0"
      }
    }
  ]
}