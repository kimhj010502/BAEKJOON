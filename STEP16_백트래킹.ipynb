{
  "nbformat": 4,
  "nbformat_minor": 0,
  "metadata": {
    "colab": {
      "provenance": [],
      "authorship_tag": "ABX9TyN250VcdQsd/NS9cEdw6hqZ",
      "include_colab_link": true
    },
    "kernelspec": {
      "name": "python3",
      "display_name": "Python 3"
    },
    "language_info": {
      "name": "python"
    }
  },
  "cells": [
    {
      "cell_type": "markdown",
      "metadata": {
        "id": "view-in-github",
        "colab_type": "text"
      },
      "source": [
        "<a href=\"https://colab.research.google.com/github/kimhj010502/BAEKJOON/blob/main/STEP16_%EB%B0%B1%ED%8A%B8%EB%9E%98%ED%82%B9.ipynb\" target=\"_parent\"><img src=\"https://colab.research.google.com/assets/colab-badge.svg\" alt=\"Open In Colab\"/></a>"
      ]
    },
    {
      "cell_type": "markdown",
      "source": [
        "## [Backtracking 알고리즘]\n",
        "- Promising: 트리 구조를 기반으로 DFS로 깊이 탐색을 진행하면서 각 루트에 대해 조건이 부합하는지 체크함\n",
        "- Pruning: 해당 트리 조건에 맞지 않는 노드는 더 이상 DFS로 깊이 탐색을 진행하지 않고 가지치기를 함\n",
        "> 백트래킹 구현\n",
        "> - 해를 구하는 도중 해가 아니어서 막히면 막히기 전으로 다시 돌아가서 해를 찾는 기법\n",
        "> - 예를 들어, 갈랫길에서 한쪽으로 갔다가 이 길이 아닌 것 같으면 왔던 길로 되돌아와 다른 선택지로 감\n",
        "> - 가상의 트리에서 해를 구하기 위해 부모 노드에서 자식 노드까지 뻗어나가는데 해당 노드가 조건에 맞지 않으면 다시 부모 노드로 돌아감\n",
        "> - 해가 아닌 선택지는 없애면서 탐색하기 때문에 시간복잡도를 줄일 수 있음\n",
        "- [참고] https://velog.io/@nayeo0on/Backtracking <br> &emsp;&ensp;&emsp; https://veggie-garden.tistory.com/24"
      ],
      "metadata": {
        "id": "rqR43B68jF83"
      }
    },
    {
      "cell_type": "markdown",
      "metadata": {
        "id": "TzSGa08QXuST"
      },
      "source": [
        "### 1) #15649 N과 M (1)"
      ]
    },
    {
      "cell_type": "code",
      "source": [
        "n, m = map(int, input().split())\n",
        "sequence = []\n",
        "\n",
        "def backtracking():\n",
        "    if len(sequence) == m:\n",
        "        print(\" \".join(map(str, sequence)))\n",
        "        return\n",
        "    for i in range(1, n+1):\n",
        "        if i not in sequence:\n",
        "            sequence.append(i)\n",
        "            backtracking() #recursion\n",
        "            sequence.pop() #맨 마지막 요소를 없앰으로써 전 단계로 돌아가기\n",
        "\n",
        "backtracking()"
      ],
      "metadata": {
        "id": "G_zN2o1xAl_D",
        "colab": {
          "base_uri": "https://localhost:8080/"
        },
        "outputId": "f7c09042-8c62-4082-9cca-99528f782ed0"
      },
      "execution_count": null,
      "outputs": [
        {
          "output_type": "stream",
          "name": "stdout",
          "text": [
            "4 4\n",
            "1 2 3 4\n",
            "1 2 4 3\n",
            "1 3 2 4\n",
            "1 3 4 2\n",
            "1 4 2 3\n",
            "1 4 3 2\n",
            "2 1 3 4\n",
            "2 1 4 3\n",
            "2 3 1 4\n",
            "2 3 4 1\n",
            "2 4 1 3\n",
            "2 4 3 1\n",
            "3 1 2 4\n",
            "3 1 4 2\n",
            "3 2 1 4\n",
            "3 2 4 1\n",
            "3 4 1 2\n",
            "3 4 2 1\n",
            "4 1 2 3\n",
            "4 1 3 2\n",
            "4 2 1 3\n",
            "4 2 3 1\n",
            "4 3 1 2\n",
            "4 3 2 1\n"
          ]
        }
      ]
    },
    {
      "cell_type": "markdown",
      "source": [
        "- 시간이 164ms로 오래 걸림 → 68ms로 감소\n",
        "- permutation 패키지 사용 <br> [참고] https://velog.io/@dramatic/Python-permutation-combination-%EC%88%9C%EC%97%B4%EA%B3%BC-%EC%A1%B0%ED%95%A9"
      ],
      "metadata": {
        "id": "jznoZnpetl5Y"
      }
    },
    {
      "cell_type": "code",
      "source": [
        "from itertools import permutations\n",
        "\n",
        "n, m = map(int, input().split())\n",
        "\n",
        "num_list = list(permutations(map(str, range(1,n+1)), m))\n",
        "result = [' '.join(i) for i in num_list]\n",
        "print(*result, sep='\\n')"
      ],
      "metadata": {
        "colab": {
          "base_uri": "https://localhost:8080/"
        },
        "id": "dFgg7bvKt_LG",
        "outputId": "5bb5e578-bf22-43f9-e413-7fbe4e471b18"
      },
      "execution_count": null,
      "outputs": [
        {
          "output_type": "stream",
          "name": "stdout",
          "text": [
            "4 2\n",
            "1 2\n",
            "1 3\n",
            "1 4\n",
            "2 1\n",
            "2 3\n",
            "2 4\n",
            "3 1\n",
            "3 2\n",
            "3 4\n",
            "4 1\n",
            "4 2\n",
            "4 3\n"
          ]
        }
      ]
    },
    {
      "cell_type": "markdown",
      "source": [
        "### 2) #15650 N과 M (2)"
      ],
      "metadata": {
        "id": "vMQFxA2sAmIy"
      }
    },
    {
      "cell_type": "markdown",
      "source": [
        "- 아래 두 가지 방법 모두 시간 36ms 걸림"
      ],
      "metadata": {
        "id": "9yiqeUjs1srJ"
      }
    },
    {
      "cell_type": "code",
      "source": [
        "n, m = map(int, input().split())\n",
        "sequence = []\n",
        "\n",
        "def backtracking(start):\n",
        "    if len(sequence) == m:\n",
        "        print(\" \".join(map(str, sequence)))\n",
        "        return\n",
        "    for i in range(start, n+1):\n",
        "        if i not in sequence:\n",
        "            sequence.append(i)\n",
        "            backtracking(i+1) #recursion\n",
        "            sequence.pop() #맨 마지막 요소를 없앰으로써 전 단계로 돌아가기\n",
        "\n",
        "backtracking(1)"
      ],
      "metadata": {
        "colab": {
          "base_uri": "https://localhost:8080/"
        },
        "id": "HBBk87oSwj_T",
        "outputId": "9483a7c8-f1cb-41a4-a1e1-f79a084908c4"
      },
      "execution_count": null,
      "outputs": [
        {
          "output_type": "stream",
          "name": "stdout",
          "text": [
            "4 4\n",
            "1 2 3 4\n"
          ]
        }
      ]
    },
    {
      "cell_type": "code",
      "source": [
        "from itertools import combinations\n",
        "\n",
        "n, m = map(int, input().split())\n",
        "\n",
        "num_list = list(combinations(map(str, range(1,n+1)), m))\n",
        "result = [' '.join(i) for i in num_list]\n",
        "print(*result, sep='\\n')"
      ],
      "metadata": {
        "colab": {
          "base_uri": "https://localhost:8080/"
        },
        "id": "3Fhr4JUJwUgL",
        "outputId": "9a18f12b-435d-4b2a-8aa0-74fec705ef4e"
      },
      "execution_count": null,
      "outputs": [
        {
          "output_type": "stream",
          "name": "stdout",
          "text": [
            "4 4\n",
            "1 2 3 4\n"
          ]
        }
      ]
    },
    {
      "cell_type": "markdown",
      "source": [
        "### 3) #15651 N과 M (3)"
      ],
      "metadata": {
        "id": "5IQ1M4CbAoso"
      }
    },
    {
      "cell_type": "code",
      "source": [
        "n, m = map(int, input().split())\n",
        "sequence = []\n",
        "\n",
        "def backtracking():\n",
        "    if len(sequence) == m:\n",
        "        print(\" \".join(map(str, sequence)))\n",
        "        return\n",
        "    for i in range(1, n+1):\n",
        "        sequence.append(i)\n",
        "        backtracking() #recursion\n",
        "        sequence.pop() #맨 마지막 요소를 없앰으로써 전 단계로 돌아가기\n",
        "\n",
        "backtracking()"
      ],
      "metadata": {
        "colab": {
          "base_uri": "https://localhost:8080/"
        },
        "id": "BLa_ZXAh5BjG",
        "outputId": "9a141d9f-565b-431c-d209-10c32812dfef"
      },
      "execution_count": null,
      "outputs": [
        {
          "output_type": "stream",
          "name": "stdout",
          "text": [
            "3 3\n",
            "1 1 1\n",
            "1 1 2\n",
            "1 1 3\n",
            "1 2 1\n",
            "1 2 2\n",
            "1 2 3\n",
            "1 3 1\n",
            "1 3 2\n",
            "1 3 3\n",
            "2 1 1\n",
            "2 1 2\n",
            "2 1 3\n",
            "2 2 1\n",
            "2 2 2\n",
            "2 2 3\n",
            "2 3 1\n",
            "2 3 2\n",
            "2 3 3\n",
            "3 1 1\n",
            "3 1 2\n",
            "3 1 3\n",
            "3 2 1\n",
            "3 2 2\n",
            "3 2 3\n",
            "3 3 1\n",
            "3 3 2\n",
            "3 3 3\n"
          ]
        }
      ]
    },
    {
      "cell_type": "markdown",
      "source": [
        "- 시간이 1404ms로 오래 걸림 → 656ms로 감소"
      ],
      "metadata": {
        "id": "NkpAz0G16j1c"
      }
    },
    {
      "cell_type": "code",
      "source": [
        "from itertools import product\n",
        "\n",
        "n, m = map(int, input().split())\n",
        "\n",
        "num_list = list(product(map(str, range(1,n+1)), repeat = m))\n",
        "result = [' '.join(i) for i in num_list]\n",
        "print(*result, sep='\\n')"
      ],
      "metadata": {
        "colab": {
          "base_uri": "https://localhost:8080/"
        },
        "id": "VMyg0MeT5mA4",
        "outputId": "0d3dcc6b-9816-419d-e9db-060a9c8d6df2"
      },
      "execution_count": null,
      "outputs": [
        {
          "output_type": "stream",
          "name": "stdout",
          "text": [
            "3 3\n",
            "1 1 1\n",
            "1 1 2\n",
            "1 1 3\n",
            "1 2 1\n",
            "1 2 2\n",
            "1 2 3\n",
            "1 3 1\n",
            "1 3 2\n",
            "1 3 3\n",
            "2 1 1\n",
            "2 1 2\n",
            "2 1 3\n",
            "2 2 1\n",
            "2 2 2\n",
            "2 2 3\n",
            "2 3 1\n",
            "2 3 2\n",
            "2 3 3\n",
            "3 1 1\n",
            "3 1 2\n",
            "3 1 3\n",
            "3 2 1\n",
            "3 2 2\n",
            "3 2 3\n",
            "3 3 1\n",
            "3 3 2\n",
            "3 3 3\n"
          ]
        }
      ]
    },
    {
      "cell_type": "markdown",
      "source": [
        "### 4) #15652 N과 M (4)"
      ],
      "metadata": {
        "id": "OLOyaaewArB5"
      }
    },
    {
      "cell_type": "code",
      "source": [
        "n, m = map(int, input().split())\n",
        "sequence = []\n",
        "\n",
        "def backtracking(start):\n",
        "    if len(sequence) == m:\n",
        "        print(\" \".join(map(str, sequence)))\n",
        "        return\n",
        "    for i in range(start, n+1):\n",
        "        sequence.append(i)\n",
        "        backtracking(i) #recursion\n",
        "        sequence.pop() #맨 마지막 요소를 없앰으로써 전 단계로 돌아가기\n",
        "\n",
        "backtracking(1)"
      ],
      "metadata": {
        "colab": {
          "base_uri": "https://localhost:8080/"
        },
        "id": "h2-d_DaN62Uh",
        "outputId": "1dba3887-7f7e-40f4-b510-4e0d4740a43c"
      },
      "execution_count": null,
      "outputs": [
        {
          "output_type": "stream",
          "name": "stdout",
          "text": [
            "3 3\n",
            "1 1 1\n",
            "1 1 2\n",
            "1 1 3\n",
            "1 2 2\n",
            "1 2 3\n",
            "1 3 3\n",
            "2 2 2\n",
            "2 2 3\n",
            "2 3 3\n",
            "3 3 3\n"
          ]
        }
      ]
    },
    {
      "cell_type": "markdown",
      "source": [
        "- 시간이 48ms로 오래 걸림 → 40ms로 감소"
      ],
      "metadata": {
        "id": "ATz3yedw7d94"
      }
    },
    {
      "cell_type": "code",
      "source": [
        "from itertools import combinations_with_replacement\n",
        "\n",
        "n, m = map(int, input().split())\n",
        "\n",
        "num_list = list(combinations_with_replacement(map(str, range(1,n+1)), m))\n",
        "result = [' '.join(i) for i in num_list]\n",
        "print(*result, sep='\\n')"
      ],
      "metadata": {
        "colab": {
          "base_uri": "https://localhost:8080/"
        },
        "id": "6-0kQNmZ63Kr",
        "outputId": "a4c4a558-b39b-4079-95db-be2683571a5b"
      },
      "execution_count": null,
      "outputs": [
        {
          "output_type": "stream",
          "name": "stdout",
          "text": [
            "3 3\n",
            "1 1 1\n",
            "1 1 2\n",
            "1 1 3\n",
            "1 2 2\n",
            "1 2 3\n",
            "1 3 3\n",
            "2 2 2\n",
            "2 2 3\n",
            "2 3 3\n",
            "3 3 3\n"
          ]
        }
      ]
    },
    {
      "cell_type": "markdown",
      "source": [
        "### 5) #9663 N-Queen"
      ],
      "metadata": {
        "id": "UWtUg3ItAuf9"
      }
    },
    {
      "cell_type": "markdown",
      "source": [
        "- 문제 이해가 안돼서 다른 자료 참고함 <br> [참고] https://chanhuiseok.github.io/posts/baek-1/ <br> &emsp;&ensp;&emsp; https://daeun-computer-uneasy.tistory.com/80\n",
        "- 어차피 한 줄에 한 개의 말만 존재할 수 있으므로 굳이 2차원 배열을 사용하지 않아도 됨\n",
        "<a href='https://ifh.cc/v-04WFD2' target='_blank'><img src='https://ifh.cc/g/04WFD2.jpg' border='0' width='800'></a>"
      ],
      "metadata": {
        "id": "mCpLsF8YMJNt"
      }
    },
    {
      "cell_type": "code",
      "source": [
        "N = int(input())\n",
        "\n",
        "chess = [-1] * N #크기가 n인 배열 생성 (-1로 초기화)\n",
        "result = 0\n",
        "\n",
        "def check(n): #같은 column에 있거나 대각선에 있는지 확인 (i가 n-1까지만 가기 때문에 같은 row에 있을 수는 없음)\n",
        "    for i in range(n):\n",
        "        if (chess[n] == chess[i]) | ( (n-i) == abs(chess[n] - chess[i]) ): \n",
        "            return False\n",
        "    return True\n",
        "\n",
        "def nqueen(depth):\n",
        "    print(f'depth: {depth}, chess: {chess}')\n",
        "    global result\n",
        "\n",
        "    if depth == N: #n번째 row까지 모든 퀸을 놓았다면\n",
        "        result += 1 #경우의 수 하나 늘리기\n",
        "    \n",
        "    else:\n",
        "        for i in range(N):\n",
        "            print(f'depth: {depth}, i: {i}')\n",
        "            chess[depth] = i #(depth, i)에 퀸 놓기\n",
        "            if check(depth): #depth x depth 크기의 chess판에서 조건 확인하고 놓을 수 있으면\n",
        "                print('[check True]')\n",
        "                nqueen(depth + 1) #Back Tracking\n",
        "\n",
        "nqueen(0)\n",
        "print(result)"
      ],
      "metadata": {
        "colab": {
          "base_uri": "https://localhost:8080/"
        },
        "id": "3T6KV4Wy6KPu",
        "outputId": "a659dbf8-2159-4f01-cb32-ca87ed458208"
      },
      "execution_count": 28,
      "outputs": [
        {
          "output_type": "stream",
          "name": "stdout",
          "text": [
            "3\n",
            "depth: 0, chess: [-1, -1, -1]\n",
            "depth: 0, i: 0\n",
            "[check True]\n",
            "depth: 1, chess: [0, -1, -1]\n",
            "depth: 1, i: 0\n",
            "depth: 1, i: 1\n",
            "depth: 1, i: 2\n",
            "[check True]\n",
            "depth: 2, chess: [0, 2, -1]\n",
            "depth: 2, i: 0\n",
            "depth: 2, i: 1\n",
            "depth: 2, i: 2\n",
            "depth: 0, i: 1\n",
            "[check True]\n",
            "depth: 1, chess: [1, 2, 2]\n",
            "depth: 1, i: 0\n",
            "depth: 1, i: 1\n",
            "depth: 1, i: 2\n",
            "depth: 0, i: 2\n",
            "[check True]\n",
            "depth: 1, chess: [2, 2, 2]\n",
            "depth: 1, i: 0\n",
            "[check True]\n",
            "depth: 2, chess: [2, 0, 2]\n",
            "depth: 2, i: 0\n",
            "depth: 2, i: 1\n",
            "depth: 2, i: 2\n",
            "depth: 1, i: 1\n",
            "depth: 1, i: 2\n",
            "0\n"
          ]
        }
      ]
    },
    {
      "cell_type": "markdown",
      "source": [
        "- 위의 출력에서 3 x 3으로 예시를 확인해봤을 때 (0,0), (0,1), (0,2)에 하나씩 퀸을 둬보고 확인하는 것을 알 수 있음\n",
        "    - (0,0)에 퀸을 놨을 때 (1,2)에 두면 2번째 row에는 어느 군데에도 못 놓게 됨\n",
        "    - 실행중이던 backtracking을 모두 종료하고 다시 nqueen(0)의 for문으로 돌아가서 (0,1)에 퀸 놓기\n",
        "    - (0,1)에 놓으면 1번째 row에 퀸을 아무데도 못 놓음\n",
        "    - 다시 backtracking 모두 종료하고 nqueen(0)의 for문으로 돌아가서 (0,2)에 퀸 놓기\n",
        "    - (1,0)에 둘 수 있으므로 여기에 놓고 2번째 row로 갔는데 아무데도 못 놓음\n",
        "    - backtracking 하나 종료하고 (1,1), (1,2)에 놓을 수 있는지 검사 후 아무데도 안되니까 nqeeun() 함수 종료"
      ],
      "metadata": {
        "id": "DIgyVZJyjxCA"
      }
    },
    {
      "cell_type": "code",
      "source": [
        "N = int(input())\n",
        "\n",
        "chess = [-1] * N #크기가 n인 배열 생성 (-1로 초기화)\n",
        "result = 0\n",
        "\n",
        "def check(n): #같은 column에 있거나 대각선에 있는지 확인 (i가 n-1까지만 가기 때문에 같은 row에 있을 수는 없음)\n",
        "    for i in range(n):\n",
        "        if (chess[n] == chess[i]) | ( (n-i) == abs(chess[n] - chess[i]) ): \n",
        "            return False\n",
        "    return True\n",
        "\n",
        "def nqueen(depth):\n",
        "    #print(f'depth: {depth}, chess: {chess}')\n",
        "    global result\n",
        "\n",
        "    if depth == N: #n번째 row까지 모든 퀸을 놓았다면\n",
        "        result += 1 #경우의 수 하나 늘리기\n",
        "    \n",
        "    else:\n",
        "        for i in range(N):\n",
        "            #print(f'depth: {depth}, i: {i}')\n",
        "            chess[depth] = i #(depth, i)에 퀸 놓기\n",
        "            if check(depth): #depth x depth 크기의 chess판에서 조건 확인하고 놓을 수 있으면\n",
        "                #print('check: True')\n",
        "                nqueen(depth + 1) #Back Tracking\n",
        "\n",
        "nqueen(0)\n",
        "print(result)"
      ],
      "metadata": {
        "colab": {
          "base_uri": "https://localhost:8080/"
        },
        "id": "vxBNP3GNciqu",
        "outputId": "f1816eb3-5ecd-4dbb-e6ad-5f733bb9cc3d"
      },
      "execution_count": 30,
      "outputs": [
        {
          "output_type": "stream",
          "name": "stdout",
          "text": [
            "8\n",
            "92\n"
          ]
        }
      ]
    },
    {
      "cell_type": "markdown",
      "source": [
        "---\n",
        "- 시간 초과\n",
        "- python3으로 백트래킹 문제를 풀기는 어려우므로 메모리를 더 많이 사용하지만 속도가 빠른 pypy3으로 제출하는 것이 좋음 <br> [참고] https://www.acmicpc.net/board/view/40175\n",
        "- pypy3와 python3의 차이: https://ralp0217.tistory.com/entry/Python3-%EC%99%80-PyPy3-%EC%B0%A8%EC%9D%B4"
      ],
      "metadata": {
        "id": "4f5jg6Q_mdNL"
      }
    },
    {
      "cell_type": "code",
      "source": [
        "import sys\n",
        "\n",
        "N = int(sys.stdin.readline().rstrip())\n",
        "\n",
        "chess = [-1] * N #크기가 n인 배열 생성 (-1로 초기화)\n",
        "result = 0\n",
        "\n",
        "def check(n): #같은 column에 있거나 대각선에 있는지 확인 (i가 n-1까지만 가기 때문에 같은 row에 있을 수는 없음)\n",
        "    for i in range(n):\n",
        "        if (chess[n] == chess[i]) | ( (n-i) == abs(chess[n] - chess[i]) ): \n",
        "            return False\n",
        "    return True\n",
        "\n",
        "def nqueen(depth):\n",
        "    global result\n",
        "\n",
        "    if depth == N: #n번째 row까지 모든 퀸을 놓았다면\n",
        "        result += 1 #경우의 수 하나 늘리기\n",
        "    else:\n",
        "        for i in range(N):\n",
        "            chess[depth] = i #(depth, i)에 퀸 놓기\n",
        "            if check(depth): #depth x depth 크기의 chess판에서 조건 확인하고 놓을 수 있으면\n",
        "                nqueen(depth + 1) #Back Tracking\n",
        "\n",
        "nqueen(0)\n",
        "print(result)"
      ],
      "metadata": {
        "id": "TsoHkvWryz39"
      },
      "execution_count": null,
      "outputs": []
    },
    {
      "cell_type": "markdown",
      "source": [
        "### 6) #2580 스도쿠"
      ],
      "metadata": {
        "id": "4yjc63a_Ax7y"
      }
    },
    {
      "cell_type": "markdown",
      "source": [
        "### 7) #14888 연산자 끼워넣기"
      ],
      "metadata": {
        "id": "Udjovh7WA0fC"
      }
    },
    {
      "cell_type": "code",
      "source": [
        "from itertools import permutations\n",
        "\n",
        "N = int(input())\n",
        "A_list = list(map(int, input().split()))\n",
        "plus, minus, multi, div = map(int, input().split())\n",
        "\n",
        "operator_list = ['+']*plus + ['-']*minus + ['*']*multi + ['//']*div\n",
        "operator_set = list(set(permutations(map(str, operator_list), len(operator_list))))\n",
        "\n",
        "def calculate(num1, num2, operator):\n",
        "    print(f'{num1} {operator} {num2}')\n",
        "    if operator == '+':\n",
        "        return num1 + num2\n",
        "    elif operator == '-':\n",
        "        return num1 - num2\n",
        "    elif operator == '*':\n",
        "        return num1 * num2\n",
        "    else:\n",
        "        if (num1 < 0) & (num2 > 0):\n",
        "            return -1 * ((-1 * num1) // num2)\n",
        "        elif (num1 > 0) & (num2 < 0):\n",
        "            return -1 * (num1 // (-1 * num2))\n",
        "        elif (num1 > 0) & (num2 > 0):\n",
        "            return (-1 * num1) // (-1 * num2)\n",
        "        else:\n",
        "            return num1 // num2\n",
        "\n",
        "def calculate_total(operator_list):\n",
        "    print(operator_list)\n",
        "    if len(operator_list) == 1:\n",
        "        return calculate(A_list[0], A_list[1], operator_list[0])\n",
        "    else:\n",
        "        for i in range(len(A_list)-2):\n",
        "            for j in range(len(operator_list)-1):\n",
        "                return calculate(calculate(A_list[i], A_list[i+1], operator_list[j]), A_list[i+2], operator_list[j+1])\n",
        "\n",
        "result_list = [calculate_total(i) for i in operator_set]\n",
        "print(max(result_list))\n",
        "print(min(result_list))"
      ],
      "metadata": {
        "colab": {
          "base_uri": "https://localhost:8080/"
        },
        "id": "3jj42h7oz_pe",
        "outputId": "365279fd-9b39-4b82-8d8c-91ba7973e868"
      },
      "execution_count": 68,
      "outputs": [
        {
          "output_type": "stream",
          "name": "stdout",
          "text": [
            "6\n",
            "1 2 3 4 5 6\n",
            "2 1 1 1\n",
            "('+', '-', '+', '//', '*')\n",
            "1 + 2\n",
            "3 - 3\n",
            "('+', '-', '+', '*', '//')\n",
            "1 + 2\n",
            "3 - 3\n",
            "('*', '-', '+', '//', '+')\n",
            "1 * 2\n",
            "2 - 3\n",
            "('+', '-', '//', '+', '*')\n",
            "1 + 2\n",
            "3 - 3\n",
            "('-', '*', '+', '//', '+')\n",
            "1 - 2\n",
            "-1 * 3\n",
            "('-', '//', '+', '+', '*')\n",
            "1 - 2\n",
            "-1 // 3\n",
            "('+', '//', '+', '-', '*')\n",
            "1 + 2\n",
            "3 // 3\n",
            "('+', '//', '*', '+', '-')\n",
            "1 + 2\n",
            "3 // 3\n",
            "('-', '//', '+', '*', '+')\n",
            "1 - 2\n",
            "-1 // 3\n",
            "('-', '*', '//', '+', '+')\n",
            "1 - 2\n",
            "-1 * 3\n",
            "('//', '+', '+', '*', '-')\n",
            "1 // 2\n",
            "0 + 3\n",
            "('*', '-', '+', '+', '//')\n",
            "1 * 2\n",
            "2 - 3\n",
            "('-', '*', '+', '+', '//')\n",
            "1 - 2\n",
            "-1 * 3\n",
            "('//', '*', '+', '+', '-')\n",
            "1 // 2\n",
            "0 * 3\n",
            "('+', '*', '//', '-', '+')\n",
            "1 + 2\n",
            "3 * 3\n",
            "('+', '+', '*', '//', '-')\n",
            "1 + 2\n",
            "3 + 3\n",
            "('*', '//', '+', '+', '-')\n",
            "1 * 2\n",
            "2 // 3\n",
            "('+', '+', '//', '*', '-')\n",
            "1 + 2\n",
            "3 + 3\n",
            "('-', '+', '+', '//', '*')\n",
            "1 - 2\n",
            "-1 + 3\n",
            "('+', '*', '+', '//', '-')\n",
            "1 + 2\n",
            "3 * 3\n",
            "('-', '+', '+', '*', '//')\n",
            "1 - 2\n",
            "-1 + 3\n",
            "('*', '+', '//', '-', '+')\n",
            "1 * 2\n",
            "2 + 3\n",
            "('//', '+', '-', '+', '*')\n",
            "1 // 2\n",
            "0 + 3\n",
            "('-', '+', '*', '+', '//')\n",
            "1 - 2\n",
            "-1 + 3\n",
            "('*', '+', '-', '+', '//')\n",
            "1 * 2\n",
            "2 + 3\n",
            "('*', '+', '-', '//', '+')\n",
            "1 * 2\n",
            "2 + 3\n",
            "('*', '+', '+', '-', '//')\n",
            "1 * 2\n",
            "2 + 3\n",
            "('*', '-', '//', '+', '+')\n",
            "1 * 2\n",
            "2 - 3\n",
            "('-', '+', '*', '//', '+')\n",
            "1 - 2\n",
            "-1 + 3\n",
            "('//', '+', '+', '-', '*')\n",
            "1 // 2\n",
            "0 + 3\n",
            "('//', '+', '-', '*', '+')\n",
            "1 // 2\n",
            "0 + 3\n",
            "('//', '+', '*', '+', '-')\n",
            "1 // 2\n",
            "0 + 3\n",
            "('//', '*', '+', '-', '+')\n",
            "1 // 2\n",
            "0 * 3\n",
            "('+', '+', '*', '-', '//')\n",
            "1 + 2\n",
            "3 + 3\n",
            "('//', '-', '*', '+', '+')\n",
            "1 // 2\n",
            "0 - 3\n",
            "('+', '//', '*', '-', '+')\n",
            "1 + 2\n",
            "3 // 3\n",
            "('+', '//', '-', '+', '*')\n",
            "1 + 2\n",
            "3 // 3\n",
            "('+', '//', '-', '*', '+')\n",
            "1 + 2\n",
            "3 // 3\n",
            "('*', '//', '-', '+', '+')\n",
            "1 * 2\n",
            "2 // 3\n",
            "('*', '//', '+', '-', '+')\n",
            "1 * 2\n",
            "2 // 3\n",
            "('//', '-', '+', '*', '+')\n",
            "1 // 2\n",
            "0 - 3\n",
            "('+', '//', '+', '*', '-')\n",
            "1 + 2\n",
            "3 // 3\n",
            "('+', '*', '-', '+', '//')\n",
            "1 + 2\n",
            "3 * 3\n",
            "('+', '*', '-', '//', '+')\n",
            "1 + 2\n",
            "3 * 3\n",
            "('+', '*', '+', '-', '//')\n",
            "1 + 2\n",
            "3 * 3\n",
            "('*', '+', '//', '+', '-')\n",
            "1 * 2\n",
            "2 + 3\n",
            "('-', '+', '//', '+', '*')\n",
            "1 - 2\n",
            "-1 + 3\n",
            "('//', '*', '-', '+', '+')\n",
            "1 // 2\n",
            "0 * 3\n",
            "('-', '+', '//', '*', '+')\n",
            "1 - 2\n",
            "-1 + 3\n",
            "('+', '+', '//', '-', '*')\n",
            "1 + 2\n",
            "3 + 3\n",
            "('//', '-', '+', '+', '*')\n",
            "1 // 2\n",
            "0 - 3\n",
            "('+', '+', '-', '//', '*')\n",
            "1 + 2\n",
            "3 + 3\n",
            "('-', '//', '*', '+', '+')\n",
            "1 - 2\n",
            "-1 // 3\n",
            "('+', '-', '*', '+', '//')\n",
            "1 + 2\n",
            "3 - 3\n",
            "('+', '-', '*', '//', '+')\n",
            "1 + 2\n",
            "3 - 3\n",
            "('+', '*', '//', '+', '-')\n",
            "1 + 2\n",
            "3 * 3\n",
            "('*', '+', '+', '//', '-')\n",
            "1 * 2\n",
            "2 + 3\n",
            "('//', '+', '*', '-', '+')\n",
            "1 // 2\n",
            "0 + 3\n",
            "('+', '-', '//', '*', '+')\n",
            "1 + 2\n",
            "3 - 3\n",
            "('+', '+', '-', '*', '//')\n",
            "1 + 2\n",
            "3 + 3\n",
            "9\n",
            "-3\n"
          ]
        }
      ]
    },
    {
      "cell_type": "code",
      "source": [
        "result_list"
      ],
      "metadata": {
        "colab": {
          "base_uri": "https://localhost:8080/"
        },
        "id": "LOR0A7ey5X0s",
        "outputId": "a883ba18-bb56-4e1e-b2ba-5d4e418bba15"
      },
      "execution_count": 66,
      "outputs": [
        {
          "output_type": "execute_result",
          "data": {
            "text/plain": [
              "[0,\n",
              " 0,\n",
              " -1,\n",
              " 0,\n",
              " -3,\n",
              " 0,\n",
              " 1,\n",
              " 1,\n",
              " 0,\n",
              " -3,\n",
              " 3,\n",
              " -1,\n",
              " -3,\n",
              " 0,\n",
              " 9,\n",
              " 6,\n",
              " 0,\n",
              " 6,\n",
              " 2,\n",
              " 9,\n",
              " 2,\n",
              " 5,\n",
              " 3,\n",
              " 2,\n",
              " 5,\n",
              " 5,\n",
              " 5,\n",
              " -1,\n",
              " 2,\n",
              " 3,\n",
              " 3,\n",
              " 3,\n",
              " 0,\n",
              " 6,\n",
              " -3,\n",
              " 1,\n",
              " 1,\n",
              " 1,\n",
              " 0,\n",
              " 0,\n",
              " -3,\n",
              " 1,\n",
              " 9,\n",
              " 9,\n",
              " 9,\n",
              " 5,\n",
              " 2,\n",
              " 0,\n",
              " 2,\n",
              " 6,\n",
              " -3,\n",
              " 6,\n",
              " 0,\n",
              " 0,\n",
              " 0,\n",
              " 9,\n",
              " 5,\n",
              " 3,\n",
              " 0,\n",
              " 6]"
            ]
          },
          "metadata": {},
          "execution_count": 66
        }
      ]
    },
    {
      "cell_type": "markdown",
      "source": [
        "### 8) #14889 스타트와 링크"
      ],
      "metadata": {
        "id": "WWLiLhE9A3M0"
      }
    }
  ]
}