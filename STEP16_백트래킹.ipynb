{
  "nbformat": 4,
  "nbformat_minor": 0,
  "metadata": {
    "colab": {
      "provenance": [],
      "authorship_tag": "ABX9TyMZZQZbioXnB3Ihc3/ulaQA",
      "include_colab_link": true
    },
    "kernelspec": {
      "name": "python3",
      "display_name": "Python 3"
    },
    "language_info": {
      "name": "python"
    }
  },
  "cells": [
    {
      "cell_type": "markdown",
      "metadata": {
        "id": "view-in-github",
        "colab_type": "text"
      },
      "source": [
        "<a href=\"https://colab.research.google.com/github/kimhj010502/BAEKJOON/blob/main/STEP16_%EB%B0%B1%ED%8A%B8%EB%9E%98%ED%82%B9.ipynb\" target=\"_parent\"><img src=\"https://colab.research.google.com/assets/colab-badge.svg\" alt=\"Open In Colab\"/></a>"
      ]
    },
    {
      "cell_type": "markdown",
      "source": [
        "## [Backtracking 알고리즘]\n",
        "- Promising: 트리 구조를 기반으로 DFS로 깊이 탐색을 진행하면서 각 루트에 대해 조건이 부합하는지 체크함\n",
        "- Pruning: 해당 트리 조건에 맞지 않는 노드는 더 이상 DFS로 깊이 탐색을 진행하지 않고 가지치기를 함\n",
        "> 백트래킹 구현\n",
        "> - 해를 구하는 도중 해가 아니어서 막히면 막히기 전으로 다시 돌아가서 해를 찾는 기법\n",
        "> - 예를 들어, 갈랫길에서 한쪽으로 갔다가 이 길이 아닌 것 같으면 왔던 길로 되돌아와 다른 선택지로 감\n",
        "> - 가상의 트리에서 해를 구하기 위해 부모 노드에서 자식 노드까지 뻗어나가는데 해당 노드가 조건에 맞지 않으면 다시 부모 노드로 돌아감\n",
        "> - 해가 아닌 선택지는 없애면서 탐색하기 때문에 시간복잡도를 줄일 수 있음\n",
        "- [참고] https://velog.io/@nayeo0on/Backtracking <br> &emsp;&ensp;&emsp; https://veggie-garden.tistory.com/24"
      ],
      "metadata": {
        "id": "rqR43B68jF83"
      }
    },
    {
      "cell_type": "markdown",
      "metadata": {
        "id": "TzSGa08QXuST"
      },
      "source": [
        "### 1) #15649 N과 M (1)"
      ]
    },
    {
      "cell_type": "code",
      "source": [
        "n, m = map(int, input().split())\n",
        "sequence = []\n",
        "\n",
        "def backtracking():\n",
        "    if len(sequence) == m:\n",
        "        print(\" \".join(map(str, sequence)))\n",
        "        return\n",
        "    for i in range(1, n+1):\n",
        "        if i not in sequence:\n",
        "            sequence.append(i)\n",
        "            backtracking() #recursion\n",
        "            sequence.pop() #맨 마지막 요소를 없앰으로써 전 단계로 돌아가기\n",
        "\n",
        "backtracking()"
      ],
      "metadata": {
        "id": "G_zN2o1xAl_D",
        "colab": {
          "base_uri": "https://localhost:8080/"
        },
        "outputId": "f7c09042-8c62-4082-9cca-99528f782ed0"
      },
      "execution_count": null,
      "outputs": [
        {
          "output_type": "stream",
          "name": "stdout",
          "text": [
            "4 4\n",
            "1 2 3 4\n",
            "1 2 4 3\n",
            "1 3 2 4\n",
            "1 3 4 2\n",
            "1 4 2 3\n",
            "1 4 3 2\n",
            "2 1 3 4\n",
            "2 1 4 3\n",
            "2 3 1 4\n",
            "2 3 4 1\n",
            "2 4 1 3\n",
            "2 4 3 1\n",
            "3 1 2 4\n",
            "3 1 4 2\n",
            "3 2 1 4\n",
            "3 2 4 1\n",
            "3 4 1 2\n",
            "3 4 2 1\n",
            "4 1 2 3\n",
            "4 1 3 2\n",
            "4 2 1 3\n",
            "4 2 3 1\n",
            "4 3 1 2\n",
            "4 3 2 1\n"
          ]
        }
      ]
    },
    {
      "cell_type": "markdown",
      "source": [
        "- 시간이 164ms로 오래 걸림 → 68ms로 감소\n",
        "- permutation 패키지 사용 <br> [참고] https://velog.io/@dramatic/Python-permutation-combination-%EC%88%9C%EC%97%B4%EA%B3%BC-%EC%A1%B0%ED%95%A9"
      ],
      "metadata": {
        "id": "jznoZnpetl5Y"
      }
    },
    {
      "cell_type": "code",
      "source": [
        "from itertools import permutations\n",
        "\n",
        "n, m = map(int, input().split())\n",
        "\n",
        "num_list = list(permutations(map(str, range(1,n+1)), m))\n",
        "result = [' '.join(i) for i in num_list]\n",
        "print(*result, sep='\\n')"
      ],
      "metadata": {
        "colab": {
          "base_uri": "https://localhost:8080/"
        },
        "id": "dFgg7bvKt_LG",
        "outputId": "5bb5e578-bf22-43f9-e413-7fbe4e471b18"
      },
      "execution_count": null,
      "outputs": [
        {
          "output_type": "stream",
          "name": "stdout",
          "text": [
            "4 2\n",
            "1 2\n",
            "1 3\n",
            "1 4\n",
            "2 1\n",
            "2 3\n",
            "2 4\n",
            "3 1\n",
            "3 2\n",
            "3 4\n",
            "4 1\n",
            "4 2\n",
            "4 3\n"
          ]
        }
      ]
    },
    {
      "cell_type": "markdown",
      "source": [
        "### 2) #15650 N과 M (2)"
      ],
      "metadata": {
        "id": "vMQFxA2sAmIy"
      }
    },
    {
      "cell_type": "markdown",
      "source": [
        "- 아래 두 가지 방법 모두 시간 36ms 걸림"
      ],
      "metadata": {
        "id": "9yiqeUjs1srJ"
      }
    },
    {
      "cell_type": "code",
      "source": [
        "n, m = map(int, input().split())\n",
        "sequence = []\n",
        "\n",
        "def backtracking(start):\n",
        "    if len(sequence) == m:\n",
        "        print(\" \".join(map(str, sequence)))\n",
        "        return\n",
        "    for i in range(start, n+1):\n",
        "        if i not in sequence:\n",
        "            sequence.append(i)\n",
        "            backtracking(i+1) #recursion\n",
        "            sequence.pop() #맨 마지막 요소를 없앰으로써 전 단계로 돌아가기\n",
        "\n",
        "backtracking(1)"
      ],
      "metadata": {
        "colab": {
          "base_uri": "https://localhost:8080/"
        },
        "id": "HBBk87oSwj_T",
        "outputId": "9483a7c8-f1cb-41a4-a1e1-f79a084908c4"
      },
      "execution_count": null,
      "outputs": [
        {
          "output_type": "stream",
          "name": "stdout",
          "text": [
            "4 4\n",
            "1 2 3 4\n"
          ]
        }
      ]
    },
    {
      "cell_type": "code",
      "source": [
        "from itertools import combinations\n",
        "\n",
        "n, m = map(int, input().split())\n",
        "\n",
        "num_list = list(combinations(map(str, range(1,n+1)), m))\n",
        "result = [' '.join(i) for i in num_list]\n",
        "print(*result, sep='\\n')"
      ],
      "metadata": {
        "colab": {
          "base_uri": "https://localhost:8080/"
        },
        "id": "3Fhr4JUJwUgL",
        "outputId": "9a18f12b-435d-4b2a-8aa0-74fec705ef4e"
      },
      "execution_count": null,
      "outputs": [
        {
          "output_type": "stream",
          "name": "stdout",
          "text": [
            "4 4\n",
            "1 2 3 4\n"
          ]
        }
      ]
    },
    {
      "cell_type": "markdown",
      "source": [
        "### 3) #15651 N과 M (3)"
      ],
      "metadata": {
        "id": "5IQ1M4CbAoso"
      }
    },
    {
      "cell_type": "code",
      "source": [
        "n, m = map(int, input().split())\n",
        "sequence = []\n",
        "\n",
        "def backtracking():\n",
        "    if len(sequence) == m:\n",
        "        print(\" \".join(map(str, sequence)))\n",
        "        return\n",
        "    for i in range(1, n+1):\n",
        "        sequence.append(i)\n",
        "        backtracking() #recursion\n",
        "        sequence.pop() #맨 마지막 요소를 없앰으로써 전 단계로 돌아가기\n",
        "\n",
        "backtracking()"
      ],
      "metadata": {
        "colab": {
          "base_uri": "https://localhost:8080/"
        },
        "id": "BLa_ZXAh5BjG",
        "outputId": "9a141d9f-565b-431c-d209-10c32812dfef"
      },
      "execution_count": null,
      "outputs": [
        {
          "output_type": "stream",
          "name": "stdout",
          "text": [
            "3 3\n",
            "1 1 1\n",
            "1 1 2\n",
            "1 1 3\n",
            "1 2 1\n",
            "1 2 2\n",
            "1 2 3\n",
            "1 3 1\n",
            "1 3 2\n",
            "1 3 3\n",
            "2 1 1\n",
            "2 1 2\n",
            "2 1 3\n",
            "2 2 1\n",
            "2 2 2\n",
            "2 2 3\n",
            "2 3 1\n",
            "2 3 2\n",
            "2 3 3\n",
            "3 1 1\n",
            "3 1 2\n",
            "3 1 3\n",
            "3 2 1\n",
            "3 2 2\n",
            "3 2 3\n",
            "3 3 1\n",
            "3 3 2\n",
            "3 3 3\n"
          ]
        }
      ]
    },
    {
      "cell_type": "markdown",
      "source": [
        "- 시간이 1404ms로 오래 걸림 → 656ms로 감소"
      ],
      "metadata": {
        "id": "NkpAz0G16j1c"
      }
    },
    {
      "cell_type": "code",
      "source": [
        "from itertools import product\n",
        "\n",
        "n, m = map(int, input().split())\n",
        "\n",
        "num_list = list(product(map(str, range(1,n+1)), repeat = m))\n",
        "result = [' '.join(i) for i in num_list]\n",
        "print(*result, sep='\\n')"
      ],
      "metadata": {
        "colab": {
          "base_uri": "https://localhost:8080/"
        },
        "id": "VMyg0MeT5mA4",
        "outputId": "0d3dcc6b-9816-419d-e9db-060a9c8d6df2"
      },
      "execution_count": null,
      "outputs": [
        {
          "output_type": "stream",
          "name": "stdout",
          "text": [
            "3 3\n",
            "1 1 1\n",
            "1 1 2\n",
            "1 1 3\n",
            "1 2 1\n",
            "1 2 2\n",
            "1 2 3\n",
            "1 3 1\n",
            "1 3 2\n",
            "1 3 3\n",
            "2 1 1\n",
            "2 1 2\n",
            "2 1 3\n",
            "2 2 1\n",
            "2 2 2\n",
            "2 2 3\n",
            "2 3 1\n",
            "2 3 2\n",
            "2 3 3\n",
            "3 1 1\n",
            "3 1 2\n",
            "3 1 3\n",
            "3 2 1\n",
            "3 2 2\n",
            "3 2 3\n",
            "3 3 1\n",
            "3 3 2\n",
            "3 3 3\n"
          ]
        }
      ]
    },
    {
      "cell_type": "markdown",
      "source": [
        "### 4) #15652 N과 M (4)"
      ],
      "metadata": {
        "id": "OLOyaaewArB5"
      }
    },
    {
      "cell_type": "code",
      "source": [
        "n, m = map(int, input().split())\n",
        "sequence = []\n",
        "\n",
        "def backtracking(start):\n",
        "    if len(sequence) == m:\n",
        "        print(\" \".join(map(str, sequence)))\n",
        "        return\n",
        "    for i in range(start, n+1):\n",
        "        sequence.append(i)\n",
        "        backtracking(i) #recursion\n",
        "        sequence.pop() #맨 마지막 요소를 없앰으로써 전 단계로 돌아가기\n",
        "\n",
        "backtracking(1)"
      ],
      "metadata": {
        "colab": {
          "base_uri": "https://localhost:8080/"
        },
        "id": "h2-d_DaN62Uh",
        "outputId": "1dba3887-7f7e-40f4-b510-4e0d4740a43c"
      },
      "execution_count": null,
      "outputs": [
        {
          "output_type": "stream",
          "name": "stdout",
          "text": [
            "3 3\n",
            "1 1 1\n",
            "1 1 2\n",
            "1 1 3\n",
            "1 2 2\n",
            "1 2 3\n",
            "1 3 3\n",
            "2 2 2\n",
            "2 2 3\n",
            "2 3 3\n",
            "3 3 3\n"
          ]
        }
      ]
    },
    {
      "cell_type": "markdown",
      "source": [
        "- 시간이 48ms로 오래 걸림 → 40ms로 감소"
      ],
      "metadata": {
        "id": "ATz3yedw7d94"
      }
    },
    {
      "cell_type": "code",
      "source": [
        "from itertools import combinations_with_replacement\n",
        "\n",
        "n, m = map(int, input().split())\n",
        "\n",
        "num_list = list(combinations_with_replacement(map(str, range(1,n+1)), m))\n",
        "result = [' '.join(i) for i in num_list]\n",
        "print(*result, sep='\\n')"
      ],
      "metadata": {
        "colab": {
          "base_uri": "https://localhost:8080/"
        },
        "id": "6-0kQNmZ63Kr",
        "outputId": "a4c4a558-b39b-4079-95db-be2683571a5b"
      },
      "execution_count": null,
      "outputs": [
        {
          "output_type": "stream",
          "name": "stdout",
          "text": [
            "3 3\n",
            "1 1 1\n",
            "1 1 2\n",
            "1 1 3\n",
            "1 2 2\n",
            "1 2 3\n",
            "1 3 3\n",
            "2 2 2\n",
            "2 2 3\n",
            "2 3 3\n",
            "3 3 3\n"
          ]
        }
      ]
    },
    {
      "cell_type": "markdown",
      "source": [
        "### 5) #9663 N-Queen"
      ],
      "metadata": {
        "id": "UWtUg3ItAuf9"
      }
    },
    {
      "cell_type": "markdown",
      "source": [
        "- 문제 이해가 안돼서 다른 자료 참고함 <br> [참고] https://chanhuiseok.github.io/posts/baek-1/ <br> &emsp;&ensp;&emsp; https://daeun-computer-uneasy.tistory.com/80\n",
        "- 어차피 한 줄에 한 개의 말만 존재할 수 있으므로 굳이 2차원 배열을 사용하지 않아도 됨\n",
        "<a href='https://ifh.cc/v-04WFD2' target='_blank'><img src='https://ifh.cc/g/04WFD2.jpg' border='0' width='800'></a>"
      ],
      "metadata": {
        "id": "mCpLsF8YMJNt"
      }
    },
    {
      "cell_type": "code",
      "source": [
        "N = int(input())\n",
        "\n",
        "chess = [-1] * N #크기가 n인 배열 생성 (-1로 초기화)\n",
        "result = 0\n",
        "\n",
        "def check(n): #같은 column에 있거나 대각선에 있는지 확인 (i가 n-1까지만 가기 때문에 같은 row에 있을 수는 없음)\n",
        "    for i in range(n):\n",
        "        if (chess[n] == chess[i]) | ( (n-i) == abs(chess[n] - chess[i]) ): \n",
        "            return False\n",
        "    return True\n",
        "\n",
        "def nqueen(depth):\n",
        "    print(f'depth: {depth}, chess: {chess}')\n",
        "    global result\n",
        "\n",
        "    if depth == N: #n번째 row까지 모든 퀸을 놓았다면\n",
        "        result += 1 #경우의 수 하나 늘리기\n",
        "    \n",
        "    else:\n",
        "        for i in range(N):\n",
        "            print(f'depth: {depth}, i: {i}')\n",
        "            chess[depth] = i #(depth, i)에 퀸 놓기\n",
        "            if check(depth): #depth x depth 크기의 chess판에서 조건 확인하고 놓을 수 있으면\n",
        "                print('[check True]')\n",
        "                nqueen(depth + 1) #Back Tracking\n",
        "\n",
        "nqueen(0)\n",
        "print(result)"
      ],
      "metadata": {
        "colab": {
          "base_uri": "https://localhost:8080/"
        },
        "id": "3T6KV4Wy6KPu",
        "outputId": "a659dbf8-2159-4f01-cb32-ca87ed458208"
      },
      "execution_count": null,
      "outputs": [
        {
          "output_type": "stream",
          "name": "stdout",
          "text": [
            "3\n",
            "depth: 0, chess: [-1, -1, -1]\n",
            "depth: 0, i: 0\n",
            "[check True]\n",
            "depth: 1, chess: [0, -1, -1]\n",
            "depth: 1, i: 0\n",
            "depth: 1, i: 1\n",
            "depth: 1, i: 2\n",
            "[check True]\n",
            "depth: 2, chess: [0, 2, -1]\n",
            "depth: 2, i: 0\n",
            "depth: 2, i: 1\n",
            "depth: 2, i: 2\n",
            "depth: 0, i: 1\n",
            "[check True]\n",
            "depth: 1, chess: [1, 2, 2]\n",
            "depth: 1, i: 0\n",
            "depth: 1, i: 1\n",
            "depth: 1, i: 2\n",
            "depth: 0, i: 2\n",
            "[check True]\n",
            "depth: 1, chess: [2, 2, 2]\n",
            "depth: 1, i: 0\n",
            "[check True]\n",
            "depth: 2, chess: [2, 0, 2]\n",
            "depth: 2, i: 0\n",
            "depth: 2, i: 1\n",
            "depth: 2, i: 2\n",
            "depth: 1, i: 1\n",
            "depth: 1, i: 2\n",
            "0\n"
          ]
        }
      ]
    },
    {
      "cell_type": "markdown",
      "source": [
        "- 위의 출력에서 3 x 3으로 예시를 확인해봤을 때 (0,0), (0,1), (0,2)에 하나씩 퀸을 둬보고 확인하는 것을 알 수 있음\n",
        "    - (0,0)에 퀸을 놨을 때 (1,2)에 두면 2번째 row에는 어느 군데에도 못 놓게 됨\n",
        "    - 실행중이던 backtracking을 모두 종료하고 다시 nqueen(0)의 for문으로 돌아가서 (0,1)에 퀸 놓기\n",
        "    - (0,1)에 놓으면 1번째 row에 퀸을 아무데도 못 놓음\n",
        "    - 다시 backtracking 모두 종료하고 nqueen(0)의 for문으로 돌아가서 (0,2)에 퀸 놓기\n",
        "    - (1,0)에 둘 수 있으므로 여기에 놓고 2번째 row로 갔는데 아무데도 못 놓음\n",
        "    - backtracking 하나 종료하고 (1,1), (1,2)에 놓을 수 있는지 검사 후 아무데도 안되니까 nqeeun() 함수 종료"
      ],
      "metadata": {
        "id": "DIgyVZJyjxCA"
      }
    },
    {
      "cell_type": "code",
      "source": [
        "N = int(input())\n",
        "\n",
        "chess = [-1] * N #크기가 n인 배열 생성 (-1로 초기화)\n",
        "result = 0\n",
        "\n",
        "def check(n): #같은 column에 있거나 대각선에 있는지 확인 (i가 n-1까지만 가기 때문에 같은 row에 있을 수는 없음)\n",
        "    for i in range(n):\n",
        "        if (chess[n] == chess[i]) | ( (n-i) == abs(chess[n] - chess[i]) ): \n",
        "            return False\n",
        "    return True\n",
        "\n",
        "def nqueen(depth):\n",
        "    #print(f'depth: {depth}, chess: {chess}')\n",
        "    global result\n",
        "\n",
        "    if depth == N: #n번째 row까지 모든 퀸을 놓았다면\n",
        "        result += 1 #경우의 수 하나 늘리기\n",
        "    \n",
        "    else:\n",
        "        for i in range(N):\n",
        "            #print(f'depth: {depth}, i: {i}')\n",
        "            chess[depth] = i #(depth, i)에 퀸 놓기\n",
        "            if check(depth): #depth x depth 크기의 chess판에서 조건 확인하고 놓을 수 있으면\n",
        "                #print('check: True')\n",
        "                nqueen(depth + 1) #Back Tracking\n",
        "\n",
        "nqueen(0)\n",
        "print(result)"
      ],
      "metadata": {
        "colab": {
          "base_uri": "https://localhost:8080/"
        },
        "id": "vxBNP3GNciqu",
        "outputId": "f1816eb3-5ecd-4dbb-e6ad-5f733bb9cc3d"
      },
      "execution_count": null,
      "outputs": [
        {
          "output_type": "stream",
          "name": "stdout",
          "text": [
            "8\n",
            "92\n"
          ]
        }
      ]
    },
    {
      "cell_type": "markdown",
      "source": [
        "---\n",
        "- 시간 초과\n",
        "- python3으로 백트래킹 문제를 풀기는 어려우므로 메모리를 더 많이 사용하지만 속도가 빠른 pypy3으로 제출하는 것이 좋음 <br> [참고] https://www.acmicpc.net/board/view/40175\n",
        "- pypy3와 python3의 차이: https://ralp0217.tistory.com/entry/Python3-%EC%99%80-PyPy3-%EC%B0%A8%EC%9D%B4"
      ],
      "metadata": {
        "id": "4f5jg6Q_mdNL"
      }
    },
    {
      "cell_type": "code",
      "source": [
        "import sys\n",
        "\n",
        "N = int(sys.stdin.readline().rstrip())\n",
        "\n",
        "chess = [-1] * N #크기가 n인 배열 생성 (-1로 초기화)\n",
        "result = 0\n",
        "\n",
        "def check(n): #같은 column에 있거나 대각선에 있는지 확인 (i가 n-1까지만 가기 때문에 같은 row에 있을 수는 없음)\n",
        "    for i in range(n):\n",
        "        if (chess[n] == chess[i]) | ( (n-i) == abs(chess[n] - chess[i]) ): \n",
        "            return False\n",
        "    return True\n",
        "\n",
        "def nqueen(depth):\n",
        "    global result\n",
        "\n",
        "    if depth == N: #n번째 row까지 모든 퀸을 놓았다면\n",
        "        result += 1 #경우의 수 하나 늘리기\n",
        "    else:\n",
        "        for i in range(N):\n",
        "            chess[depth] = i #(depth, i)에 퀸 놓기\n",
        "            if check(depth): #depth x depth 크기의 chess판에서 조건 확인하고 놓을 수 있으면\n",
        "                nqueen(depth + 1) #Back Tracking\n",
        "\n",
        "nqueen(0)\n",
        "print(result)"
      ],
      "metadata": {
        "id": "w3AaYmFCcZRF"
      },
      "execution_count": null,
      "outputs": []
    },
    {
      "cell_type": "markdown",
      "source": [
        "### 6) #2580 스도쿠"
      ],
      "metadata": {
        "id": "4yjc63a_Ax7y"
      }
    },
    {
      "cell_type": "markdown",
      "source": [
        "- 2차원 배열은 `copy()`를 사용했을 때 다르게 할당되지 않음\n",
        "``` python\n",
        "a = [[1, 2], [3, 4]]\n",
        "b = [arr[:] for arr in a] #deepcopy\n",
        "```"
      ],
      "metadata": {
        "id": "0jNtXzcbmCnl"
      }
    },
    {
      "cell_type": "code",
      "source": [
        "sudoku = [list(map(int, input().split())) for _ in range(9)]\n",
        "\n",
        "blank = [(i, j) for i in range(9) for j in range(9) if sudoku[i][j] == 0]\n",
        "blank_num = len(blank)\n",
        "result = [arr[:] for arr in sudoku]\n",
        "\n",
        "def check(row, col, num): #해당 row와 col에 숫자가 없는지 확인\n",
        "    row_set = set(sudoku[row])\n",
        "    col_set = set([sudoku[i][col] for i in range(9)])\n",
        "    total_set = row_set.union(col_set)\n",
        "\n",
        "    if num not in total_set:\n",
        "        return True\n",
        "    else:\n",
        "        return False\n",
        "\n",
        "def make_sudoku(depth):\n",
        "    global result, blank_num\n",
        "    #print(f'-----depth: {depth}-----')\n",
        "    #print(*result, sep='\\n')\n",
        "    \n",
        "    if depth == blank_num: #모든 빈 칸을 채웠다면\n",
        "        return\n",
        "    else:\n",
        "        for i in range(1, 10): #조건에 맞는 숫자가 있으면\n",
        "            #print(f'i: {i}, index: {blank[depth]}')\n",
        "            if check(blank[depth][0], blank[depth][1], i):\n",
        "                result[blank[depth][0]][blank[depth][1]] = i #스도쿠판 채우기\n",
        "                make_sudoku(depth + 1) #Back Tracking\n",
        "\n",
        "make_sudoku(0)\n",
        "for i in range(9):\n",
        "    print(*result[i], sep=' ', end='\\n')"
      ],
      "metadata": {
        "colab": {
          "base_uri": "https://localhost:8080/"
        },
        "id": "SvGqoVECZbxH",
        "outputId": "68e06850-24cb-4d8f-bfef-f3b29b2c7fd2"
      },
      "execution_count": null,
      "outputs": [
        {
          "output_type": "stream",
          "name": "stdout",
          "text": [
            "0 3 5 4 6 9 2 7 8\n",
            "7 8 2 1 0 5 6 0 9\n",
            "0 6 0 2 7 8 1 3 5\n",
            "3 2 1 0 4 6 8 9 7\n",
            "8 0 4 9 1 3 5 0 6\n",
            "5 9 6 8 2 0 4 1 3\n",
            "9 1 7 6 5 2 0 8 0\n",
            "6 0 3 7 0 1 9 5 2\n",
            "2 5 8 3 9 4 7 6 0\n",
            "1 3 5 4 6 9 2 7 8\n",
            "7 8 2 1 3 5 6 4 9\n",
            "4 6 9 2 7 8 1 3 5\n",
            "3 2 1 5 4 6 8 9 7\n",
            "8 7 4 9 1 3 5 2 6\n",
            "5 9 6 8 2 7 4 1 3\n",
            "9 1 7 6 5 2 3 8 4\n",
            "6 4 3 7 8 1 9 5 2\n",
            "2 5 8 3 9 4 7 6 1\n"
          ]
        }
      ]
    },
    {
      "cell_type": "markdown",
      "source": [
        "- 시간 초과 방지\n",
        "- pypy3로 제출"
      ],
      "metadata": {
        "id": "2g69Xy8ZpZnl"
      }
    },
    {
      "cell_type": "code",
      "source": [
        "import sys\n",
        "\n",
        "sudoku = [list(map(int, sys.stdin.readline().rstrip().split())) for _ in range(9)]\n",
        "\n",
        "blank = [(i, j) for i in range(9) for j in range(9) if sudoku[i][j] == 0]\n",
        "blank_num = len(blank)\n",
        "result = [arr[:] for arr in sudoku]\n",
        "\n",
        "def check(row, col, num): #해당 row와 col에 숫자가 없는지 확인\n",
        "    if num not in set(sudoku[row]).union(set([sudoku[i][col] for i in range(9)])):\n",
        "        return True\n",
        "    else:\n",
        "        return False\n",
        "\n",
        "def make_sudoku(depth):\n",
        "    global result, blank_num\n",
        "    \n",
        "    if depth == blank_num: #모든 빈 칸을 채웠다면\n",
        "        return\n",
        "    else:\n",
        "        for i in range(1, 10): #조건에 맞는 숫자가 있으면\n",
        "            row, col = blank[depth][0], blank[depth][1]\n",
        "            if check(row, col, i):\n",
        "                result[row][col] = i #스도쿠판 채우기\n",
        "                make_sudoku(depth + 1) #Back Tracking\n",
        "\n",
        "make_sudoku(0)\n",
        "for i in range(9):\n",
        "    print(*result[i], sep=' ', end='\\n')"
      ],
      "metadata": {
        "id": "igZFfpU7pZUB"
      },
      "execution_count": null,
      "outputs": []
    },
    {
      "cell_type": "markdown",
      "source": [
        "---\n",
        "- 시간 초과\n",
        "- 3 x 3에 없어야 한다는 것을 생각하지 못함\n",
        "- 채우지 못했을 때 비워야 하는 것도 고려하지 않음 <br> [참고] https://claude-u.tistory.com/360"
      ],
      "metadata": {
        "id": "z4AlfyURq-3F"
      }
    },
    {
      "cell_type": "code",
      "source": [
        "sudoku = [list(map(int, input().split())) for _ in range(9)]\n",
        "\n",
        "blank = [(i, j) for i in range(9) for j in range(9) if sudoku[i][j] == 0]\n",
        "blank_num = len(blank)\n",
        "result = [arr[:] for arr in sudoku]\n",
        "finish_state = False\n",
        "\n",
        "def check_row_col(row, col, num): #해당 row와 col에 숫자가 없는지 확인\n",
        "    row_set = set([result[row][i] for i in range(9) if i != col])\n",
        "    col_set = set([result[i][col] for i in range(9) if i != row])\n",
        "    total_set = row_set.union(col_set)\n",
        "    if num not in total_set:\n",
        "        return True\n",
        "    else:\n",
        "        return False\n",
        "\n",
        "def check_3_by_3(row, col, num):\n",
        "    row_start = (row//3)*3\n",
        "    col_start = (col//3)*3\n",
        "    total_set = set([result[row_start + i][col_start + j] for i in range(3) for j in range(3)])\n",
        "    if num not in total_set:\n",
        "        return True\n",
        "    else:\n",
        "        return False\n",
        "\n",
        "def make_sudoku(depth):\n",
        "    global result, blank_num, finish_state\n",
        "    #print(*result, sep='\\n')\n",
        "\n",
        "    if finish_state:\n",
        "        return\n",
        "    \n",
        "    if depth == blank_num: #모든 빈 칸을 채웠다면\n",
        "        finish_state = True\n",
        "        for i in range(9):\n",
        "            print(*result[i], sep=' ', end='\\n')\n",
        "        return\n",
        "    else:\n",
        "        for i in range(1, 10): #조건에 맞는 숫자가 있으면\n",
        "            #print(f'depth: {depth} >> i: {i}, index: {blank[depth]}')\n",
        "            row, col = blank[depth][0], blank[depth][1]\n",
        "            if check_row_col(row, col, i) & check_3_by_3(row, col, i): #조건 검사\n",
        "                result[row][col] = i #스도쿠판 채우기\n",
        "                make_sudoku(depth + 1) #Back Tracking\n",
        "                result[row][col] = 0 #끝내지 않고 돌아오면 다시 비우기\n",
        "\n",
        "make_sudoku(0)"
      ],
      "metadata": {
        "colab": {
          "base_uri": "https://localhost:8080/"
        },
        "id": "8BJRByN5i6M5",
        "outputId": "217f4634-ced8-408e-a3d9-f0760d3eb0dd"
      },
      "execution_count": null,
      "outputs": [
        {
          "output_type": "stream",
          "name": "stdout",
          "text": [
            "0 0 0 0 0 0 0 0 0\n",
            "0 0 0 0 0 0 0 0 0\n",
            "0 0 0 0 0 0 0 0 0\n",
            "0 0 0 0 0 0 0 0 0\n",
            "0 0 0 0 0 0 0 0 0\n",
            "0 0 0 0 0 0 0 0 0\n",
            "0 0 0 0 0 0 0 0 0\n",
            "0 0 0 0 0 0 0 0 0\n",
            "0 0 0 0 0 0 0 0 0\n",
            "1 2 3 4 5 6 7 8 9\n",
            "4 5 6 7 8 9 1 2 3\n",
            "7 8 9 1 2 3 4 5 6\n",
            "2 1 4 3 6 5 8 9 7\n",
            "3 6 5 8 9 7 2 1 4\n",
            "8 9 7 2 1 4 3 6 5\n",
            "5 3 1 6 4 2 9 7 8\n",
            "6 4 2 9 7 8 5 3 1\n",
            "9 7 8 5 3 1 6 4 2\n"
          ]
        }
      ]
    },
    {
      "cell_type": "markdown",
      "source": [
        "---\n",
        "- 시간 초과\n",
        "- 1부터 9까지 모든 숫자에 대해서 조건을 하나씩 검사하지 말고 조건을 통과한 숫자 중에서만 고려하기"
      ],
      "metadata": {
        "id": "KatRvc_npa3U"
      }
    },
    {
      "cell_type": "code",
      "source": [
        "sudoku = [list(map(int, input().split())) for _ in range(9)]\n",
        "\n",
        "blank = [(i, j) for i in range(9) for j in range(9) if sudoku[i][j] == 0]\n",
        "blank_num = len(blank)\n",
        "result = [arr[:] for arr in sudoku]\n",
        "finish_state = False\n",
        "\n",
        "def promising(row, col):\n",
        "    row_col_set = set([result[row][i] for i in range(9) if i != col] + [result[i][col] for i in range(9) if i != row])\n",
        "    row_start = (row//3)*3\n",
        "    col_start = (col//3)*3\n",
        "    box3_3_set = set([result[row_start + i][col_start + j] for i in range(3) for j in range(3)])\n",
        "    total_set = row_col_set.union(box3_3_set)\n",
        "    return [i for i in range(1, 10) if i not in total_set ]\n",
        "\n",
        "def make_sudoku(depth):\n",
        "    global result, blank_num, finish_state\n",
        "\n",
        "    if finish_state:\n",
        "        return\n",
        "    \n",
        "    if depth == blank_num: #모든 빈 칸을 채웠다면\n",
        "        finish_state = True\n",
        "        for i in range(9):\n",
        "            print(*result[i], sep=' ', end='\\n')\n",
        "        return\n",
        "    else:\n",
        "        row, col = blank[depth][0], blank[depth][1]\n",
        "        for i in promising(row, col): #조건에 맞는 숫자가 있으면\n",
        "            result[row][col] = i #스도쿠판 채우기\n",
        "            make_sudoku(depth + 1) #Back Tracking\n",
        "            result[row][col] = 0 #끝내지 않고 돌아오면 다시 비우기\n",
        "\n",
        "make_sudoku(0)"
      ],
      "metadata": {
        "colab": {
          "base_uri": "https://localhost:8080/"
        },
        "id": "gTt_7V20pdmC",
        "outputId": "94e0c8b1-2a51-4dc8-8d7b-773942c7435c"
      },
      "execution_count": null,
      "outputs": [
        {
          "output_type": "stream",
          "name": "stdout",
          "text": [
            "0 0 0 0 0 0 0 0 0\n",
            "0 0 0 0 0 0 0 0 0\n",
            "0 0 0 0 0 0 0 0 0\n",
            "0 0 0 0 0 0 0 0 0\n",
            "0 0 0 0 0 0 0 0 0\n",
            "0 0 0 0 0 0 0 0 0\n",
            "0 0 0 0 0 0 0 0 0\n",
            "0 0 0 0 0 0 0 0 0\n",
            "0 0 0 0 0 0 0 0 0\n",
            "1 2 3 4 5 6 7 8 9\n",
            "4 5 6 7 8 9 1 2 3\n",
            "7 8 9 1 2 3 4 5 6\n",
            "2 1 4 3 6 5 8 9 7\n",
            "3 6 5 8 9 7 2 1 4\n",
            "8 9 7 2 1 4 3 6 5\n",
            "5 3 1 6 4 2 9 7 8\n",
            "6 4 2 9 7 8 5 3 1\n",
            "9 7 8 5 3 1 6 4 2\n"
          ]
        }
      ]
    },
    {
      "cell_type": "code",
      "source": [
        "import sys\n",
        "\n",
        "sudoku = [list(map(int, sys.stdin.readline().rstrip().split())) for _ in range(9)]\n",
        "\n",
        "blank = [(i, j) for i in range(9) for j in range(9) if sudoku[i][j] == 0]\n",
        "blank_num = len(blank)\n",
        "result = [arr[:] for arr in sudoku]\n",
        "finish_state = False\n",
        "\n",
        "def promising(row, col):\n",
        "    row_col_set = set([result[row][i] for i in range(9) if i != col] + [result[i][col] for i in range(9) if i != row])\n",
        "    row_start = (row//3)*3\n",
        "    col_start = (col//3)*3\n",
        "    box3_3_set = set([result[row_start + i][col_start + j] for i in range(3) for j in range(3)])\n",
        "    total_set = row_col_set.union(box3_3_set)\n",
        "    return [i for i in range(1, 10) if i not in total_set ]\n",
        "\n",
        "def make_sudoku(depth):\n",
        "    global result, blank_num, finish_state\n",
        "\n",
        "    if finish_state:\n",
        "        return\n",
        "    \n",
        "    if depth == blank_num: #모든 빈 칸을 채웠다면\n",
        "        finish_state = True\n",
        "        for i in range(9):\n",
        "            print(*result[i], sep=' ', end='\\n')\n",
        "        return\n",
        "    else:\n",
        "        row, col = blank[depth][0], blank[depth][1]\n",
        "        for i in promising(row, col): #조건에 맞는 숫자가 있으면\n",
        "            result[row][col] = i #스도쿠판 채우기\n",
        "            make_sudoku(depth + 1) #Back Tracking\n",
        "            result[row][col] = 0 #끝내지 않고 돌아오면 다시 비우기\n",
        "\n",
        "make_sudoku(0)"
      ],
      "metadata": {
        "id": "-cRBhDyJo82f"
      },
      "execution_count": null,
      "outputs": []
    },
    {
      "cell_type": "markdown",
      "source": [
        "### 7) #14888 연산자 끼워넣기"
      ],
      "metadata": {
        "id": "Udjovh7WA0fC"
      }
    },
    {
      "cell_type": "code",
      "source": [
        "from itertools import permutations\n",
        "\n",
        "N = int(input())\n",
        "A_list = list(map(int, input().split()))\n",
        "A_list.reverse()\n",
        "plus, minus, multi, div = map(int, input().split())\n",
        "\n",
        "operator_list = ['+']*plus + ['-']*minus + ['*']*multi + ['//']*div\n",
        "operator_set = list(set(permutations(map(str, operator_list), len(operator_list))))\n",
        "operator_set = [list(operator_set[i]) for i in range(len(operator_set))]\n",
        "\n",
        "def calculate(num1, num2, operator):\n",
        "    #print(f'{num1} {operator} {num2}')\n",
        "    if operator == '+': #덧셈 연산\n",
        "        return num1 + num2\n",
        "    elif operator == '-': #뺄셈 연산\n",
        "        return num1 - num2\n",
        "    elif operator == '*': #곱셈 연산\n",
        "        return num1 * num2\n",
        "    else: #나눗셈 연산 (음수 입력 처리)\n",
        "        if num1 < 0:\n",
        "            return -1 * ((-1 * num1) // num2)\n",
        "        else:\n",
        "            return num1 // num2\n",
        "\n",
        "def calculate_total(num_list, operator_list):\n",
        "    #print(f'num_list: {num_list}, operator_list: {operator_list}')\n",
        "    if len(num_list) == 1: #계산이 다 끝난 경우\n",
        "        return num_list[0]\n",
        "    else:\n",
        "        num_list.append(calculate(num_list.pop(), num_list.pop(), operator_list.pop())) #계산해서 num_list에 값 넣기\n",
        "        return calculate_total(num_list, operator_list) #backtracking\n",
        "\n",
        "result_list = [calculate_total(A_list.copy(), i) for i in operator_set]\n",
        "print(max(result_list))\n",
        "print(min(result_list))"
      ],
      "metadata": {
        "colab": {
          "base_uri": "https://localhost:8080/"
        },
        "id": "3jj42h7oz_pe",
        "outputId": "7f909d7c-799e-4fd5-ae15-955e567d023e"
      },
      "execution_count": null,
      "outputs": [
        {
          "output_type": "stream",
          "name": "stdout",
          "text": [
            "6\n",
            "1 2 3 4 5 6\n",
            "2 1 1 1\n",
            "54\n",
            "-24\n"
          ]
        }
      ]
    },
    {
      "cell_type": "markdown",
      "source": [
        "---\n",
        "- 시간이 608ms로 오래 걸림 → 시간 감소 안됨\n",
        "- 최솟값과 최댓값을 초기화해놓고 갱신하면서 계산하기"
      ],
      "metadata": {
        "id": "ItcilugXhFbZ"
      }
    },
    {
      "cell_type": "code",
      "source": [
        "from itertools import permutations\n",
        "\n",
        "N = int(input())\n",
        "A_list = list(map(int, input().split()))\n",
        "A_list.reverse()\n",
        "plus, minus, multi, div = map(int, input().split())\n",
        "\n",
        "operator_list = ['+']*plus + ['-']*minus + ['*']*multi + ['//']*div\n",
        "operator_set = list(set(permutations(map(str, operator_list), len(operator_list))))\n",
        "operator_set = [list(operator_set[i]) for i in range(len(operator_set))]\n",
        "\n",
        "max_result = -1e10; min_result = 1e10\n",
        "\n",
        "def calculate(num1, num2, operator):\n",
        "    #print(f'{num1} {operator} {num2}')\n",
        "    if operator == '+': #덧셈 연산\n",
        "        return num1 + num2\n",
        "    elif operator == '-': #뺄셈 연산\n",
        "        return num1 - num2\n",
        "    elif operator == '*': #곱셈 연산\n",
        "        return num1 * num2\n",
        "    else: #나눗셈 연산 (음수 입력 처리)\n",
        "        if num1 < 0:\n",
        "            return -1 * ((-1 * num1) // num2)\n",
        "        else:\n",
        "            return num1 // num2\n",
        "\n",
        "def calculate_total(num_list, operator_list):\n",
        "    global max_result, min_result\n",
        "    #print(f'num_list: {num_list}, operator_list: {operator_list}')\n",
        "    if len(num_list) == 1: #계산이 다 끝난 경우\n",
        "        result = num_list[0]\n",
        "        if result > max_result:\n",
        "            max_result = result\n",
        "        if result < min_result:\n",
        "            min_result = result\n",
        "        return\n",
        "    else:\n",
        "        num_list.append(calculate(num_list.pop(), num_list.pop(), operator_list.pop())) #계산해서 num_list에 값 넣기\n",
        "        return calculate_total(num_list, operator_list) #recursion\n",
        "\n",
        "for i in operator_set:\n",
        "    calculate_total(A_list.copy(), i)\n",
        "\n",
        "print(max_result)\n",
        "print(min_result)"
      ],
      "metadata": {
        "colab": {
          "base_uri": "https://localhost:8080/"
        },
        "id": "5tUC05a8hH3Q",
        "outputId": "69ca09c4-4653-4881-b4eb-c6ec30ac4253"
      },
      "execution_count": null,
      "outputs": [
        {
          "output_type": "stream",
          "name": "stdout",
          "text": [
            "6\n",
            "1 2 3 4 5 6\n",
            "2 1 1 1\n",
            "54\n",
            "-24\n"
          ]
        }
      ]
    },
    {
      "cell_type": "markdown",
      "source": [
        "---\n",
        "- 시간이 608ms로 너무 오래 걸림 → 60ms로 감소\n",
        "- for문 사용 안하고 BackTracking 사용 <br> [참고] https://velog.io/@kimdukbae/BOJ-14888-%EC%97%B0%EC%82%B0%EC%9E%90-%EB%81%BC%EC%9B%8C%EB%84%A3%EA%B8%B0-Python\n",
        "- 순열로 순서를 만들어서 넣어주는 것이 아닌 DFS를 사용하여 트리 형태로 선택지를 넓혀 나가는 방법"
      ],
      "metadata": {
        "id": "IAzCJ8DpiZOJ"
      }
    },
    {
      "cell_type": "code",
      "source": [
        "N = int(input())\n",
        "A_list = list(map(int, input().split()))\n",
        "operator_list = list(map(int, input().split()))\n",
        "\n",
        "max_result = -1e10; min_result = 1e10\n",
        "\n",
        "def dfs(depth, total, plus, minus, multi, div):\n",
        "    global max_result, min_result\n",
        "    #print(f'{depth}, {total} >> {plus}, {minus}, {multi}, {div}')\n",
        "    if depth == N: #트리 끝까지 다 돌면 값 반환\n",
        "        max_result = max(total, max_result)\n",
        "        min_result = min(total, min_result)\n",
        "        #print(f'[[max:{max_result}, min:{min_result}]]')\n",
        "        return\n",
        "    \n",
        "    if plus: #0이 아닌 경우 True\n",
        "        dfs(depth+1, total + A_list[depth], plus-1, minus, multi, div)\n",
        "    if minus:\n",
        "        dfs(depth+1, total - A_list[depth], plus, minus-1, multi, div)\n",
        "    if multi:\n",
        "        dfs(depth+1, total * A_list[depth], plus, minus, multi-1, div)\n",
        "    if div:\n",
        "        dfs(depth+1, int(total/A_list[depth]), plus, minus, multi, div-1)\n",
        "\n",
        "dfs(1, A_list[0], operator_list[0], operator_list[1], operator_list[2], operator_list[3])\n",
        "print(max_result)\n",
        "print(min_result)"
      ],
      "metadata": {
        "id": "-gKoK1yOigAV",
        "colab": {
          "base_uri": "https://localhost:8080/"
        },
        "outputId": "ecb70d55-86fa-4c2c-f234-9795900b7ff8"
      },
      "execution_count": null,
      "outputs": [
        {
          "output_type": "stream",
          "name": "stdout",
          "text": [
            "6\n",
            "1 2 3 4 5 6\n",
            "2 1 1 1\n",
            "54\n",
            "-24\n"
          ]
        }
      ]
    },
    {
      "cell_type": "markdown",
      "source": [
        "### 8) #14889 스타트와 링크"
      ],
      "metadata": {
        "id": "WWLiLhE9A3M0"
      }
    },
    {
      "cell_type": "markdown",
      "source": [
        "- 팀이 구성될 경우의 수는 $ \\frac{_NC_{N/2}}{2}$\n"
      ],
      "metadata": {
        "id": "9sD7icwTMt_a"
      }
    },
    {
      "cell_type": "code",
      "source": [
        "N = int(input())\n",
        "score_list = [list(map(int, input().split())) for _ in range(N)]\n",
        "result_list = []\n",
        "team_list = []\n",
        "\n",
        "def make_team(member, team_list):\n",
        "    #print(f'member: {member}, team list: {team_list}')\n",
        "\n",
        "    if len(team_list) == (N//2): #한 팀이 완성된 경우\n",
        "        result1 = 0; result2 = 0\n",
        "        for i in team_list:\n",
        "            for j in team_list:\n",
        "                result1 += score_list[i][j]\n",
        "        team2_list = [i for i in range(N) if i not in team_list]\n",
        "        for i in team2_list:\n",
        "            for j in team2_list:\n",
        "                result2 += score_list[i][j]\n",
        "\n",
        "        #print(f'result1: {result1}, result2: {result2}')\n",
        "        result_list.append(abs(result1-result2))\n",
        "        return\n",
        "    \n",
        "    for i in range(N):\n",
        "        team_list.append(i)\n",
        "        make_team(i, team_list)\n",
        "        team_list.remove(i)\n",
        "\n",
        "make_team(0, team_list)\n",
        "print(min(result_list))"
      ],
      "metadata": {
        "id": "sZPfwLbQtM8F",
        "colab": {
          "base_uri": "https://localhost:8080/"
        },
        "outputId": "67fef3f7-c278-4ef4-8808-3bde2a210daa"
      },
      "execution_count": 10,
      "outputs": [
        {
          "output_type": "stream",
          "name": "stdout",
          "text": [
            "8\n",
            "0 5 4 5 4 5 4 5\n",
            "4 0 5 1 2 3 4 5\n",
            "9 8 0 1 2 3 1 2\n",
            "9 9 9 0 9 9 9 9\n",
            "1 1 1 1 0 1 1 1\n",
            "8 7 6 5 4 0 3 2\n",
            "9 1 9 1 9 1 0 9\n",
            "6 5 4 3 2 1 9 0\n",
            "1\n"
          ]
        }
      ]
    },
    {
      "cell_type": "markdown",
      "source": [
        "- 시간 초과 방지\n",
        "- pypy3로 제출"
      ],
      "metadata": {
        "id": "0DQ5RP-gZbJy"
      }
    },
    {
      "cell_type": "code",
      "source": [
        "import sys\n",
        "\n",
        "N = int(input())\n",
        "score_list = [list(map(int, sys.stdin.readline().rstrip().split())) for _ in range(N)]\n",
        "result_list = []\n",
        "team_list = []\n",
        "\n",
        "def make_team(member, team_list):\n",
        "    #print(f'member: {member}, team list: {team_list}')\n",
        "\n",
        "    if len(team_list) == (N//2): #한 팀이 완성된 경우\n",
        "        result1 = 0; result2 = 0\n",
        "        for i in team_list:\n",
        "            for j in team_list:\n",
        "                result1 += score_list[i][j]\n",
        "        team2_list = [i for i in range(N) if i not in team_list]\n",
        "        for i in team2_list:\n",
        "            for j in team2_list:\n",
        "                result2 += score_list[i][j]\n",
        "\n",
        "        #print(f'result1: {result1}, result2: {result2}')\n",
        "        result_list.append(abs(result1-result2))\n",
        "        return\n",
        "    \n",
        "    for i in range(N):\n",
        "        team_list.append(i)\n",
        "        make_team(i, team_list)\n",
        "        team_list.remove(i)\n",
        "\n",
        "make_team(0, team_list)\n",
        "print(min(result_list))"
      ],
      "metadata": {
        "id": "LxV50rMWZZ-M"
      },
      "execution_count": null,
      "outputs": []
    },
    {
      "cell_type": "markdown",
      "source": [
        "---\n",
        "- 시간 초과\n",
        "- N x N가지를 모두 검사하다보니 시간이 오래 걸림\n",
        "- finish_state를 추가해서 시간 감소\n",
        "- Python3로는 1308ms, Pypy3로는 320ms 걸림"
      ],
      "metadata": {
        "id": "gyGdjWUgZ6o3"
      }
    },
    {
      "cell_type": "code",
      "source": [
        "import math\n",
        "\n",
        "N = int(input())\n",
        "score_list = [list(map(int, input().split())) for _ in range(N)]\n",
        "result_list = []; team_list = []\n",
        "finish_state = 0\n",
        "finish = math.comb(N, N//2) // 2\n",
        "\n",
        "def make_team(member, team_list):\n",
        "    global finish_state\n",
        "    #print(f'member: {member}, team list: {team_list}')\n",
        "\n",
        "    if finish_state == finish:\n",
        "        return\n",
        "\n",
        "    if len(team_list) == (N//2): #한 팀이 완성된 경우\n",
        "        finish_state += 1\n",
        "        result1 = 0; result2 = 0\n",
        "        for i in team_list:\n",
        "            for j in team_list:\n",
        "                result1 += score_list[i][j]\n",
        "        team2_list = [i for i in range(N) if i not in team_list]\n",
        "        for i in team2_list:\n",
        "            for j in team2_list:\n",
        "                result2 += score_list[i][j]\n",
        "\n",
        "        #print(f'result1: {result1}, result2: {result2}')\n",
        "        result_list.append(abs(result1-result2))\n",
        "        return\n",
        "    \n",
        "    for i in range(member):\n",
        "        team_list.append(i)\n",
        "        make_team(i, team_list)\n",
        "        team_list.remove(i)\n",
        "\n",
        "make_team(N, team_list)\n",
        "print(min(result_list))"
      ],
      "metadata": {
        "colab": {
          "base_uri": "https://localhost:8080/"
        },
        "id": "diR-wcRMZos6",
        "outputId": "39e97eab-a0dc-4a54-89f0-1bd7af8d95a3"
      },
      "execution_count": 27,
      "outputs": [
        {
          "output_type": "stream",
          "name": "stdout",
          "text": [
            "8\n",
            "0 5 4 5 4 5 4 5\n",
            "4 0 5 1 2 3 4 5\n",
            "9 8 0 1 2 3 1 2\n",
            "9 9 9 0 9 9 9 9\n",
            "1 1 1 1 0 1 1 1\n",
            "8 7 6 5 4 0 3 2\n",
            "9 1 9 1 9 1 0 9\n",
            "6 5 4 3 2 1 9 0\n",
            "1\n"
          ]
        }
      ]
    },
    {
      "cell_type": "code",
      "source": [
        "import math, sys\n",
        "\n",
        "N = int(input())\n",
        "score_list = [list(map(int, sys.stdin.readline().rstrip().split())) for _ in range(N)]\n",
        "result_list = []; team_list = []\n",
        "finish_state = 0\n",
        "finish = math.comb(N, N//2) // 2\n",
        "\n",
        "def make_team(member, team_list):\n",
        "    global finish_state\n",
        "    #print(f'member: {member}, team list: {team_list}')\n",
        "\n",
        "    if finish_state == finish:\n",
        "        return\n",
        "\n",
        "    if len(team_list) == (N//2): #한 팀이 완성된 경우\n",
        "        finish_state += 1\n",
        "        result1 = 0; result2 = 0\n",
        "        for i in team_list:\n",
        "            for j in team_list:\n",
        "                result1 += score_list[i][j]\n",
        "        team2_list = [i for i in range(N) if i not in team_list]\n",
        "        for i in team2_list:\n",
        "            for j in team2_list:\n",
        "                result2 += score_list[i][j]\n",
        "\n",
        "        #print(f'result1: {result1}, result2: {result2}')\n",
        "        result_list.append(abs(result1-result2))\n",
        "        return\n",
        "    \n",
        "    for i in range(member):\n",
        "        team_list.append(i)\n",
        "        make_team(i, team_list)\n",
        "        team_list.remove(i)\n",
        "\n",
        "make_team(N, team_list)\n",
        "print(min(result_list))"
      ],
      "metadata": {
        "id": "Kql76ahzcnx8"
      },
      "execution_count": null,
      "outputs": []
    }
  ]
}