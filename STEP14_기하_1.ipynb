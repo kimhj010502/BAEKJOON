{
  "nbformat": 4,
  "nbformat_minor": 0,
  "metadata": {
    "colab": {
      "provenance": [],
      "authorship_tag": "ABX9TyPhB+R8UNmMJ293IZ3OcoW9",
      "include_colab_link": true
    },
    "kernelspec": {
      "name": "python3",
      "display_name": "Python 3"
    },
    "language_info": {
      "name": "python"
    }
  },
  "cells": [
    {
      "cell_type": "markdown",
      "metadata": {
        "id": "view-in-github",
        "colab_type": "text"
      },
      "source": [
        "<a href=\"https://colab.research.google.com/github/kimhj010502/BAEKJOON/blob/main/STEP14_%EA%B8%B0%ED%95%98_1.ipynb\" target=\"_parent\"><img src=\"https://colab.research.google.com/assets/colab-badge.svg\" alt=\"Open In Colab\"/></a>"
      ]
    },
    {
      "cell_type": "markdown",
      "metadata": {
        "id": "TzSGa08QXuST"
      },
      "source": [
        "### 1) #1085 직사각형에서 탈출"
      ]
    },
    {
      "cell_type": "code",
      "source": [
        "x, y, w, h = map(int, input().split())\n",
        "\n",
        "print(min(x, y, w-x, h-y))"
      ],
      "metadata": {
        "colab": {
          "base_uri": "https://localhost:8080/"
        },
        "id": "oAPOIeA_cqxO",
        "outputId": "e51d8464-359b-4557-b996-fa3c98559f98"
      },
      "execution_count": null,
      "outputs": [
        {
          "output_type": "stream",
          "name": "stdout",
          "text": [
            "161 181 762 375\n",
            "161\n"
          ]
        }
      ]
    },
    {
      "cell_type": "markdown",
      "source": [
        "### 2) #3009 네 번째 점"
      ],
      "metadata": {
        "id": "LIYQjKugcrH7"
      }
    },
    {
      "cell_type": "code",
      "source": [
        "from collections import Counter\n",
        "\n",
        "point_list = [list(map(int, input().split())) for _ in range(3)]\n",
        "total_list = sum(point_list, [])\n",
        "\n",
        "print(*[k for k, v in Counter(total_list[0::2]).items() if v == 1], end=' ')\n",
        "print(*[k for k, v in Counter(total_list[1::2]).items() if v == 1])"
      ],
      "metadata": {
        "colab": {
          "base_uri": "https://localhost:8080/"
        },
        "id": "mJOmEiVscttC",
        "outputId": "a4523c0c-b30c-49a7-8552-236920441deb"
      },
      "execution_count": null,
      "outputs": [
        {
          "output_type": "stream",
          "name": "stdout",
          "text": [
            "30 20\n",
            "10 10\n",
            "10 20\n",
            "30 10\n"
          ]
        }
      ]
    },
    {
      "cell_type": "markdown",
      "source": [
        "---\n",
        "- 시간이 60ms로 조금 오래 걸림\n",
        "- 다른 코드 참고 → 36ms로 시간 줄어듦 <br> [참고] https://www.acmicpc.net/source/53992518"
      ],
      "metadata": {
        "id": "OYSKs_KUiFBO"
      }
    },
    {
      "cell_type": "code",
      "source": [
        "x = []\n",
        "y = []\n",
        "\n",
        "for _ in range(3):\n",
        "    new_x, new_y = map(int, input().split()) \n",
        "    if new_x in x:\n",
        "        x.remove(new_x)\n",
        "    else:\n",
        "        x.append(new_x)\n",
        "    if new_y in y:\n",
        "        y.remove(new_y)\n",
        "    else:\n",
        "        y.append(new_y)\n",
        "\n",
        "print(x[0], y[0])"
      ],
      "metadata": {
        "colab": {
          "base_uri": "https://localhost:8080/"
        },
        "id": "dA1fcflbiJVi",
        "outputId": "7041387b-4763-4ba4-92c4-17d33162658e"
      },
      "execution_count": null,
      "outputs": [
        {
          "output_type": "stream",
          "name": "stdout",
          "text": [
            "30 20\n",
            "10 10\n",
            "10 20\n",
            "30 10\n"
          ]
        }
      ]
    },
    {
      "cell_type": "markdown",
      "source": [
        "### 3) #4153 직각삼각형"
      ],
      "metadata": {
        "id": "05eJuS5Vct3W"
      }
    },
    {
      "cell_type": "code",
      "source": [
        "while True:\n",
        "    num_list = list(map(int, input().split()))\n",
        "    if num_list[0] == 0:\n",
        "        break\n",
        "    num_list.sort()\n",
        "    if num_list[2]**2 == (num_list[0]**2 + num_list[1]**2):\n",
        "        print('right')\n",
        "    else:\n",
        "        print('wrong')"
      ],
      "metadata": {
        "colab": {
          "base_uri": "https://localhost:8080/"
        },
        "id": "R1f9DWZkcwL7",
        "outputId": "2e604f6a-9bb9-448e-c391-612b0faa8b80"
      },
      "execution_count": null,
      "outputs": [
        {
          "name": "stdout",
          "output_type": "stream",
          "text": [
            "6 8 10\n",
            "right\n",
            "25 52 60\n",
            "wrong\n",
            "5 12 13\n",
            "right\n",
            "0 0 0\n"
          ]
        }
      ]
    },
    {
      "cell_type": "markdown",
      "source": [
        "### 4) #2477 참외밭"
      ],
      "metadata": {
        "id": "pX6qanVocwXU"
      }
    },
    {
      "cell_type": "code",
      "source": [
        "k = int(input())\n",
        "\n",
        "x = [0]\n",
        "y = [0]\n",
        "\n",
        "for i in range(6):\n",
        "    new_len = list(map(int, input().split()))\n",
        "    if new_len[0] == 1: #동쪽\n",
        "        x.append(x[-1] + new_len[1])\n",
        "    elif new_len[0] == 2: #서쪽\n",
        "        x.append(x[-1] - new_len[1])\n",
        "    elif new_len[0] == 3: #남쪽\n",
        "        y.append(y[-1] - new_len[1])\n",
        "    else: #북쪽\n",
        "        y.append(y[-1] + new_len[1])\n",
        "\n",
        "\n",
        "x = list(map(abs, x)); y = list(map(abs, y))\n",
        "x.sort(reverse=True); y.sort(reverse=True)\n",
        "x = x[:2]; y = y[:2]\n",
        "x.append(x[0] - x[1]); y.append(y[0] - y[1])\n",
        "x.sort(reverse=True); y.sort(reverse=True)\n",
        "\n",
        "area = x[0] * y[0] - x[2] * y[2]\n",
        "print(area * k)"
      ],
      "metadata": {
        "colab": {
          "base_uri": "https://localhost:8080/"
        },
        "id": "PhSLFtlTcyuA",
        "outputId": "8263ed99-f32d-42c4-8547-6b31a86bd19d"
      },
      "execution_count": null,
      "outputs": [
        {
          "output_type": "stream",
          "name": "stdout",
          "text": [
            "7\n",
            "4 50\n",
            "2 160\n",
            "3 30\n",
            "1 60\n",
            "3 20\n",
            "1 100\n",
            "47600\n"
          ]
        }
      ]
    },
    {
      "cell_type": "markdown",
      "source": [
        "--- \n",
        "- 틀림\n",
        "- 비어있는 사각형이 가장 작은 사각형이 아닐 수도 있음"
      ],
      "metadata": {
        "id": "SQlkHwWXwR5N"
      }
    },
    {
      "cell_type": "code",
      "source": [
        "k = int(input())\n",
        "\n",
        "len_dict = {1:[], 2:[], 3:[], 4:[]}\n",
        "\n",
        "for i in range(6):\n",
        "    new_len = list(map(int, input().split()))\n",
        "    len_dict[new_len[0]].append(new_len[1])\n",
        "\n",
        "count_list = list(map(len, len_dict.values()))\n",
        "one_list = [i+1 for i, count in enumerate(count_list) if count == 1]\n",
        "one_list.sort()\n",
        "\n",
        "if one_list == [1,3]: #ㄴ\n",
        "    max_x = len_dict[1][0]\n",
        "    max_y = len_dict[3][0]\n",
        "    min_x = len_dict[2][0]\n",
        "    min_y = len_dict[4][1]\n",
        "\n",
        "elif one_list == [2,4]: #ㄱ\n",
        "    max_x = len_dict[2][0]\n",
        "    max_y = len_dict[4][0]\n",
        "    min_x = len_dict[1][0]\n",
        "    min_y = len_dict[3][1]\n",
        "\n",
        "elif one_list == [1,4]: #┛\n",
        "    max_x = len_dict[1][0]\n",
        "    max_y = len_dict[4][0]\n",
        "    min_x = len_dict[2][1]\n",
        "    min_y = len_dict[3][0]\n",
        "\n",
        "else: #[2,3]  ┏\n",
        "    max_x = len_dict[2][0]\n",
        "    max_y = len_dict[3][0]\n",
        "    min_x = len_dict[1][1]\n",
        "    min_y = len_dict[4][0]\n",
        "\n",
        "area = max_x * max_y - min_x * min_y\n",
        "print(area * k)"
      ],
      "metadata": {
        "colab": {
          "base_uri": "https://localhost:8080/"
        },
        "id": "OudF-isgzuP9",
        "outputId": "923b1089-6dd9-420f-c23f-047636cb43df"
      },
      "execution_count": null,
      "outputs": [
        {
          "output_type": "stream",
          "name": "stdout",
          "text": [
            "7\n",
            "4 50\n",
            "2 160\n",
            "3 30\n",
            "1 60\n",
            "3 20\n",
            "1 100\n",
            "47600\n"
          ]
        }
      ]
    },
    {
      "cell_type": "code",
      "source": [
        "k = int(input())\n",
        "\n",
        "len_dict = {1:[], 2:[], 3:[], 4:[]}\n",
        "\n",
        "for i in range(6):\n",
        "    new_len = list(map(int, input().split()))\n",
        "    len_dict[new_len[0]].append(new_len[1])\n",
        "\n",
        "count_list = list(map(len, len_dict.values()))\n",
        "one_list = [i+1 for i, count in enumerate(count_list) if count == 1]\n",
        "one_list.sort()\n",
        "\n",
        "if one_list == [1,3]: #ㄴ\n",
        "    max_x = len_dict[1][0]\n",
        "    max_y = len_dict[3][0]\n",
        "    min_x = len_dict[2][0]\n",
        "    min_y = len_dict[4][1]\n",
        "\n",
        "elif one_list == [2,4]: #ㄱ\n",
        "    max_x = len_dict[2][0]\n",
        "    max_y = len_dict[4][0]\n",
        "    min_x = len_dict[1][0]\n",
        "    min_y = len_dict[3][1]\n",
        "\n",
        "elif one_list == [1,4]: #┛\n",
        "    max_x = len_dict[1][0]\n",
        "    max_y = len_dict[4][0]\n",
        "    min_x = len_dict[2][1]\n",
        "    min_y = len_dict[3][0]\n",
        "\n",
        "else: #[2,3]  ┏\n",
        "    max_x = len_dict[2][0]\n",
        "    max_y = len_dict[3][0]\n",
        "    min_x = len_dict[1][1]\n",
        "    min_y = len_dict[4][0]\n",
        "\n",
        "area = max_x * max_y - min_x * min_y\n",
        "print(area * k)"
      ],
      "metadata": {
        "colab": {
          "base_uri": "https://localhost:8080/"
        },
        "id": "_1klyxFG4IxO",
        "outputId": "d8a049c2-8590-415c-ad5c-4758abab9e33"
      },
      "execution_count": null,
      "outputs": [
        {
          "output_type": "stream",
          "name": "stdout",
          "text": [
            "7\n",
            "1 20\n",
            "4 100\n",
            "2 50\n",
            "3 160\n",
            "1 30\n",
            "4 60\n",
            "35000\n"
          ]
        }
      ]
    },
    {
      "cell_type": "markdown",
      "source": [
        "---- \n",
        "- 또 틀림\n",
        "- 같은 모양이더라도 시작 지점이 다를 수 있다는 것을 생각하지 못함\n",
        "- 다른 코드 참고 <br> [참고] https://chagaun-omija.tistory.com/188"
      ],
      "metadata": {
        "id": "JbCu13m97Iqu"
      }
    },
    {
      "cell_type": "code",
      "source": [
        "k = int(input())\n",
        "\n",
        "direction_list = []; len_list = []\n",
        "\n",
        "for i in range(6):\n",
        "    new_len = list(map(int, input().split()))\n",
        "    direction_list.append(new_len[0])\n",
        "    len_list.append(new_len[1])\n",
        "\n",
        "for i in range(6):\n",
        "    if direction_list[i] == direction_list[(i+2)%6]:\n",
        "        if (direction_list[(i+1)%6] == 1) | (direction_list[(i+1)%6] == 2):\n",
        "            min_x = len_list[(i+1)%6]\n",
        "        else:\n",
        "            min_y = len_list[(i+1)%6]\n",
        "\n",
        "    if direction_list.count(direction_list[i]) == 1:\n",
        "        if (direction_list[i] == 1) | (direction_list[i] == 2):\n",
        "            max_x = len_list[i]\n",
        "        else:\n",
        "            max_y = len_list[i]\n",
        "\n",
        "area = max_x * max_y - min_x * min_y\n",
        "print(area * k)"
      ],
      "metadata": {
        "colab": {
          "base_uri": "https://localhost:8080/"
        },
        "id": "RzjS1yIq8UEp",
        "outputId": "0c91672c-f57b-45fa-8f10-f73953baa25e"
      },
      "execution_count": null,
      "outputs": [
        {
          "output_type": "stream",
          "name": "stdout",
          "text": [
            "7\n",
            "4 50\n",
            "2 160\n",
            "3 30\n",
            "1 60\n",
            "3 20\n",
            "1 100\n",
            "47600\n"
          ]
        }
      ]
    },
    {
      "cell_type": "markdown",
      "source": [
        "### 5) #3053 택시 기하학"
      ],
      "metadata": {
        "id": "2KvHR1wQcy6i"
      }
    },
    {
      "cell_type": "code",
      "source": [
        "import math\n",
        "\n",
        "r = int(input())\n",
        "\n",
        "print('{:.6f}'.format(r**2 * math.pi))\n",
        "print('{:.6f}'.format(2 * (r**2)))"
      ],
      "metadata": {
        "id": "vRcn2hDhc1PP",
        "colab": {
          "base_uri": "https://localhost:8080/"
        },
        "outputId": "a5cd07e0-639d-4d1d-f315-6b22384bf4db"
      },
      "execution_count": null,
      "outputs": [
        {
          "output_type": "stream",
          "name": "stdout",
          "text": [
            "42\n",
            "5541.769441\n",
            "3528.000000\n"
          ]
        }
      ]
    },
    {
      "cell_type": "markdown",
      "source": [
        "### 6) #1002 터렛"
      ],
      "metadata": {
        "id": "2a3iVowbc1YB"
      }
    },
    {
      "cell_type": "code",
      "source": [
        "import math\n",
        "\n",
        "t = int(input())\n",
        "\n",
        "def location_num(x1, y1, r1, x2, y2, r2):\n",
        "    distance = math.sqrt((x1-y1)**2 + (x2-y2)**2)\n",
        "    if (x1 != y1) | (x2 != y2): #다른 점일 때\n",
        "        max_r = max(r1, r2)\n",
        "        if max_r > distance:\n",
        "            if abs(r1-r2) < distance:\n",
        "                return 2\n",
        "            elif abs(r1-r2) == distance:\n",
        "                return 1\n",
        "            else:\n",
        "                return 0\n",
        "        else:\n",
        "            if r1+r2 > distance:\n",
        "                return 2\n",
        "            elif r1+r2 == distance:\n",
        "                return 1\n",
        "            else:\n",
        "                return 0\n",
        "    elif (x1 == y1) & (x2 == y2): #같은 점일 때\n",
        "        if r1 != r2:\n",
        "            return 0\n",
        "        elif r1 == r2:\n",
        "            return -1\n",
        "\n",
        "for i in range(t):\n",
        "    x1, y1, r1, x2, y2, r2 = map(int, input().split())\n",
        "    print(location_num(x1, y1, r1, x2, y2, r2))"
      ],
      "metadata": {
        "id": "weXvVsC7c3bh",
        "colab": {
          "base_uri": "https://localhost:8080/"
        },
        "outputId": "3e287c18-31fd-4722-ca5b-2a545634be62"
      },
      "execution_count": null,
      "outputs": [
        {
          "output_type": "stream",
          "name": "stdout",
          "text": [
            "1\n",
            "1 1 5 5 4 5\n",
            "2\n"
          ]
        }
      ]
    },
    {
      "cell_type": "markdown",
      "source": [
        "- 시간 초과 방지"
      ],
      "metadata": {
        "id": "jimNSwVtUjPL"
      }
    },
    {
      "cell_type": "code",
      "source": [
        "import math\n",
        "import sys\n",
        "\n",
        "t = int(input())\n",
        "\n",
        "def location_num(x1, y1, r1, x2, y2, r2):\n",
        "    distance = math.sqrt((x1-y1)**2 + (x2-y2)**2)\n",
        "    if (x1 != y1) | (x2 != y2): #다른 점일 때\n",
        "        max_r = max(r1, r2)\n",
        "        if max_r > distance:\n",
        "            if abs(r1-r2) < distance:\n",
        "                return 2\n",
        "            elif abs(r1-r2) == distance:\n",
        "                return 1\n",
        "            else:\n",
        "                return 0\n",
        "        else:\n",
        "            if r1+r2 > distance:\n",
        "                return 2\n",
        "            elif r1+r2 == distance:\n",
        "                return 1\n",
        "            else:\n",
        "                return 0\n",
        "    elif (x1 == y1) & (x2 == y2): #같은 점일 때\n",
        "        if r1 != r2:\n",
        "            return 0\n",
        "        elif r1 == r2:\n",
        "            return -1\n",
        "\n",
        "for i in range(t):\n",
        "    x1, y1, r1, x2, y2, r2 = map(int, sys.stdin.readline().rstrip().split())\n",
        "    print(location_num(x1, y1, r1, x2, y2, r2))"
      ],
      "metadata": {
        "id": "HBgjBLGUVze9"
      },
      "execution_count": null,
      "outputs": []
    },
    {
      "cell_type": "markdown",
      "source": [
        "----\n",
        "- 틀림\n",
        "- 알고리즘 설명 참고 <br> [참고] https://ooyoung.tistory.com/111"
      ],
      "metadata": {
        "id": "kVr-R4LBKgaL"
      }
    },
    {
      "cell_type": "code",
      "source": [
        "import math\n",
        "\n",
        "t = int(input())\n",
        "\n",
        "def location_num(x1, y1, r1, x2, y2, r2):\n",
        "    distance = math.sqrt((x1-x2)**2 + (y1-y2)**2)\n",
        "    if (x1 == x2) & (y1 == y2) & (r1 == r2):\n",
        "        return -1\n",
        "    elif (distance > (r1+r2)) | ( (distance < abs(r1-r2)) & (r1!=r2) ): #외부 또는 내부에 존재\n",
        "        return 0\n",
        "    elif (distance == (r1+r2)) | (distance == abs(r1-r2)): #외접 또는 내접\n",
        "        return 1\n",
        "    elif abs(r1-r2) < distance < (r1+r2): #서로 다른 두 점\n",
        "        return 2\n",
        "\n",
        "for i in range(t):\n",
        "    x1, y1, r1, x2, y2, r2 = map(int, input().split())\n",
        "    print(location_num(x1, y1, r1, x2, y2, r2))"
      ],
      "metadata": {
        "colab": {
          "base_uri": "https://localhost:8080/"
        },
        "id": "E9HqrG9bLSBR",
        "outputId": "7a9ef95a-d6e5-43d2-a546-fc0fec365aa9"
      },
      "execution_count": 4,
      "outputs": [
        {
          "output_type": "stream",
          "name": "stdout",
          "text": [
            "3\n",
            "0 0 13 40 0 37\n",
            "2\n",
            "0 0 3 0 7 4\n",
            "1\n",
            "1 1 1 1 1 5\n",
            "0\n"
          ]
        }
      ]
    },
    {
      "cell_type": "markdown",
      "source": [
        "- 시간 초과 방지"
      ],
      "metadata": {
        "id": "krCd9R4LN8FA"
      }
    },
    {
      "cell_type": "code",
      "source": [
        "import math\n",
        "import sys\n",
        "\n",
        "t = int(input())\n",
        "\n",
        "def location_num(x1, y1, r1, x2, y2, r2):\n",
        "    distance = math.sqrt((x1-x2)**2 + (y1-y2)**2)\n",
        "    if (x1 == x2) & (y1 == y2) & (r1 == r2):\n",
        "        return -1\n",
        "    elif (distance > (r1+r2)) | ( (distance < abs(r1-r2)) & (r1!=r2) ): #외부 또는 내부에 존재\n",
        "        return 0\n",
        "    elif (distance == (r1+r2)) | (distance == abs(r1-r2)): #외접 또는 내접\n",
        "        return 1\n",
        "    elif abs(r1-r2) < distance < (r1+r2): #서로 다른 두 점\n",
        "        return 2\n",
        "\n",
        "for i in range(t):\n",
        "    x1, y1, r1, x2, y2, r2 = map(int, sys.stdin.readline().rstrip().split())\n",
        "    print(location_num(x1, y1, r1, x2, y2, r2))"
      ],
      "metadata": {
        "id": "xS88V1FaN9xf"
      },
      "execution_count": null,
      "outputs": []
    },
    {
      "cell_type": "markdown",
      "source": [
        "### 7) #1004 어린 왕자"
      ],
      "metadata": {
        "id": "LbMtOpRzc3kp"
      }
    },
    {
      "cell_type": "code",
      "source": [
        "import math\n",
        "\n",
        "t = int(input())\n",
        "\n",
        "def is_in_planet(x, y, cx, cy, r):\n",
        "    distance = math.sqrt( (x-cx)**2 + (y-cy)**2 )\n",
        "    if distance < r:\n",
        "        return 1\n",
        "    else:\n",
        "        return 0\n",
        "\n",
        "for _ in range(t):\n",
        "    x1, y1, x2, y2 = map(int, input().split())\n",
        "\n",
        "    n = int(input())\n",
        "    planet_list = [list(map(int, input().split())) for _ in range(n)]\n",
        "    result = 0\n",
        "\n",
        "    for i in range(n):\n",
        "        start = is_in_planet(x1, y1, planet_list[i][0], planet_list[i][1], planet_list[i][2])\n",
        "        end = is_in_planet(x2, y2, planet_list[i][0], planet_list[i][1], planet_list[i][2])\n",
        "        result += (start + end)\n",
        "    print(result)"
      ],
      "metadata": {
        "id": "pgx6qtYjc6Qy",
        "colab": {
          "base_uri": "https://localhost:8080/"
        },
        "outputId": "a222601f-a8b4-44e8-be92-e920ad4f150a"
      },
      "execution_count": 6,
      "outputs": [
        {
          "output_type": "stream",
          "name": "stdout",
          "text": [
            "3\n",
            "-5 1 5 1\n",
            "3\n",
            "0 0 2\n",
            "-6 1 2\n",
            "6 2 2\n",
            "2\n",
            "2 3 13 2\n",
            "8\n",
            "-3 -1 1\n",
            "2 2 3\n",
            "2 3 1\n",
            "0 1 7\n",
            "-4 5 1\n",
            "12 1 1\n",
            "12 1 2\n",
            "12 1 3\n",
            "5\n",
            "102 16 19 -108\n",
            "12\n",
            "-107 175 135\n",
            "-38 -115 42\n",
            "140 23 70\n",
            "148 -2 39\n",
            "-198 -49 89\n",
            "172 -151 39\n",
            "-179 -52 43\n",
            "148 42 150\n",
            "176 0 10\n",
            "153 68 120\n",
            "-56 109 16\n",
            "-187 -174 8\n",
            "3\n"
          ]
        }
      ]
    },
    {
      "cell_type": "markdown",
      "source": [
        "- 시간 초과 방지"
      ],
      "metadata": {
        "id": "fJV2K6auo3eg"
      }
    },
    {
      "cell_type": "code",
      "source": [
        "import math\n",
        "import sys\n",
        "\n",
        "t = int(input())\n",
        "\n",
        "def is_in_planet(x, y, cx, cy, r):\n",
        "    distance = math.sqrt( (x-cx)**2 + (y-cy)**2 )\n",
        "    if distance < r:\n",
        "        return 1\n",
        "    else:\n",
        "        return 0\n",
        "\n",
        "for _ in range(t):\n",
        "    x1, y1, x2, y2 = map(int, sys.stdin.readline().rstrip().split())\n",
        "\n",
        "    n = int(input())\n",
        "    planet_list = [list(map(int, sys.stdin.readline().rstrip().split())) for _ in range(n)]\n",
        "    result = 0\n",
        "\n",
        "    for i in range(n):\n",
        "        start = is_in_planet(x1, y1, planet_list[i][0], planet_list[i][1], planet_list[i][2])\n",
        "        end = is_in_planet(x2, y2, planet_list[i][0], planet_list[i][1], planet_list[i][2])\n",
        "        result += (start + end)\n",
        "    print(result)"
      ],
      "metadata": {
        "id": "h5eoIdcOo4c8"
      },
      "execution_count": null,
      "outputs": []
    },
    {
      "cell_type": "markdown",
      "source": [
        "---\n",
        "- 틀림\n",
        "- 반례\n",
        "```\n",
        "1\n",
        "0 0 3 0\n",
        "2\n",
        "0 0 1\n",
        "0 0 7\n",
        "> 답: 1, 출력: 3\n",
        "```\n",
        "- 시작 지점과 종료 지점 중 하나가 원 안에 있어야 하는데 둘 다 있는 경우까지 세어버렸음"
      ],
      "metadata": {
        "id": "9GR2sY34pIJb"
      }
    },
    {
      "cell_type": "code",
      "source": [
        "import math\n",
        "\n",
        "t = int(input())\n",
        "\n",
        "def is_in_planet(x, y, cx, cy, r):\n",
        "    distance = math.sqrt( (x-cx)**2 + (y-cy)**2 )\n",
        "    if distance < r:\n",
        "        return 1\n",
        "    else:\n",
        "        return 0\n",
        "\n",
        "for _ in range(t):\n",
        "    x1, y1, x2, y2 = map(int, input().split())\n",
        "\n",
        "    n = int(input())\n",
        "    planet_list = [list(map(int, input().split())) for _ in range(n)]\n",
        "    result = 0\n",
        "\n",
        "    for i in range(n):\n",
        "        start = is_in_planet(x1, y1, planet_list[i][0], planet_list[i][1], planet_list[i][2])\n",
        "        end = is_in_planet(x2, y2, planet_list[i][0], planet_list[i][1], planet_list[i][2])\n",
        "        #print(f'start: {start}, end: {end}')\n",
        "        if start != end:\n",
        "            result += 1\n",
        "    print(result)"
      ],
      "metadata": {
        "colab": {
          "base_uri": "https://localhost:8080/"
        },
        "id": "vqEGgROXpJli",
        "outputId": "babaf366-baff-4e9b-a3cd-e4d123a45c5b"
      },
      "execution_count": 13,
      "outputs": [
        {
          "output_type": "stream",
          "name": "stdout",
          "text": [
            "3\n",
            "-5 1 5 1\n",
            "3\n",
            "0 0 2\n",
            "-6 1 2\n",
            "6 2 2\n",
            "2\n",
            "2 3 13 2\n",
            "8\n",
            "-3 -1 1\n",
            "2 2 3\n",
            "2 3 1\n",
            "0 1 7\n",
            "-4 5 1\n",
            "12 1 1\n",
            "12 1 2\n",
            "12 1 3\n",
            "5\n",
            "102 16 19 -108\n",
            "12\n",
            "-107 175 135\n",
            "-38 -115 42\n",
            "140 23 70\n",
            "148 -2 39\n",
            "-198 -49 89\n",
            "172 -151 39\n",
            "-179 -52 43\n",
            "148 42 150\n",
            "176 0 10\n",
            "153 68 120\n",
            "-56 109 16\n",
            "-187 -174 8\n",
            "3\n"
          ]
        }
      ]
    },
    {
      "cell_type": "markdown",
      "source": [
        "- 시간 초과 방지"
      ],
      "metadata": {
        "id": "EaD8uT1SsbVP"
      }
    },
    {
      "cell_type": "code",
      "source": [
        "import math\n",
        "import sys\n",
        "\n",
        "t = int(input())\n",
        "\n",
        "def is_in_planet(x, y, cx, cy, r):\n",
        "    distance = math.sqrt( (x-cx)**2 + (y-cy)**2 )\n",
        "    if distance < r:\n",
        "        return 1\n",
        "    else:\n",
        "        return 0\n",
        "\n",
        "for _ in range(t):\n",
        "    x1, y1, x2, y2 = map(int, sys.stdin.readline().rstrip().split())\n",
        "\n",
        "    n = int(input())\n",
        "    planet_list = [list(map(int, sys.stdin.readline().rstrip().split())) for _ in range(n)]\n",
        "    result = 0\n",
        "\n",
        "    for i in range(n):\n",
        "        start = is_in_planet(x1, y1, planet_list[i][0], planet_list[i][1], planet_list[i][2])\n",
        "        end = is_in_planet(x2, y2, planet_list[i][0], planet_list[i][1], planet_list[i][2])\n",
        "        #print(f'start: {start}, end: {end}')\n",
        "        if start != end:\n",
        "            result += 1\n",
        "    print(result)"
      ],
      "metadata": {
        "id": "DiZm4pAEsczM"
      },
      "execution_count": null,
      "outputs": []
    }
  ]
}