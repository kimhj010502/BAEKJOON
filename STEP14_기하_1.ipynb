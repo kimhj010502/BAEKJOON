{
  "nbformat": 4,
  "nbformat_minor": 0,
  "metadata": {
    "colab": {
      "provenance": [],
      "authorship_tag": "ABX9TyOcLCMaHdTzzoyVMRKZeMgY",
      "include_colab_link": true
    },
    "kernelspec": {
      "name": "python3",
      "display_name": "Python 3"
    },
    "language_info": {
      "name": "python"
    }
  },
  "cells": [
    {
      "cell_type": "markdown",
      "metadata": {
        "id": "view-in-github",
        "colab_type": "text"
      },
      "source": [
        "<a href=\"https://colab.research.google.com/github/kimhj010502/BAEKJOON/blob/main/STEP14_%EA%B8%B0%ED%95%98_1.ipynb\" target=\"_parent\"><img src=\"https://colab.research.google.com/assets/colab-badge.svg\" alt=\"Open In Colab\"/></a>"
      ]
    },
    {
      "cell_type": "markdown",
      "metadata": {
        "id": "TzSGa08QXuST"
      },
      "source": [
        "### 1) #1085 직사각형에서 탈출"
      ]
    },
    {
      "cell_type": "code",
      "source": [
        "x, y, w, h = map(int, input().split())\n",
        "\n",
        "print(min(x, y, w-x, h-y))"
      ],
      "metadata": {
        "colab": {
          "base_uri": "https://localhost:8080/"
        },
        "id": "oAPOIeA_cqxO",
        "outputId": "e51d8464-359b-4557-b996-fa3c98559f98"
      },
      "execution_count": 9,
      "outputs": [
        {
          "output_type": "stream",
          "name": "stdout",
          "text": [
            "161 181 762 375\n",
            "161\n"
          ]
        }
      ]
    },
    {
      "cell_type": "markdown",
      "source": [
        "### 2) #3009 네 번째 점"
      ],
      "metadata": {
        "id": "LIYQjKugcrH7"
      }
    },
    {
      "cell_type": "code",
      "source": [
        "from collections import Counter\n",
        "\n",
        "point_list = [list(map(int, input().split())) for _ in range(3)]\n",
        "total_list = sum(point_list, [])\n",
        "\n",
        "print(*[k for k, v in Counter(total_list[0::2]).items() if v == 1], end=' ')\n",
        "print(*[k for k, v in Counter(total_list[1::2]).items() if v == 1])"
      ],
      "metadata": {
        "colab": {
          "base_uri": "https://localhost:8080/"
        },
        "id": "mJOmEiVscttC",
        "outputId": "a4523c0c-b30c-49a7-8552-236920441deb"
      },
      "execution_count": 45,
      "outputs": [
        {
          "output_type": "stream",
          "name": "stdout",
          "text": [
            "30 20\n",
            "10 10\n",
            "10 20\n",
            "30 10\n"
          ]
        }
      ]
    },
    {
      "cell_type": "markdown",
      "source": [
        "---\n",
        "- 시간이 60ms로 조금 오래 걸림\n",
        "- 다른 코드 참고 → 36ms로 시간 줄어듦 <br> [참고] https://www.acmicpc.net/source/53992518"
      ],
      "metadata": {
        "id": "OYSKs_KUiFBO"
      }
    },
    {
      "cell_type": "code",
      "source": [
        "x = []\n",
        "y = []\n",
        "\n",
        "for _ in range(3):\n",
        "    new_x, new_y = map(int, input().split()) \n",
        "    if new_x in x:\n",
        "        x.remove(new_x)\n",
        "    else:\n",
        "        x.append(new_x)\n",
        "    if new_y in y:\n",
        "        y.remove(new_y)\n",
        "    else:\n",
        "        y.append(new_y)\n",
        "\n",
        "print(x[0], y[0])"
      ],
      "metadata": {
        "colab": {
          "base_uri": "https://localhost:8080/"
        },
        "id": "dA1fcflbiJVi",
        "outputId": "7041387b-4763-4ba4-92c4-17d33162658e"
      },
      "execution_count": 48,
      "outputs": [
        {
          "output_type": "stream",
          "name": "stdout",
          "text": [
            "30 20\n",
            "10 10\n",
            "10 20\n",
            "30 10\n"
          ]
        }
      ]
    },
    {
      "cell_type": "markdown",
      "source": [
        "### 3) #4153 직각삼각형"
      ],
      "metadata": {
        "id": "05eJuS5Vct3W"
      }
    },
    {
      "cell_type": "code",
      "source": [
        "while True:\n",
        "    num_list = list(map(int, input().split()))\n",
        "    if num_list[0] == 0:\n",
        "        break\n",
        "    num_list.sort()\n",
        "    if num_list[2]**2 == (num_list[0]**2 + num_list[1]**2):\n",
        "        print('right')\n",
        "    else:\n",
        "        print('wrong')"
      ],
      "metadata": {
        "colab": {
          "base_uri": "https://localhost:8080/"
        },
        "id": "R1f9DWZkcwL7",
        "outputId": "2e604f6a-9bb9-448e-c391-612b0faa8b80"
      },
      "execution_count": 54,
      "outputs": [
        {
          "name": "stdout",
          "output_type": "stream",
          "text": [
            "6 8 10\n",
            "right\n",
            "25 52 60\n",
            "wrong\n",
            "5 12 13\n",
            "right\n",
            "0 0 0\n"
          ]
        }
      ]
    },
    {
      "cell_type": "markdown",
      "source": [
        "### 4) #2477 참외밭"
      ],
      "metadata": {
        "id": "pX6qanVocwXU"
      }
    },
    {
      "cell_type": "code",
      "source": [
        "k = int(input())\n",
        "\n",
        "x = [0]\n",
        "y = [0]\n",
        "\n",
        "for i in range(6):\n",
        "    new_len = list(map(int, input().split()))\n",
        "    if new_len[0] == 1: #동쪽\n",
        "        x.append(x[-1] + new_len[1])\n",
        "    elif new_len[0] == 2: #서쪽\n",
        "        x.append(x[-1] - new_len[1])\n",
        "    elif new_len[0] == 3: #남쪽\n",
        "        y.append(y[-1] - new_len[1])\n",
        "    else: #북쪽\n",
        "        y.append(y[-1] + new_len[1])\n",
        "\n",
        "\n",
        "x = list(map(abs, x)); y = list(map(abs, y))\n",
        "x.sort(reverse=True); y.sort(reverse=True)\n",
        "x = x[:2]; y = y[:2]\n",
        "x.append(x[0] - x[1]); y.append(y[0] - y[1])\n",
        "x.sort(reverse=True); y.sort(reverse=True)\n",
        "\n",
        "area = x[0] * y[0] - x[2] * y[2]\n",
        "print(area * k)"
      ],
      "metadata": {
        "colab": {
          "base_uri": "https://localhost:8080/"
        },
        "id": "PhSLFtlTcyuA",
        "outputId": "8263ed99-f32d-42c4-8547-6b31a86bd19d"
      },
      "execution_count": 83,
      "outputs": [
        {
          "output_type": "stream",
          "name": "stdout",
          "text": [
            "7\n",
            "4 50\n",
            "2 160\n",
            "3 30\n",
            "1 60\n",
            "3 20\n",
            "1 100\n",
            "47600\n"
          ]
        }
      ]
    },
    {
      "cell_type": "markdown",
      "source": [
        "--- \n",
        "- 틀림\n",
        "- 비어있는 사각형이 가장 작은 사각형이 아닐 수도 있음"
      ],
      "metadata": {
        "id": "SQlkHwWXwR5N"
      }
    },
    {
      "cell_type": "code",
      "source": [
        "k = int(input())\n",
        "\n",
        "len_dict = {1:[], 2:[], 3:[], 4:[]}\n",
        "\n",
        "for i in range(6):\n",
        "    new_len = list(map(int, input().split()))\n",
        "    len_dict[new_len[0]].append(new_len[1])\n",
        "\n",
        "count_list = list(map(len, len_dict.values()))\n",
        "one_list = [i+1 for i, count in enumerate(count_list) if count == 1]\n",
        "one_list.sort()\n",
        "\n",
        "if one_list == [1,3]: #ㄴ\n",
        "    max_x = len_dict[1][0]\n",
        "    max_y = len_dict[3][0]\n",
        "    min_x = len_dict[2][0]\n",
        "    min_y = len_dict[4][1]\n",
        "\n",
        "elif one_list == [2,4]: #ㄱ\n",
        "    max_x = len_dict[2][0]\n",
        "    max_y = len_dict[4][0]\n",
        "    min_x = len_dict[1][0]\n",
        "    min_y = len_dict[3][1]\n",
        "\n",
        "elif one_list == [1,4]: #┛\n",
        "    max_x = len_dict[1][0]\n",
        "    max_y = len_dict[4][0]\n",
        "    min_x = len_dict[2][1]\n",
        "    min_y = len_dict[3][0]\n",
        "\n",
        "else: #[2,3]  ┏\n",
        "    max_x = len_dict[2][0]\n",
        "    max_y = len_dict[3][0]\n",
        "    min_x = len_dict[1][1]\n",
        "    min_y = len_dict[4][0]\n",
        "\n",
        "area = max_x * max_y - min_x * min_y\n",
        "print(area * k)"
      ],
      "metadata": {
        "colab": {
          "base_uri": "https://localhost:8080/"
        },
        "id": "OudF-isgzuP9",
        "outputId": "923b1089-6dd9-420f-c23f-047636cb43df"
      },
      "execution_count": 105,
      "outputs": [
        {
          "output_type": "stream",
          "name": "stdout",
          "text": [
            "7\n",
            "4 50\n",
            "2 160\n",
            "3 30\n",
            "1 60\n",
            "3 20\n",
            "1 100\n",
            "47600\n"
          ]
        }
      ]
    },
    {
      "cell_type": "code",
      "source": [
        "k = int(input())\n",
        "\n",
        "len_dict = {1:[], 2:[], 3:[], 4:[]}\n",
        "\n",
        "for i in range(6):\n",
        "    new_len = list(map(int, input().split()))\n",
        "    len_dict[new_len[0]].append(new_len[1])\n",
        "\n",
        "count_list = list(map(len, len_dict.values()))\n",
        "one_list = [i+1 for i, count in enumerate(count_list) if count == 1]\n",
        "one_list.sort()\n",
        "\n",
        "if one_list == [1,3]: #ㄴ\n",
        "    max_x = len_dict[1][0]\n",
        "    max_y = len_dict[3][0]\n",
        "    min_x = len_dict[2][0]\n",
        "    min_y = len_dict[4][1]\n",
        "\n",
        "elif one_list == [2,4]: #ㄱ\n",
        "    max_x = len_dict[2][0]\n",
        "    max_y = len_dict[4][0]\n",
        "    min_x = len_dict[1][0]\n",
        "    min_y = len_dict[3][1]\n",
        "\n",
        "elif one_list == [1,4]: #┛\n",
        "    max_x = len_dict[1][0]\n",
        "    max_y = len_dict[4][0]\n",
        "    min_x = len_dict[2][1]\n",
        "    min_y = len_dict[3][0]\n",
        "\n",
        "else: #[2,3]  ┏\n",
        "    max_x = len_dict[2][0]\n",
        "    max_y = len_dict[3][0]\n",
        "    min_x = len_dict[1][1]\n",
        "    min_y = len_dict[4][0]\n",
        "\n",
        "area = max_x * max_y - min_x * min_y\n",
        "print(area * k)"
      ],
      "metadata": {
        "colab": {
          "base_uri": "https://localhost:8080/"
        },
        "id": "_1klyxFG4IxO",
        "outputId": "d8a049c2-8590-415c-ad5c-4758abab9e33"
      },
      "execution_count": 108,
      "outputs": [
        {
          "output_type": "stream",
          "name": "stdout",
          "text": [
            "7\n",
            "1 20\n",
            "4 100\n",
            "2 50\n",
            "3 160\n",
            "1 30\n",
            "4 60\n",
            "35000\n"
          ]
        }
      ]
    },
    {
      "cell_type": "markdown",
      "source": [
        "---- \n",
        "- 또 틀림\n",
        "- 같은 모양이더라도 시작 지점이 다를 수 있다는 것을 생각하지 못함\n",
        "- 다른 코드 참고 <br> [참고] https://chagaun-omija.tistory.com/188"
      ],
      "metadata": {
        "id": "JbCu13m97Iqu"
      }
    },
    {
      "cell_type": "code",
      "source": [
        "k = int(input())\n",
        "\n",
        "direction_list = []; len_list = []\n",
        "\n",
        "for i in range(6):\n",
        "    new_len = list(map(int, input().split()))\n",
        "    direction_list.append(new_len[0])\n",
        "    len_list.append(new_len[1])\n",
        "\n",
        "for i in range(6):\n",
        "    if direction_list[i] == direction_list[(i+2)%6]:\n",
        "        if (direction_list[(i+1)%6] == 1) | (direction_list[(i+1)%6] == 2):\n",
        "            min_x = len_list[(i+1)%6]\n",
        "        else:\n",
        "            min_y = len_list[(i+1)%6]\n",
        "\n",
        "    if direction_list.count(direction_list[i]) == 1:\n",
        "        if (direction_list[i] == 1) | (direction_list[i] == 2):\n",
        "            max_x = len_list[i]\n",
        "        else:\n",
        "            max_y = len_list[i]\n",
        "\n",
        "area = max_x * max_y - min_x * min_y\n",
        "print(area * k)"
      ],
      "metadata": {
        "colab": {
          "base_uri": "https://localhost:8080/"
        },
        "id": "RzjS1yIq8UEp",
        "outputId": "0c91672c-f57b-45fa-8f10-f73953baa25e"
      },
      "execution_count": 149,
      "outputs": [
        {
          "output_type": "stream",
          "name": "stdout",
          "text": [
            "7\n",
            "4 50\n",
            "2 160\n",
            "3 30\n",
            "1 60\n",
            "3 20\n",
            "1 100\n",
            "47600\n"
          ]
        }
      ]
    },
    {
      "cell_type": "markdown",
      "source": [
        "### 5) #3053 택시 기하학"
      ],
      "metadata": {
        "id": "2KvHR1wQcy6i"
      }
    },
    {
      "cell_type": "code",
      "source": [],
      "metadata": {
        "id": "vRcn2hDhc1PP"
      },
      "execution_count": null,
      "outputs": []
    },
    {
      "cell_type": "markdown",
      "source": [
        "### 6) #1002 터렛"
      ],
      "metadata": {
        "id": "2a3iVowbc1YB"
      }
    },
    {
      "cell_type": "code",
      "source": [],
      "metadata": {
        "id": "weXvVsC7c3bh"
      },
      "execution_count": null,
      "outputs": []
    },
    {
      "cell_type": "markdown",
      "source": [
        "### 7) #1004 어린 왕자"
      ],
      "metadata": {
        "id": "LbMtOpRzc3kp"
      }
    },
    {
      "cell_type": "code",
      "source": [],
      "metadata": {
        "id": "pgx6qtYjc6Qy"
      },
      "execution_count": null,
      "outputs": []
    }
  ]
}