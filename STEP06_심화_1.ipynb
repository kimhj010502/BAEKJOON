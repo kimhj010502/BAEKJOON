{
  "nbformat": 4,
  "nbformat_minor": 0,
  "metadata": {
    "colab": {
      "provenance": [],
      "authorship_tag": "ABX9TyO6bq6zDck2pO9ubZR9IjjI",
      "include_colab_link": true
    },
    "kernelspec": {
      "name": "python3",
      "display_name": "Python 3"
    },
    "language_info": {
      "name": "python"
    }
  },
  "cells": [
    {
      "cell_type": "markdown",
      "metadata": {
        "id": "view-in-github",
        "colab_type": "text"
      },
      "source": [
        "<a href=\"https://colab.research.google.com/github/kimhj010502/BAEKJOON/blob/main/STEP06_%EC%8B%AC%ED%99%94_1.ipynb\" target=\"_parent\"><img src=\"https://colab.research.google.com/assets/colab-badge.svg\" alt=\"Open In Colab\"/></a>"
      ]
    },
    {
      "cell_type": "markdown",
      "source": [
        "### #25083 새싹"
      ],
      "metadata": {
        "id": "63xgKuCtaTyK"
      }
    },
    {
      "cell_type": "code",
      "source": [
        "print('         ,r\\'\\\"7\\nr`-_   ,\\'  ,/\\n \\. \\\". L_r\\'\\n   `~\\/\\n      |\\n      |')"
      ],
      "metadata": {
        "colab": {
          "base_uri": "https://localhost:8080/"
        },
        "id": "3ztHr7MLaTyL",
        "outputId": "9009da57-8816-476a-ddc4-526a37313663"
      },
      "execution_count": null,
      "outputs": [
        {
          "output_type": "stream",
          "name": "stdout",
          "text": [
            "         ,r'\"7\n",
            "r`-_   ,'  ,/\n",
            " \\. \". L_r'\n",
            "   `~\\/\n",
            "      |\n",
            "      |\n"
          ]
        }
      ]
    },
    {
      "cell_type": "markdown",
      "source": [
        "### #3003 킹, 퀸, 룩, 비숍, 나이트, 폰"
      ],
      "metadata": {
        "id": "MiEMB5DiZW0a"
      }
    },
    {
      "cell_type": "code",
      "source": [
        "k, q, l, b, n, p = input().split()\n",
        "k, q, l, b, n, p = int(k), int(q), int(l), int(b), int(n), int(p)\n",
        "new_k = str(1 - k)\n",
        "new_q = str(1 - q)\n",
        "new_l = str(2 - l)\n",
        "new_b = str(2 - b)\n",
        "new_n = str(2 - n)\n",
        "new_p = str(8 - p)\n",
        "print(new_k + ' ' + new_q + ' ' + new_l + ' ' + new_b + ' ' + new_n + ' ' + new_p)"
      ],
      "metadata": {
        "colab": {
          "base_uri": "https://localhost:8080/"
        },
        "id": "7_OvVErOZ5yI",
        "outputId": "ec8c5249-e91d-43ae-d1f7-41beb826d9c0"
      },
      "execution_count": null,
      "outputs": [
        {
          "output_type": "stream",
          "name": "stdout",
          "text": [
            "2 1 2 1 2 1\n",
            "-1 0 0 1 0 7\n"
          ]
        }
      ]
    },
    {
      "cell_type": "markdown",
      "source": [
        "### #2444 별 찍기 - 7"
      ],
      "metadata": {
        "id": "0ly4yc-1Qnej"
      }
    },
    {
      "cell_type": "markdown",
      "source": [
        "- n = 5\n",
        "```\n",
        "4, 1, 4\n",
        "3, 3, 3\n",
        "2, 5, 2\n",
        "1, 7, 1\n",
        "0, 9, 0\n",
        "1, 7, 1\n",
        "2, 5, 2\n",
        "3, 3, 3\n",
        "4, 1, 4\n",
        "```"
      ],
      "metadata": {
        "id": "twbWuFgEROti"
      }
    },
    {
      "cell_type": "code",
      "source": [
        "n = int(input())\n",
        "\n",
        "blank = [i for i in range(n-1, 0, -1)] + [0] + [i for i in range(1, n)]\n",
        "star = [2*i-1 for i in range(1,n)] + [2*i-1 for i in range(n,0,-1)]\n",
        "\n",
        "for i in range(len(star)):\n",
        "    print(' ' * blank[i] + '*' * star[i])"
      ],
      "metadata": {
        "colab": {
          "base_uri": "https://localhost:8080/"
        },
        "id": "B9QpmJFUQp0M",
        "outputId": "4f445a0c-6b82-41d9-ed22-2da0da80997c"
      },
      "execution_count": null,
      "outputs": [
        {
          "output_type": "stream",
          "name": "stdout",
          "text": [
            "5\n",
            "    *\n",
            "   ***\n",
            "  *****\n",
            " *******\n",
            "*********\n",
            " *******\n",
            "  *****\n",
            "   ***\n",
            "    *\n"
          ]
        }
      ]
    },
    {
      "cell_type": "markdown",
      "source": [
        "### #10812 바구니 순서 바꾸기"
      ],
      "metadata": {
        "id": "2Y6_C6zBQqJp"
      }
    },
    {
      "cell_type": "code",
      "source": [
        "n, m = map(int, input().split())\n",
        "basket = [i for i in range(1, n+1)]\n",
        "\n",
        "def move(basket, begin, end, mid):\n",
        "    b_to_m = basket[begin:mid]\n",
        "    m_to_e = basket[mid:end+1]\n",
        "    basket[begin:end+1] = m_to_e + b_to_m\n",
        "    return basket\n",
        "\n",
        "for _ in range(m):\n",
        "    i, j, k = map(int, input().split())\n",
        "    basket = move(basket, i-1, j-1, k-1)\n",
        "\n",
        "print(*basket, sep=' ')"
      ],
      "metadata": {
        "id": "j3gbhZ2zQsZM",
        "colab": {
          "base_uri": "https://localhost:8080/"
        },
        "outputId": "7fb5e88d-957e-4144-ebb5-2a75abacd206"
      },
      "execution_count": null,
      "outputs": [
        {
          "output_type": "stream",
          "name": "stdout",
          "text": [
            "10 5\n",
            "1 6 4\n",
            "3 9 8\n",
            "2 10 5\n",
            "1 3 3\n",
            "2 6 2\n",
            "1 4 6 2 3 7 10 5 8 9\n"
          ]
        }
      ]
    },
    {
      "cell_type": "markdown",
      "source": [
        "### #10988 팰린드롬인지 확인하기"
      ],
      "metadata": {
        "id": "gIsO7AusQsmc"
      }
    },
    {
      "cell_type": "code",
      "source": [
        "word = input()\n",
        "\n",
        "def is_palindrome(word):\n",
        "    begin = 0\n",
        "    end = len(word) - 1\n",
        "    while (begin <= end):\n",
        "        if word[begin] == word[end]:\n",
        "            begin += 1\n",
        "            end -= 1\n",
        "            continue\n",
        "        else:\n",
        "            return 0\n",
        "    return 1\n",
        "\n",
        "print(is_palindrome(word))"
      ],
      "metadata": {
        "id": "cMCnTKHeQwYx",
        "colab": {
          "base_uri": "https://localhost:8080/"
        },
        "outputId": "1599ada9-e7fd-4f68-dfae-f01683fa9a5e"
      },
      "execution_count": null,
      "outputs": [
        {
          "output_type": "stream",
          "name": "stdout",
          "text": [
            "baekjoon\n",
            "0\n"
          ]
        }
      ]
    },
    {
      "cell_type": "markdown",
      "metadata": {
        "id": "Buc5oRfjIyqz"
      },
      "source": [
        "### #4344 평균은 넘겠지"
      ]
    },
    {
      "cell_type": "code",
      "source": [
        "import statistics\n",
        "\n",
        "c = int(input())\n",
        "\n",
        "for i in range(c):\n",
        "    score_list = list(map(int, input().split()))\n",
        "    n = score_list[0]\n",
        "    del score_list[0]\n",
        "    score_mean = statistics.mean(score_list)\n",
        "    over_num = len([ i for i in score_list if i > score_mean])\n",
        "    print('{0:.3f}%'.format(over_num / n * 100))"
      ],
      "metadata": {
        "id": "avOvA6VfLdAZ",
        "colab": {
          "base_uri": "https://localhost:8080/"
        },
        "outputId": "44002b5d-e6b6-4091-e13e-f79b449dccb2"
      },
      "execution_count": null,
      "outputs": [
        {
          "output_type": "stream",
          "name": "stdout",
          "text": [
            "5\n",
            "5 50 50 70 80 100\n",
            "40.000%\n",
            "7 100 95 90 80 70 60 50\n",
            "57.143%\n",
            "3 70 90 80\n",
            "33.333%\n",
            "3 70 90 81\n",
            "66.667%\n",
            "9 100 99 98 97 96 95 94 93 91\n",
            "55.556%\n"
          ]
        }
      ]
    },
    {
      "cell_type": "markdown",
      "source": [
        "- 파이썬 `round()` 함수가 바뀜"
      ],
      "metadata": {
        "id": "frYea4mEd9Zq"
      }
    },
    {
      "cell_type": "code",
      "source": [
        "c = int(input())\n",
        "\n",
        "def roundTraditional(val, digits):\n",
        "    return round(val+10**(-len(str(val))-1), digits)\n",
        "\n",
        "for i in range(c):\n",
        "    score_list = list(map(int, input().split()))\n",
        "    n = score_list[0]\n",
        "    del score_list[0]\n",
        "    score_mean = sum(score_list) / n\n",
        "\n",
        "    over_num = 0\n",
        "    for j in score_list:\n",
        "        if j > score_mean:\n",
        "            over_num += 1\n",
        "\n",
        "    p = roundTraditional(over_num / n * 1e2, 3)\n",
        "\n",
        "    print('{0:.3f}%'.format(p))"
      ],
      "metadata": {
        "colab": {
          "base_uri": "https://localhost:8080/"
        },
        "id": "qY5ojW9ieIp-",
        "outputId": "65c86ab2-9bdf-45df-e5c0-daee839e1b44"
      },
      "execution_count": 48,
      "outputs": [
        {
          "output_type": "stream",
          "name": "stdout",
          "text": [
            "5\n",
            "5 50 50 70 80 100\n",
            "40.000%\n",
            "7 100 95 90 80 70 60 50\n",
            "57.143%\n",
            "3 70 90 80\n",
            "33.333%\n",
            "3 70 90 81\n",
            "66.667%\n",
            "9 100 99 98 97 96 95 94 93 91\n",
            "55.556%\n"
          ]
        }
      ]
    },
    {
      "cell_type": "markdown",
      "source": [
        "### #2941 크로아티아 알파벳"
      ],
      "metadata": {
        "id": "DpmupBcQjJ4P"
      }
    },
    {
      "cell_type": "markdown",
      "source": [
        "- `string.count(char or substring, start, end)`\n",
        "    - Char 또는 substring: 주어진 문자열에서 검색하려는 단일 문자 또는 하위 문자열을 지정할 수 있으며 주어진 문자열의 문자 또는 하위 문자열의 수를 반환함\n",
        "    - start : 검색이 시작될 시작 인덱스를 나타냄 (default=0)\n",
        "    - end : 검색이 끝나는 끝 인덱스를 나타냄 (default=끝)"
      ],
      "metadata": {
        "id": "qv_AZtocvOMn"
      }
    },
    {
      "cell_type": "code",
      "source": [
        "word = input()\n",
        "\n",
        "croatia_list = ['c=', 'c-', 'dz=', 'd-', 'lj', 'nj', 's=', 'z=']\n",
        "number = 0\n",
        "\n",
        "for i in croatia_list:\n",
        "    #print('i:{0}, count:{1}'.format(i, word.count(i))) #확인용 코드\n",
        "    number += word.count(i)\n",
        "    word = word.replace(i,\" \") #기존의 크로아티아 글자 공백으로 변환\n",
        "\n",
        "word = word.replace(\" \",\"\") #공백 삭제\n",
        "number += len(word) #목록에 없는 알파벳\n",
        "print(number)"
      ],
      "metadata": {
        "colab": {
          "base_uri": "https://localhost:8080/"
        },
        "id": "2bwWbMDTp7PX",
        "outputId": "9638dcd3-514a-4e00-91d2-d5dbda424d5f"
      },
      "execution_count": null,
      "outputs": [
        {
          "output_type": "stream",
          "name": "stdout",
          "text": [
            "dz=ak\n",
            "3\n"
          ]
        }
      ]
    },
    {
      "cell_type": "markdown",
      "source": [
        "### #1316 그룹 단어 체커"
      ],
      "metadata": {
        "id": "QYcSla15jNGu"
      }
    },
    {
      "cell_type": "markdown",
      "source": [
        "- 각 단어에 있는 알파벳의 개수를 세고 개수가 2개 이상인 알파벳에 대해 그 단어가 존재하는지 검사"
      ],
      "metadata": {
        "id": "Xr8sbG0gxZLt"
      }
    },
    {
      "cell_type": "code",
      "source": [
        "n = int(input())\n",
        "group_word = False\n",
        "number = 0\n",
        "\n",
        "for i in range(n):\n",
        "    word = input()\n",
        "    alphabet_list = set(list(word))\n",
        "    for alphabet in alphabet_list:\n",
        "        alphabet_count = word.count(alphabet)\n",
        "        #print('alphabet: {0}, count: {1}'.format(alphabet, alphabet_count)) #확인용 코드\n",
        "        if alphabet_count < 2:\n",
        "            group_word = True\n",
        "        else:\n",
        "            if alphabet * alphabet_count in word:\n",
        "                group_word = True\n",
        "            else:\n",
        "                group_word = False\n",
        "                break\n",
        "    #print(group_word)\n",
        "    if group_word:\n",
        "        number += 1\n",
        "print(number)"
      ],
      "metadata": {
        "id": "TooucA0ZjQYV",
        "colab": {
          "base_uri": "https://localhost:8080/"
        },
        "outputId": "cebf53b3-f55d-4f46-c044-96713ea31dfe"
      },
      "execution_count": null,
      "outputs": [
        {
          "output_type": "stream",
          "name": "stdout",
          "text": [
            "1\n",
            "z\n",
            "1\n"
          ]
        }
      ]
    },
    {
      "cell_type": "markdown",
      "source": [
        "### #25206 너의 평점은"
      ],
      "metadata": {
        "id": "QJzj8BtUQxz8"
      }
    },
    {
      "cell_type": "code",
      "source": [
        "time_list = []\n",
        "score_list = []\n",
        "\n",
        "def rankTOscore(rank):\n",
        "    if rank == 'A+':\n",
        "        return 4.5\n",
        "    elif rank == 'A0':\n",
        "        return 4.0\n",
        "    elif rank == 'B+':\n",
        "        return 3.5\n",
        "    elif rank == 'B0':\n",
        "        return 3.0\n",
        "    elif rank == 'C+':\n",
        "        return 2.5\n",
        "    elif rank == 'C0':\n",
        "        return 2.0\n",
        "    elif rank == 'D+':\n",
        "        return 1.5\n",
        "    elif rank == 'D0':\n",
        "        return 1.0\n",
        "    elif rank == 'F':\n",
        "        return 0.0\n",
        "\n",
        "for i in range(20):\n",
        "    subject, time, rank = input().split()\n",
        "    if rank != 'P':\n",
        "        time_list.append(float(time))\n",
        "        score_list.append(rankTOscore(rank))\n",
        "\n",
        "total = sum([time_list[i] * score_list[i] for i in range(len(time_list))])\n",
        "print(total / sum(time_list))"
      ],
      "metadata": {
        "colab": {
          "base_uri": "https://localhost:8080/"
        },
        "id": "kV43hfmyaTrD",
        "outputId": "560d3dd1-812a-4e21-b94e-59a847e204ae"
      },
      "execution_count": null,
      "outputs": [
        {
          "output_type": "stream",
          "name": "stdout",
          "text": [
            "BruteForce 3.0 F\n",
            "Greedy 1.0 F\n",
            "DivideandConquer 2.0 F\n",
            "DynamicProgramming 3.0 F\n",
            "DepthFirstSearch 4.0 F\n",
            "BreadthFirstSearch 3.0 F\n",
            "ShortestPath 4.0 F\n",
            "DisjointSet 2.0 F\n",
            "MinimumSpanningTree 2.0 F\n",
            "TopologicalSorting 1.0 F\n",
            "LeastCommonAncestor 2.0 F\n",
            "SegmentTree 4.0 F\n",
            "EulerTourTechnique 3.0 F\n",
            "StronglyConnectedComponent 2.0 F\n",
            "BipartiteMatching 2.0 F\n",
            "MaximumFlowProblem 3.0 F\n",
            "SuffixArray 1.0 F\n",
            "HeavyLightDecomposition 4.0 F\n",
            "CentroidDecomposition 3.0 F\n",
            "SplayTree 1.0 F\n",
            "0.0\n"
          ]
        }
      ]
    }
  ]
}