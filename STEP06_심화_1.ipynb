{
  "nbformat": 4,
  "nbformat_minor": 0,
  "metadata": {
    "colab": {
      "provenance": [],
      "authorship_tag": "ABX9TyMm7G5BLGKLV/wHCPrD8uyG",
      "include_colab_link": true
    },
    "kernelspec": {
      "name": "python3",
      "display_name": "Python 3"
    },
    "language_info": {
      "name": "python"
    }
  },
  "cells": [
    {
      "cell_type": "markdown",
      "metadata": {
        "id": "view-in-github",
        "colab_type": "text"
      },
      "source": [
        "<a href=\"https://colab.research.google.com/github/kimhj010502/BAEKJOON/blob/main/STEP06_%EC%8B%AC%ED%99%94_1.ipynb\" target=\"_parent\"><img src=\"https://colab.research.google.com/assets/colab-badge.svg\" alt=\"Open In Colab\"/></a>"
      ]
    },
    {
      "cell_type": "markdown",
      "source": [
        "### #25083 새싹"
      ],
      "metadata": {
        "id": "63xgKuCtaTyK"
      }
    },
    {
      "cell_type": "code",
      "source": [
        "print('         ,r\\'\\\"7\\nr`-_   ,\\'  ,/\\n \\. \\\". L_r\\'\\n   `~\\/\\n      |\\n      |')"
      ],
      "metadata": {
        "colab": {
          "base_uri": "https://localhost:8080/"
        },
        "id": "3ztHr7MLaTyL",
        "outputId": "9009da57-8816-476a-ddc4-526a37313663"
      },
      "execution_count": null,
      "outputs": [
        {
          "output_type": "stream",
          "name": "stdout",
          "text": [
            "         ,r'\"7\n",
            "r`-_   ,'  ,/\n",
            " \\. \". L_r'\n",
            "   `~\\/\n",
            "      |\n",
            "      |\n"
          ]
        }
      ]
    },
    {
      "cell_type": "markdown",
      "source": [
        "### #3003 킹, 퀸, 룩, 비숍, 나이트, 폰"
      ],
      "metadata": {
        "id": "MiEMB5DiZW0a"
      }
    },
    {
      "cell_type": "code",
      "source": [
        "k, q, l, b, n, p = input().split()\n",
        "k, q, l, b, n, p = int(k), int(q), int(l), int(b), int(n), int(p)\n",
        "new_k = str(1 - k)\n",
        "new_q = str(1 - q)\n",
        "new_l = str(2 - l)\n",
        "new_b = str(2 - b)\n",
        "new_n = str(2 - n)\n",
        "new_p = str(8 - p)\n",
        "print(new_k + ' ' + new_q + ' ' + new_l + ' ' + new_b + ' ' + new_n + ' ' + new_p)"
      ],
      "metadata": {
        "colab": {
          "base_uri": "https://localhost:8080/"
        },
        "id": "7_OvVErOZ5yI",
        "outputId": "ec8c5249-e91d-43ae-d1f7-41beb826d9c0"
      },
      "execution_count": null,
      "outputs": [
        {
          "output_type": "stream",
          "name": "stdout",
          "text": [
            "2 1 2 1 2 1\n",
            "-1 0 0 1 0 7\n"
          ]
        }
      ]
    },
    {
      "cell_type": "markdown",
      "source": [
        "### #2444 별 찍기 - 7"
      ],
      "metadata": {
        "id": "0ly4yc-1Qnej"
      }
    },
    {
      "cell_type": "markdown",
      "source": [
        "- n = 5\n",
        "```\n",
        "4, 1, 4\n",
        "3, 3, 3\n",
        "2, 5, 2\n",
        "1, 7, 1\n",
        "0, 9, 0\n",
        "1, 7, 1\n",
        "2, 5, 2\n",
        "3, 3, 3\n",
        "4, 1, 4\n",
        "```"
      ],
      "metadata": {
        "id": "twbWuFgEROti"
      }
    },
    {
      "cell_type": "code",
      "source": [
        "n = int(input())\n",
        "\n",
        "blank = [i for i in range(n-1, 0, -1)] + [0] + [i for i in range(1, n)]\n",
        "star = [2*i-1 for i in range(1,n)] + [2*i-1 for i in range(n,0,-1)]\n",
        "\n",
        "for i in range(len(star)):\n",
        "    print(' ' * blank[i] + '*' * star[i])"
      ],
      "metadata": {
        "colab": {
          "base_uri": "https://localhost:8080/"
        },
        "id": "B9QpmJFUQp0M",
        "outputId": "4f445a0c-6b82-41d9-ed22-2da0da80997c"
      },
      "execution_count": 16,
      "outputs": [
        {
          "output_type": "stream",
          "name": "stdout",
          "text": [
            "5\n",
            "    *\n",
            "   ***\n",
            "  *****\n",
            " *******\n",
            "*********\n",
            " *******\n",
            "  *****\n",
            "   ***\n",
            "    *\n"
          ]
        }
      ]
    },
    {
      "cell_type": "markdown",
      "source": [
        "### #10812 바구니 순서 바꾸기"
      ],
      "metadata": {
        "id": "2Y6_C6zBQqJp"
      }
    },
    {
      "cell_type": "code",
      "source": [],
      "metadata": {
        "id": "j3gbhZ2zQsZM"
      },
      "execution_count": null,
      "outputs": []
    },
    {
      "cell_type": "markdown",
      "source": [
        "### #10988 팰린드롬인지 확인하기"
      ],
      "metadata": {
        "id": "gIsO7AusQsmc"
      }
    },
    {
      "cell_type": "code",
      "source": [],
      "metadata": {
        "id": "cMCnTKHeQwYx"
      },
      "execution_count": null,
      "outputs": []
    },
    {
      "cell_type": "markdown",
      "metadata": {
        "id": "Buc5oRfjIyqz"
      },
      "source": [
        "### #4344 평균은 넘겠지"
      ]
    },
    {
      "cell_type": "code",
      "source": [
        "import statistics\n",
        "\n",
        "c = int(input())\n",
        "\n",
        "for i in range(c):\n",
        "    score_list = list(map(int, input().split()))\n",
        "    n = score_list[0]\n",
        "    del score_list[0]\n",
        "    score_mean = statistics.mean(score_list)\n",
        "    over_num = len([ i for i in score_list if i > score_mean])\n",
        "    print('{0:.3f}%'.format(over_num / n * 100))"
      ],
      "metadata": {
        "id": "avOvA6VfLdAZ",
        "colab": {
          "base_uri": "https://localhost:8080/"
        },
        "outputId": "44002b5d-e6b6-4091-e13e-f79b449dccb2"
      },
      "execution_count": null,
      "outputs": [
        {
          "output_type": "stream",
          "name": "stdout",
          "text": [
            "5\n",
            "5 50 50 70 80 100\n",
            "40.000%\n",
            "7 100 95 90 80 70 60 50\n",
            "57.143%\n",
            "3 70 90 80\n",
            "33.333%\n",
            "3 70 90 81\n",
            "66.667%\n",
            "9 100 99 98 97 96 95 94 93 91\n",
            "55.556%\n"
          ]
        }
      ]
    },
    {
      "cell_type": "markdown",
      "source": [
        "### #2941 크로아티아 알파벳"
      ],
      "metadata": {
        "id": "DpmupBcQjJ4P"
      }
    },
    {
      "cell_type": "markdown",
      "source": [
        "- `string.count(char or substring, start, end)`\n",
        "    - Char 또는 substring: 주어진 문자열에서 검색하려는 단일 문자 또는 하위 문자열을 지정할 수 있으며 주어진 문자열의 문자 또는 하위 문자열의 수를 반환함\n",
        "    - start : 검색이 시작될 시작 인덱스를 나타냄 (default=0)\n",
        "    - end : 검색이 끝나는 끝 인덱스를 나타냄 (default=끝)"
      ],
      "metadata": {
        "id": "qv_AZtocvOMn"
      }
    },
    {
      "cell_type": "code",
      "source": [
        "word = input()\n",
        "\n",
        "croatia_list = ['c=', 'c-', 'dz=', 'd-', 'lj', 'nj', 's=', 'z=']\n",
        "number = 0\n",
        "\n",
        "for i in croatia_list:\n",
        "    #print('i:{0}, count:{1}'.format(i, word.count(i))) #확인용 코드\n",
        "    number += word.count(i)\n",
        "    word = word.replace(i,\" \") #기존의 크로아티아 글자 공백으로 변환\n",
        "\n",
        "word = word.replace(\" \",\"\") #공백 삭제\n",
        "number += len(word) #목록에 없는 알파벳\n",
        "print(number)"
      ],
      "metadata": {
        "colab": {
          "base_uri": "https://localhost:8080/"
        },
        "id": "2bwWbMDTp7PX",
        "outputId": "9638dcd3-514a-4e00-91d2-d5dbda424d5f"
      },
      "execution_count": null,
      "outputs": [
        {
          "output_type": "stream",
          "name": "stdout",
          "text": [
            "dz=ak\n",
            "3\n"
          ]
        }
      ]
    },
    {
      "cell_type": "markdown",
      "source": [
        "### #1316 그룹 단어 체커"
      ],
      "metadata": {
        "id": "QYcSla15jNGu"
      }
    },
    {
      "cell_type": "markdown",
      "source": [
        "- 각 단어에 있는 알파벳의 개수를 세고 개수가 2개 이상인 알파벳에 대해 그 단어가 존재하는지 검사"
      ],
      "metadata": {
        "id": "Xr8sbG0gxZLt"
      }
    },
    {
      "cell_type": "code",
      "source": [
        "n = int(input())\n",
        "group_word = False\n",
        "number = 0\n",
        "\n",
        "for i in range(n):\n",
        "    word = input()\n",
        "    alphabet_list = set(list(word))\n",
        "    for alphabet in alphabet_list:\n",
        "        alphabet_count = word.count(alphabet)\n",
        "        #print('alphabet: {0}, count: {1}'.format(alphabet, alphabet_count)) #확인용 코드\n",
        "        if alphabet_count < 2:\n",
        "            group_word = True\n",
        "        else:\n",
        "            if alphabet * alphabet_count in word:\n",
        "                group_word = True\n",
        "            else:\n",
        "                group_word = False\n",
        "                break\n",
        "    #print(group_word)\n",
        "    if group_word:\n",
        "        number += 1\n",
        "print(number)"
      ],
      "metadata": {
        "id": "TooucA0ZjQYV",
        "colab": {
          "base_uri": "https://localhost:8080/"
        },
        "outputId": "cebf53b3-f55d-4f46-c044-96713ea31dfe"
      },
      "execution_count": null,
      "outputs": [
        {
          "output_type": "stream",
          "name": "stdout",
          "text": [
            "1\n",
            "z\n",
            "1\n"
          ]
        }
      ]
    },
    {
      "cell_type": "markdown",
      "source": [
        "### #25206 너의 평점은"
      ],
      "metadata": {
        "id": "QJzj8BtUQxz8"
      }
    },
    {
      "cell_type": "code",
      "source": [],
      "metadata": {
        "id": "4U3SrrRwQ0ii"
      },
      "execution_count": null,
      "outputs": []
    }
  ]
}