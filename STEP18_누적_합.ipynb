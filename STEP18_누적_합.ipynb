{
  "nbformat": 4,
  "nbformat_minor": 0,
  "metadata": {
    "colab": {
      "provenance": [],
      "authorship_tag": "ABX9TyPUfzO2PGinqICAQ5d1da3/",
      "include_colab_link": true
    },
    "kernelspec": {
      "name": "python3",
      "display_name": "Python 3"
    },
    "language_info": {
      "name": "python"
    }
  },
  "cells": [
    {
      "cell_type": "markdown",
      "metadata": {
        "id": "view-in-github",
        "colab_type": "text"
      },
      "source": [
        "<a href=\"https://colab.research.google.com/github/kimhj010502/BAEKJOON/blob/main/STEP18_%EB%88%84%EC%A0%81_%ED%95%A9.ipynb\" target=\"_parent\"><img src=\"https://colab.research.google.com/assets/colab-badge.svg\" alt=\"Open In Colab\"/></a>"
      ]
    },
    {
      "cell_type": "markdown",
      "source": [
        "## [누적합 (Prefix Sum)]\n",
        "- 누적합은 배열의 일부 구간에 대한 합을 매우 빠르게 구할 수 있게 해주는 스킬임\n",
        "- N개 원소로 이루어진 배열이 주어졌을 때 반복문을 통해 부분 배열의 합을 구하려면 $O(N)$이 걸리는데, 누적합을 이용하면 모든 부분합을 $O(1)$에 바로 구할 수 있음\n",
        "<br><br>\n",
        "- 1차원 배열\n",
        "    - sum[i] = arr[0] + arr[1] + .. + arr[i-1]\n",
        "    - `S(i,j) = sum(arr[i:j+1]) = sum[j+1] - sum[i]`\n",
        "    <br><a href='https://ifh.cc/v-xFHTKL' target='_blank'><img src='https://ifh.cc/g/xFHTKL.png' border='0' width='500'></a>\n",
        "- 2차원 배열\n",
        "    - sum[i][j] = sum(arr[0:i][0:j])\n",
        "    <br><a href='https://ifh.cc/v-kPQ7qv' target='_blank'><img src='https://ifh.cc/g/kPQ7qv.png' border='0' width='500'></a>\n",
        "    - `S(x1, x2, y1, y2) = sum(arr[x1:x2+1][y1:y2+1]) = sum[x2+1][y2+1] - sum[x1][y2+1] - sum[x2+1][y1] + sum[x1][y1]`\n",
        "    <br><a href='https://ifh.cc/v-bDVbf4' target='_blank'><img src='https://ifh.cc/g/bDVbf4.png' border='0' width='500'></a>\n",
        "- [참고] https://yiyj1030.tistory.com/489"
      ],
      "metadata": {
        "id": "rqR43B68jF83"
      }
    },
    {
      "cell_type": "markdown",
      "source": [
        "### 1) #11659 구간 합 구하기 4"
      ],
      "metadata": {
        "id": "cCPyWh3S64Re"
      }
    },
    {
      "cell_type": "code",
      "source": [
        "N, M = map(int, input().split())\n",
        "num_list = list(map(int, input().split()))\n",
        "\n",
        "sum_list = [0] * (N+1)\n",
        "for i in range(1, N+1):\n",
        "    sum_list[i] = sum_list[i-1] + num_list[i-1]\n",
        "\n",
        "for _ in range(M):\n",
        "    i, j = map(int, input().split())\n",
        "    print(sum_list[j] - sum_list[i-1])"
      ],
      "metadata": {
        "colab": {
          "base_uri": "https://localhost:8080/"
        },
        "id": "cgwWECoS2oUO",
        "outputId": "fafd9865-e2d4-479f-969b-55a338d38fb3"
      },
      "execution_count": null,
      "outputs": [
        {
          "output_type": "stream",
          "name": "stdout",
          "text": [
            "5 3\n",
            "5 4 3 2 1\n",
            "1 3\n",
            "12\n",
            "2 4\n",
            "9\n",
            "5 5\n",
            "1\n"
          ]
        }
      ]
    },
    {
      "cell_type": "markdown",
      "source": [
        "- 시간 초과 방지"
      ],
      "metadata": {
        "id": "l4I-xxHv5P47"
      }
    },
    {
      "cell_type": "code",
      "source": [
        "import sys\n",
        "\n",
        "N, M = map(int, sys.stdin.readline().rstrip().split())\n",
        "num_list = list(map(int, sys.stdin.readline().rstrip().split()))\n",
        "\n",
        "sum_list = [0] * (N+1)\n",
        "for i in range(1, N+1):\n",
        "    sum_list[i] = sum_list[i-1] + num_list[i-1]\n",
        "\n",
        "for _ in range(M):\n",
        "    i, j = map(int, sys.stdin.readline().rstrip().split())\n",
        "    print(sum_list[j] - sum_list[i-1])"
      ],
      "metadata": {
        "id": "Bo-HELAu5RJV"
      },
      "execution_count": null,
      "outputs": []
    },
    {
      "cell_type": "markdown",
      "source": [
        "### 2) #2559 수열"
      ],
      "metadata": {
        "id": "CNHOUmjQ66vU"
      }
    },
    {
      "cell_type": "markdown",
      "source": [
        "- K = 2\n",
        "```\n",
        "sum_list[1] = tem_list[0] + tem_list[1]\n",
        "sum_list[2] = tem_list[1] + tem_list[2] = sum_list[1] + tem_list[2] - tem_list[0]\n",
        "> sum_list[i] = sum_list[i-1] + tem_list[i] - tem_list[i-2]\n",
        "```\n",
        "- K = 3\n",
        "```\n",
        "sum_list[2] = tem_list[0] + tem_list[1] + tem_list[2]\n",
        "sum_list[3] = tem_list[1] + tem_list[2] + tem_list[3] = sum_list[2] + tem_list[3] - tem_list[0]\n",
        "> sum_list[i] = sum_list[i-1] + tem_list[i] - tem_list[i-3]\n",
        "```\n",
        "- K = 4\n",
        "```\n",
        "sum_list[3] = tem_list[0] + tem_list[1] + tem_list[2] + tem_list[3]\n",
        "sum_list[4] = tem_list[1] + tem_list[2] + tem_list[3] + tem_list[4] = sum_list[3] + tem_list[4] - tem_list[0]\n",
        "> sum_list[i] = sum_list[i-1] + tem_list[i] - tem_list[i-4]\n",
        "```"
      ],
      "metadata": {
        "id": "6eH7Jx1HDr1k"
      }
    },
    {
      "cell_type": "code",
      "source": [
        "N, K = map(int, input().split())\n",
        "tem_list = list(map(int, input().split()))\n",
        "\n",
        "sum_list = [0] * N\n",
        "sum_list[K-1] = sum(tem_list[0:K])\n",
        "for i in range(K, N):\n",
        "    sum_list[i] = sum_list[i-1] + tem_list[i] - tem_list[i-K]\n",
        "\n",
        "print(max(sum_list[K-1:]))"
      ],
      "metadata": {
        "id": "rtarf9Zw8BZY",
        "colab": {
          "base_uri": "https://localhost:8080/"
        },
        "outputId": "9a0386f6-547c-4092-f2e4-4f71ede365e5"
      },
      "execution_count": 12,
      "outputs": [
        {
          "output_type": "stream",
          "name": "stdout",
          "text": [
            "10 2\n",
            "3 -2 -4 -9 0 3 7 13 8 -3\n",
            "21\n"
          ]
        }
      ]
    },
    {
      "cell_type": "markdown",
      "source": [
        "- 시간 초과 방지"
      ],
      "metadata": {
        "id": "OXcaXri7FcX3"
      }
    },
    {
      "cell_type": "code",
      "source": [
        "import sys\n",
        "\n",
        "N, K = map(int, sys.stdin.readline().rstrip().split())\n",
        "tem_list = list(map(int, sys.stdin.readline().rstrip().split()))\n",
        "\n",
        "sum_list = [0] * N\n",
        "sum_list[K-1] = sum(tem_list[0:K])\n",
        "for i in range(K, N):\n",
        "    sum_list[i] = sum_list[i-1] + tem_list[i] - tem_list[i-K]\n",
        "\n",
        "print(max(sum_list[K-1:]))"
      ],
      "metadata": {
        "id": "Ny7Lu80zFdZu"
      },
      "execution_count": null,
      "outputs": []
    },
    {
      "cell_type": "markdown",
      "source": [
        "### 3) #16139 인간-컴퓨터 상호작용"
      ],
      "metadata": {
        "id": "9expqcEWxdsp"
      }
    },
    {
      "cell_type": "code",
      "source": [
        "S = input()\n",
        "q = int(input())\n",
        "\n",
        "for _ in range(q):\n",
        "    a, l, r = input().split()\n",
        "    print(S[int(l):int(r)+1].count(a))"
      ],
      "metadata": {
        "colab": {
          "base_uri": "https://localhost:8080/"
        },
        "id": "TuYQzIkDGFgv",
        "outputId": "508d2b00-06f0-4426-8198-e086067e6fe1"
      },
      "execution_count": 14,
      "outputs": [
        {
          "output_type": "stream",
          "name": "stdout",
          "text": [
            "seungjaehwang\n",
            "4\n",
            "a 0 5\n",
            "0\n",
            "a 0 6\n",
            "1\n",
            "a 6 10\n",
            "2\n",
            "a 7 10\n",
            "1\n"
          ]
        }
      ]
    },
    {
      "cell_type": "markdown",
      "source": [
        "- 시간 초과 방지"
      ],
      "metadata": {
        "id": "OxjPdtJ8G1rd"
      }
    },
    {
      "cell_type": "code",
      "source": [
        "import sys\n",
        "\n",
        "S = sys.stdin.readline().rstrip()\n",
        "q = int(sys.stdin.readline().rstrip())\n",
        "\n",
        "for _ in range(q):\n",
        "    a, l, r = sys.stdin.readline().rstrip().split()\n",
        "    print(S[int(l):int(r)+1].count(a))"
      ],
      "metadata": {
        "id": "3QWDD0P7G3QI"
      },
      "execution_count": null,
      "outputs": []
    },
    {
      "cell_type": "markdown",
      "source": [
        "- 서브태스크 1만 만족하여 50점이 뜸 (비효율적인 코드)\n",
        "- `count`의 경우 시간 복잡도가 $O(n)$으로 큼\n",
        "- 미리 문자들을 입력 받아놓고 해당 문자에 대해서 개수를 계산해두기"
      ],
      "metadata": {
        "id": "_Vwwlf49HqNN"
      }
    },
    {
      "cell_type": "code",
      "source": [
        "S = input()\n",
        "q = int(input())\n",
        "\n",
        "a_list = []\n",
        "range_list = []\n",
        "for _ in range(q):\n",
        "    a, l, r = input().split()\n",
        "    a_list.append(a)\n",
        "    range_list.append([int(l), int(r)])\n",
        "\n",
        "def count_str(alpha):\n",
        "    result_list = [0] * (len(S)+1)\n",
        "    for i in range(1, len(S)+1):\n",
        "        result_list[i] = result_list[i-1]\n",
        "        if S[i-1] == alpha:\n",
        "            result_list[i] += 1\n",
        "    return result_list\n",
        "\n",
        "count_dict = {}\n",
        "for alpha in a_list:\n",
        "    count_dict[alpha] = count_str(alpha)\n",
        "\n",
        "for i in range(q):\n",
        "    print(count_dict[a_list[i]][range_list[i][1]+1] - count_dict[a_list[i]][range_list[i][0]])"
      ],
      "metadata": {
        "colab": {
          "base_uri": "https://localhost:8080/"
        },
        "id": "A-CAP0RnH1ux",
        "outputId": "d760287e-a502-4473-932b-2aca8f1111de"
      },
      "execution_count": 31,
      "outputs": [
        {
          "output_type": "stream",
          "name": "stdout",
          "text": [
            "seungjaehwang\n",
            "4\n",
            "a 0 6\n",
            "k 0 8\n",
            "h 5 10\n",
            "t 3 7\n",
            "1\n",
            "0\n",
            "1\n",
            "0\n"
          ]
        }
      ]
    },
    {
      "cell_type": "markdown",
      "source": [
        "---\n",
        "- 또 50점에 시간이 44ms에서 436ms로 오히려 늘어남\n",
        "- 입력받은 문자에 대해서만 찾지 말고 a부터 z까지 모든 문자에 대해서 개수를 계산한 후 2차원 배열에 저장\n",
        "- 입력받은 S의 모든 문자와, a-z에 대해서 모두 계산하기 때문에 따로 조건문을 활용해서 비교하지 않아도 됨 <br> [참고] https://velog.io/@slbin-park/%EB%B0%B1%EC%A4%80-16139%EB%B2%88-%EC%9D%B8%EA%B0%84-%EC%BB%B4%ED%93%A8%ED%84%B0-%EC%83%81%ED%98%B8%EC%9E%91%EC%9A%A9-%ED%8C%8C%EC%9D%B4%EC%8D%AC"
      ],
      "metadata": {
        "id": "b50FQxStPT46"
      }
    },
    {
      "cell_type": "code",
      "source": [
        "S = input()\n",
        "q = int(input())\n",
        "\n",
        "count_list = [[0 for _ in range(26)] for _ in range(len(S))] #a-z 26개 배열 생성\n",
        "\n",
        "count_list[0][ord(S[0]) - 97] = 1\n",
        "for i in range(1, len(S)):\n",
        "    count_list[i][ord(S[i])-97] = 1\n",
        "    for j in range(26):\n",
        "        count_list[i][j] += count_list[i-1][j] #누적 개수\n",
        "\n",
        "for i in count_list:\n",
        "    print(*i, end='\\n')\n",
        "\n",
        "for _ in range(q):\n",
        "    a, l, r = sys.stdin.readline().rstrip().split()\n",
        "    l, r = int(l), int(r)\n",
        "    if l > 0:\n",
        "        print(count_list[r][ord(a)-97] - count_list[l-1][ord(a)-97])\n",
        "    else: #시작 index가 0인 경우\n",
        "        print(count_list[r][ord(a)-97])"
      ],
      "metadata": {
        "colab": {
          "base_uri": "https://localhost:8080/"
        },
        "id": "wPo7Rk0jR_-1",
        "outputId": "52804d3a-5377-4499-d860-75603f04d9b4"
      },
      "execution_count": 51,
      "outputs": [
        {
          "output_type": "stream",
          "name": "stdout",
          "text": [
            "seungjaehwang\n",
            "4\n",
            "0 0 0 0 0 0 0 0 0 0 0 0 0 0 0 0 0 0 1 0 0 0 0 0 0 0\n",
            "0 0 0 0 1 0 0 0 0 0 0 0 0 0 0 0 0 0 1 0 0 0 0 0 0 0\n",
            "0 0 0 0 1 0 0 0 0 0 0 0 0 0 0 0 0 0 1 0 1 0 0 0 0 0\n",
            "0 0 0 0 1 0 0 0 0 0 0 0 0 1 0 0 0 0 1 0 1 0 0 0 0 0\n",
            "0 0 0 0 1 0 1 0 0 0 0 0 0 1 0 0 0 0 1 0 1 0 0 0 0 0\n",
            "0 0 0 0 1 0 1 0 0 1 0 0 0 1 0 0 0 0 1 0 1 0 0 0 0 0\n",
            "1 0 0 0 1 0 1 0 0 1 0 0 0 1 0 0 0 0 1 0 1 0 0 0 0 0\n",
            "1 0 0 0 2 0 1 0 0 1 0 0 0 1 0 0 0 0 1 0 1 0 0 0 0 0\n",
            "1 0 0 0 2 0 1 1 0 1 0 0 0 1 0 0 0 0 1 0 1 0 0 0 0 0\n",
            "1 0 0 0 2 0 1 1 0 1 0 0 0 1 0 0 0 0 1 0 1 0 1 0 0 0\n",
            "2 0 0 0 2 0 1 1 0 1 0 0 0 1 0 0 0 0 1 0 1 0 1 0 0 0\n",
            "2 0 0 0 2 0 1 1 0 1 0 0 0 2 0 0 0 0 1 0 1 0 1 0 0 0\n",
            "2 0 0 0 2 0 2 1 0 1 0 0 0 2 0 0 0 0 1 0 1 0 1 0 0 0\n",
            "a 0 5\n",
            "0\n",
            "a 0 6\n",
            "1\n",
            "a 6 10\n",
            "2\n",
            "a 7 10\n",
            "1\n"
          ]
        }
      ]
    },
    {
      "cell_type": "markdown",
      "source": [
        "---\n",
        "- 시간이 오래 걸려서 다시 수정\n",
        "- Python3로는 50점이 나와서 `print`를 한 번만 하도록 수정 후 PyPy3으로 제출"
      ],
      "metadata": {
        "id": "lVz1mZA0X0w2"
      }
    },
    {
      "cell_type": "code",
      "source": [
        "S = input()\n",
        "q = int(input())\n",
        "\n",
        "count_list = [[0 for _ in range(26)] for _ in range(len(S))] #a-z 26개 배열 생성\n",
        "\n",
        "count_list[0][ord(S[0]) - 97] = 1\n",
        "for i in range(1, len(S)):\n",
        "    count_list[i][ord(S[i])-97] = 1\n",
        "    for j in range(26):\n",
        "        count_list[i][j] += count_list[i-1][j] #누적 개수\n",
        "        \n",
        "'''\n",
        "for i in count_list:\n",
        "    print(*i, end='\\n')\n",
        "'''\n",
        "\n",
        "result = [0] * q\n",
        "for i in range(q):\n",
        "    a, l, r = input().split()\n",
        "    l, r = int(l), int(r)\n",
        "    if l > 0:\n",
        "        result[i] = count_list[r][ord(a)-97] - count_list[l-1][ord(a)-97]\n",
        "    else: #시작 index가 0인 경우\n",
        "        result[i] = count_list[r][ord(a)-97]\n",
        "\n",
        "print(*result, sep='\\n')"
      ],
      "metadata": {
        "colab": {
          "base_uri": "https://localhost:8080/"
        },
        "id": "NIhfx-tlXzWg",
        "outputId": "376d8b41-2962-43ee-ddd3-160e7997012a"
      },
      "execution_count": 53,
      "outputs": [
        {
          "output_type": "stream",
          "name": "stdout",
          "text": [
            "seungjaehwang\n",
            "4\n",
            "0 0 0 0 0 0 0 0 0 0 0 0 0 0 0 0 0 0 1 0 0 0 0 0 0 0\n",
            "0 0 0 0 1 0 0 0 0 0 0 0 0 0 0 0 0 0 1 0 0 0 0 0 0 0\n",
            "0 0 0 0 1 0 0 0 0 0 0 0 0 0 0 0 0 0 1 0 1 0 0 0 0 0\n",
            "0 0 0 0 1 0 0 0 0 0 0 0 0 1 0 0 0 0 1 0 1 0 0 0 0 0\n",
            "0 0 0 0 1 0 1 0 0 0 0 0 0 1 0 0 0 0 1 0 1 0 0 0 0 0\n",
            "0 0 0 0 1 0 1 0 0 1 0 0 0 1 0 0 0 0 1 0 1 0 0 0 0 0\n",
            "1 0 0 0 1 0 1 0 0 1 0 0 0 1 0 0 0 0 1 0 1 0 0 0 0 0\n",
            "1 0 0 0 2 0 1 0 0 1 0 0 0 1 0 0 0 0 1 0 1 0 0 0 0 0\n",
            "1 0 0 0 2 0 1 1 0 1 0 0 0 1 0 0 0 0 1 0 1 0 0 0 0 0\n",
            "1 0 0 0 2 0 1 1 0 1 0 0 0 1 0 0 0 0 1 0 1 0 1 0 0 0\n",
            "2 0 0 0 2 0 1 1 0 1 0 0 0 1 0 0 0 0 1 0 1 0 1 0 0 0\n",
            "2 0 0 0 2 0 1 1 0 1 0 0 0 2 0 0 0 0 1 0 1 0 1 0 0 0\n",
            "2 0 0 0 2 0 2 1 0 1 0 0 0 2 0 0 0 0 1 0 1 0 1 0 0 0\n",
            "a 0 5\n",
            "a 0 6\n",
            "a 6 10\n",
            "a 7 10\n",
            "0\n",
            "1\n",
            "2\n",
            "1\n"
          ]
        }
      ]
    },
    {
      "cell_type": "code",
      "source": [
        "import sys\n",
        "\n",
        "S = sys.stdin.readline().rstrip()\n",
        "q = int(sys.stdin.readline().rstrip())\n",
        "\n",
        "count_list = [[0 for _ in range(26)] for _ in range(len(S))] #a-z 26개 배열 생성\n",
        "\n",
        "count_list[0][ord(S[0]) - 97] = 1\n",
        "for i in range(1, len(S)):\n",
        "    count_list[i][ord(S[i])-97] = 1\n",
        "    for j in range(26):\n",
        "        count_list[i][j] += count_list[i-1][j] #누적 개수\n",
        "\n",
        "result = [0] * q\n",
        "for i in range(q):\n",
        "    a, l, r = sys.stdin.readline().rstrip().split()\n",
        "    l, r = int(l), int(r)\n",
        "    if l > 0:\n",
        "        result[i] = count_list[r][ord(a)-97] - count_list[l-1][ord(a)-97]\n",
        "    else: #시작 index가 0인 경우\n",
        "        result[i] = count_list[r][ord(a)-97]\n",
        "\n",
        "print(*result, sep='\\n')"
      ],
      "metadata": {
        "id": "wnUvOnFnYNA8"
      },
      "execution_count": null,
      "outputs": []
    }
  ]
}