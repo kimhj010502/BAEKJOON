{
  "nbformat": 4,
  "nbformat_minor": 0,
  "metadata": {
    "colab": {
      "provenance": [],
      "authorship_tag": "ABX9TyOHWBzPscC6+vK52zMMn2u9",
      "include_colab_link": true
    },
    "kernelspec": {
      "name": "python3",
      "display_name": "Python 3"
    },
    "language_info": {
      "name": "python"
    }
  },
  "cells": [
    {
      "cell_type": "markdown",
      "metadata": {
        "id": "view-in-github",
        "colab_type": "text"
      },
      "source": [
        "<a href=\"https://colab.research.google.com/github/kimhj010502/BAEKJOON/blob/main/STEP18_%EB%88%84%EC%A0%81_%ED%95%A9.ipynb\" target=\"_parent\"><img src=\"https://colab.research.google.com/assets/colab-badge.svg\" alt=\"Open In Colab\"/></a>"
      ]
    },
    {
      "cell_type": "markdown",
      "source": [
        "## [누적합 (Prefix Sum)]\n",
        "- 누적합은 배열의 일부 구간에 대한 합을 매우 빠르게 구할 수 있게 해주는 스킬임\n",
        "- N개 원소로 이루어진 배열이 주어졌을 때 반복문을 통해 부분 배열의 합을 구하려면 $O(N)$이 걸리는데, 누적합을 이용하면 모든 부분합을 $O(1)$에 바로 구할 수 있음\n",
        "<br><br>\n",
        "- 1차원 배열\n",
        "    - sum[i] = arr[0] + arr[1] + .. + arr[i-1]\n",
        "    - `S(i,j) = sum(arr[i:j+1]) = sum[j+1] - sum[i]`\n",
        "    <br><a href='https://ifh.cc/v-xFHTKL' target='_blank'><img src='https://ifh.cc/g/xFHTKL.png' border='0' width='500'></a>\n",
        "- 2차원 배열\n",
        "    - sum[i][j] = sum(arr[0:i][0:j])\n",
        "    <br><a href='https://ifh.cc/v-kPQ7qv' target='_blank'><img src='https://ifh.cc/g/kPQ7qv.png' border='0' width='500'></a>\n",
        "    - `S(x1, x2, y1, y2) = sum(arr[x1:x2+1][y1:y2+1]) = sum[x2+1][y2+1] - sum[x1][y2+1] - sum[x2+1][y1] + sum[x1][y1]`\n",
        "    <br><a href='https://ifh.cc/v-bDVbf4' target='_blank'><img src='https://ifh.cc/g/bDVbf4.png' border='0' width='500'></a>\n",
        "- [참고] https://yiyj1030.tistory.com/489"
      ],
      "metadata": {
        "id": "rqR43B68jF83"
      }
    },
    {
      "cell_type": "markdown",
      "source": [
        "### 1) #11659 구간 합 구하기 4"
      ],
      "metadata": {
        "id": "cCPyWh3S64Re"
      }
    },
    {
      "cell_type": "code",
      "source": [
        "N, M = map(int, input().split())\n",
        "num_list = list(map(int, input().split()))\n",
        "\n",
        "sum_list = [0] * (N+1)\n",
        "for i in range(1, N+1):\n",
        "    sum_list[i] = sum_list[i-1] + num_list[i-1]\n",
        "\n",
        "for _ in range(M):\n",
        "    i, j = map(int, input().split())\n",
        "    print(sum_list[j] - sum_list[i-1])"
      ],
      "metadata": {
        "colab": {
          "base_uri": "https://localhost:8080/"
        },
        "id": "cgwWECoS2oUO",
        "outputId": "fafd9865-e2d4-479f-969b-55a338d38fb3"
      },
      "execution_count": 6,
      "outputs": [
        {
          "output_type": "stream",
          "name": "stdout",
          "text": [
            "5 3\n",
            "5 4 3 2 1\n",
            "1 3\n",
            "12\n",
            "2 4\n",
            "9\n",
            "5 5\n",
            "1\n"
          ]
        }
      ]
    },
    {
      "cell_type": "markdown",
      "source": [
        "- 시간 초과 방지"
      ],
      "metadata": {
        "id": "l4I-xxHv5P47"
      }
    },
    {
      "cell_type": "code",
      "source": [
        "import sys\n",
        "\n",
        "N, M = map(int, sys.stdin.readline().rstrip().split())\n",
        "num_list = list(map(int, sys.stdin.readline().rstrip().split()))\n",
        "\n",
        "sum_list = [0] * (N+1)\n",
        "for i in range(1, N+1):\n",
        "    sum_list[i] = sum_list[i-1] + num_list[i-1]\n",
        "\n",
        "for _ in range(M):\n",
        "    i, j = map(int, sys.stdin.readline().rstrip().split())\n",
        "    print(sum_list[j] - sum_list[i-1])"
      ],
      "metadata": {
        "id": "Bo-HELAu5RJV"
      },
      "execution_count": null,
      "outputs": []
    },
    {
      "cell_type": "markdown",
      "source": [
        "### 2) #2559 수열"
      ],
      "metadata": {
        "id": "CNHOUmjQ66vU"
      }
    },
    {
      "cell_type": "code",
      "source": [
        "N, K = map(int, input().split())\n",
        "tem_list = list(map(int, input().split()))"
      ],
      "metadata": {
        "id": "rtarf9Zw8BZY"
      },
      "execution_count": null,
      "outputs": []
    },
    {
      "cell_type": "markdown",
      "source": [
        "### 3) #16139 인간-컴퓨터 상호작용"
      ],
      "metadata": {
        "id": "9expqcEWxdsp"
      }
    }
  ]
}