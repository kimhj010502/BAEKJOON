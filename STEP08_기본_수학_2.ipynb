{
  "nbformat": 4,
  "nbformat_minor": 0,
  "metadata": {
    "colab": {
      "provenance": [],
      "authorship_tag": "ABX9TyOj9NjRkNAcCxhu5tlIgyba",
      "include_colab_link": true
    },
    "kernelspec": {
      "name": "python3",
      "display_name": "Python 3"
    },
    "language_info": {
      "name": "python"
    }
  },
  "cells": [
    {
      "cell_type": "markdown",
      "metadata": {
        "id": "view-in-github",
        "colab_type": "text"
      },
      "source": [
        "<a href=\"https://colab.research.google.com/github/kimhj010502/BAEKJOON/blob/main/STEP08_%EA%B8%B0%EB%B3%B8_%EC%88%98%ED%95%99_2.ipynb\" target=\"_parent\"><img src=\"https://colab.research.google.com/assets/colab-badge.svg\" alt=\"Open In Colab\"/></a>"
      ]
    },
    {
      "cell_type": "markdown",
      "metadata": {
        "id": "TzSGa08QXuST"
      },
      "source": [
        "### 1) #1978 소수 찾기"
      ]
    },
    {
      "cell_type": "code",
      "source": [
        "n = int(input())\n",
        "num_list = list(map(int, input().split()))\n",
        "result = 0\n",
        "\n",
        "for i in range(n):\n",
        "    number = num_list[i]\n",
        "    prime_num = False\n",
        "\n",
        "    if number == 2:\n",
        "        prime_num = True\n",
        "    else:\n",
        "        for j in range(2, number):\n",
        "            if number % j == 0:\n",
        "                prime_num = False\n",
        "                break\n",
        "            else:\n",
        "                prime_num = True\n",
        "\n",
        "    if prime_num:\n",
        "        result += 1\n",
        "    #print('{0}: {1}'.format(number, prime_num))\n",
        "\n",
        "print(result)"
      ],
      "metadata": {
        "colab": {
          "base_uri": "https://localhost:8080/"
        },
        "id": "xMDvmzKXB6pm",
        "outputId": "203219bf-9bcd-4206-c39b-1c5b0fe096d0"
      },
      "execution_count": null,
      "outputs": [
        {
          "output_type": "stream",
          "name": "stdout",
          "text": [
            "4\n",
            "1 3 5 7\n",
            "3\n"
          ]
        }
      ]
    },
    {
      "cell_type": "markdown",
      "metadata": {
        "id": "kJxFfY8yqwbo"
      },
      "source": [
        "### 2) #2581 소수"
      ]
    },
    {
      "cell_type": "code",
      "source": [
        "m = int(input())\n",
        "n = int(input())\n",
        "\n",
        "def is_prime_num(number):\n",
        "    prime_num = False\n",
        "    if number == 2:\n",
        "        prime_num = True\n",
        "    else:\n",
        "        for i in range(2, number):\n",
        "            if number % i == 0:\n",
        "                prime_num = False\n",
        "                break\n",
        "            else:\n",
        "                prime_num = True\n",
        "    return prime_num\n",
        "\n",
        "prime_list = []\n",
        "\n",
        "for i in range(m, n+1):\n",
        "    if is_prime_num(i):\n",
        "        prime_list.append(i)\n",
        "\n",
        "if len(prime_list) != 0:\n",
        "    print(sum(prime_list)) #총합\n",
        "    print(prime_list[0]) #최솟값\n",
        "else:\n",
        "    print(-1)"
      ],
      "metadata": {
        "colab": {
          "base_uri": "https://localhost:8080/"
        },
        "id": "J5b1Vlk0B7gE",
        "outputId": "e2ed3fe4-f44e-4053-9f12-eb80447240ac"
      },
      "execution_count": null,
      "outputs": [
        {
          "output_type": "stream",
          "name": "stdout",
          "text": [
            "64\n",
            "65\n",
            "-1\n"
          ]
        }
      ]
    },
    {
      "cell_type": "code",
      "source": [
        "m = int(input())\n",
        "n = int(input())\n",
        "\n",
        "def is_prime_num(number):\n",
        "    prime_num = False\n",
        "    if (number == 2) | (number == 3) | (number == 5):\n",
        "        prime_num = True\n",
        "    elif (number % 2 == 0) | (number % 3 == 0):\n",
        "        prime_num = False\n",
        "    else:\n",
        "        for i in range(5, number, 2):\n",
        "            if number % i == 0:\n",
        "                prime_num = False\n",
        "                break\n",
        "            else:\n",
        "                prime_num = True\n",
        "    return prime_num\n",
        "\n",
        "prime_list = []\n",
        "\n",
        "for i in range(m, n+1):\n",
        "    if is_prime_num(i):\n",
        "        prime_list.append(i)\n",
        "\n",
        "if len(prime_list) != 0:\n",
        "    print(sum(prime_list)) #총합\n",
        "    print(prime_list[0]) #최솟값\n",
        "else:\n",
        "    print(-1)"
      ],
      "metadata": {
        "colab": {
          "base_uri": "https://localhost:8080/"
        },
        "id": "MVgDf-T3UnxV",
        "outputId": "cad463fc-b8de-48b9-8afb-4de9fcb0cd5e"
      },
      "execution_count": null,
      "outputs": [
        {
          "output_type": "stream",
          "name": "stdout",
          "text": [
            "64\n",
            "65\n",
            "-1\n"
          ]
        }
      ]
    },
    {
      "cell_type": "markdown",
      "metadata": {
        "id": "vtqdTWTfqwmt"
      },
      "source": [
        "### 3) #11653 소인수분해"
      ]
    },
    {
      "cell_type": "markdown",
      "source": [
        "- 2와 3의 배수는 많으므로 for문 들어가기 전에 미리 나눠주기\n",
        "- 만약 i로 나누어 떨어지지 않는다면, (n // i) 초과의 수로도 나누어 떨어지지 않음\n",
        "    - 예시) 77이 5로 나누어 떨어지지 않으므로, 15 초과의 수로도 나누어 떨어지지 않음 → 16~77은 검사할 필요가 없음!"
      ],
      "metadata": {
        "id": "O7ZvGS8cLqUl"
      }
    },
    {
      "cell_type": "code",
      "source": [
        "n = int(input())\n",
        "\n",
        "def is_prime_num(number):\n",
        "    prime_num = False\n",
        "    if (number == 2) | (number == 3) | (number == 5):\n",
        "        prime_num = True\n",
        "    elif (number % 2 == 0) | (number % 3 == 0):\n",
        "        prime_num = False\n",
        "    else:\n",
        "        for i in range(5, number, 2):\n",
        "            if number % i == 0:\n",
        "                prime_num = False\n",
        "                break\n",
        "            else:\n",
        "                prime_num = True\n",
        "    return prime_num\n",
        "\n",
        "\n",
        "while (n % 2 == 0): #2의 배수\n",
        "    n = int(n / 2)\n",
        "    print(2)\n",
        "while (n % 3 == 0): #3의 배수\n",
        "    n = int(n / 3)\n",
        "    print(3)\n",
        "while (n % 5 == 0): #3의 배수\n",
        "    n = int(n / 5)\n",
        "    print(5)\n",
        "\n",
        "\n",
        "for_list = [x for x in range(7, n+1, 2) if (n % 3 != 0) & (n % 5 != 0) & (n % x == 0) & is_prime_num(x)] #2, 3, 5로는 이미 나뉘어지고 2, 3, 5의 배수가 아닌 수\n",
        "#print(for_list)\n",
        "\n",
        "if n > 1: #나머지 수\n",
        "    for i in for_list: \n",
        "        #print('n: {0}, i:{1}'.format(n, i))\n",
        "        if n == 1:\n",
        "            break\n",
        "\n",
        "        while (n % i == 0):\n",
        "            print(i)\n",
        "            n = int(n / i)\n",
        "        if (n // i) in for_list: #대응되는 수도 소수라면\n",
        "            while ((n // i) % i == 0):\n",
        "                print(n // i) #대응되는 수도 넣기\n",
        "                n = int(n / (n//i))"
      ],
      "metadata": {
        "colab": {
          "base_uri": "https://localhost:8080/"
        },
        "id": "b4IFM5izBNNB",
        "outputId": "de6b5069-f1b4-4d1a-a0ab-77bd53142d56"
      },
      "execution_count": null,
      "outputs": [
        {
          "output_type": "stream",
          "name": "stdout",
          "text": [
            "9991\n",
            "97\n",
            "103\n"
          ]
        }
      ]
    },
    {
      "cell_type": "markdown",
      "source": [
        "- 간단하게 생각하기"
      ],
      "metadata": {
        "id": "In9jbHeWec3k"
      }
    },
    {
      "cell_type": "code",
      "source": [
        "n = int(input())\n",
        "\n",
        "for i in range(2, n+1):\n",
        "    if n % i == 0:\n",
        "        while (n % i == 0):\n",
        "            print(i)\n",
        "            n = int(n / i)"
      ],
      "metadata": {
        "colab": {
          "base_uri": "https://localhost:8080/"
        },
        "id": "rx8w_UTeezgZ",
        "outputId": "b191eb32-8c96-42bf-ea79-720ced5672f2"
      },
      "execution_count": null,
      "outputs": [
        {
          "output_type": "stream",
          "name": "stdout",
          "text": [
            "9991\n",
            "97\n",
            "103\n"
          ]
        }
      ]
    },
    {
      "cell_type": "code",
      "source": [
        "n = int(input())\n",
        "\n",
        "while (n % 2 == 0): #2의 배수\n",
        "    n = int(n / 2)\n",
        "    print(2)\n",
        "while (n % 3 == 0): #3의 배수\n",
        "    n = int(n / 3)\n",
        "    print(3)\n",
        "while (n % 5 == 0): #3의 배수\n",
        "    n = int(n / 5)\n",
        "    print(5)\n",
        "\n",
        "for_list = [x for x in range(7, n+1, 2) if (n % 3 != 0) & (n % 5 != 0) & (n % x == 0)] #2, 3, 5로는 이미 나뉘어지고 2, 3, 5의 배수가 아닌 수\n",
        "\n",
        "for i in for_list:\n",
        "    while (n % i == 0):\n",
        "        print(i)\n",
        "        n = int(n / i)"
      ],
      "metadata": {
        "colab": {
          "base_uri": "https://localhost:8080/"
        },
        "id": "vGK1lQXTbWwA",
        "outputId": "1733f8e2-7770-49d8-cfc4-da700c7caf2f"
      },
      "execution_count": null,
      "outputs": [
        {
          "output_type": "stream",
          "name": "stdout",
          "text": [
            "9991\n",
            "97\n",
            "103\n"
          ]
        }
      ]
    },
    {
      "cell_type": "markdown",
      "source": [
        "### 4) #1929 소수 구하기"
      ],
      "metadata": {
        "id": "OPZWSvxAcLy9"
      }
    },
    {
      "cell_type": "markdown",
      "source": [
        "#### [내 코드]"
      ],
      "metadata": {
        "id": "59z9io-tiAUp"
      }
    },
    {
      "cell_type": "code",
      "source": [
        "m, n = map(int, input().split())\n",
        "\n",
        "for_list = [x for x in range(m, n+1) if (x != 1) & (x % 2 != 0) & (x % 3 != 0)]\n",
        "#print(for_list)\n",
        "\n",
        "def is_prime_num(number):\n",
        "    prime_num = True\n",
        "    i_list = [x for x in range(5, int(number**0.5))]\n",
        "\n",
        "    while(len(i_list) != 0):\n",
        "        #print('#i: {0}, i_list:{1}'.format(i_list[0], i_list))\n",
        "        if number % i_list[0] == 0:\n",
        "            prime_num = False\n",
        "            break\n",
        "        else:\n",
        "            i_list = [x for x in i_list if x % i_list[0] != 0]\n",
        "    return prime_num\n",
        "\n",
        "for i in [2, 3]:\n",
        "    if i in range(m, n):\n",
        "        print(i)\n",
        "\n",
        "for i in for_list:\n",
        "    #print('#####' + str(i))\n",
        "    if is_prime_num(i):\n",
        "        print(i)"
      ],
      "metadata": {
        "id": "ae7NfaDPB9L5",
        "colab": {
          "base_uri": "https://localhost:8080/"
        },
        "outputId": "2a10e20b-05c5-45b2-d4e6-b3341bfea96d"
      },
      "execution_count": null,
      "outputs": [
        {
          "output_type": "stream",
          "name": "stdout",
          "text": [
            "1 10\n",
            "2\n",
            "3\n",
            "5\n",
            "7\n"
          ]
        }
      ]
    },
    {
      "cell_type": "markdown",
      "source": [
        "#### [공부한 코드]\n",
        "- 에라토스테네스의 체\n",
        "    1. 2부터 N까지 모든 수를 써놓는다.\n",
        "    2. 아직 지워지지않은 수 중에서 가장 작은수를 찾는다.\n",
        "    3. 그 수는 소수이다.\n",
        "    4. 이제 그 수의 배수를 모두 지웁니다.\n"
      ],
      "metadata": {
        "id": "pyqL3uqQiDd8"
      }
    },
    {
      "cell_type": "code",
      "source": [
        "m, n = map(int, input().split())\n",
        "\n",
        "is_prime = [i for i in range(1, n+1)] #배열 생성 후 초기화\n",
        "is_prime[0] = 0 #1은 소수가 아니므로 초기화\n",
        "\n",
        "#2부터 시작해서 특정 수의 배수에 해당하는 수를 모두 지움\n",
        "#자기 자신은 제외하고 이미 지워진 수는 건너뜀\n",
        "for i in range(2, n+1):\n",
        "    if is_prime[i-1] == 0: #이미 지워진 수\n",
        "        continue\n",
        "    else:\n",
        "        for j in range(2*i, n+1, i): #자기 자신 제외라서 2*i부터 시작\n",
        "            is_prime[j-1] = 0\n",
        "    \n",
        "for i in range(m, n+1):\n",
        "    if is_prime[i-1] != 0: #지워지지 않아서 소수인 경우만\n",
        "        print(i)"
      ],
      "metadata": {
        "colab": {
          "base_uri": "https://localhost:8080/"
        },
        "id": "SLLItNHXiPrO",
        "outputId": "4b5db331-d0c1-4850-c79d-24e52d0320f7"
      },
      "execution_count": 13,
      "outputs": [
        {
          "output_type": "stream",
          "name": "stdout",
          "text": [
            "3 16\n",
            "3\n",
            "5\n",
            "7\n",
            "11\n",
            "13\n"
          ]
        }
      ]
    },
    {
      "cell_type": "markdown",
      "source": [
        "### 5) #4948 베르트랑 공준"
      ],
      "metadata": {
        "id": "z267Kar1cO8I"
      }
    },
    {
      "cell_type": "code",
      "source": [
        "num_list = []\n",
        "\n",
        "while(True):\n",
        "    n = int(input())\n",
        "    if n == 0:\n",
        "        break\n",
        "    num_list.append(n)\n",
        "\n",
        "max_num = max(num_list)\n",
        "is_prime = [i for i in range(1, 2*max_num+1)]\n",
        "is_prime[0] = 0\n",
        "\n",
        "for i in range(2, 2*max_num+1):\n",
        "    if is_prime[i-1] == 0:\n",
        "        continue\n",
        "    else:\n",
        "        for j in range(2*i, 2*max_num+1, i):\n",
        "            is_prime[j-1] = 0\n",
        "\n",
        "for num in num_list:\n",
        "    prime_num_list = [i for i in range(num+1, 2*num+1) if is_prime[i-1] != 0]\n",
        "    #print(prime_num_list)\n",
        "    print(len(prime_num_list))"
      ],
      "metadata": {
        "id": "iCLJY-aAB9-2",
        "colab": {
          "base_uri": "https://localhost:8080/"
        },
        "outputId": "11d63894-2a4b-42b0-8f44-7182ee75e460"
      },
      "execution_count": 18,
      "outputs": [
        {
          "output_type": "stream",
          "name": "stdout",
          "text": [
            "1\n",
            "10\n",
            "13\n",
            "100\n",
            "1000\n",
            "10000\n",
            "100000\n",
            "0\n",
            "1\n",
            "4\n",
            "3\n",
            "21\n",
            "135\n",
            "1033\n",
            "8392\n"
          ]
        }
      ]
    },
    {
      "cell_type": "markdown",
      "source": [
        "### 6) #9020 골드바흐의 추측"
      ],
      "metadata": {
        "id": "0X8YoTToi9KI"
      }
    },
    {
      "cell_type": "markdown",
      "source": [
        "- i가 n/2(짝수니까 정수)부터 2까지 거꾸로 1씩 줄어들면서 n-i도 소수인지 검사 후 맞다면 i와 n-i 출력"
      ],
      "metadata": {
        "id": "0jXSqk-Yo9eg"
      }
    },
    {
      "cell_type": "code",
      "source": [
        "t = int(input())\n",
        "\n",
        "num_list = []\n",
        "\n",
        "for i in range(t):\n",
        "    n = int(input())\n",
        "    num_list.append(n)\n",
        "\n",
        "max_num = max(num_list)\n",
        "is_prime = [i for i in range(1, max_num+1)]\n",
        "is_prime[0] = 0\n",
        "\n",
        "for i in range(2, max_num+1):\n",
        "    if is_prime[i-1] == 0:\n",
        "        continue\n",
        "    else:\n",
        "        for j in range(2*i, max_num+1, i):\n",
        "            is_prime[j-1] = 0\n",
        "\n",
        "for n in num_list:\n",
        "    for i in range(int(n/2), 1, -1):\n",
        "        #print('#{0}'.format(i))\n",
        "        if (is_prime[i-1] != 0) & (is_prime[n-i-1] != 0): #i와 n-i가 모두 소수인 경우\n",
        "            print('{0} {1}'.format(i, n-i))\n",
        "            break"
      ],
      "metadata": {
        "id": "x9y4NcP1B-eY",
        "colab": {
          "base_uri": "https://localhost:8080/"
        },
        "outputId": "0e8671d7-d70a-4200-b7d3-5bfb97203d5c"
      },
      "execution_count": 26,
      "outputs": [
        {
          "output_type": "stream",
          "name": "stdout",
          "text": [
            "3\n",
            "8\n",
            "10\n",
            "16\n",
            "3 5\n",
            "5 5\n",
            "5 11\n"
          ]
        }
      ]
    }
  ]
}