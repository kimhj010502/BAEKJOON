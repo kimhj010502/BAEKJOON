{
  "nbformat": 4,
  "nbformat_minor": 0,
  "metadata": {
    "colab": {
      "provenance": [],
      "authorship_tag": "ABX9TyP2e1E02TX6a0AP2crmWggN",
      "include_colab_link": true
    },
    "kernelspec": {
      "name": "python3",
      "display_name": "Python 3"
    },
    "language_info": {
      "name": "python"
    }
  },
  "cells": [
    {
      "cell_type": "markdown",
      "metadata": {
        "id": "view-in-github",
        "colab_type": "text"
      },
      "source": [
        "<a href=\"https://colab.research.google.com/github/kimhj010502/BAEKJOON/blob/main/STEP08_%EA%B8%B0%EB%B3%B8_%EC%88%98%ED%95%99_2.ipynb\" target=\"_parent\"><img src=\"https://colab.research.google.com/assets/colab-badge.svg\" alt=\"Open In Colab\"/></a>"
      ]
    },
    {
      "cell_type": "markdown",
      "metadata": {
        "id": "TzSGa08QXuST"
      },
      "source": [
        "### 1) #1978 소수 찾기"
      ]
    },
    {
      "cell_type": "code",
      "source": [
        "n = int(input())\n",
        "num_list = list(map(int, input().split()))\n",
        "result = 0\n",
        "\n",
        "for i in range(n):\n",
        "    number = num_list[i]\n",
        "    prime_num = False\n",
        "\n",
        "    if number == 2:\n",
        "        prime_num = True\n",
        "    else:\n",
        "        for j in range(2, number):\n",
        "            if number % j == 0:\n",
        "                prime_num = False\n",
        "                break\n",
        "            else:\n",
        "                prime_num = True\n",
        "\n",
        "    if prime_num:\n",
        "        result += 1\n",
        "    #print('{0}: {1}'.format(number, prime_num))\n",
        "\n",
        "print(result)"
      ],
      "metadata": {
        "colab": {
          "base_uri": "https://localhost:8080/"
        },
        "id": "xMDvmzKXB6pm",
        "outputId": "203219bf-9bcd-4206-c39b-1c5b0fe096d0"
      },
      "execution_count": 7,
      "outputs": [
        {
          "output_type": "stream",
          "name": "stdout",
          "text": [
            "4\n",
            "1 3 5 7\n",
            "3\n"
          ]
        }
      ]
    },
    {
      "cell_type": "markdown",
      "metadata": {
        "id": "kJxFfY8yqwbo"
      },
      "source": [
        "### 2) #2581 소수"
      ]
    },
    {
      "cell_type": "code",
      "source": [
        "m = int(input())\n",
        "n = int(input())\n",
        "\n",
        "def is_prime_num(number):\n",
        "    prime_num = False\n",
        "    if number == 2:\n",
        "        prime_num = True\n",
        "    else:\n",
        "        for i in range(2, number):\n",
        "            if number % i == 0:\n",
        "                prime_num = False\n",
        "                break\n",
        "            else:\n",
        "                prime_num = True\n",
        "    return prime_num\n",
        "\n",
        "prime_list = []\n",
        "\n",
        "for i in range(m, n+1):\n",
        "    if is_prime_num(i):\n",
        "        prime_list.append(i)\n",
        "\n",
        "if len(prime_list) != 0:\n",
        "    print(sum(prime_list)) #총합\n",
        "    print(prime_list[0]) #최솟값\n",
        "else:\n",
        "    print(-1)"
      ],
      "metadata": {
        "colab": {
          "base_uri": "https://localhost:8080/"
        },
        "id": "J5b1Vlk0B7gE",
        "outputId": "e2ed3fe4-f44e-4053-9f12-eb80447240ac"
      },
      "execution_count": 13,
      "outputs": [
        {
          "output_type": "stream",
          "name": "stdout",
          "text": [
            "64\n",
            "65\n",
            "-1\n"
          ]
        }
      ]
    },
    {
      "cell_type": "markdown",
      "metadata": {
        "id": "vtqdTWTfqwmt"
      },
      "source": [
        "### 3) #11653 소인수분해"
      ]
    },
    {
      "cell_type": "code",
      "source": [],
      "metadata": {
        "id": "f9L5431NB8WF"
      },
      "execution_count": null,
      "outputs": []
    },
    {
      "cell_type": "markdown",
      "source": [
        "### 4) #1929 소수 구하기"
      ],
      "metadata": {
        "id": "OPZWSvxAcLy9"
      }
    },
    {
      "cell_type": "code",
      "source": [],
      "metadata": {
        "id": "ae7NfaDPB9L5"
      },
      "execution_count": null,
      "outputs": []
    },
    {
      "cell_type": "markdown",
      "source": [
        "### 5) #4948 베르트랑 공준"
      ],
      "metadata": {
        "id": "z267Kar1cO8I"
      }
    },
    {
      "cell_type": "code",
      "source": [],
      "metadata": {
        "id": "iCLJY-aAB9-2"
      },
      "execution_count": null,
      "outputs": []
    },
    {
      "cell_type": "markdown",
      "source": [
        "### 6) #9020 골드바흐의 추측"
      ],
      "metadata": {
        "id": "0X8YoTToi9KI"
      }
    },
    {
      "cell_type": "code",
      "source": [],
      "metadata": {
        "id": "x9y4NcP1B-eY"
      },
      "execution_count": null,
      "outputs": []
    }
  ]
}