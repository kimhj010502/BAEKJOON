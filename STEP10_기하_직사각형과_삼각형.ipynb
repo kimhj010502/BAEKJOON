{
  "nbformat": 4,
  "nbformat_minor": 0,
  "metadata": {
    "colab": {
      "provenance": [],
      "authorship_tag": "ABX9TyPcnco4tM61r0XSf8A/d5i5",
      "include_colab_link": true
    },
    "kernelspec": {
      "name": "python3",
      "display_name": "Python 3"
    },
    "language_info": {
      "name": "python"
    }
  },
  "cells": [
    {
      "cell_type": "markdown",
      "metadata": {
        "id": "view-in-github",
        "colab_type": "text"
      },
      "source": [
        "<a href=\"https://colab.research.google.com/github/kimhj010502/BAEKJOON/blob/main/STEP10_%EA%B8%B0%ED%95%98_%EC%A7%81%EC%82%AC%EA%B0%81%ED%98%95%EA%B3%BC_%EC%82%BC%EA%B0%81%ED%98%95.ipynb\" target=\"_parent\"><img src=\"https://colab.research.google.com/assets/colab-badge.svg\" alt=\"Open In Colab\"/></a>"
      ]
    },
    {
      "cell_type": "markdown",
      "source": [
        "### #27323 직사각형"
      ],
      "metadata": {
        "id": "ErzWa5Vf7SrB"
      }
    },
    {
      "cell_type": "code",
      "execution_count": null,
      "metadata": {
        "colab": {
          "base_uri": "https://localhost:8080/"
        },
        "id": "ZNRKGCc07OWZ",
        "outputId": "dd67f21e-7f37-42c2-b9ad-4606f30cdc9d"
      },
      "outputs": [
        {
          "output_type": "stream",
          "name": "stdout",
          "text": [
            "2\n",
            "3\n",
            "6\n"
          ]
        }
      ],
      "source": [
        "a = int(input())\n",
        "b = int(input())\n",
        "\n",
        "print(a * b)"
      ]
    },
    {
      "cell_type": "markdown",
      "source": [
        "### #1085 직사각형에서 탈출"
      ],
      "metadata": {
        "id": "qEQ4NBqtGXTk"
      }
    },
    {
      "cell_type": "code",
      "source": [
        "x, y, w, h = map(int, input().split())\n",
        "\n",
        "print(min(x, y, w-x, h-y))"
      ],
      "metadata": {
        "colab": {
          "base_uri": "https://localhost:8080/"
        },
        "id": "XyKDvdDVGZGn",
        "outputId": "5e5bf3d1-d620-41b1-d98b-3b2bd8e55dab"
      },
      "execution_count": null,
      "outputs": [
        {
          "output_type": "stream",
          "name": "stdout",
          "text": [
            "161 181 762 375\n",
            "161\n"
          ]
        }
      ]
    },
    {
      "cell_type": "markdown",
      "source": [
        "### #3009 네 번째 점"
      ],
      "metadata": {
        "id": "s7MtErm_Gci8"
      }
    },
    {
      "cell_type": "code",
      "source": [
        "x = []\n",
        "y = []\n",
        "\n",
        "for _ in range(3):\n",
        "    new_x, new_y = map(int, input().split())\n",
        "    if new_x in x:\n",
        "        x.remove(new_x)\n",
        "    else:\n",
        "        x.append(new_x)\n",
        "    if new_y in y:\n",
        "        y.remove(new_y)\n",
        "    else:\n",
        "        y.append(new_y)\n",
        "\n",
        "print(x[0], y[0])"
      ],
      "metadata": {
        "id": "TxKlJ_B7GiKc",
        "outputId": "46857986-cf49-47cd-971b-31356f83ad79",
        "colab": {
          "base_uri": "https://localhost:8080/"
        }
      },
      "execution_count": null,
      "outputs": [
        {
          "output_type": "stream",
          "name": "stdout",
          "text": [
            "30 20\n",
            "10 10\n",
            "10 20\n",
            "30 10\n"
          ]
        }
      ]
    },
    {
      "cell_type": "markdown",
      "source": [
        "### #15894 수학은 체육과목 입니다"
      ],
      "metadata": {
        "id": "PRnsEJcrF8S3"
      }
    },
    {
      "cell_type": "code",
      "source": [
        "n = int(input())\n",
        "\n",
        "print(4 * n)"
      ],
      "metadata": {
        "colab": {
          "base_uri": "https://localhost:8080/"
        },
        "id": "SAAQPeXDGAPW",
        "outputId": "b51c3bb8-d7ed-445a-ec27-ec63f76af83a"
      },
      "execution_count": null,
      "outputs": [
        {
          "output_type": "stream",
          "name": "stdout",
          "text": [
            "3\n",
            "12\n"
          ]
        }
      ]
    },
    {
      "cell_type": "markdown",
      "source": [
        "### #9063 대지"
      ],
      "metadata": {
        "id": "RwKCvSb2MxWK"
      }
    },
    {
      "cell_type": "code",
      "source": [
        "n = int(input())\n",
        "\n",
        "x_list = []\n",
        "y_list = []\n",
        "\n",
        "for i in range(n):\n",
        "    x, y = map(int, input().split())\n",
        "    x_list.append(x)\n",
        "    y_list.append(y)\n",
        "\n",
        "x_len = max(x_list) - min(x_list)\n",
        "y_len = max(y_list) - min(y_list)\n",
        "print(x_len * y_len)"
      ],
      "metadata": {
        "colab": {
          "base_uri": "https://localhost:8080/"
        },
        "id": "Ep26jLASMzPv",
        "outputId": "38315713-b3b1-4d21-ef4c-a4d7ddb28938"
      },
      "execution_count": null,
      "outputs": [
        {
          "output_type": "stream",
          "name": "stdout",
          "text": [
            "4\n",
            "2 1\n",
            "3 2\n",
            "5 2\n",
            "3 4\n",
            "9\n"
          ]
        }
      ]
    },
    {
      "cell_type": "markdown",
      "source": [
        "### #10101 삼각형 외우기"
      ],
      "metadata": {
        "id": "kmoegtschMsG"
      }
    },
    {
      "cell_type": "code",
      "source": [
        "angle = []\n",
        "for i in range(3):\n",
        "    angle.append(int(input()))\n",
        "\n",
        "if sum(angle) != 180:\n",
        "    print(\"Error\")\n",
        "elif angle == [60, 60, 60]:\n",
        "    print(\"Equilateral\")\n",
        "elif (angle[0] == angle[1] & angle[0] != angle[2]) | (angle[0] == angle[2] & angle[0] != angle[1]) | (angle[1] == angle[2] & angle[1] != angle[0]):\n",
        "    print(\"Isosceles\")\n",
        "else:\n",
        "    print(\"Scalene\")"
      ],
      "metadata": {
        "colab": {
          "base_uri": "https://localhost:8080/"
        },
        "id": "hBw5UdQxhRU4",
        "outputId": "c0d3642d-f5ab-44ca-cf1a-818a9f886689"
      },
      "execution_count": null,
      "outputs": [
        {
          "output_type": "stream",
          "name": "stdout",
          "text": [
            "60\n",
            "70\n",
            "50\n",
            "Scalene\n"
          ]
        }
      ]
    },
    {
      "cell_type": "markdown",
      "source": [
        "### #5073 삼각형과 세 변"
      ],
      "metadata": {
        "id": "8cZ92DRFn8mo"
      }
    },
    {
      "cell_type": "code",
      "source": [
        "while True:\n",
        "    leg = list(map(int, input().split()))\n",
        "\n",
        "    #세 수가 다 0인 경우 종료\n",
        "    if leg == [0, 0, 0]:\n",
        "        break\n",
        "\n",
        "    if max(leg) >= sum(leg) - max(leg):\n",
        "        print(\"Invalid\")\n",
        "    elif (leg[0] == leg[1]) & (leg[0] == leg[2]):\n",
        "        print(\"Equilateral\")\n",
        "    elif ((leg[0] == leg[1]) & (leg[0] != leg[2])) | ((leg[0] == leg[2]) & (leg[0] != leg[1])) | ((leg[1] == leg[2]) & (leg[0] != leg[1])):\n",
        "        print(\"Isosceles\")\n",
        "    else:\n",
        "        print(\"Scalene\")"
      ],
      "metadata": {
        "colab": {
          "base_uri": "https://localhost:8080/"
        },
        "id": "HVdoHrD9n-yE",
        "outputId": "b88c0eca-8c6d-477e-d283-c613835ba92c"
      },
      "execution_count": 13,
      "outputs": [
        {
          "name": "stdout",
          "output_type": "stream",
          "text": [
            "7 7 7\n",
            "Equilateral\n",
            "6 5 4\n",
            "Scalene\n",
            "3 2 5\n",
            "Invalid\n",
            "6 2 6\n",
            "Isosceles\n",
            "0 0 0\n"
          ]
        }
      ]
    }
  ]
}