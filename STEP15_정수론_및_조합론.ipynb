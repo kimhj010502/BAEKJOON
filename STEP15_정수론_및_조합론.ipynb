{
  "nbformat": 4,
  "nbformat_minor": 0,
  "metadata": {
    "colab": {
      "provenance": [],
      "authorship_tag": "ABX9TyNythCzpB1npi3Jnzs+cYR8",
      "include_colab_link": true
    },
    "kernelspec": {
      "name": "python3",
      "display_name": "Python 3"
    },
    "language_info": {
      "name": "python"
    }
  },
  "cells": [
    {
      "cell_type": "markdown",
      "metadata": {
        "id": "view-in-github",
        "colab_type": "text"
      },
      "source": [
        "<a href=\"https://colab.research.google.com/github/kimhj010502/BAEKJOON/blob/main/STEP15_%EC%A0%95%EC%88%98%EB%A1%A0_%EB%B0%8F_%EC%A1%B0%ED%95%A9%EB%A1%A0.ipynb\" target=\"_parent\"><img src=\"https://colab.research.google.com/assets/colab-badge.svg\" alt=\"Open In Colab\"/></a>"
      ]
    },
    {
      "cell_type": "markdown",
      "metadata": {
        "id": "TzSGa08QXuST"
      },
      "source": [
        "### 1) #5086 배수와 약수"
      ]
    },
    {
      "cell_type": "code",
      "source": [
        "while True:\n",
        "    a, b = map(int, input().split())\n",
        "    if (a == 0) & (b == 0):\n",
        "        break\n",
        "    else:\n",
        "        if a % b == 0:\n",
        "            print('multiple')\n",
        "        elif b % a == 0:\n",
        "            print('factor')\n",
        "        else:\n",
        "            print('neither')"
      ],
      "metadata": {
        "colab": {
          "base_uri": "https://localhost:8080/"
        },
        "id": "wdKE4ZlyNCOQ",
        "outputId": "54a8b02b-6b15-4b76-a1be-33360b5e9e04"
      },
      "execution_count": null,
      "outputs": [
        {
          "name": "stdout",
          "output_type": "stream",
          "text": [
            "8 16\n",
            "factor\n",
            "32 4\n",
            "multiple\n",
            "17 5\n",
            "neither\n",
            "0 0\n"
          ]
        }
      ]
    },
    {
      "cell_type": "markdown",
      "source": [
        "- 시간 초과 방지"
      ],
      "metadata": {
        "id": "u-b2-yWxN0t9"
      }
    },
    {
      "cell_type": "code",
      "source": [
        "import sys\n",
        "\n",
        "while True:\n",
        "    a, b = map(int, sys.stdin.readline().rstrip().split())\n",
        "    if (a == 0) & (b == 0):\n",
        "        break\n",
        "    else:\n",
        "        if a % b == 0:\n",
        "            print('multiple')\n",
        "        elif b % a == 0:\n",
        "            print('factor')\n",
        "        else:\n",
        "            print('neither')"
      ],
      "metadata": {
        "id": "6qVYNAcVN2JG"
      },
      "execution_count": null,
      "outputs": []
    },
    {
      "cell_type": "markdown",
      "source": [
        "### 2) #1037 약수"
      ],
      "metadata": {
        "id": "DUpysAzdNCeM"
      }
    },
    {
      "cell_type": "code",
      "source": [
        "n = int(input())\n",
        "factor_list = list(map(int, input().split()))\n",
        "factor_list.sort()\n",
        "\n",
        "if n == 1:\n",
        "    print(factor_list[0]**2)\n",
        "else:\n",
        "    print(factor_list[0] * factor_list[-1])"
      ],
      "metadata": {
        "colab": {
          "base_uri": "https://localhost:8080/"
        },
        "id": "gszTwHuUNFB6",
        "outputId": "b89745d0-908f-4b4c-dd5a-fe0fd0246258"
      },
      "execution_count": null,
      "outputs": [
        {
          "output_type": "stream",
          "name": "stdout",
          "text": [
            "14\n",
            "14 26456 2 28 13228 3307 7 23149 8 6614 46298 56 4 92596\n",
            "185192\n"
          ]
        }
      ]
    },
    {
      "cell_type": "markdown",
      "source": [
        "- 시간 초과 방지"
      ],
      "metadata": {
        "id": "Px3F4ixmO_UO"
      }
    },
    {
      "cell_type": "code",
      "source": [
        "import sys\n",
        "\n",
        "n = int(input())\n",
        "factor_list = list(map(int, sys.stdin.readline().rstrip().split()))\n",
        "factor_list.sort()\n",
        "\n",
        "if n == 1:\n",
        "    print(factor_list[0]**2)\n",
        "else:\n",
        "    print(factor_list[0] * factor_list[-1])"
      ],
      "metadata": {
        "id": "e9uhAYlJPAhL"
      },
      "execution_count": null,
      "outputs": []
    },
    {
      "cell_type": "markdown",
      "source": [
        "### 3) #2609 최대공약수와 최소공배수"
      ],
      "metadata": {
        "id": "TSRrVJJ-NFK7"
      }
    },
    {
      "cell_type": "markdown",
      "source": [
        "- 유클리드 호제법 <br> [참고] https://ko.wikipedia.org/wiki/%EC%9C%A0%ED%81%B4%EB%A6%AC%EB%93%9C_%ED%98%B8%EC%A0%9C%EB%B2%95\n",
        "- `최소공배수 * 최대공약수 = a * b`\n",
        "- 함수 이름과 변수 이름을 다르게 설정해야 함\n",
        "- NameError: 할당 전에 참조되는 변수 <br> [참고] https://velog.io/@hongsikcho/%ED%8C%8C%EC%9D%B4%EC%8D%AC-referenced-before-assignment%EC%97%90%EB%9F%AC-%EC%9D%B4%EC%9C%A0%EC%99%80-%ED%95%B4%EA%B2%B0"
      ],
      "metadata": {
        "id": "ZuL2FJsuRTQJ"
      }
    },
    {
      "cell_type": "code",
      "source": [
        "a, b = map(int, input().split())\n",
        "\n",
        "def gcd(a, b):\n",
        "    r = 1\n",
        "    while (a % b != 0):  \n",
        "        r = a % b\n",
        "        #print(f'{a} % {b} = {r}')\n",
        "        a = b; b = r\n",
        "    return r\n",
        " \n",
        "gcd_num = gcd(a, b)\n",
        "print(gcd_num)\n",
        "print(a * b // gcd_num)"
      ],
      "metadata": {
        "colab": {
          "base_uri": "https://localhost:8080/"
        },
        "id": "GJdokkW_NJWz",
        "outputId": "155bb151-5780-4ab4-8ecc-c32fab2852d4"
      },
      "execution_count": null,
      "outputs": [
        {
          "output_type": "stream",
          "name": "stdout",
          "text": [
            "24 18\n",
            "6\n",
            "72\n"
          ]
        }
      ]
    },
    {
      "cell_type": "markdown",
      "source": [
        "------\n",
        "- 틀림\n",
        "- 반례\n",
        "```\n",
        "2 2\n",
        "> 답: 2 2, 출력: 1 2\n",
        "```"
      ],
      "metadata": {
        "id": "KXNuBsRAVSVY"
      }
    },
    {
      "cell_type": "code",
      "source": [
        "a, b = map(int, input().split())\n",
        "\n",
        "def gcd(a, b):\n",
        "    if a == b:\n",
        "        return a\n",
        "    else:\n",
        "        r = 1\n",
        "        while (a % b != 0):  \n",
        "            r = a % b\n",
        "            #print(f'{a} % {b} = {r}')\n",
        "            a = b; b = r\n",
        "        return r\n",
        "\n",
        "gcd_num = gcd(max(a, b), min(a, b))\n",
        "print(gcd_num)\n",
        "print(a * b // gcd_num)"
      ],
      "metadata": {
        "colab": {
          "base_uri": "https://localhost:8080/"
        },
        "id": "7Oy4fTw-VUVk",
        "outputId": "4ec7baa9-0e54-4aaf-e7a3-b2abfb4b5557"
      },
      "execution_count": null,
      "outputs": [
        {
          "output_type": "stream",
          "name": "stdout",
          "text": [
            "30 10\n",
            "1\n",
            "300\n"
          ]
        }
      ]
    },
    {
      "cell_type": "markdown",
      "source": [
        "------\n",
        "- 틀림\n",
        "- 반례\n",
        "```\n",
        "30 10\n",
        "> 답: 10 30, 출력: 1 300\n",
        "```\n",
        "- `a % b == 0`인 경우를 생각하지 못함"
      ],
      "metadata": {
        "id": "-YDeotvjWr8y"
      }
    },
    {
      "cell_type": "code",
      "source": [
        "a, b = map(int, input().split())\n",
        "\n",
        "def gcd(a, b):\n",
        "    if a % b == 0:\n",
        "        return b\n",
        "    else:\n",
        "        while (a % b != 0):  \n",
        "            r = a % b\n",
        "            a = b; b = r\n",
        "        return r\n",
        "\n",
        "gcd_num = gcd(max(a, b), min(a, b))\n",
        "print(gcd_num)\n",
        "print(a * b // gcd_num)"
      ],
      "metadata": {
        "colab": {
          "base_uri": "https://localhost:8080/"
        },
        "id": "75H3pLwGWxPr",
        "outputId": "90a9e92b-a4de-4a75-e976-2b518a9b1b15"
      },
      "execution_count": null,
      "outputs": [
        {
          "output_type": "stream",
          "name": "stdout",
          "text": [
            "30 10\n",
            "10\n",
            "30\n"
          ]
        }
      ]
    },
    {
      "cell_type": "markdown",
      "source": [
        "- a가 b보다 크지 않아도 됨\n",
        "- ex) a = 6, b = 10이면 r = 6이 되므로 a = 10, b = 6이 됨"
      ],
      "metadata": {
        "id": "XtsSJvi0c2Hi"
      }
    },
    {
      "cell_type": "code",
      "source": [
        "a, b = map(int, input().split())\n",
        "\n",
        "def gcd(a, b):\n",
        "    if a % b == 0:\n",
        "        return b\n",
        "    else:\n",
        "        while (a % b != 0):  \n",
        "            r = a % b\n",
        "            a = b; b = r\n",
        "        return r\n",
        "\n",
        "gcd_num = gcd(a, b)\n",
        "print(gcd_num)\n",
        "print(a * b // gcd_num)"
      ],
      "metadata": {
        "colab": {
          "base_uri": "https://localhost:8080/"
        },
        "id": "rhae2NX4c16T",
        "outputId": "ce50a611-701b-46bc-8150-099efc96eb79"
      },
      "execution_count": null,
      "outputs": [
        {
          "output_type": "stream",
          "name": "stdout",
          "text": [
            "30 10\n",
            "10\n",
            "30\n"
          ]
        }
      ]
    },
    {
      "cell_type": "markdown",
      "source": [
        "### 4) #1934 최소공배수"
      ],
      "metadata": {
        "id": "W2PsKzhvNJmR"
      }
    },
    {
      "cell_type": "code",
      "source": [
        "t = int(input())\n",
        "\n",
        "def gcd(a, b):\n",
        "    if a % b == 0:\n",
        "        return b\n",
        "    else:\n",
        "        while (a % b != 0):  \n",
        "            r = a % b\n",
        "            a = b; b = r\n",
        "        return r\n",
        "\n",
        "for _ in range(t):\n",
        "    a, b = map(int, input().split())\n",
        "    print(a * b // gcd(a, b))"
      ],
      "metadata": {
        "colab": {
          "base_uri": "https://localhost:8080/"
        },
        "id": "OmmLfu4_NL3B",
        "outputId": "3f2c41a3-72a6-467b-f40a-11982c9b6e7e"
      },
      "execution_count": null,
      "outputs": [
        {
          "output_type": "stream",
          "name": "stdout",
          "text": [
            "3\n",
            "1 45000\n",
            "45000\n",
            "6 10\n",
            "30\n",
            "13 17\n",
            "221\n"
          ]
        }
      ]
    },
    {
      "cell_type": "markdown",
      "source": [
        "- 시간 초과 방지"
      ],
      "metadata": {
        "id": "iYf-fldtZf9x"
      }
    },
    {
      "cell_type": "code",
      "source": [
        "import sys\n",
        "\n",
        "t = int(input())\n",
        "\n",
        "def gcd(a, b):\n",
        "    if a % b == 0:\n",
        "        return b\n",
        "    else:\n",
        "        while (a % b != 0):  \n",
        "            r = a % b\n",
        "            a = b; b = r\n",
        "        return r\n",
        "\n",
        "for _ in range(t):\n",
        "    a, b = map(int, sys.stdin.readline().rstrip().split())\n",
        "    print(a * b // gcd(a, b))"
      ],
      "metadata": {
        "id": "CysvZn9sZfzb"
      },
      "execution_count": null,
      "outputs": []
    },
    {
      "cell_type": "markdown",
      "source": [
        "---\n",
        "- 시간이 60ms로 오래 걸림 → 36ms로 줄어듦\n",
        "- `gcd()` 수정\n",
        "- `a, b = b, a % b`와 `a = b, b = a % b`는 다름\n",
        "- 전자는 동시에 a, b 수정하고 후자는 a를 먼저 수정한 다음 b를 수정해서 값이 달라짐 (후자의 경우 tmp 사용)"
      ],
      "metadata": {
        "id": "E02EG_3tZsqJ"
      }
    },
    {
      "cell_type": "code",
      "source": [
        "t = int(input())\n",
        "\n",
        "def gcd(a, b):\n",
        "    while (a % b != 0):  \n",
        "        a, b = b, a % b\n",
        "    return b\n",
        "\n",
        "for _ in range(t):\n",
        "    a, b = map(int, input().split())\n",
        "    print(a * b // gcd(a, b))"
      ],
      "metadata": {
        "colab": {
          "base_uri": "https://localhost:8080/"
        },
        "id": "yE9aimTfan5d",
        "outputId": "6bd1a8c4-9106-40f0-e5f7-1533f6363eaf"
      },
      "execution_count": null,
      "outputs": [
        {
          "output_type": "stream",
          "name": "stdout",
          "text": [
            "3\n",
            "1 45000\n",
            "45000\n",
            "6 10\n",
            "30\n",
            "13 17\n",
            "221\n"
          ]
        }
      ]
    },
    {
      "cell_type": "markdown",
      "source": [
        "- 시간 초과 방지"
      ],
      "metadata": {
        "id": "iKdU7USaeMqR"
      }
    },
    {
      "cell_type": "code",
      "source": [
        "import sys\n",
        "\n",
        "t = int(input())\n",
        "\n",
        "def gcd(a, b):\n",
        "    while (a % b != 0):  \n",
        "        a, b = b, a % b\n",
        "    return b\n",
        "\n",
        "for _ in range(t):\n",
        "    a, b = map(int, sys.stdin.readline().rstrip().split())\n",
        "    print(a * b // gcd(a, b))"
      ],
      "metadata": {
        "id": "pKlAnNLkeN4L"
      },
      "execution_count": null,
      "outputs": []
    },
    {
      "cell_type": "markdown",
      "source": [
        "### 5) #2981 검문"
      ],
      "metadata": {
        "id": "bkMjoAwYhqgQ"
      }
    },
    {
      "cell_type": "code",
      "source": [
        "n = int(input())\n",
        "num_list = [int(input()) for _ in range(n)]\n",
        "m_list = []\n",
        "\n",
        "for i in range(2, min(num_list)):\n",
        "    same_state = 1\n",
        "    for j in range(n-1):\n",
        "        if (num_list[j] % i) != (num_list[j+1] % i):\n",
        "            same_state = 0\n",
        "            break\n",
        "    if same_state == 1:\n",
        "        m_list.append(i)\n",
        "\n",
        "print(*m_list, sep=' ')"
      ],
      "metadata": {
        "colab": {
          "base_uri": "https://localhost:8080/"
        },
        "id": "xfsTQym9iBRh",
        "outputId": "759722de-4592-44c4-c910-540fd2b1b138"
      },
      "execution_count": null,
      "outputs": [
        {
          "output_type": "stream",
          "name": "stdout",
          "text": [
            "5\n",
            "5\n",
            "17\n",
            "23\n",
            "14\n",
            "83\n",
            "3\n"
          ]
        }
      ]
    },
    {
      "cell_type": "markdown",
      "source": [
        "- 시간 초과 방지"
      ],
      "metadata": {
        "id": "ceUFGGKUn139"
      }
    },
    {
      "cell_type": "code",
      "source": [
        "import sys\n",
        "\n",
        "n = int(input())\n",
        "num_list = [int(sys.stdin.readline().rstrip()) for _ in range(n)]\n",
        "m_list = []\n",
        "\n",
        "for i in range(2, min(num_list)):\n",
        "    same_state = 1\n",
        "    for j in range(n-1):\n",
        "        if (num_list[j] % i) != (num_list[j+1] % i):\n",
        "            same_state = 0\n",
        "            break\n",
        "    if same_state == 1:\n",
        "        m_list.append(i)\n",
        "\n",
        "print(*m_list, sep=' ')"
      ],
      "metadata": {
        "id": "RJuK4TRRn3C8"
      },
      "execution_count": null,
      "outputs": []
    },
    {
      "cell_type": "markdown",
      "source": [
        "-----\n",
        "- 틀림\n",
        "- 반례\n",
        "```\n",
        "3\n",
        "6 36 216\n",
        "> 정답: 2 3 5 6 10 15 30\n",
        "```"
      ],
      "metadata": {
        "id": "geEumBYmoGLV"
      }
    },
    {
      "cell_type": "code",
      "source": [
        "n = int(input())\n",
        "num_list = [int(input()) for _ in range(n)]\n",
        "num_list.sort()\n",
        "m_list = []\n",
        "\n",
        "for i in range(2, num_list[1]):\n",
        "    same_state = 1\n",
        "    mod = num_list[0] % i\n",
        "    for j in range(1, n):\n",
        "        if (num_list[j] % i) != mod:\n",
        "            same_state = 0\n",
        "            break\n",
        "    if same_state == 1:\n",
        "        m_list.append(i)\n",
        "\n",
        "print(*m_list, sep=' ')"
      ],
      "metadata": {
        "colab": {
          "base_uri": "https://localhost:8080/"
        },
        "id": "sCoUliHzoHIC",
        "outputId": "00dae08f-21d2-42a0-eb3e-9d08d2054ec2"
      },
      "execution_count": null,
      "outputs": [
        {
          "output_type": "stream",
          "name": "stdout",
          "text": [
            "3\n",
            "36\n",
            "6\n",
            "216\n",
            "2 3 5 6 10 15 30\n"
          ]
        }
      ]
    },
    {
      "cell_type": "code",
      "source": [
        "import sys\n",
        "\n",
        "n = int(input())\n",
        "num_list = [int(sys.stdin.readline().rstrip()) for _ in range(n)]\n",
        "num_list.sort()\n",
        "m_list = []\n",
        "\n",
        "for i in range(2, num_list[1]):\n",
        "    same_state = 1\n",
        "    mod = num_list[0] % i\n",
        "    for j in range(1, n):\n",
        "        if (num_list[j] % i) != mod:\n",
        "            same_state = 0\n",
        "            break\n",
        "    if same_state == 1:\n",
        "        m_list.append(i)\n",
        "\n",
        "print(*m_list, sep=' ')"
      ],
      "metadata": {
        "id": "6x9_2IOGq8sv"
      },
      "execution_count": null,
      "outputs": []
    },
    {
      "cell_type": "markdown",
      "source": [
        "----\n",
        "- 시간 초과\n",
        "- 풀이 참고 <br> [참고] https://velog.io/@ledcost/%EB%B0%B1%EC%A4%80-2981-%ED%8C%8C%EC%9D%B4%EC%8D%AC-%EA%B2%80%EB%AC%B8-%EA%B3%A8%EB%93%9C5-%EC%A0%95%EC%88%98%EB%A1%A0\n",
        "```\n",
        "A = M * a + R\n",
        "B = M * b + R\n",
        "C = M * c + R\n",
        "```\n",
        "```\n",
        "B-A = M(b-a)\n",
        "C-B = M(c-b)\n",
        "```\n",
        "    - 즉, M은 B-A, C-B의 공약수들임\n",
        "    - B-A, C-B의 최대공약수를 구하고 최대공약수의 약수들을 구함"
      ],
      "metadata": {
        "id": "xFoLgTNUs73r"
      }
    },
    {
      "cell_type": "code",
      "source": [
        "import math\n",
        "\n",
        "n = int(input())\n",
        "num_list = [int(input()) for _ in range(n)]\n",
        "num_list.sort()\n",
        "\n",
        "def gcd(a, b):\n",
        "    while (a % b != 0):  \n",
        "        a, b = b, a % b\n",
        "    return b\n",
        "\n",
        "diff_list = [num_list[i] - num_list[i-1] for i in range(1, n)]\n",
        "\n",
        "gcd_num = diff_list[0]\n",
        "for i in range(1, n-1):\n",
        "    gcd_num = gcd(gcd_num, diff_list[i])\n",
        "\n",
        "m_set = set()\n",
        "for i in range(2, int(math.sqrt(gcd_num))+1):\n",
        "    if gcd_num % i == 0:\n",
        "        m_set.add(i)\n",
        "        m_set.add(gcd_num // i)\n",
        "m_set.add(gcd_num)\n",
        "print(*sorted(list(m_set)), sep=' ')"
      ],
      "metadata": {
        "colab": {
          "base_uri": "https://localhost:8080/"
        },
        "id": "kitZlP2Ds9m_",
        "outputId": "e079bc18-de23-4dc2-fc37-ee04d43b6376"
      },
      "execution_count": null,
      "outputs": [
        {
          "output_type": "stream",
          "name": "stdout",
          "text": [
            "5\n",
            "5\n",
            "17\n",
            "23\n",
            "14\n",
            "83\n",
            "3\n"
          ]
        }
      ]
    },
    {
      "cell_type": "code",
      "source": [
        "import math\n",
        "import sys\n",
        "\n",
        "n = int(input())\n",
        "num_list = [int(sys.stdin.readline().rstrip()) for _ in range(n)]\n",
        "num_list.sort()\n",
        "\n",
        "def gcd(a, b):\n",
        "    while (a % b != 0):  \n",
        "        a, b = b, a % b\n",
        "    return b\n",
        "\n",
        "diff_list = [num_list[i] - num_list[i-1] for i in range(1, n)]\n",
        "\n",
        "gcd_num = diff_list[0]\n",
        "for i in range(1, n-1):\n",
        "    gcd_num = gcd(gcd_num, diff_list[i])\n",
        "\n",
        "m_set = set()\n",
        "for i in range(2, int(math.sqrt(gcd_num))+1):\n",
        "    if gcd_num % i == 0:\n",
        "        m_set.add(i)\n",
        "        m_set.add(gcd_num // i)\n",
        "m_set.add(gcd_num)\n",
        "print(*sorted(list(m_set)), sep=' ')"
      ],
      "metadata": {
        "id": "Rxs26L3H42_g"
      },
      "execution_count": null,
      "outputs": []
    },
    {
      "cell_type": "markdown",
      "source": [
        "### 6) #3036 링"
      ],
      "metadata": {
        "id": "t0scm2F4hqwm"
      }
    },
    {
      "cell_type": "code",
      "source": [
        "from fractions import Fraction\n",
        "\n",
        "n = int(input())\n",
        "ring_list = list(map(int, input().split()))\n",
        "\n",
        "first_ring = ring_list[0]\n",
        "for i in range(1, n):\n",
        "    frac = Fraction(first_ring, ring_list[i])\n",
        "    print(f'{frac.numerator}/{frac.denominator}')"
      ],
      "metadata": {
        "colab": {
          "base_uri": "https://localhost:8080/"
        },
        "id": "NSnDWFT63ePS",
        "outputId": "53f88f47-2e5c-4e94-db13-61eac88526e2"
      },
      "execution_count": 8,
      "outputs": [
        {
          "output_type": "stream",
          "name": "stdout",
          "text": [
            "4\n",
            "300 1 1 300\n",
            "300/1\n",
            "300/1\n",
            "1/1\n"
          ]
        }
      ]
    },
    {
      "cell_type": "markdown",
      "source": [
        "---\n",
        "- 시간이 124ms로 오래 걸림 → 36ms로 감소\n",
        "- fractions 모듈 사용하지 않고 직접 구하기"
      ],
      "metadata": {
        "id": "-9LgBcsi9G-y"
      }
    },
    {
      "cell_type": "code",
      "source": [
        "n = int(input())\n",
        "ring_list = list(map(int, input().split()))\n",
        "\n",
        "first_ring = ring_list[0]\n",
        "for i in range(1, n):\n",
        "    num1 = first_ring\n",
        "    num2 = ring_list[i]\n",
        "    while(num2 != 0): #공약수 구하기\n",
        "        num1, num2 = num2, num1 % num2\n",
        "    print(f'{first_ring//num1}/{ring_list[i]//num1}')"
      ],
      "metadata": {
        "colab": {
          "base_uri": "https://localhost:8080/"
        },
        "id": "YpyL3ogT9O8D",
        "outputId": "6949fe4e-126a-4660-d1b1-860211327c66"
      },
      "execution_count": 13,
      "outputs": [
        {
          "output_type": "stream",
          "name": "stdout",
          "text": [
            "4\n",
            "300 1 1 300\n",
            "300/1\n",
            "300/1\n",
            "1/1\n"
          ]
        }
      ]
    },
    {
      "cell_type": "markdown",
      "source": [
        "### 7) #11050 이항 계수 1"
      ],
      "metadata": {
        "id": "l4Ko5o9ohqzu"
      }
    },
    {
      "cell_type": "code",
      "source": [
        "n, k = map(int, input().split())\n",
        "\n",
        "def factorial(n):\n",
        "    result = 1\n",
        "    for i in range(1, n+1):\n",
        "        result *= i\n",
        "    return result\n",
        "\n",
        "print(factorial(n) // (factorial(k) * factorial(n-k)))"
      ],
      "metadata": {
        "colab": {
          "base_uri": "https://localhost:8080/"
        },
        "id": "owWzDtbZ_hHJ",
        "outputId": "ad4fc52a-eada-4056-9b9a-d7adc12c5aff"
      },
      "execution_count": 14,
      "outputs": [
        {
          "output_type": "stream",
          "name": "stdout",
          "text": [
            "5 2\n",
            "10\n"
          ]
        }
      ]
    },
    {
      "cell_type": "markdown",
      "source": [
        "### 8) #11051 이항 계수 2"
      ],
      "metadata": {
        "id": "2du96eVQhq2P"
      }
    },
    {
      "cell_type": "code",
      "source": [
        "n, k = map(int, input().split())\n",
        "\n",
        "def factorial(n):\n",
        "    result = 1\n",
        "    for i in range(1, n+1):\n",
        "        result *= i\n",
        "    return result\n",
        "\n",
        "print( (factorial(n) // (factorial(k) * factorial(n-k))) % 10007 )"
      ],
      "metadata": {
        "colab": {
          "base_uri": "https://localhost:8080/"
        },
        "id": "zFXrLGaYDCeg",
        "outputId": "4a6ca887-cf94-461a-dfb1-39a412ec321c"
      },
      "execution_count": 15,
      "outputs": [
        {
          "output_type": "stream",
          "name": "stdout",
          "text": [
            "5 2\n",
            "10\n"
          ]
        }
      ]
    },
    {
      "cell_type": "markdown",
      "source": [
        "### 9) #1010 다리 놓기"
      ],
      "metadata": {
        "id": "Oa4k2f3Ihq48"
      }
    },
    {
      "cell_type": "markdown",
      "source": [
        "- 다리끼리 서로 겹쳐질 수 없으므로 방향과 순서도 고려해야 함"
      ],
      "metadata": {
        "id": "3y6dnY5NFgCF"
      }
    },
    {
      "cell_type": "code",
      "source": [
        "t = int(input())\n",
        "\n",
        "def factorial(n):\n",
        "    result = 1\n",
        "    for i in range(1, n+1):\n",
        "        result *= i\n",
        "    return result\n",
        "\n",
        "for _ in range(t):\n",
        "    n, m = map(int, input().split())\n",
        "    if n == m:\n",
        "        print(1)\n",
        "    else:\n",
        "        print(factorial(m) // (factorial(n) * factorial(m-n)))"
      ],
      "metadata": {
        "colab": {
          "base_uri": "https://localhost:8080/"
        },
        "id": "r6gSGKJSDms9",
        "outputId": "036b4341-c530-4204-f409-f8725a4cc129"
      },
      "execution_count": 20,
      "outputs": [
        {
          "output_type": "stream",
          "name": "stdout",
          "text": [
            "3\n",
            "2 2\n",
            "1\n",
            "1 5\n",
            "5\n",
            "13 29\n",
            "67863915\n"
          ]
        }
      ]
    },
    {
      "cell_type": "markdown",
      "source": [
        "- 시간 초과 방지"
      ],
      "metadata": {
        "id": "Q-JpABSSD63Z"
      }
    },
    {
      "cell_type": "code",
      "source": [
        "import sys\n",
        "\n",
        "t = int(input())\n",
        "\n",
        "def factorial(n):\n",
        "    result = 1\n",
        "    for i in range(1, n+1):\n",
        "        result *= i\n",
        "    return result\n",
        "\n",
        "for _ in range(t):\n",
        "    n, m = map(int, sys.stdin.readline().rstrip().split())\n",
        "    if n == m:\n",
        "        print(1)\n",
        "    else:\n",
        "        print(factorial(m) // (factorial(n) * factorial(m-n)))"
      ],
      "metadata": {
        "id": "xZrXjRHlGcu9"
      },
      "execution_count": null,
      "outputs": []
    },
    {
      "cell_type": "markdown",
      "source": [
        "---\n",
        "- 시간이 56ms로 오래 걸림 → 36ms로 감소\n",
        "- `print`하는 데 시간이 많이 걸리므로 저장해놨다가 한 번에 출력"
      ],
      "metadata": {
        "id": "vRO45mWtGpxa"
      }
    },
    {
      "cell_type": "code",
      "source": [
        "t = int(input())\n",
        "\n",
        "def factorial(n):\n",
        "    result = 1\n",
        "    for i in range(1, n+1):\n",
        "        result *= i\n",
        "    return result\n",
        "\n",
        "result = []\n",
        "for _ in range(t):\n",
        "    n, m = map(int, input().split())\n",
        "    if n == m:\n",
        "        result.append(1)\n",
        "    else:\n",
        "        result.append(factorial(m) // (factorial(n) * factorial(m-n)))\n",
        "\n",
        "print(*result, sep='\\n')"
      ],
      "metadata": {
        "colab": {
          "base_uri": "https://localhost:8080/"
        },
        "id": "8dF-tvpfGvOZ",
        "outputId": "6e17e095-6839-4dc7-d92e-7812b56042a1"
      },
      "execution_count": 21,
      "outputs": [
        {
          "output_type": "stream",
          "name": "stdout",
          "text": [
            "3\n",
            "2 2\n",
            "1 5\n",
            "13 29\n",
            "1\n",
            "5\n",
            "67863915\n"
          ]
        }
      ]
    },
    {
      "cell_type": "code",
      "source": [
        "import sys\n",
        "\n",
        "t = int(input())\n",
        "\n",
        "def factorial(n):\n",
        "    result = 1\n",
        "    for i in range(1, n+1):\n",
        "        result *= i\n",
        "    return result\n",
        "\n",
        "result = []\n",
        "for _ in range(t):\n",
        "    n, m = map(int, sys.stdin.readline().rstrip().split())\n",
        "    if n == m:\n",
        "        result.append(1)\n",
        "    else:\n",
        "        result.append(factorial(m) // (factorial(n) * factorial(m-n)))\n",
        "\n",
        "print(*result, sep='\\n')"
      ],
      "metadata": {
        "id": "pCFmDOaiHFRI"
      },
      "execution_count": null,
      "outputs": []
    },
    {
      "cell_type": "markdown",
      "source": [
        "### 10) #9375 패션왕 신해빈"
      ],
      "metadata": {
        "id": "GAKm7JD8hq7l"
      }
    },
    {
      "cell_type": "code",
      "source": [
        "t = int(input())\n",
        "\n",
        "for _ in range(t):\n",
        "    n = int(input())\n",
        "    clothes_list = [list(input().split()) for _ in range(n)]\n",
        "    species = list(set([clothes_list[i][1] for i in range(n)]))\n",
        "\n",
        "    clothes_dict = {}\n",
        "    for i in range(len(species)):\n",
        "        clothes_dict[species[i]] = []\n",
        "    for i in range(n):\n",
        "        clothes_dict[clothes_list[i][1]].append(clothes_list[i][0])\n",
        "    \n",
        "    result = 1\n",
        "    for i in range(len(species)):\n",
        "        result *= len(clothes_dict[species[i]]) + 1\n",
        "    result -= 1\n",
        "    print(result)"
      ],
      "metadata": {
        "colab": {
          "base_uri": "https://localhost:8080/"
        },
        "id": "F1nd7YZjIPMa",
        "outputId": "7e8946a6-416e-4329-9c3a-ea2dda80b67c"
      },
      "execution_count": 35,
      "outputs": [
        {
          "output_type": "stream",
          "name": "stdout",
          "text": [
            "2\n",
            "3\n",
            "hat headgear\n",
            "sunglasses eyewear\n",
            "turban headgear\n",
            "5\n",
            "3\n",
            "mask face\n",
            "sunglasses face\n",
            "makeup face\n",
            "3\n"
          ]
        }
      ]
    },
    {
      "cell_type": "markdown",
      "source": [
        "- 시간 초과 방지"
      ],
      "metadata": {
        "id": "8dG1cBdJOf6R"
      }
    },
    {
      "cell_type": "code",
      "source": [
        "import sys\n",
        "\n",
        "t = int(input())\n",
        "\n",
        "for _ in range(t):\n",
        "    n = int(input())\n",
        "    clothes_list = [list(sys.stdin.readline().rstrip().split()) for _ in range(n)]\n",
        "    species = list(set([clothes_list[i][1] for i in range(n)]))\n",
        "\n",
        "    clothes_dict = {}\n",
        "    for i in range(len(species)):\n",
        "        clothes_dict[species[i]] = []\n",
        "    for i in range(n):\n",
        "        clothes_dict[clothes_list[i][1]].append(clothes_list[i][0])\n",
        "    \n",
        "    result = 1\n",
        "    for i in range(len(species)):\n",
        "        result *= len(clothes_dict[species[i]]) + 1\n",
        "    result -= 1\n",
        "    print(result)"
      ],
      "metadata": {
        "id": "Gse3XRNxOhQC"
      },
      "execution_count": null,
      "outputs": []
    },
    {
      "cell_type": "markdown",
      "source": [
        "---\n",
        "- 시간이 36ms로 오래 걸리지는 않지만 더 줄여보겠음 → 줄어들지 않음\n",
        "- 옷의 이름까지는 알 필요가 없으니 그 부분 생략"
      ],
      "metadata": {
        "id": "bhMbUFeKOvAE"
      }
    },
    {
      "cell_type": "code",
      "source": [
        "t = int(input())\n",
        "\n",
        "for _ in range(t):\n",
        "    n = int(input())\n",
        "    clothes_list = [list(input().split()) for _ in range(n)]\n",
        "    species = list(set([clothes_list[i][1] for i in range(n)]))\n",
        "\n",
        "    clothes_dict = {}\n",
        "    for i in range(len(species)):\n",
        "        clothes_dict[species[i]] = 0\n",
        "    for i in range(n):\n",
        "        clothes_dict[clothes_list[i][1]] += 1\n",
        "    \n",
        "    result = 1\n",
        "    for i in range(len(species)):\n",
        "        result *= clothes_dict[species[i]] + 1\n",
        "    result -= 1\n",
        "    print(result)"
      ],
      "metadata": {
        "colab": {
          "base_uri": "https://localhost:8080/"
        },
        "id": "78qWl3rlO2UW",
        "outputId": "5d386e1d-ecd6-465d-c81b-fbfcd87426cd"
      },
      "execution_count": 36,
      "outputs": [
        {
          "output_type": "stream",
          "name": "stdout",
          "text": [
            "2\n",
            "3\n",
            "hat headgear\n",
            "sunglasses eyewear\n",
            "turban headgear\n",
            "5\n",
            "3\n",
            "mask face\n",
            "sunglasses face\n",
            "makeup face\n",
            "3\n"
          ]
        }
      ]
    },
    {
      "cell_type": "markdown",
      "source": [
        "- 시간 초과 방지"
      ],
      "metadata": {
        "id": "A-M30XYFPIuv"
      }
    },
    {
      "cell_type": "code",
      "source": [
        "import sys\n",
        "\n",
        "t = int(input())\n",
        "\n",
        "for _ in range(t):\n",
        "    n = int(input())\n",
        "    clothes_list = [list(sys.stdin.readline().rstrip().split()) for _ in range(n)]\n",
        "    species = list(set([clothes_list[i][1] for i in range(n)]))\n",
        "\n",
        "    clothes_dict = {}\n",
        "    for i in range(len(species)):\n",
        "        clothes_dict[species[i]] = 0\n",
        "    for i in range(n):\n",
        "        clothes_dict[clothes_list[i][1]] += 1\n",
        "    \n",
        "    result = 1\n",
        "    for i in range(len(species)):\n",
        "        result *= clothes_dict[species[i]] + 1\n",
        "    result -= 1\n",
        "    print(result)"
      ],
      "metadata": {
        "id": "tMHca81oPLBW"
      },
      "execution_count": null,
      "outputs": []
    },
    {
      "cell_type": "markdown",
      "source": [
        "### 11) #1676 팩토리얼 0의 개수"
      ],
      "metadata": {
        "id": "4yzey5eBhq9e"
      }
    },
    {
      "cell_type": "code",
      "source": [
        "n = int(input())\n",
        "\n",
        "def factorial(n):\n",
        "    result = 1\n",
        "    for i in range(1, n+1):\n",
        "        result *= i\n",
        "    return result\n",
        "\n",
        "num_list = list(str(factorial(n)))[::-1]\n",
        "result = 0\n",
        "for i in range(len(num_list)):\n",
        "    if num_list[i] == '0':\n",
        "        result += 1\n",
        "    else:\n",
        "        break\n",
        "print(result)"
      ],
      "metadata": {
        "colab": {
          "base_uri": "https://localhost:8080/"
        },
        "id": "cqY0E8agPXft",
        "outputId": "ecd25bce-0d4c-4af9-dcb6-b0c5619cf87b"
      },
      "execution_count": 41,
      "outputs": [
        {
          "output_type": "stream",
          "name": "stdout",
          "text": [
            "3\n",
            "0\n"
          ]
        }
      ]
    },
    {
      "cell_type": "markdown",
      "source": [
        "---\n",
        "- 다른 방법 (자리수 이용)\n",
        "- 시간은 똑같이 걸림"
      ],
      "metadata": {
        "id": "LuNGLK1PSNj7"
      }
    },
    {
      "cell_type": "code",
      "source": [
        "n = int(input())\n",
        "\n",
        "def factorial(n):\n",
        "    result = 1\n",
        "    for i in range(1, n+1):\n",
        "        result *= i\n",
        "    return result\n",
        "\n",
        "factorial_n = factorial(n)\n",
        "i = 10\n",
        "result = 0\n",
        "while(factorial_n % i == 0):\n",
        "    result += 1\n",
        "    i *= 10\n",
        "print(result)"
      ],
      "metadata": {
        "colab": {
          "base_uri": "https://localhost:8080/"
        },
        "id": "dQmKgoxKSFIZ",
        "outputId": "8b7179e6-4ad6-4761-a7cc-cd63d95195aa"
      },
      "execution_count": 48,
      "outputs": [
        {
          "output_type": "stream",
          "name": "stdout",
          "text": [
            "3\n",
            "0\n"
          ]
        }
      ]
    },
    {
      "cell_type": "markdown",
      "source": [
        "### 12) #2004 조합 0의 개수"
      ],
      "metadata": {
        "id": "CM2n7bzAhrAE"
      }
    },
    {
      "cell_type": "code",
      "source": [
        "n, m = map(int, input().split())\n",
        "\n",
        "def factorial(n):\n",
        "    result = 1\n",
        "    for i in range(1, n+1):\n",
        "        result *= i\n",
        "    return result\n",
        "\n",
        "combination = factorial(n) // (factorial(m) * factorial(n-m))\n",
        "i = 10\n",
        "result = 0\n",
        "while(combination % i == 0):\n",
        "    result += 1\n",
        "    i *= 10\n",
        "print(result)"
      ],
      "metadata": {
        "colab": {
          "base_uri": "https://localhost:8080/"
        },
        "id": "X7YwemvJph46",
        "outputId": "85da3d1e-aecb-40d5-de13-dab34f9880fc"
      },
      "execution_count": 49,
      "outputs": [
        {
          "output_type": "stream",
          "name": "stdout",
          "text": [
            "25 12\n",
            "2\n"
          ]
        }
      ]
    },
    {
      "cell_type": "markdown",
      "source": [
        "-----\n",
        "- 시간 초과"
      ],
      "metadata": {
        "id": "6TToOZTKwxQM"
      }
    },
    {
      "cell_type": "code",
      "source": [
        "n, m = map(int, input().split())\n",
        "\n",
        "def factorial(n):\n",
        "    result = 1\n",
        "    for i in range(1, n+1):\n",
        "        result *= i\n",
        "    return result\n",
        "\n",
        "combination = factorial(n) // (factorial(m) * factorial(n-m))\n",
        "num_list = list(str(combination))[::-1]\n",
        "result = 0\n",
        "for i in range(len(num_list)):\n",
        "    if num_list[i] == '0':\n",
        "        result += 1\n",
        "    else:\n",
        "        break\n",
        "print(result)"
      ],
      "metadata": {
        "colab": {
          "base_uri": "https://localhost:8080/"
        },
        "id": "Q0SqVtGAwxHU",
        "outputId": "279c3cee-9e57-4e6c-8cb8-6b1401e84547"
      },
      "execution_count": 50,
      "outputs": [
        {
          "output_type": "stream",
          "name": "stdout",
          "text": [
            "25 12\n",
            "2\n"
          ]
        }
      ]
    },
    {
      "cell_type": "markdown",
      "source": [
        "---\n",
        "- 시간 초과\n",
        "- 5와 2의 개수에 따라 0의 개수가 결정된다는 점 이용 <br> [참고] https://lucian-blog.tistory.com/85\n",
        "- 거듭제곱의 성질 이용해서 수로 나누고 몫 세주기"
      ],
      "metadata": {
        "id": "jvJWeZOixBk3"
      }
    },
    {
      "cell_type": "code",
      "source": [
        "n, m = map(int, input().split())\n",
        "\n",
        "def factorial_num_2_5(n, num):\n",
        "    result = 0\n",
        "    while(n > 0):\n",
        "        result += n // num\n",
        "        n //= num\n",
        "    return result\n",
        "\n",
        "num2 = factorial_num_2_5(n, 2) - factorial_num_2_5(m, 2) - factorial_num_2_5(n-m, 2)\n",
        "num5 = factorial_num_2_5(n, 5) - factorial_num_2_5(m, 5) - factorial_num_2_5(n-m, 5)\n",
        "\n",
        "print(min(num2, num5))"
      ],
      "metadata": {
        "colab": {
          "base_uri": "https://localhost:8080/"
        },
        "id": "b5XNkirVxDGe",
        "outputId": "5a3ad699-0aa0-47da-83f6-de9960a6c5f3"
      },
      "execution_count": 66,
      "outputs": [
        {
          "output_type": "stream",
          "name": "stdout",
          "text": [
            "25 12\n",
            "2\n"
          ]
        }
      ]
    }
  ]
}