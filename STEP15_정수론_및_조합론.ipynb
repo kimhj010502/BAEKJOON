{
  "nbformat": 4,
  "nbformat_minor": 0,
  "metadata": {
    "colab": {
      "provenance": [],
      "authorship_tag": "ABX9TyNGoWeNCyjiV7Z71zqQrUKf",
      "include_colab_link": true
    },
    "kernelspec": {
      "name": "python3",
      "display_name": "Python 3"
    },
    "language_info": {
      "name": "python"
    }
  },
  "cells": [
    {
      "cell_type": "markdown",
      "metadata": {
        "id": "view-in-github",
        "colab_type": "text"
      },
      "source": [
        "<a href=\"https://colab.research.google.com/github/kimhj010502/BAEKJOON/blob/main/STEP15_%EC%A0%95%EC%88%98%EB%A1%A0_%EB%B0%8F_%EC%A1%B0%ED%95%A9%EB%A1%A0.ipynb\" target=\"_parent\"><img src=\"https://colab.research.google.com/assets/colab-badge.svg\" alt=\"Open In Colab\"/></a>"
      ]
    },
    {
      "cell_type": "markdown",
      "metadata": {
        "id": "TzSGa08QXuST"
      },
      "source": [
        "### 1) #5086 배수와 약수"
      ]
    },
    {
      "cell_type": "code",
      "source": [
        "while True:\n",
        "    a, b = map(int, input().split())\n",
        "    if (a == 0) & (b == 0):\n",
        "        break\n",
        "    else:\n",
        "        if a % b == 0:\n",
        "            print('multiple')\n",
        "        elif b % a == 0:\n",
        "            print('factor')\n",
        "        else:\n",
        "            print('neither')"
      ],
      "metadata": {
        "colab": {
          "base_uri": "https://localhost:8080/"
        },
        "id": "wdKE4ZlyNCOQ",
        "outputId": "54a8b02b-6b15-4b76-a1be-33360b5e9e04"
      },
      "execution_count": null,
      "outputs": [
        {
          "name": "stdout",
          "output_type": "stream",
          "text": [
            "8 16\n",
            "factor\n",
            "32 4\n",
            "multiple\n",
            "17 5\n",
            "neither\n",
            "0 0\n"
          ]
        }
      ]
    },
    {
      "cell_type": "markdown",
      "source": [
        "- 시간 초과 방지"
      ],
      "metadata": {
        "id": "u-b2-yWxN0t9"
      }
    },
    {
      "cell_type": "code",
      "source": [
        "import sys\n",
        "\n",
        "while True:\n",
        "    a, b = map(int, sys.stdin.readline().rstrip().split())\n",
        "    if (a == 0) & (b == 0):\n",
        "        break\n",
        "    else:\n",
        "        if a % b == 0:\n",
        "            print('multiple')\n",
        "        elif b % a == 0:\n",
        "            print('factor')\n",
        "        else:\n",
        "            print('neither')"
      ],
      "metadata": {
        "id": "6qVYNAcVN2JG"
      },
      "execution_count": null,
      "outputs": []
    },
    {
      "cell_type": "markdown",
      "source": [
        "### 2) #1037 약수"
      ],
      "metadata": {
        "id": "DUpysAzdNCeM"
      }
    },
    {
      "cell_type": "code",
      "source": [
        "n = int(input())\n",
        "factor_list = list(map(int, input().split()))\n",
        "factor_list.sort()\n",
        "\n",
        "if n == 1:\n",
        "    print(factor_list[0]**2)\n",
        "else:\n",
        "    print(factor_list[0] * factor_list[-1])"
      ],
      "metadata": {
        "colab": {
          "base_uri": "https://localhost:8080/"
        },
        "id": "gszTwHuUNFB6",
        "outputId": "b89745d0-908f-4b4c-dd5a-fe0fd0246258"
      },
      "execution_count": null,
      "outputs": [
        {
          "output_type": "stream",
          "name": "stdout",
          "text": [
            "14\n",
            "14 26456 2 28 13228 3307 7 23149 8 6614 46298 56 4 92596\n",
            "185192\n"
          ]
        }
      ]
    },
    {
      "cell_type": "markdown",
      "source": [
        "- 시간 초과 방지"
      ],
      "metadata": {
        "id": "Px3F4ixmO_UO"
      }
    },
    {
      "cell_type": "code",
      "source": [
        "import sys\n",
        "\n",
        "n = int(input())\n",
        "factor_list = list(map(int, sys.stdin.readline().rstrip().split()))\n",
        "factor_list.sort()\n",
        "\n",
        "if n == 1:\n",
        "    print(factor_list[0]**2)\n",
        "else:\n",
        "    print(factor_list[0] * factor_list[-1])"
      ],
      "metadata": {
        "id": "e9uhAYlJPAhL"
      },
      "execution_count": null,
      "outputs": []
    },
    {
      "cell_type": "markdown",
      "source": [
        "### 3) #2609 최대공약수와 최소공배수"
      ],
      "metadata": {
        "id": "TSRrVJJ-NFK7"
      }
    },
    {
      "cell_type": "markdown",
      "source": [
        "- 유클리드 호제법 <br> [참고] https://ko.wikipedia.org/wiki/%EC%9C%A0%ED%81%B4%EB%A6%AC%EB%93%9C_%ED%98%B8%EC%A0%9C%EB%B2%95\n",
        "- `최소공배수 * 최대공약수 = a * b`\n",
        "- 함수 이름과 변수 이름을 다르게 설정해야 함\n",
        "- NameError: 할당 전에 참조되는 변수 <br> [참고] https://velog.io/@hongsikcho/%ED%8C%8C%EC%9D%B4%EC%8D%AC-referenced-before-assignment%EC%97%90%EB%9F%AC-%EC%9D%B4%EC%9C%A0%EC%99%80-%ED%95%B4%EA%B2%B0"
      ],
      "metadata": {
        "id": "ZuL2FJsuRTQJ"
      }
    },
    {
      "cell_type": "code",
      "source": [
        "a, b = map(int, input().split())\n",
        "\n",
        "def gcd(a, b):\n",
        "    r = 1\n",
        "    while (a % b != 0):  \n",
        "        r = a % b\n",
        "        #print(f'{a} % {b} = {r}')\n",
        "        a = b; b = r\n",
        "    return r\n",
        " \n",
        "gcd_num = gcd(a, b)\n",
        "print(gcd_num)\n",
        "print(a * b // gcd_num)"
      ],
      "metadata": {
        "colab": {
          "base_uri": "https://localhost:8080/"
        },
        "id": "GJdokkW_NJWz",
        "outputId": "155bb151-5780-4ab4-8ecc-c32fab2852d4"
      },
      "execution_count": null,
      "outputs": [
        {
          "output_type": "stream",
          "name": "stdout",
          "text": [
            "24 18\n",
            "6\n",
            "72\n"
          ]
        }
      ]
    },
    {
      "cell_type": "markdown",
      "source": [
        "------\n",
        "- 틀림\n",
        "- 반례\n",
        "```\n",
        "2 2\n",
        "> 답: 2 2, 출력: 1 2\n",
        "```"
      ],
      "metadata": {
        "id": "KXNuBsRAVSVY"
      }
    },
    {
      "cell_type": "code",
      "source": [
        "a, b = map(int, input().split())\n",
        "\n",
        "def gcd(a, b):\n",
        "    if a == b:\n",
        "        return a\n",
        "    else:\n",
        "        r = 1\n",
        "        while (a % b != 0):  \n",
        "            r = a % b\n",
        "            #print(f'{a} % {b} = {r}')\n",
        "            a = b; b = r\n",
        "        return r\n",
        "\n",
        "gcd_num = gcd(max(a, b), min(a, b))\n",
        "print(gcd_num)\n",
        "print(a * b // gcd_num)"
      ],
      "metadata": {
        "colab": {
          "base_uri": "https://localhost:8080/"
        },
        "id": "7Oy4fTw-VUVk",
        "outputId": "4ec7baa9-0e54-4aaf-e7a3-b2abfb4b5557"
      },
      "execution_count": null,
      "outputs": [
        {
          "output_type": "stream",
          "name": "stdout",
          "text": [
            "30 10\n",
            "1\n",
            "300\n"
          ]
        }
      ]
    },
    {
      "cell_type": "markdown",
      "source": [
        "------\n",
        "- 틀림\n",
        "- 반례\n",
        "```\n",
        "30 10\n",
        "> 답: 10 30, 출력: 1 300\n",
        "```\n",
        "- `a % b == 0`인 경우를 생각하지 못함"
      ],
      "metadata": {
        "id": "-YDeotvjWr8y"
      }
    },
    {
      "cell_type": "code",
      "source": [
        "a, b = map(int, input().split())\n",
        "\n",
        "def gcd(a, b):\n",
        "    if a % b == 0:\n",
        "        return b\n",
        "    else:\n",
        "        while (a % b != 0):  \n",
        "            r = a % b\n",
        "            a = b; b = r\n",
        "        return r\n",
        "\n",
        "gcd_num = gcd(max(a, b), min(a, b))\n",
        "print(gcd_num)\n",
        "print(a * b // gcd_num)"
      ],
      "metadata": {
        "colab": {
          "base_uri": "https://localhost:8080/"
        },
        "id": "75H3pLwGWxPr",
        "outputId": "90a9e92b-a4de-4a75-e976-2b518a9b1b15"
      },
      "execution_count": null,
      "outputs": [
        {
          "output_type": "stream",
          "name": "stdout",
          "text": [
            "30 10\n",
            "10\n",
            "30\n"
          ]
        }
      ]
    },
    {
      "cell_type": "markdown",
      "source": [
        "- a가 b보다 크지 않아도 됨\n",
        "- ex) a = 6, b = 10이면 r = 6이 되므로 a = 10, b = 6이 됨"
      ],
      "metadata": {
        "id": "XtsSJvi0c2Hi"
      }
    },
    {
      "cell_type": "code",
      "source": [
        "a, b = map(int, input().split())\n",
        "\n",
        "def gcd(a, b):\n",
        "    if a % b == 0:\n",
        "        return b\n",
        "    else:\n",
        "        while (a % b != 0):  \n",
        "            r = a % b\n",
        "            a = b; b = r\n",
        "        return r\n",
        "\n",
        "gcd_num = gcd(a, b)\n",
        "print(gcd_num)\n",
        "print(a * b // gcd_num)"
      ],
      "metadata": {
        "colab": {
          "base_uri": "https://localhost:8080/"
        },
        "id": "rhae2NX4c16T",
        "outputId": "ce50a611-701b-46bc-8150-099efc96eb79"
      },
      "execution_count": null,
      "outputs": [
        {
          "output_type": "stream",
          "name": "stdout",
          "text": [
            "30 10\n",
            "10\n",
            "30\n"
          ]
        }
      ]
    },
    {
      "cell_type": "markdown",
      "source": [
        "### 4) #1934 최소공배수"
      ],
      "metadata": {
        "id": "W2PsKzhvNJmR"
      }
    },
    {
      "cell_type": "code",
      "source": [
        "t = int(input())\n",
        "\n",
        "def gcd(a, b):\n",
        "    if a % b == 0:\n",
        "        return b\n",
        "    else:\n",
        "        while (a % b != 0):  \n",
        "            r = a % b\n",
        "            a = b; b = r\n",
        "        return r\n",
        "\n",
        "for _ in range(t):\n",
        "    a, b = map(int, input().split())\n",
        "    print(a * b // gcd(a, b))"
      ],
      "metadata": {
        "colab": {
          "base_uri": "https://localhost:8080/"
        },
        "id": "OmmLfu4_NL3B",
        "outputId": "3f2c41a3-72a6-467b-f40a-11982c9b6e7e"
      },
      "execution_count": null,
      "outputs": [
        {
          "output_type": "stream",
          "name": "stdout",
          "text": [
            "3\n",
            "1 45000\n",
            "45000\n",
            "6 10\n",
            "30\n",
            "13 17\n",
            "221\n"
          ]
        }
      ]
    },
    {
      "cell_type": "markdown",
      "source": [
        "- 시간 초과 방지"
      ],
      "metadata": {
        "id": "iYf-fldtZf9x"
      }
    },
    {
      "cell_type": "code",
      "source": [
        "import sys\n",
        "\n",
        "t = int(input())\n",
        "\n",
        "def gcd(a, b):\n",
        "    if a % b == 0:\n",
        "        return b\n",
        "    else:\n",
        "        while (a % b != 0):  \n",
        "            r = a % b\n",
        "            a = b; b = r\n",
        "        return r\n",
        "\n",
        "for _ in range(t):\n",
        "    a, b = map(int, sys.stdin.readline().rstrip().split())\n",
        "    print(a * b // gcd(a, b))"
      ],
      "metadata": {
        "id": "CysvZn9sZfzb"
      },
      "execution_count": null,
      "outputs": []
    },
    {
      "cell_type": "markdown",
      "source": [
        "---\n",
        "- 시간이 60ms로 오래 걸림 → 36ms로 줄어듦\n",
        "- `gcd()` 수정\n",
        "- `a, b = b, a % b`와 `a = b, b = a % b`는 다름\n",
        "- 전자는 동시에 a, b 수정하고 후자는 a를 먼저 수정한 다음 b를 수정해서 값이 달라짐 (후자의 경우 tmp 사용)"
      ],
      "metadata": {
        "id": "E02EG_3tZsqJ"
      }
    },
    {
      "cell_type": "code",
      "source": [
        "t = int(input())\n",
        "\n",
        "def gcd(a, b):\n",
        "    while (a % b != 0):  \n",
        "        a, b = b, a % b\n",
        "    return b\n",
        "\n",
        "for _ in range(t):\n",
        "    a, b = map(int, input().split())\n",
        "    print(a * b // gcd(a, b))"
      ],
      "metadata": {
        "colab": {
          "base_uri": "https://localhost:8080/"
        },
        "id": "yE9aimTfan5d",
        "outputId": "6bd1a8c4-9106-40f0-e5f7-1533f6363eaf"
      },
      "execution_count": null,
      "outputs": [
        {
          "output_type": "stream",
          "name": "stdout",
          "text": [
            "3\n",
            "1 45000\n",
            "45000\n",
            "6 10\n",
            "30\n",
            "13 17\n",
            "221\n"
          ]
        }
      ]
    },
    {
      "cell_type": "markdown",
      "source": [
        "- 시간 초과 방지"
      ],
      "metadata": {
        "id": "iKdU7USaeMqR"
      }
    },
    {
      "cell_type": "code",
      "source": [
        "import sys\n",
        "\n",
        "t = int(input())\n",
        "\n",
        "def gcd(a, b):\n",
        "    while (a % b != 0):  \n",
        "        a, b = b, a % b\n",
        "    return b\n",
        "\n",
        "for _ in range(t):\n",
        "    a, b = map(int, sys.stdin.readline().rstrip().split())\n",
        "    print(a * b // gcd(a, b))"
      ],
      "metadata": {
        "id": "pKlAnNLkeN4L"
      },
      "execution_count": null,
      "outputs": []
    },
    {
      "cell_type": "markdown",
      "source": [
        "### 5) #2981 검문"
      ],
      "metadata": {
        "id": "bkMjoAwYhqgQ"
      }
    },
    {
      "cell_type": "code",
      "source": [
        "n = int(input())\n",
        "num_list = [int(input()) for _ in range(n)]\n",
        "m_list = []\n",
        "\n",
        "for i in range(2, min(num_list)):\n",
        "    same_state = 1\n",
        "    for j in range(n-1):\n",
        "        if (num_list[j] % i) != (num_list[j+1] % i):\n",
        "            same_state = 0\n",
        "            break\n",
        "    if same_state == 1:\n",
        "        m_list.append(i)\n",
        "\n",
        "print(*m_list, sep=' ')"
      ],
      "metadata": {
        "colab": {
          "base_uri": "https://localhost:8080/"
        },
        "id": "xfsTQym9iBRh",
        "outputId": "759722de-4592-44c4-c910-540fd2b1b138"
      },
      "execution_count": 4,
      "outputs": [
        {
          "output_type": "stream",
          "name": "stdout",
          "text": [
            "5\n",
            "5\n",
            "17\n",
            "23\n",
            "14\n",
            "83\n",
            "3\n"
          ]
        }
      ]
    },
    {
      "cell_type": "markdown",
      "source": [
        "- 시간 초과 방지"
      ],
      "metadata": {
        "id": "ceUFGGKUn139"
      }
    },
    {
      "cell_type": "code",
      "source": [
        "import sys\n",
        "\n",
        "n = int(input())\n",
        "num_list = [int(sys.stdin.readline().rstrip()) for _ in range(n)]\n",
        "m_list = []\n",
        "\n",
        "for i in range(2, min(num_list)):\n",
        "    same_state = 1\n",
        "    for j in range(n-1):\n",
        "        if (num_list[j] % i) != (num_list[j+1] % i):\n",
        "            same_state = 0\n",
        "            break\n",
        "    if same_state == 1:\n",
        "        m_list.append(i)\n",
        "\n",
        "print(*m_list, sep=' ')"
      ],
      "metadata": {
        "id": "RJuK4TRRn3C8"
      },
      "execution_count": null,
      "outputs": []
    },
    {
      "cell_type": "markdown",
      "source": [
        "-----\n",
        "- 틀림\n",
        "- 반례\n",
        "```\n",
        "3\n",
        "6 36 216\n",
        "> 정답: 2 3 5 6 10 15 30\n",
        "```"
      ],
      "metadata": {
        "id": "geEumBYmoGLV"
      }
    },
    {
      "cell_type": "code",
      "source": [
        "n = int(input())\n",
        "num_list = [int(input()) for _ in range(n)]\n",
        "num_list.sort()\n",
        "m_list = []\n",
        "\n",
        "for i in range(2, num_list[1]):\n",
        "    same_state = 1\n",
        "    mod = num_list[0] % i\n",
        "    for j in range(1, n):\n",
        "        if (num_list[j] % i) != mod:\n",
        "            same_state = 0\n",
        "            break\n",
        "    if same_state == 1:\n",
        "        m_list.append(i)\n",
        "\n",
        "print(*m_list, sep=' ')"
      ],
      "metadata": {
        "colab": {
          "base_uri": "https://localhost:8080/"
        },
        "id": "sCoUliHzoHIC",
        "outputId": "00dae08f-21d2-42a0-eb3e-9d08d2054ec2"
      },
      "execution_count": 18,
      "outputs": [
        {
          "output_type": "stream",
          "name": "stdout",
          "text": [
            "3\n",
            "36\n",
            "6\n",
            "216\n",
            "2 3 5 6 10 15 30\n"
          ]
        }
      ]
    },
    {
      "cell_type": "code",
      "source": [
        "import sys\n",
        "\n",
        "n = int(input())\n",
        "num_list = [int(sys.stdin.readline().rstrip()) for _ in range(n)]\n",
        "num_list.sort()\n",
        "m_list = []\n",
        "\n",
        "for i in range(2, num_list[1]):\n",
        "    same_state = 1\n",
        "    mod = num_list[0] % i\n",
        "    for j in range(1, n):\n",
        "        if (num_list[j] % i) != mod:\n",
        "            same_state = 0\n",
        "            break\n",
        "    if same_state == 1:\n",
        "        m_list.append(i)\n",
        "\n",
        "print(*m_list, sep=' ')"
      ],
      "metadata": {
        "id": "6x9_2IOGq8sv"
      },
      "execution_count": null,
      "outputs": []
    },
    {
      "cell_type": "markdown",
      "source": [
        "----\n",
        "- 시간 초과\n",
        "- 풀이 참고 <br> [참고] https://velog.io/@ledcost/%EB%B0%B1%EC%A4%80-2981-%ED%8C%8C%EC%9D%B4%EC%8D%AC-%EA%B2%80%EB%AC%B8-%EA%B3%A8%EB%93%9C5-%EC%A0%95%EC%88%98%EB%A1%A0\n",
        "```\n",
        "A = M * a + R\n",
        "B = M * b + R\n",
        "C = M * c + R\n",
        "```\n",
        "```\n",
        "B-A = M(b-a)\n",
        "C-B = M(c-b)\n",
        "```\n",
        "    - 즉, M은 B-A, C-B의 공약수들임\n",
        "    - B-A, C-B의 최대공약수를 구하고 최대공약수의 약수들을 구함"
      ],
      "metadata": {
        "id": "xFoLgTNUs73r"
      }
    },
    {
      "cell_type": "code",
      "source": [
        "import math\n",
        "\n",
        "n = int(input())\n",
        "num_list = [int(input()) for _ in range(n)]\n",
        "num_list.sort()\n",
        "\n",
        "def gcd(a, b):\n",
        "    while (a % b != 0):  \n",
        "        a, b = b, a % b\n",
        "    return b\n",
        "\n",
        "diff_list = [num_list[i] - num_list[i-1] for i in range(1, n)]\n",
        "\n",
        "gcd_num = diff_list[0]\n",
        "for i in range(1, n-1):\n",
        "    gcd_num = gcd(gcd_num, diff_list[i])\n",
        "\n",
        "m_set = set()\n",
        "for i in range(2, int(math.sqrt(gcd_num))+1):\n",
        "    if gcd_num % i == 0:\n",
        "        m_set.add(i)\n",
        "        m_set.add(gcd_num // i)\n",
        "m_set.add(gcd_num)\n",
        "print(*sorted(list(m_set)), sep=' ')"
      ],
      "metadata": {
        "colab": {
          "base_uri": "https://localhost:8080/"
        },
        "id": "kitZlP2Ds9m_",
        "outputId": "e079bc18-de23-4dc2-fc37-ee04d43b6376"
      },
      "execution_count": 35,
      "outputs": [
        {
          "output_type": "stream",
          "name": "stdout",
          "text": [
            "5\n",
            "5\n",
            "17\n",
            "23\n",
            "14\n",
            "83\n",
            "3\n"
          ]
        }
      ]
    },
    {
      "cell_type": "code",
      "source": [
        "import math\n",
        "import sys\n",
        "\n",
        "n = int(input())\n",
        "num_list = [int(sys.stdin.readline().rstrip()) for _ in range(n)]\n",
        "num_list.sort()\n",
        "\n",
        "def gcd(a, b):\n",
        "    while (a % b != 0):  \n",
        "        a, b = b, a % b\n",
        "    return b\n",
        "\n",
        "diff_list = [num_list[i] - num_list[i-1] for i in range(1, n)]\n",
        "\n",
        "gcd_num = diff_list[0]\n",
        "for i in range(1, n-1):\n",
        "    gcd_num = gcd(gcd_num, diff_list[i])\n",
        "\n",
        "m_set = set()\n",
        "for i in range(2, int(math.sqrt(gcd_num))+1):\n",
        "    if gcd_num % i == 0:\n",
        "        m_set.add(i)\n",
        "        m_set.add(gcd_num // i)\n",
        "m_set.add(gcd_num)\n",
        "print(*sorted(list(m_set)), sep=' ')"
      ],
      "metadata": {
        "id": "Rxs26L3H42_g"
      },
      "execution_count": null,
      "outputs": []
    },
    {
      "cell_type": "markdown",
      "source": [
        "### 6) #3036 링"
      ],
      "metadata": {
        "id": "t0scm2F4hqwm"
      }
    },
    {
      "cell_type": "markdown",
      "source": [
        "### 7) #11050 이항 계수 1"
      ],
      "metadata": {
        "id": "l4Ko5o9ohqzu"
      }
    },
    {
      "cell_type": "markdown",
      "source": [
        "### 8) #11051 이항 계수 2"
      ],
      "metadata": {
        "id": "2du96eVQhq2P"
      }
    },
    {
      "cell_type": "markdown",
      "source": [
        "### 9) #1010 다리 놓기"
      ],
      "metadata": {
        "id": "Oa4k2f3Ihq48"
      }
    },
    {
      "cell_type": "markdown",
      "source": [
        "### 10) #9375 패션왕 신해빈"
      ],
      "metadata": {
        "id": "GAKm7JD8hq7l"
      }
    },
    {
      "cell_type": "markdown",
      "source": [
        "### 11) #1676 팩토리얼 0의 개수"
      ],
      "metadata": {
        "id": "4yzey5eBhq9e"
      }
    },
    {
      "cell_type": "markdown",
      "source": [
        "### 12) #2004 조합 0의 개수"
      ],
      "metadata": {
        "id": "CM2n7bzAhrAE"
      }
    }
  ]
}