{
  "nbformat": 4,
  "nbformat_minor": 0,
  "metadata": {
    "colab": {
      "provenance": [],
      "authorship_tag": "ABX9TyPEsZYHbhZJ206ltfMxl468",
      "include_colab_link": true
    },
    "kernelspec": {
      "name": "python3",
      "display_name": "Python 3"
    },
    "language_info": {
      "name": "python"
    }
  },
  "cells": [
    {
      "cell_type": "markdown",
      "metadata": {
        "id": "view-in-github",
        "colab_type": "text"
      },
      "source": [
        "<a href=\"https://colab.research.google.com/github/kimhj010502/BAEKJOON/blob/main/STEP03_%EB%B0%98%EB%B3%B5%EB%AC%B8.ipynb\" target=\"_parent\"><img src=\"https://colab.research.google.com/assets/colab-badge.svg\" alt=\"Open In Colab\"/></a>"
      ]
    },
    {
      "cell_type": "markdown",
      "metadata": {
        "id": "TzSGa08QXuST"
      },
      "source": [
        "### 1) #2739 구구단"
      ]
    },
    {
      "cell_type": "code",
      "source": [
        "num = int(input())\n",
        "\n",
        "for i in range(9):\n",
        "    print('{0} * {1} = {2}'.format(num, i+1, num * (i+1)))"
      ],
      "metadata": {
        "colab": {
          "base_uri": "https://localhost:8080/"
        },
        "id": "zaU5Uuscqkjg",
        "outputId": "be319046-f29f-4308-c8cb-bba5c5acb4ad"
      },
      "execution_count": null,
      "outputs": [
        {
          "output_type": "stream",
          "name": "stdout",
          "text": [
            "2\n",
            "2 * 1 = 2\n",
            "2 * 2 = 4\n",
            "2 * 3 = 6\n",
            "2 * 4 = 8\n",
            "2 * 5 = 10\n",
            "2 * 6 = 12\n",
            "2 * 7 = 14\n",
            "2 * 8 = 16\n",
            "2 * 9 = 18\n"
          ]
        }
      ]
    },
    {
      "cell_type": "markdown",
      "metadata": {
        "id": "kJxFfY8yqwbo"
      },
      "source": [
        "### 2) #10950 A+B - 3"
      ]
    },
    {
      "cell_type": "code",
      "source": [
        "t = int(input())\n",
        "result = []\n",
        "\n",
        "for i in range(t):\n",
        "    a, b = map(int, input().split())\n",
        "    result.append(a + b)\n",
        "\n",
        "for i in range(t):\n",
        "    print(result[i])"
      ],
      "metadata": {
        "colab": {
          "base_uri": "https://localhost:8080/"
        },
        "id": "-a688lEvqwbq",
        "outputId": "a66b6d73-4b16-44df-e78c-0271ee2b82d6"
      },
      "execution_count": null,
      "outputs": [
        {
          "output_type": "stream",
          "name": "stdout",
          "text": [
            "5\n",
            "1 1\n",
            "2 3\n",
            "3 4\n",
            "9 8\n",
            "5 2\n",
            "2\n",
            "5\n",
            "7\n",
            "17\n",
            "7\n"
          ]
        }
      ]
    },
    {
      "cell_type": "markdown",
      "metadata": {
        "id": "vtqdTWTfqwmt"
      },
      "source": [
        "### 3) #8393 합"
      ]
    },
    {
      "cell_type": "code",
      "source": [
        "n = int(input())\n",
        "sum_num = 0\n",
        "\n",
        "for i in range(n):\n",
        "    sum_num += (i+1)\n",
        "print(sum_num)"
      ],
      "metadata": {
        "colab": {
          "base_uri": "https://localhost:8080/"
        },
        "id": "lutmiBN5qwmu",
        "outputId": "518d2ec3-9248-4755-c804-3a819ed3251c"
      },
      "execution_count": null,
      "outputs": [
        {
          "output_type": "stream",
          "name": "stdout",
          "text": [
            "3\n",
            "6\n"
          ]
        }
      ]
    },
    {
      "cell_type": "markdown",
      "metadata": {
        "id": "etxsh-qiqwsO"
      },
      "source": [
        "### 4) #25304 영수증"
      ]
    },
    {
      "cell_type": "code",
      "source": [
        "x = int(input())\n",
        "n = int(input())\n",
        "result = []\n",
        "\n",
        "for i in range(n):\n",
        "    a, b = map(int, input().split())\n",
        "    result.append(a * b)\n",
        "\n",
        "if x == sum(result):\n",
        "    print('Yes')\n",
        "else:\n",
        "    print('No')"
      ],
      "metadata": {
        "colab": {
          "base_uri": "https://localhost:8080/"
        },
        "id": "dwuHN1oyqwsO",
        "outputId": "2455ea06-cb63-40b6-aec2-e194706e42ee"
      },
      "execution_count": null,
      "outputs": [
        {
          "output_type": "stream",
          "name": "stdout",
          "text": [
            "25000\n",
            "4\n",
            "20000 5\n",
            "30000 2\n",
            "10000 6\n",
            "5000 8\n",
            "No\n"
          ]
        }
      ]
    },
    {
      "cell_type": "markdown",
      "metadata": {
        "id": "LfHE-1vuC4_v"
      },
      "source": [
        "### 5) #15552 빠른 A+B"
      ]
    },
    {
      "cell_type": "markdown",
      "source": [
        "- for문에서 입출력 방식이 느리면 여러 줄을 입력받거나 출력할 때 시간초과가 날 수 있음\n",
        "\n",
        "> `input` 대신 `sys.stdin.readline` 사용 <br>\n",
        "> 맨 끝의 개행문자(\\n)까지 같이 입력받기 때문에 `.rstrip()`을 추가로 하는 것이 좋음\n",
        "\n",
        "- 또한 입력과 출력 스트림은 별개이므로, 테스트케이스를 전부 입력받아서 저장한 뒤 전부 출력할 필요는 없음 (테스트케이스를 하나 받은 뒤 하나 출력해도 됨)"
      ],
      "metadata": {
        "id": "kuDpSMz4HUBy"
      }
    },
    {
      "cell_type": "code",
      "source": [
        "import sys\n",
        "\n",
        "t = int(input()) \n",
        "\n",
        "for i in range(t):\n",
        "    a, b = map(int, sys.stdin.readline().rstrip().split()) #코랩에서는 실행 안됨\n",
        "    print(a + b)"
      ],
      "metadata": {
        "id": "cN7W2tm-H9pE"
      },
      "execution_count": null,
      "outputs": []
    },
    {
      "cell_type": "markdown",
      "metadata": {
        "id": "Q8hNZVhap3De"
      },
      "source": [
        "### 6) #11021 A+B - 7"
      ]
    },
    {
      "cell_type": "code",
      "execution_count": null,
      "metadata": {
        "id": "nfTeA97Jp3De",
        "outputId": "f17776c3-5930-4004-efd1-04b27483b4ce",
        "colab": {
          "base_uri": "https://localhost:8080/"
        }
      },
      "outputs": [
        {
          "output_type": "stream",
          "name": "stdout",
          "text": [
            "5\n",
            "1 1\n",
            "Case #1: 2\n",
            "2 3\n",
            "Case #2: 5\n",
            "3 4\n",
            "Case #3: 7\n",
            "9 8\n",
            "Case #4: 17\n",
            "5 2\n",
            "Case #5: 7\n"
          ]
        }
      ],
      "source": [
        "t = int(input())\n",
        "\n",
        "for i in range(t):\n",
        "    a, b = map(int, input().split())\n",
        "    print('Case #{0}: {1}'.format(i+1, a + b))"
      ]
    },
    {
      "cell_type": "markdown",
      "metadata": {
        "id": "OkdDIHXyp3De"
      },
      "source": [
        "### 7) #11022 A+B - 8"
      ]
    },
    {
      "cell_type": "code",
      "execution_count": null,
      "metadata": {
        "id": "GM3zUfz9p3De",
        "outputId": "b2981271-da1b-4752-f6d9-1b6abd9cdca6",
        "colab": {
          "base_uri": "https://localhost:8080/"
        }
      },
      "outputs": [
        {
          "output_type": "stream",
          "name": "stdout",
          "text": [
            "5\n",
            "1 1\n",
            "Case #1: 1 + 1 = 2\n",
            "2 3\n",
            "Case #2: 2 + 3 = 5\n",
            "3 4\n",
            "Case #3: 3 + 4 = 7\n",
            "9 8\n",
            "Case #4: 9 + 8 = 17\n",
            "5 2\n",
            "Case #5: 5 + 2 = 7\n"
          ]
        }
      ],
      "source": [
        "t = int(input())\n",
        "\n",
        "for i in range(t):\n",
        "    a, b = map(int, input().split())\n",
        "    print('Case #{0}: {1} + {2} = {3}'.format(i+1, a, b, a+b))"
      ]
    },
    {
      "cell_type": "markdown",
      "metadata": {
        "id": "jB-tj3EWIwYL"
      },
      "source": [
        "### 8) #2438 별 찍기 - 1"
      ]
    },
    {
      "cell_type": "code",
      "source": [
        "num = int(input())\n",
        "\n",
        "for i in range(1,num + 1):\n",
        "    print('*' * i)"
      ],
      "metadata": {
        "id": "_97-1ZKJIwJo",
        "colab": {
          "base_uri": "https://localhost:8080/"
        },
        "outputId": "eb3fd7cf-1d53-4bbb-ccd9-c00f0b295153"
      },
      "execution_count": 3,
      "outputs": [
        {
          "output_type": "stream",
          "name": "stdout",
          "text": [
            "5\n",
            "*\n",
            "**\n",
            "***\n",
            "****\n",
            "*****\n"
          ]
        }
      ]
    },
    {
      "cell_type": "markdown",
      "metadata": {
        "id": "Buc5oRfjIyqz"
      },
      "source": [
        "### 9) #2439 별 찍기 - 2"
      ]
    },
    {
      "cell_type": "code",
      "source": [
        "num = int(input())\n",
        "\n",
        "for i in range(1,num + 1):\n",
        "    print(' ' * (num-i) + '*' * i)"
      ],
      "metadata": {
        "id": "OWcxxxMMIyq0",
        "colab": {
          "base_uri": "https://localhost:8080/"
        },
        "outputId": "011cd240-bb2c-4071-aaf9-8d7fd655aa56"
      },
      "execution_count": 5,
      "outputs": [
        {
          "output_type": "stream",
          "name": "stdout",
          "text": [
            "5\n",
            "    *\n",
            "   **\n",
            "  ***\n",
            " ****\n",
            "*****\n"
          ]
        }
      ]
    },
    {
      "cell_type": "markdown",
      "metadata": {
        "id": "63HR5Wp-Iy0z"
      },
      "source": [
        "### 10) #10952 A+B - 5"
      ]
    },
    {
      "cell_type": "code",
      "source": [
        "while True:\n",
        "    a, b = map(int, input().split())\n",
        "    if a == 0 & b == 0:\n",
        "        break\n",
        "    else:\n",
        "        print(a + b)"
      ],
      "metadata": {
        "id": "6GQZ61eHIy00",
        "colab": {
          "base_uri": "https://localhost:8080/"
        },
        "outputId": "3be8fb15-98ec-42c4-ce0a-3301907e5aac"
      },
      "execution_count": 10,
      "outputs": [
        {
          "name": "stdout",
          "output_type": "stream",
          "text": [
            "1 1\n",
            "2\n",
            "2 3\n",
            "5\n",
            "3 4\n",
            "7\n",
            "9 8\n",
            "17\n",
            "5 2\n",
            "7\n",
            "0 0\n"
          ]
        }
      ]
    },
    {
      "cell_type": "markdown",
      "source": [
        "### 11) #10951 A+B - 4"
      ],
      "metadata": {
        "id": "wlrLSjkeJAu9"
      }
    },
    {
      "cell_type": "markdown",
      "source": [
        "- **EOF (End of File)**: 파일을 입출력할 때 입력이 끝날 때까지 읽어들이는 내장 함수 명령을 쓸 때 사용됨\n",
        "- `try`와 `except`을 사용해서 예외 처리를 함\n",
        "- 무한반복문에서 종결 규칙이 없을 때 사용"
      ],
      "metadata": {
        "id": "nmTdmHFgn_dP"
      }
    },
    {
      "cell_type": "code",
      "source": [
        "while True:\n",
        "    try:\n",
        "        a, b = map(int, input().split())\n",
        "        print(a + b)\n",
        "    except:\n",
        "        break"
      ],
      "metadata": {
        "id": "IBw-tuLiJC7Z",
        "colab": {
          "base_uri": "https://localhost:8080/"
        },
        "outputId": "4599ed94-ec02-4e86-b88d-c14285a2e404"
      },
      "execution_count": 11,
      "outputs": [
        {
          "name": "stdout",
          "output_type": "stream",
          "text": [
            "1 1\n",
            "2\n",
            "2 3\n",
            "5\n",
            "3 4\n",
            "7\n",
            "9 8\n",
            "17\n",
            "5 2\n",
            "7\n",
            "\n"
          ]
        }
      ]
    },
    {
      "cell_type": "markdown",
      "source": [
        "### 12) #1110 더하기 사이클"
      ],
      "metadata": {
        "id": "2Br-EBw_JDTH"
      }
    },
    {
      "cell_type": "code",
      "source": [
        "first_num = input()\n",
        "cycle = 1\n",
        "\n",
        "if int(first_num) < 10:\n",
        "        first_num = '0' + first_num\n",
        "n = first_num\n",
        "\n",
        "while True:\n",
        "    #print('cycle #{0}: {1}'.format(cycle, n)) #과정 확인용 코드\n",
        "    \n",
        "    n_sum = int(n[0]) + int(n[1]) #각 자리수 합으로 새로운 숫자 구하기\n",
        "    new_n = n[1] + str(n_sum)[-1] #원래 숫자의 끝자리 + 새로운 숫자의 끝자리\n",
        "\n",
        "    #print('n_sum: {0}, new_n: {1}'.format(n_sum, new_n)) #과정 확인용 코드\n",
        "\n",
        "    if new_n == first_num:\n",
        "        break\n",
        "    else:\n",
        "        cycle += 1\n",
        "        n = new_n\n",
        "\n",
        "print(cycle)"
      ],
      "metadata": {
        "id": "gCOwZArfJJuh",
        "colab": {
          "base_uri": "https://localhost:8080/"
        },
        "outputId": "e91b4ec9-312c-4848-c3a5-4881bd842d98"
      },
      "execution_count": 41,
      "outputs": [
        {
          "output_type": "stream",
          "name": "stdout",
          "text": [
            "71\n",
            "12\n"
          ]
        }
      ]
    }
  ]
}