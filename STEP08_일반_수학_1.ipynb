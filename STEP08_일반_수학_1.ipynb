{
  "nbformat": 4,
  "nbformat_minor": 0,
  "metadata": {
    "colab": {
      "provenance": [],
      "authorship_tag": "ABX9TyNTx+/911TbB8N7IEE5vGW+",
      "include_colab_link": true
    },
    "kernelspec": {
      "name": "python3",
      "display_name": "Python 3"
    },
    "language_info": {
      "name": "python"
    }
  },
  "cells": [
    {
      "cell_type": "markdown",
      "metadata": {
        "id": "view-in-github",
        "colab_type": "text"
      },
      "source": [
        "<a href=\"https://colab.research.google.com/github/kimhj010502/BAEKJOON/blob/main/STEP08_%EC%9D%BC%EB%B0%98_%EC%88%98%ED%95%99_1.ipynb\" target=\"_parent\"><img src=\"https://colab.research.google.com/assets/colab-badge.svg\" alt=\"Open In Colab\"/></a>"
      ]
    },
    {
      "cell_type": "markdown",
      "metadata": {
        "id": "TzSGa08QXuST"
      },
      "source": [
        "### #2745 진법 변환"
      ]
    },
    {
      "cell_type": "code",
      "source": [
        "n, b = input().split()\n",
        "b = int(b)\n",
        "\n",
        "ans = 0\n",
        "for i in range(len(n)):\n",
        "    #숫자인 경우\n",
        "    if n[i].isdigit():\n",
        "        num = int(n[i]) * (b ** (len(n)-i-1))\n",
        "    #문자인 경우\n",
        "    else:\n",
        "        num = (ord(n[i]) - 55) * (b ** (len(n)-i-1))\n",
        "    ans += num\n",
        "print(ans)"
      ],
      "metadata": {
        "colab": {
          "base_uri": "https://localhost:8080/"
        },
        "id": "4RbsARJvHImv",
        "outputId": "274793f1-405d-40e8-a9ab-7f5201921ec5"
      },
      "execution_count": null,
      "outputs": [
        {
          "output_type": "stream",
          "name": "stdout",
          "text": [
            "ZZZZZ 36\n",
            "60466175\n"
          ]
        }
      ]
    },
    {
      "cell_type": "markdown",
      "source": [
        "### #11005 진법 변환 2"
      ],
      "metadata": {
        "id": "xD6nJe6owgBs"
      }
    },
    {
      "cell_type": "code",
      "source": [
        "n, b = map(int, input().split())\n",
        "\n",
        "ans = ''\n",
        "while n != 0:\n",
        "    mod = int(n % b)\n",
        "    #나머지가 10 미만인 경우\n",
        "    if mod < 10:\n",
        "        num = str(mod)\n",
        "    #나머지가 10 이상인 경우\n",
        "    else:\n",
        "        num = chr(mod + 55)\n",
        "    ans = num + ans\n",
        "    n //= b\n",
        "print(ans)"
      ],
      "metadata": {
        "colab": {
          "base_uri": "https://localhost:8080/"
        },
        "id": "nd6A5ieWwioq",
        "outputId": "d44066fe-f73f-4116-8bc4-088d271326c0"
      },
      "execution_count": null,
      "outputs": [
        {
          "output_type": "stream",
          "name": "stdout",
          "text": [
            "60466175 36\n",
            "60466175\n",
            "1679615\n",
            "46655\n",
            "1295\n",
            "35\n",
            "ZZZZZ\n"
          ]
        }
      ]
    },
    {
      "cell_type": "markdown",
      "source": [
        "### #2720 세탁소 사장 동혁"
      ],
      "metadata": {
        "id": "7DzEvJ8kQoM8"
      }
    },
    {
      "cell_type": "code",
      "source": [
        "t = int(input())\n",
        "\n",
        "for i in range(t):\n",
        "    c = int(input())\n",
        "\n",
        "    quarter = c // 25\n",
        "    c  %= 25\n",
        "    dime = c // 10\n",
        "    c %= 10\n",
        "    nickel = c // 5\n",
        "    c %= 5\n",
        "\n",
        "    print('{0} {1} {2} {3}'.format(quarter, dime, nickel, c))"
      ],
      "metadata": {
        "colab": {
          "base_uri": "https://localhost:8080/"
        },
        "id": "YvR7Y1IPQrPA",
        "outputId": "d3262846-f822-4140-9a7f-e1f7baa0e46e"
      },
      "execution_count": 2,
      "outputs": [
        {
          "output_type": "stream",
          "name": "stdout",
          "text": [
            "3\n",
            "124\n",
            "4 2 0 4\n",
            "25\n",
            "1 0 0 0\n",
            "194\n",
            "7 1 1 4\n"
          ]
        }
      ]
    }
  ]
}