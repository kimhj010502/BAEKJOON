{
  "nbformat": 4,
  "nbformat_minor": 0,
  "metadata": {
    "colab": {
      "provenance": [],
      "authorship_tag": "ABX9TyNuHoVrnbS/qSy4kLXBbLem",
      "include_colab_link": true
    },
    "kernelspec": {
      "name": "python3",
      "display_name": "Python 3"
    },
    "language_info": {
      "name": "python"
    }
  },
  "cells": [
    {
      "cell_type": "markdown",
      "metadata": {
        "id": "view-in-github",
        "colab_type": "text"
      },
      "source": [
        "<a href=\"https://colab.research.google.com/github/kimhj010502/BAEKJOON/blob/main/STEP08_%EC%9D%BC%EB%B0%98_%EC%88%98%ED%95%99_1.ipynb\" target=\"_parent\"><img src=\"https://colab.research.google.com/assets/colab-badge.svg\" alt=\"Open In Colab\"/></a>"
      ]
    },
    {
      "cell_type": "markdown",
      "metadata": {
        "id": "TzSGa08QXuST"
      },
      "source": [
        "### #2745 진법 변환"
      ]
    },
    {
      "cell_type": "code",
      "source": [
        "n, b = input().split()\n",
        "b = int(b)\n",
        "\n",
        "ans = 0\n",
        "for i in range(len(n)):\n",
        "    #숫자인 경우\n",
        "    if n[i].isdigit():\n",
        "        num = int(n[i]) * (b ** (len(n)-i-1))\n",
        "    #문자인 경우\n",
        "    else:\n",
        "        num = (ord(n[i]) - 55) * (b ** (len(n)-i-1))\n",
        "    ans += num\n",
        "print(ans)"
      ],
      "metadata": {
        "colab": {
          "base_uri": "https://localhost:8080/"
        },
        "id": "4RbsARJvHImv",
        "outputId": "274793f1-405d-40e8-a9ab-7f5201921ec5"
      },
      "execution_count": null,
      "outputs": [
        {
          "output_type": "stream",
          "name": "stdout",
          "text": [
            "ZZZZZ 36\n",
            "60466175\n"
          ]
        }
      ]
    },
    {
      "cell_type": "markdown",
      "source": [
        "### #11005 진법 변환 2"
      ],
      "metadata": {
        "id": "xD6nJe6owgBs"
      }
    },
    {
      "cell_type": "code",
      "source": [
        "n, b = map(int, input().split())\n",
        "\n",
        "ans = ''\n",
        "while n != 0:\n",
        "    mod = int(n % b)\n",
        "    #나머지가 10 미만인 경우\n",
        "    if mod < 10:\n",
        "        num = str(mod)\n",
        "    #나머지가 10 이상인 경우\n",
        "    else:\n",
        "        num = chr(mod + 55)\n",
        "    ans = num + ans\n",
        "    n //= b\n",
        "print(ans)"
      ],
      "metadata": {
        "colab": {
          "base_uri": "https://localhost:8080/"
        },
        "id": "nd6A5ieWwioq",
        "outputId": "d44066fe-f73f-4116-8bc4-088d271326c0"
      },
      "execution_count": 8,
      "outputs": [
        {
          "output_type": "stream",
          "name": "stdout",
          "text": [
            "60466175 36\n",
            "60466175\n",
            "1679615\n",
            "46655\n",
            "1295\n",
            "35\n",
            "ZZZZZ\n"
          ]
        }
      ]
    }
  ]
}