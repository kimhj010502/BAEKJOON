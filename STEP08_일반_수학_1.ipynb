{
  "nbformat": 4,
  "nbformat_minor": 0,
  "metadata": {
    "colab": {
      "provenance": [],
      "authorship_tag": "ABX9TyOWese750VJGCmBYHgmKfQ/",
      "include_colab_link": true
    },
    "kernelspec": {
      "name": "python3",
      "display_name": "Python 3"
    },
    "language_info": {
      "name": "python"
    }
  },
  "cells": [
    {
      "cell_type": "markdown",
      "metadata": {
        "id": "view-in-github",
        "colab_type": "text"
      },
      "source": [
        "<a href=\"https://colab.research.google.com/github/kimhj010502/BAEKJOON/blob/main/STEP08_%EC%9D%BC%EB%B0%98_%EC%88%98%ED%95%99_1.ipynb\" target=\"_parent\"><img src=\"https://colab.research.google.com/assets/colab-badge.svg\" alt=\"Open In Colab\"/></a>"
      ]
    },
    {
      "cell_type": "markdown",
      "metadata": {
        "id": "TzSGa08QXuST"
      },
      "source": [
        "### #2745 진법 변환"
      ]
    },
    {
      "cell_type": "code",
      "source": [
        "n, b = input().split()\n",
        "b = int(b)\n",
        "\n",
        "ans = 0\n",
        "for i in range(len(n)):\n",
        "    #숫자인 경우\n",
        "    if n[i].isdigit():\n",
        "        num = int(n[i]) * (b ** (len(n)-i-1))\n",
        "    #문자인 경우\n",
        "    else:\n",
        "        num = (ord(n[i]) - 55) * (b ** (len(n)-i-1))\n",
        "    ans += num\n",
        "print(ans)"
      ],
      "metadata": {
        "colab": {
          "base_uri": "https://localhost:8080/"
        },
        "id": "4RbsARJvHImv",
        "outputId": "274793f1-405d-40e8-a9ab-7f5201921ec5"
      },
      "execution_count": 17,
      "outputs": [
        {
          "output_type": "stream",
          "name": "stdout",
          "text": [
            "ZZZZZ 36\n",
            "60466175\n"
          ]
        }
      ]
    }
  ]
}