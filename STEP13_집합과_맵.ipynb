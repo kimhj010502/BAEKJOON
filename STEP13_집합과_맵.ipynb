{
  "nbformat": 4,
  "nbformat_minor": 0,
  "metadata": {
    "colab": {
      "provenance": [],
      "authorship_tag": "ABX9TyMvmyjd08RpZ/7rkGwHWFSQ",
      "include_colab_link": true
    },
    "kernelspec": {
      "name": "python3",
      "display_name": "Python 3"
    },
    "language_info": {
      "name": "python"
    }
  },
  "cells": [
    {
      "cell_type": "markdown",
      "metadata": {
        "id": "view-in-github",
        "colab_type": "text"
      },
      "source": [
        "<a href=\"https://colab.research.google.com/github/kimhj010502/BAEKJOON/blob/main/STEP13_%EC%A7%91%ED%95%A9%EA%B3%BC_%EB%A7%B5.ipynb\" target=\"_parent\"><img src=\"https://colab.research.google.com/assets/colab-badge.svg\" alt=\"Open In Colab\"/></a>"
      ]
    },
    {
      "cell_type": "markdown",
      "metadata": {
        "id": "TzSGa08QXuST"
      },
      "source": [
        "### 1) #10815 숫자 카드"
      ]
    },
    {
      "cell_type": "code",
      "source": [
        "n = int(input())\n",
        "num_list = list(map(int, input().split()))\n",
        "\n",
        "m = int(input())\n",
        "search_list = list(map(int, input().split()))\n",
        "\n",
        "for num in search_list:\n",
        "    if num in num_list:\n",
        "        print(1, end=' ')\n",
        "    else:\n",
        "        print(0, end=' ')"
      ],
      "metadata": {
        "colab": {
          "base_uri": "https://localhost:8080/"
        },
        "id": "KNw5VB7_saaN",
        "outputId": "216312b8-cddc-4fb0-e19b-7bae2d87e25c"
      },
      "execution_count": 2,
      "outputs": [
        {
          "output_type": "stream",
          "name": "stdout",
          "text": [
            "5\n",
            "6 3 2 10 -10\n",
            "8\n",
            "10 9 -5 2 3 4 5 -10\n",
            "1 0 0 1 1 0 0 1 "
          ]
        }
      ]
    },
    {
      "cell_type": "markdown",
      "source": [
        "- 시간 초과 방지"
      ],
      "metadata": {
        "id": "8YzCp1YgtSOw"
      }
    },
    {
      "cell_type": "code",
      "source": [
        "import sys\n",
        "\n",
        "n = int(input())\n",
        "num_list = list(map(int, sys.stdin.readline().rstrip().split()))\n",
        "\n",
        "m = int(input())\n",
        "search_list = list(map(int, sys.stdin.readline().rstrip().split()))\n",
        "\n",
        "for num in search_list:\n",
        "    if num in num_list:\n",
        "        print(1, end=' ')\n",
        "    else:\n",
        "        print(0, end=' ')"
      ],
      "metadata": {
        "id": "1YzZgnuQtkUp"
      },
      "execution_count": null,
      "outputs": []
    },
    {
      "cell_type": "markdown",
      "source": [
        "---------\n",
        "- 시간 초과\n",
        "- 이진 탐색 알고리즘 사용"
      ],
      "metadata": {
        "id": "OlJERkCutwn_"
      }
    },
    {
      "cell_type": "code",
      "source": [
        "n = int(input())\n",
        "num_list = list(map(int, input().split()))\n",
        "num_list.sort()\n",
        "\n",
        "m = int(input())\n",
        "search_list = list(map(int, input().split()))\n",
        "\n",
        "def search_num(n, start, end):\n",
        "    middle = (start + end) // 2\n",
        "    #print(f'{start}, {middle}, {end}')\n",
        "\n",
        "    if n == num_list[middle]:\n",
        "        return 1\n",
        "    elif (middle == start) | (middle == end):\n",
        "        return 0\n",
        "\n",
        "    if n > num_list[middle]:\n",
        "        return search_num(n, middle, end)\n",
        "    elif n < num_list[middle]:\n",
        "        return search_num(n, start, middle)\n",
        "    \n",
        "\n",
        "for num in search_list:\n",
        "    print(search_num(num, 0, n), end=' ')"
      ],
      "metadata": {
        "colab": {
          "base_uri": "https://localhost:8080/"
        },
        "id": "gYMkpt4etzbr",
        "outputId": "647a3754-f6e9-4e17-eac1-0ef077e9a549"
      },
      "execution_count": 24,
      "outputs": [
        {
          "output_type": "stream",
          "name": "stdout",
          "text": [
            "5\n",
            "6 3 2 10 -10\n",
            "8\n",
            "10 9 -5 2 3 4 5 -10\n",
            "1 0 0 1 1 0 0 1 "
          ]
        }
      ]
    },
    {
      "cell_type": "markdown",
      "source": [
        "- 시간 초과 방지"
      ],
      "metadata": {
        "id": "wp8iSDBuzoBy"
      }
    },
    {
      "cell_type": "code",
      "source": [
        "import sys\n",
        "\n",
        "n = int(input())\n",
        "num_list = list(map(int, sys.stdin.readline().rstrip().split()))\n",
        "num_list.sort()\n",
        "\n",
        "m = int(input())\n",
        "search_list = list(map(int, sys.stdin.readline().rstrip().split()))\n",
        "\n",
        "def search_num(n, start, end):\n",
        "    middle = (start + end) // 2\n",
        "    #print(f'{start}, {middle}, {end}')\n",
        "\n",
        "    if n == num_list[middle]:\n",
        "        return 1\n",
        "    elif (middle == start) | (middle == end):\n",
        "        return 0\n",
        "\n",
        "    if n > num_list[middle]:\n",
        "        return search_num(n, middle, end)\n",
        "    elif n < num_list[middle]:\n",
        "        return search_num(n, start, middle)\n",
        "    \n",
        "\n",
        "for num in search_list:\n",
        "    print(search_num(num, 0, n), end=' ')"
      ],
      "metadata": {
        "id": "D0VUMNjPzpkd"
      },
      "execution_count": null,
      "outputs": []
    },
    {
      "cell_type": "markdown",
      "source": [
        "----------\n",
        "- 시간 2384ms로 너무 오래 걸림\n",
        "- 다른 코드 참고 <br> [참고] https://www.acmicpc.net/source/52431419\n",
        "<br><br>\n",
        "- list 대신 set을 사용하면 탐색할 때 Time Complexity가 O(1)임! <br> [참고] https://rexiann.github.io/2020/11/28/set-in-python.html\n",
        "- dictionary도 좋음 <br> [참고] https://lsh424.tistory.com/59"
      ],
      "metadata": {
        "id": "AXHX0G1jz9Db"
      }
    },
    {
      "cell_type": "code",
      "source": [
        "def solution():\n",
        "    import sys\n",
        "\n",
        "    A, B = sys.stdin.read().splitlines()[1::2] #n, m은 안읽음\n",
        "    A = set(A.split())\n",
        "    B = B.split()\n",
        "    print(\"\".join(\"1 \" if x in A else \"0 \" for x in B))\n",
        "\n",
        "solution()"
      ],
      "metadata": {
        "id": "DfJurTQn0BE-"
      },
      "execution_count": null,
      "outputs": []
    },
    {
      "cell_type": "markdown",
      "source": [
        "- set 사용 → 640ms"
      ],
      "metadata": {
        "id": "r1Ld89nc2SnC"
      }
    },
    {
      "cell_type": "code",
      "source": [
        "n = int(input())\n",
        "num_list = set(list(map(int, input().split())))\n",
        "\n",
        "m = int(input())\n",
        "search_list = list(map(int, input().split()))\n",
        "\n",
        "for num in search_list:\n",
        "    if num in num_list:\n",
        "        print(1, end=' ')\n",
        "    else:\n",
        "        print(0, end=' ')"
      ],
      "metadata": {
        "colab": {
          "base_uri": "https://localhost:8080/"
        },
        "id": "GLY6v11A1-pm",
        "outputId": "361e3dd1-a622-4598-a009-e4184610e63a"
      },
      "execution_count": 26,
      "outputs": [
        {
          "output_type": "stream",
          "name": "stdout",
          "text": [
            "5\n",
            "6 3 2 10 -10\n",
            "8\n",
            "10 9 -5 2 3 4 5 -10\n",
            "1 0 0 1 1 0 0 1 "
          ]
        }
      ]
    },
    {
      "cell_type": "markdown",
      "source": [
        "- 시간 초과 방지\n",
        "- 여러 개의 값 print할 때 `join` 사용하기 → print를 한 번만 해도 돼서 시간 줄어듦"
      ],
      "metadata": {
        "id": "l70HHkB43R4S"
      }
    },
    {
      "cell_type": "code",
      "source": [
        "import sys\n",
        "\n",
        "n = int(input())\n",
        "num_list = set(list(map(int, sys.stdin.readline().rstrip().split())))\n",
        "\n",
        "m = int(input())\n",
        "search_list = list(map(int, sys.stdin.readline().rstrip().split()))\n",
        "\n",
        "for num in search_list:\n",
        "    if num in num_list:\n",
        "        print(1, end=' ')\n",
        "    else:\n",
        "        print(0, end=' ')"
      ],
      "metadata": {
        "id": "LJ1QFll72MBL"
      },
      "execution_count": null,
      "outputs": []
    },
    {
      "cell_type": "code",
      "source": [
        "import sys\n",
        "\n",
        "n = int(input())\n",
        "num_list = set(list(map(int, sys.stdin.readline().rstrip().split())))\n",
        "\n",
        "m = int(input())\n",
        "search_list = list(map(int, sys.stdin.readline().rstrip().split()))\n",
        "\n",
        "print(\"\".join(\"1 \" if x in num_list else \"0 \" for x in search_list)) #join 연산하는 것이 for문 계속 돌면서 print하는 것보다 시간 더 적게 걸림"
      ],
      "metadata": {
        "id": "svySD2Om2uUd"
      },
      "execution_count": null,
      "outputs": []
    },
    {
      "cell_type": "markdown",
      "source": [
        "### 2) #14425 문자열 집합"
      ],
      "metadata": {
        "id": "WCs1kF-Nsakv"
      }
    },
    {
      "cell_type": "code",
      "source": [
        "n, m = map(int, input().split())\n",
        "\n",
        "string_list = set([input() for _ in range(n)])\n",
        "search_list = [input() for _ in range(m)]\n",
        "\n",
        "count = 0\n",
        "for i in search_list:\n",
        "    if i in string_list:\n",
        "        count += 1\n",
        "print(count)"
      ],
      "metadata": {
        "colab": {
          "base_uri": "https://localhost:8080/"
        },
        "id": "6aLZMim-sctg",
        "outputId": "7d1260b2-e778-4187-c435-7e5759137ece"
      },
      "execution_count": 30,
      "outputs": [
        {
          "output_type": "stream",
          "name": "stdout",
          "text": [
            "5 11\n",
            "baekjoononlinejudge\n",
            "startlink\n",
            "codeplus\n",
            "sundaycoding\n",
            "codingsh\n",
            "baekjoon\n",
            "codeplus\n",
            "codeminus\n",
            "startlink\n",
            "starlink\n",
            "sundaycoding\n",
            "codingsh\n",
            "codinghs\n",
            "sondaycoding\n",
            "startrink\n",
            "icerink\n",
            "4\n"
          ]
        }
      ]
    },
    {
      "cell_type": "markdown",
      "source": [
        "- 시간 초과 방지"
      ],
      "metadata": {
        "id": "7c5Jdtyk7jNY"
      }
    },
    {
      "cell_type": "code",
      "source": [
        "import sys\n",
        "\n",
        "n, m = map(int, input().split())\n",
        "\n",
        "string_list = set([sys.stdin.readline().rstrip() for _ in range(n)])\n",
        "search_list = [sys.stdin.readline().rstrip() for _ in range(m)]\n",
        "\n",
        "count = 0\n",
        "for i in search_list:\n",
        "    if i in string_list:\n",
        "        count += 1\n",
        "print(count)"
      ],
      "metadata": {
        "id": "GbV78O0u7kej"
      },
      "execution_count": null,
      "outputs": []
    },
    {
      "cell_type": "markdown",
      "source": [
        "--------\n",
        "- 시간 140ms으로 조금 길어서 다른 코드 참고\n",
        "- 저장한 다음 비교하지 말고 저장하면서 개수 세기 → 112ms로 줄어듦"
      ],
      "metadata": {
        "id": "FZuE8j028p4Z"
      }
    },
    {
      "cell_type": "code",
      "source": [
        "n, m = map(int, input().split())\n",
        "\n",
        "string_set = set()\n",
        "for i in range(n):\n",
        "    string_set.add(input())\n",
        "\n",
        "count = 0\n",
        "for i in range(m):\n",
        "    if input() in string_set:\n",
        "        count += 1\n",
        "print(count)"
      ],
      "metadata": {
        "colab": {
          "base_uri": "https://localhost:8080/"
        },
        "id": "uiDoy_Ey8wTn",
        "outputId": "e09aa4dc-be36-418e-f0d0-d3c23ba22f6f"
      },
      "execution_count": 31,
      "outputs": [
        {
          "output_type": "stream",
          "name": "stdout",
          "text": [
            "5 11\n",
            "baekjoononlinejudge\n",
            "startlink\n",
            "codeplus\n",
            "sundaycoding\n",
            "codingsh\n",
            "baekjoon\n",
            "codeplus\n",
            "codeminus\n",
            "startlink\n",
            "starlink\n",
            "sundaycoding\n",
            "codingsh\n",
            "codinghs\n",
            "sondaycoding\n",
            "startrink\n",
            "icerink\n",
            "4\n"
          ]
        }
      ]
    },
    {
      "cell_type": "code",
      "source": [
        "import sys\n",
        "\n",
        "n, m = map(int, input().split())\n",
        "\n",
        "string_set = set()\n",
        "for i in range(n):\n",
        "    string_set.add(sys.stdin.readline().rstrip())\n",
        "\n",
        "count = 0\n",
        "for i in range(m):\n",
        "    if sys.stdin.readline().rstrip() in string_set:\n",
        "        count += 1\n",
        "print(count)"
      ],
      "metadata": {
        "id": "Dzx0PQ6k78pJ"
      },
      "execution_count": null,
      "outputs": []
    },
    {
      "cell_type": "markdown",
      "source": [
        "### 3) #1620 나는야 포켓몬 마스터 이다솜"
      ],
      "metadata": {
        "id": "nLL4-wTzsc6n"
      }
    },
    {
      "cell_type": "code",
      "source": [
        "n, m = map(int, input().split())\n",
        "\n",
        "pokemon_dict = dict()\n",
        "for i in range(n):\n",
        "    pokemon_dict[i+1] = input()\n",
        "\n",
        "for i in range(m):\n",
        "    question = input()\n",
        "    try:\n",
        "        question = int(question)\n",
        "        print(pokemon_dict.get(question))\n",
        "        \n",
        "    except ValueError: #입력값이 숫자가 아닌 경우\n",
        "        print(*[k for k, v in pokemon_dict.items() if v == question])"
      ],
      "metadata": {
        "colab": {
          "base_uri": "https://localhost:8080/"
        },
        "id": "R3Q8fOS3sfmM",
        "outputId": "fb716448-e71f-4fa7-c6fa-78f0411bb002"
      },
      "execution_count": 48,
      "outputs": [
        {
          "output_type": "stream",
          "name": "stdout",
          "text": [
            "26 5\n",
            "Bulbasaur\n",
            "Ivysaur\n",
            "Venusaur\n",
            "Charmander\n",
            "Charmeleon\n",
            "Charizard\n",
            "Squirtle\n",
            "Wartortle\n",
            "Blastoise\n",
            "Caterpie\n",
            "Metapod\n",
            "Butterfree\n",
            "Weedle\n",
            "Kakuna\n",
            "Beedrill\n",
            "Pidgey\n",
            "Pidgeotto\n",
            "Pidgeot\n",
            "Rattata\n",
            "Raticate\n",
            "Spearow\n",
            "Fearow\n",
            "Ekans\n",
            "Arbok\n",
            "Pikachu\n",
            "Raichu\n",
            "25\n",
            "Pikachu\n",
            "Raichu\n",
            "26\n",
            "3\n",
            "Venusaur\n",
            "Pidgey\n",
            "16\n",
            "Kakuna\n",
            "14\n"
          ]
        }
      ]
    },
    {
      "cell_type": "markdown",
      "source": [
        "- 시간 초과 방지"
      ],
      "metadata": {
        "id": "Qo5K0ovZB4Wr"
      }
    },
    {
      "cell_type": "code",
      "source": [
        "import sys\n",
        "\n",
        "n, m = map(int, input().split())\n",
        "\n",
        "pokemon_dict = dict()\n",
        "for i in range(n):\n",
        "    pokemon_dict[i+1] = sys.stdin.readline().rstrip()\n",
        "\n",
        "for i in range(m):\n",
        "    question = sys.stdin.readline().rstrip()\n",
        "    try:\n",
        "        question = int(question)\n",
        "        print(pokemon_dict.get(question))\n",
        "        \n",
        "    except ValueError: #입력값이 숫자가 아닌 경우\n",
        "        print(*[k for k, v in pokemon_dict.items() if v == question])"
      ],
      "metadata": {
        "id": "lMvAjpw_CAAQ"
      },
      "execution_count": null,
      "outputs": []
    },
    {
      "cell_type": "markdown",
      "source": [
        "-------\n",
        "- 시간 초과\n",
        "- 다른 코드 참고해서 dictionary 2개 만듦 <br> [참고] https://velog.io/@boorook/Python-%EB%B0%B1%EC%A4%80-1620-%EB%82%98%EB%8A%94%EC%95%BC-%ED%8F%AC%EC%BC%93%EB%AA%AC-%EB%A7%88%EC%8A%A4%ED%84%B0-%EC%9D%B4%EB%8B%A4%EC%86%9C-%EB%AC%B8%EC%A0%9C-%ED%92%80%EC%9D%B4"
      ],
      "metadata": {
        "id": "Ka7NDVt_CWmp"
      }
    },
    {
      "cell_type": "code",
      "source": [
        "n, m = map(int, input().split())\n",
        "\n",
        "by_id = {}\n",
        "by_name = {}\n",
        "\n",
        "for i in range(n):\n",
        "    pokemon = input()\n",
        "    by_id[i+1] = pokemon\n",
        "    by_name[pokemon] = i+1\n",
        "\n",
        "for i in range(m):\n",
        "    x = input()\n",
        "    if x.isdigit(): #try, except문 활용 안하고 수, 문자 확인 가능\n",
        "        print(by_id[int(x)])\n",
        "    else:\n",
        "        print(by_name[x])"
      ],
      "metadata": {
        "id": "7uIiD3OZCYmJ"
      },
      "execution_count": null,
      "outputs": []
    },
    {
      "cell_type": "markdown",
      "source": [
        "- 시간 초과 방지"
      ],
      "metadata": {
        "id": "ba6XVLnDD78-"
      }
    },
    {
      "cell_type": "code",
      "source": [
        "import sys\n",
        "n, m = map(int, input().split())\n",
        "\n",
        "by_id = {}\n",
        "by_name = {}\n",
        "\n",
        "for i in range(n):\n",
        "    pokemon = sys.stdin.readline().rstrip()\n",
        "    by_id[i+1] = pokemon\n",
        "    by_name[pokemon] = i+1\n",
        "\n",
        "for i in range(m):\n",
        "    x = sys.stdin.readline().rstrip()\n",
        "    if x.isdigit(): #try, except문 활용 안하고 수, 문자 확인 가능\n",
        "        print(by_id[int(x)])\n",
        "    else:\n",
        "        print(by_name[x])"
      ],
      "metadata": {
        "id": "RT5L-qSRDjXM"
      },
      "execution_count": null,
      "outputs": []
    },
    {
      "cell_type": "markdown",
      "source": [
        "### 4) #10816 숫자 카드 2"
      ],
      "metadata": {
        "id": "3EM5YFDdsf0I"
      }
    },
    {
      "cell_type": "code",
      "source": [
        "n = int(input())\n",
        "num_list = list(map(int, input().split()))\n",
        "num_set = set(num_list)\n",
        "\n",
        "num_dict = {}\n",
        "for num in num_set:\n",
        "    num_dict[num] = num_list.count(num)\n",
        "\n",
        "m = int(input())\n",
        "search_list = list(map(int, input().split()))\n",
        "\n",
        "for num in search_list:\n",
        "    if num in num_set:\n",
        "        print(num_dict[num], end=' ')\n",
        "    else:\n",
        "        print(0, end=' ')"
      ],
      "metadata": {
        "colab": {
          "base_uri": "https://localhost:8080/"
        },
        "id": "IviI6tAgsiNw",
        "outputId": "b2f46cfc-5de2-4e6b-de2b-4b5696943480"
      },
      "execution_count": 49,
      "outputs": [
        {
          "output_type": "stream",
          "name": "stdout",
          "text": [
            "10\n",
            "6 3 2 10 10 10 -10 -10 7 3\n",
            "8\n",
            "10 9 -5 2 3 4 5 -10\n",
            "3 0 0 1 2 0 0 2 "
          ]
        }
      ]
    },
    {
      "cell_type": "markdown",
      "source": [
        "- 시간 초과 방지"
      ],
      "metadata": {
        "id": "LhoP7rHfWDMi"
      }
    },
    {
      "cell_type": "code",
      "source": [
        "import sys\n",
        "\n",
        "n = int(input())\n",
        "num_list = list(map(int, sys.stdin.readline().rstrip().split()))\n",
        "num_set = set(num_list)\n",
        "\n",
        "num_dict = {}\n",
        "for num in num_set:\n",
        "    num_dict[num] = num_list.count(num)\n",
        "\n",
        "m = int(input())\n",
        "search_list = list(map(int, sys.stdin.readline().rstrip().split()))\n",
        "\n",
        "for num in search_list:\n",
        "    if num in num_set:\n",
        "        print(num_dict[num], end=' ')\n",
        "    else:\n",
        "        print(0, end=' ')"
      ],
      "metadata": {
        "id": "XVEaLWdwWEGb"
      },
      "execution_count": null,
      "outputs": []
    },
    {
      "cell_type": "markdown",
      "source": [
        "-----------\n",
        "- 시간 초과"
      ],
      "metadata": {
        "id": "JLAYPnPaXWts"
      }
    },
    {
      "cell_type": "code",
      "source": [
        "n = int(input())\n",
        "num_list = list(map(int, input().split()))\n",
        "num_set = set(num_list)\n",
        "\n",
        "num_dict = {}\n",
        "for num in num_set:\n",
        "    num_dict[num] = num_list.count(num)\n",
        "\n",
        "m = int(input())\n",
        "search_list = list(map(int, input().split()))\n",
        "\n",
        "print(\"\".join(str(num_dict[x]) + \" \"  if x in num_set else \"0 \" for x in search_list))"
      ],
      "metadata": {
        "colab": {
          "base_uri": "https://localhost:8080/"
        },
        "id": "hwUGBqsfXYLb",
        "outputId": "ecb51ca9-d15d-43c0-9b00-75e66ee14b6f"
      },
      "execution_count": 50,
      "outputs": [
        {
          "output_type": "stream",
          "name": "stdout",
          "text": [
            "10\n",
            "6 3 2 10 10 10 -10 -10 7 3\n",
            "8\n",
            "10 9 -5 2 3 4 5 -10\n",
            "3 0 0 1 2 0 0 2 \n"
          ]
        }
      ]
    },
    {
      "cell_type": "code",
      "source": [
        "import sys\n",
        "\n",
        "n = int(input())\n",
        "num_list = list(map(int, sys.stdin.readline().rstrip().split()))\n",
        "num_set = set(num_list)\n",
        "\n",
        "num_dict = {}\n",
        "for num in num_set:\n",
        "    num_dict[num] = num_list.count(num)\n",
        "\n",
        "m = int(input())\n",
        "search_list = list(map(int, sys.stdin.readline().rstrip().split()))\n",
        "\n",
        "print(\"\".join(str(num_dict[x]) + \" \"  if x in num_set else \"0 \" for x in search_list))"
      ],
      "metadata": {
        "id": "Jtm0905VXz66"
      },
      "execution_count": null,
      "outputs": []
    },
    {
      "cell_type": "markdown",
      "source": [
        "----------\n",
        "- 또 시간 초과"
      ],
      "metadata": {
        "id": "_pJDv2rYYM9E"
      }
    },
    {
      "cell_type": "code",
      "source": [
        "n = int(input())\n",
        "num_list = list(map(int, input().split()))\n",
        "num_set = set(num_list)\n",
        "\n",
        "num_dict = {}\n",
        "for i in num_set:\n",
        "    num_dict[i] = 0\n",
        "for i in num_list:\n",
        "    num_dict[i] += 1\n",
        "\n",
        "m = int(input())\n",
        "search_list = list(map(int, input().split()))\n",
        "\n",
        "print(\"\".join(str(num_dict[x]) + \" \"  if x in num_set else \"0 \" for x in search_list))"
      ],
      "metadata": {
        "colab": {
          "base_uri": "https://localhost:8080/"
        },
        "id": "pyzXWmnVYO4y",
        "outputId": "4183c64b-13db-40bb-9e24-72bebfba6e92"
      },
      "execution_count": 51,
      "outputs": [
        {
          "output_type": "stream",
          "name": "stdout",
          "text": [
            "10\n",
            "6 3 2 10 10 10 -10 -10 7 3\n",
            "8\n",
            "10 9 -5 2 3 4 5 -10\n",
            "3 0 0 1 2 0 0 2 \n"
          ]
        }
      ]
    },
    {
      "cell_type": "code",
      "source": [
        "import sys\n",
        "\n",
        "n = int(input())\n",
        "num_list = list(map(int, sys.stdin.readline().rstrip().split()))\n",
        "num_set = set(num_list)\n",
        "\n",
        "num_dict = {}\n",
        "for i in num_set:\n",
        "    num_dict[i] = 0\n",
        "for i in num_list:\n",
        "    num_dict[i] += 1\n",
        "\n",
        "m = int(input())\n",
        "search_list = list(map(int, sys.stdin.readline().rstrip().split()))\n",
        "\n",
        "print(\"\".join(str(num_dict[x]) + \" \"  if x in num_set else \"0 \" for x in search_list))"
      ],
      "metadata": {
        "id": "LSDq20fSZ0Wg"
      },
      "execution_count": null,
      "outputs": []
    },
    {
      "cell_type": "markdown",
      "source": [
        "---\n",
        "- 시간이 816ms로 오래 걸리기 때문에 Counter 라이브러리 사용 → 676ms로 줄음"
      ],
      "metadata": {
        "id": "xz8k1JrOaTAC"
      }
    },
    {
      "cell_type": "code",
      "source": [
        "from collections import Counter\n",
        "\n",
        "n = int(input())\n",
        "num_list = list(map(int, input().split()))\n",
        "\n",
        "num_dict = Counter(num_list)\n",
        "\n",
        "m = int(input())\n",
        "search_list = list(map(int, input().split()))\n",
        "\n",
        "print(\"\".join(str(num_dict[x]) + \" \" for x in search_list))"
      ],
      "metadata": {
        "colab": {
          "base_uri": "https://localhost:8080/"
        },
        "id": "K-MBTXZHahDg",
        "outputId": "c5a75755-3255-4085-f2b5-0acbe0a83c02"
      },
      "execution_count": 59,
      "outputs": [
        {
          "output_type": "stream",
          "name": "stdout",
          "text": [
            "10\n",
            "6 3 2 10 10 10 -10 -10 7 3\n",
            "8\n",
            "10 9 -5 2 3 4 5 -10\n",
            "3 0 0 1 2 0 0 2 \n"
          ]
        }
      ]
    },
    {
      "cell_type": "code",
      "source": [
        "from collections import Counter\n",
        "import sys\n",
        "\n",
        "n = int(input())\n",
        "num_list = list(map(int, sys.stdin.readline().rstrip().split()))\n",
        "\n",
        "num_dict = Counter(num_list)\n",
        "\n",
        "m = int(input())\n",
        "search_list = list(map(int, sys.stdin.readline().rstrip().split()))\n",
        "\n",
        "print(\"\".join(str(num_dict[x]) + \" \" for x in search_list))"
      ],
      "metadata": {
        "id": "naOfhTQNbH47"
      },
      "execution_count": null,
      "outputs": []
    },
    {
      "cell_type": "markdown",
      "source": [
        "### 5) #1764 듣보잡"
      ],
      "metadata": {
        "id": "piYz5NIasia5"
      }
    },
    {
      "cell_type": "code",
      "source": [],
      "metadata": {
        "id": "8Urb7cXoslkr"
      },
      "execution_count": null,
      "outputs": []
    },
    {
      "cell_type": "markdown",
      "source": [
        "### 6) #1269 대칭 차집합"
      ],
      "metadata": {
        "id": "kChwPQwysm4O"
      }
    },
    {
      "cell_type": "code",
      "source": [],
      "metadata": {
        "id": "3_DBxmO6spNS"
      },
      "execution_count": null,
      "outputs": []
    },
    {
      "cell_type": "markdown",
      "source": [
        "### 7) #11478 서로 다른 부분 문자열의 개수"
      ],
      "metadata": {
        "id": "gckEn6wXspZl"
      }
    },
    {
      "cell_type": "code",
      "source": [],
      "metadata": {
        "id": "25_cETZNstt5"
      },
      "execution_count": null,
      "outputs": []
    }
  ]
}